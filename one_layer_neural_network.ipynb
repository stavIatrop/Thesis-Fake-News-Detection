{
  "nbformat": 4,
  "nbformat_minor": 0,
  "metadata": {
    "colab": {
      "name": "one_layer_neural_network.ipynb",
      "provenance": [],
      "mount_file_id": "1YsEW6YU4dXD03bbD7dBntfwMAoQmqc1y",
      "authorship_tag": "ABX9TyOHqHm8/8eUy8kgFiM0Oob0",
      "include_colab_link": true
    },
    "kernelspec": {
      "name": "python3",
      "display_name": "Python 3"
    }
  },
  "cells": [
    {
      "cell_type": "markdown",
      "metadata": {
        "id": "view-in-github",
        "colab_type": "text"
      },
      "source": [
        "<a href=\"https://colab.research.google.com/github/stavIatrop/Fake-News-Detection/blob/master/one_layer_neural_network.ipynb\" target=\"_parent\"><img src=\"https://colab.research.google.com/assets/colab-badge.svg\" alt=\"Open In Colab\"/></a>"
      ]
    },
    {
      "cell_type": "markdown",
      "metadata": {
        "id": "VI--j2JXUyyT",
        "colab_type": "text"
      },
      "source": [
        "Import and split the data"
      ]
    },
    {
      "cell_type": "code",
      "metadata": {
        "id": "ArKjd-bNUk6i",
        "colab_type": "code",
        "colab": {
          "base_uri": "https://localhost:8080/",
          "height": 52
        },
        "outputId": "de5c1572-62d9-464e-da2d-ee67ca1b7ac9"
      },
      "source": [
        "import pandas as pd\n",
        "from sklearn.model_selection import StratifiedShuffleSplit\n",
        "\n",
        "data = pd.read_csv(\"drive/My Drive/datasets/politifact.csv\", \",\")\n",
        "data_labels = data['label'].values\n",
        "data = data['text'].values\n",
        "\n",
        "sss = StratifiedShuffleSplit(n_splits=5, test_size=0.2, random_state=42)\n",
        "\n",
        "for train_index, test_index in sss.split(data, data_labels):\n",
        "    X_train, X_test = data[train_index], data[test_index]\n",
        "    Y_train, Y_test = data_labels[train_index], data_labels[test_index]\n",
        "\n",
        "print(\"Train shape : \",X_train.shape)\n",
        "print(\"Test shape : \",X_test.shape)"
      ],
      "execution_count": 2,
      "outputs": [
        {
          "output_type": "stream",
          "text": [
            "Train shape :  (559,)\n",
            "Test shape :  (140,)\n"
          ],
          "name": "stdout"
        }
      ]
    },
    {
      "cell_type": "markdown",
      "metadata": {
        "id": "gQcp7Md8U4Au",
        "colab_type": "text"
      },
      "source": [
        "Preprocess the data."
      ]
    },
    {
      "cell_type": "code",
      "metadata": {
        "id": "zIzYm72wU3iC",
        "colab_type": "code",
        "colab": {}
      },
      "source": [
        "import re\n",
        "\n",
        "def remove_non_ascii(X):\n",
        "  for i in range(len(X)):\n",
        "    words = X[i].split()\n",
        "    filtered_list = []\n",
        "    for word in words:\n",
        "        pattern = re.compile('[^\\u0000-\\u007F]+', re.UNICODE)  #Remove all non-alphanumeric characters\n",
        "        \n",
        "        word = pattern.sub(\" \", word)\n",
        "        filtered_list.append(word)\n",
        "        result = ' '.join(filtered_list)\n",
        "        \n",
        "    X[i] = result\n",
        "  return X\n",
        "\n",
        "def toLowerCase(X):\n",
        "\n",
        "  for i in range(len(X)):\n",
        "    filtered_list = []\n",
        "    for word in X[i].split():\n",
        "      word = word.lower()\n",
        "      filtered_list.append(word)\n",
        "      result = ' '.join(filtered_list)\n",
        "\n",
        "    X[i] = result\n",
        "  \n",
        "  return X\n",
        "\n",
        "import string\n",
        "\n",
        "def handle_punctuation(X):\n",
        "\n",
        "  for i in range(len(X)):\n",
        "    filtered_list = []\n",
        "    \n",
        "    for word in X[i].split():\n",
        "      \n",
        "      cleaned = 0\n",
        "      \n",
        "      while(not cleaned):\n",
        "        punc_word = \"\"\n",
        "\n",
        "        if (word[0] in string.punctuation):\n",
        "          punc_word = word[0]\n",
        "          if (len(word) == 1):\n",
        "            cleaned = 1\n",
        "          else:\n",
        "            word = word[1:]\n",
        "          filtered_list.append(punc_word)\n",
        "          result = ' '.join(filtered_list)\n",
        "        elif (word[len(word) - 1] in string.punctuation):\n",
        "          punc_word = word[len(word) - 1]\n",
        "          word = word[:len(word) - 1]\n",
        "          filtered_list.append(punc_word)\n",
        "          result = ' '.join(filtered_list)\n",
        "        else:\n",
        "          #word = word.translate(str.maketrans(' ', ' ', string.punctuation))\n",
        "          t = str.maketrans(dict.fromkeys(string.punctuation, \" \"))\n",
        "          word = word.translate(t)\n",
        "          cleaned = 1\n",
        "          filtered_list.append(word)\n",
        "          result = ' '.join(filtered_list)\n",
        "    \n",
        "    X[i] = result\n",
        "  \n",
        "  return X\n",
        "\n",
        "def clean_numbers(X):\n",
        "  for i in range(len(X)):\n",
        "    x = X[i]\n",
        "    if bool(re.search(r'\\d', x)):\n",
        "      x = re.sub('[0-9]{4,}', ' ### ', x)\n",
        "      x = re.sub('[0-9]{3}', ' ## ', x)\n",
        "      x = re.sub('[0-9]{2}', ' # ', x)\n",
        "    X[i] = x\n",
        "  return X\n",
        "\n",
        "def preprocess_text(X):\n",
        "\n",
        "  #remove non ascii characters\n",
        "  X = remove_non_ascii(X)\n",
        "  #transform to lower case\n",
        "  X = toLowerCase(X)\n",
        "  #handle punctuation\n",
        "  X = handle_punctuation(X)\n",
        "  #clean numbers\n",
        "  X = clean_numbers(X)\n",
        "  return X\n"
      ],
      "execution_count": 0,
      "outputs": []
    },
    {
      "cell_type": "code",
      "metadata": {
        "id": "gIM-lapiV28A",
        "colab_type": "code",
        "colab": {}
      },
      "source": [
        "X_train = preprocess_text(X_train)\n",
        "X_test = preprocess_text(X_test)"
      ],
      "execution_count": 0,
      "outputs": []
    },
    {
      "cell_type": "markdown",
      "metadata": {
        "id": "It7SA09QWHqz",
        "colab_type": "text"
      },
      "source": [
        "Load GloVe embeddings"
      ]
    },
    {
      "cell_type": "code",
      "metadata": {
        "id": "9MW01IPXV-mL",
        "colab_type": "code",
        "colab": {}
      },
      "source": [
        "import numpy as np\n",
        "def load_glove_index():\n",
        "    EMBEDDING_FILE = \"/content/drive/My Drive/GloVe/glove.6B.50d.txt\"\n",
        "    def get_coefs(word,*arr): return word, np.asarray(arr, dtype='float32')[:50]\n",
        "    embeddings_index = dict(get_coefs(*o.split(\" \")) for o in open(EMBEDDING_FILE))\n",
        "    return embeddings_index"
      ],
      "execution_count": 0,
      "outputs": []
    },
    {
      "cell_type": "code",
      "metadata": {
        "id": "oks9MkFfWUTv",
        "colab_type": "code",
        "colab": {}
      },
      "source": [
        "embeddings_index = load_glove_index()"
      ],
      "execution_count": 0,
      "outputs": []
    },
    {
      "cell_type": "code",
      "metadata": {
        "id": "vRtVjjJGWbNI",
        "colab_type": "code",
        "colab": {}
      },
      "source": [
        ""
      ],
      "execution_count": 0,
      "outputs": []
    }
  ]
}