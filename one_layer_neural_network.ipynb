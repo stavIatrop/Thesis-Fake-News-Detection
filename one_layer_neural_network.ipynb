{
  "nbformat": 4,
  "nbformat_minor": 0,
  "metadata": {
    "colab": {
      "name": "one_layer_neural_network.ipynb",
      "provenance": [],
      "mount_file_id": "1YsEW6YU4dXD03bbD7dBntfwMAoQmqc1y",
      "authorship_tag": "ABX9TyOQ2zGMDA7y83rXk3OIJzn1",
      "include_colab_link": true
    },
    "kernelspec": {
      "name": "python3",
      "display_name": "Python 3"
    }
  },
  "cells": [
    {
      "cell_type": "markdown",
      "metadata": {
        "id": "view-in-github",
        "colab_type": "text"
      },
      "source": [
        "<a href=\"https://colab.research.google.com/github/stavIatrop/Fake-News-Detection/blob/master/one_layer_neural_network.ipynb\" target=\"_parent\"><img src=\"https://colab.research.google.com/assets/colab-badge.svg\" alt=\"Open In Colab\"/></a>"
      ]
    },
    {
      "cell_type": "markdown",
      "metadata": {
        "id": "VI--j2JXUyyT",
        "colab_type": "text"
      },
      "source": [
        "Import and split the data"
      ]
    },
    {
      "cell_type": "code",
      "metadata": {
        "id": "ArKjd-bNUk6i",
        "colab_type": "code",
        "outputId": "b489b534-34d8-4993-8aca-e96d32611f4e",
        "colab": {
          "base_uri": "https://localhost:8080/",
          "height": 52
        }
      },
      "source": [
        "import pandas as pd\n",
        "from sklearn.model_selection import StratifiedShuffleSplit\n",
        "\n",
        "data = pd.read_csv(\"drive/My Drive/datasets/politifact.csv\", \",\")\n",
        "data_labels = data['label'].values\n",
        "data = data['text'].values\n",
        "\n",
        "sss = StratifiedShuffleSplit(n_splits=5, test_size=0.2, random_state=42)\n",
        "\n",
        "for train_index, test_index in sss.split(data, data_labels):\n",
        "    X_train, X_test = data[train_index], data[test_index]\n",
        "    Y_train, Y_test = data_labels[train_index], data_labels[test_index]\n",
        "\n",
        "print(\"Train shape : \",X_train.shape)\n",
        "print(\"Test shape : \",X_test.shape)"
      ],
      "execution_count": 1,
      "outputs": [
        {
          "output_type": "stream",
          "text": [
            "Train shape :  (559,)\n",
            "Test shape :  (140,)\n"
          ],
          "name": "stdout"
        }
      ]
    },
    {
      "cell_type": "markdown",
      "metadata": {
        "id": "gQcp7Md8U4Au",
        "colab_type": "text"
      },
      "source": [
        "Preprocess the data."
      ]
    },
    {
      "cell_type": "code",
      "metadata": {
        "id": "zIzYm72wU3iC",
        "colab_type": "code",
        "colab": {}
      },
      "source": [
        "import re\n",
        "\n",
        "def remove_non_ascii(X):\n",
        "  for i in range(len(X)):\n",
        "    words = X[i].split()\n",
        "    filtered_list = []\n",
        "    for word in words:\n",
        "        pattern = re.compile('[^\\u0000-\\u007F]+', re.UNICODE)  #Remove all non-alphanumeric characters\n",
        "        \n",
        "        word = pattern.sub(\" \", word)\n",
        "        filtered_list.append(word)\n",
        "        result = ' '.join(filtered_list)\n",
        "        \n",
        "    X[i] = result\n",
        "  return X\n",
        "\n",
        "def toLowerCase(X):\n",
        "\n",
        "  for i in range(len(X)):\n",
        "    filtered_list = []\n",
        "    for word in X[i].split():\n",
        "      word = word.lower()\n",
        "      filtered_list.append(word)\n",
        "      result = ' '.join(filtered_list)\n",
        "\n",
        "    X[i] = result\n",
        "  \n",
        "  return X\n",
        "\n",
        "import string\n",
        "\n",
        "def handle_punctuation(X):\n",
        "\n",
        "  for i in range(len(X)):\n",
        "    filtered_list = []\n",
        "    \n",
        "    for word in X[i].split():\n",
        "      \n",
        "      cleaned = 0\n",
        "      \n",
        "      while(not cleaned):\n",
        "        punc_word = \"\"\n",
        "\n",
        "        if (word[0] in string.punctuation):\n",
        "          punc_word = word[0]\n",
        "          if (len(word) == 1):\n",
        "            cleaned = 1\n",
        "          else:\n",
        "            word = word[1:]\n",
        "          filtered_list.append(punc_word)\n",
        "          result = ' '.join(filtered_list)\n",
        "        elif (word[len(word) - 1] in string.punctuation):\n",
        "          punc_word = word[len(word) - 1]\n",
        "          word = word[:len(word) - 1]\n",
        "          filtered_list.append(punc_word)\n",
        "          result = ' '.join(filtered_list)\n",
        "        else:\n",
        "          #word = word.translate(str.maketrans(' ', ' ', string.punctuation))\n",
        "          t = str.maketrans(dict.fromkeys(string.punctuation, \" \"))\n",
        "          word = word.translate(t)\n",
        "          cleaned = 1\n",
        "          filtered_list.append(word)\n",
        "          result = ' '.join(filtered_list)\n",
        "    \n",
        "    X[i] = result\n",
        "  \n",
        "  return X\n",
        "\n",
        "def clean_numbers(X):\n",
        "  for i in range(len(X)):\n",
        "    x = X[i]\n",
        "    if bool(re.search(r'\\d', x)):\n",
        "      x = re.sub('[0-9]{4,}', ' ### ', x)\n",
        "      x = re.sub('[0-9]{3}', ' ## ', x)\n",
        "      x = re.sub('[0-9]{2}', ' # ', x)\n",
        "    X[i] = x\n",
        "  return X\n",
        "\n",
        "def preprocess_text(X):\n",
        "\n",
        "  #remove non ascii characters\n",
        "  X = remove_non_ascii(X)\n",
        "  #transform to lower case\n",
        "  X = toLowerCase(X)\n",
        "  #handle punctuation\n",
        "  X = handle_punctuation(X)\n",
        "  #clean numbers\n",
        "  X = clean_numbers(X)\n",
        "  return X"
      ],
      "execution_count": 0,
      "outputs": []
    },
    {
      "cell_type": "code",
      "metadata": {
        "id": "gIM-lapiV28A",
        "colab_type": "code",
        "colab": {}
      },
      "source": [
        "X_train = preprocess_text(X_train)\n",
        "X_test = preprocess_text(X_test)"
      ],
      "execution_count": 0,
      "outputs": []
    },
    {
      "cell_type": "markdown",
      "metadata": {
        "id": "It7SA09QWHqz",
        "colab_type": "text"
      },
      "source": [
        "Load GloVe embeddings and create word index"
      ]
    },
    {
      "cell_type": "code",
      "metadata": {
        "id": "9MW01IPXV-mL",
        "colab_type": "code",
        "colab": {}
      },
      "source": [
        "import numpy as np\n",
        "def load_glove_index():\n",
        "    word2idx = dict()\n",
        "    embeddings_index = dict()\n",
        "    idx = 0\n",
        "    EMBEDDING_FILE = \"/content/drive/My Drive/GloVe/glove.6B.50d.txt\"\n",
        "    for f in open(EMBEDDING_FILE):\n",
        "      line = f.split(\" \")\n",
        "      word = line[0]\n",
        "      word2idx[word] = idx\n",
        "      idx += 1\n",
        "      embeddings_index[word] = np.array(line[1:]).astype(np.float)\n",
        "    return embeddings_index, word2idx"
      ],
      "execution_count": 0,
      "outputs": []
    },
    {
      "cell_type": "code",
      "metadata": {
        "id": "oks9MkFfWUTv",
        "colab_type": "code",
        "colab": {}
      },
      "source": [
        "embeddings_index, word2idx = load_glove_index()"
      ],
      "execution_count": 0,
      "outputs": []
    },
    {
      "cell_type": "code",
      "metadata": {
        "id": "KbIvIEtlJXgd",
        "colab_type": "code",
        "colab": {
          "base_uri": "https://localhost:8080/",
          "height": 191
        },
        "outputId": "e5c03630-2440-461d-92b9-9bc78508774c"
      },
      "source": [
        "embeddings_index[(list(word2idx.keys())[len(word2idx)-1])]  #last token is the unknown token"
      ],
      "execution_count": 35,
      "outputs": [
        {
          "output_type": "execute_result",
          "data": {
            "text/plain": [
              "array([-0.12920076, -0.28866628, -0.01224866, -0.05676644, -0.20210965,\n",
              "       -0.08389011,  0.33359843,  0.16045167,  0.03867431,  0.17833012,\n",
              "        0.04696583, -0.00285802,  0.29099807,  0.04613704, -0.20923874,\n",
              "       -0.06613114, -0.06822549,  0.07665912,  0.3134014 ,  0.17848536,\n",
              "       -0.1225775 , -0.09916983, -0.07495987,  0.06413227,  0.14441176,\n",
              "        0.60894334,  0.17463093,  0.05335403, -0.01273871,  0.03474107,\n",
              "       -0.8123879 , -0.04688699,  0.20193407,  0.2031118 , -0.03935686,\n",
              "        0.06967544, -0.01553638, -0.03405238, -0.06528071,  0.12250231,\n",
              "        0.13991883, -0.17446303, -0.08011883,  0.0849521 , -0.01041659,\n",
              "       -0.13705009,  0.20127155,  0.10069407,  0.00653003,  0.01685157])"
            ]
          },
          "metadata": {
            "tags": []
          },
          "execution_count": 35
        }
      ]
    },
    {
      "cell_type": "markdown",
      "metadata": {
        "id": "9cQ5nmOaCcaP",
        "colab_type": "text"
      },
      "source": [
        "Build the training vocab."
      ]
    },
    {
      "cell_type": "code",
      "metadata": {
        "id": "vRtVjjJGWbNI",
        "colab_type": "code",
        "colab": {}
      },
      "source": [
        "def build_vocab(X):\n",
        "  sentences = [row.split() for row in X]\n",
        "  vocab = dict()\n",
        "  for sentence in sentences:\n",
        "    for word in sentence:\n",
        "      if word in vocab.keys():\n",
        "        vocab[word] += 1\n",
        "      else:\n",
        "        vocab[word] = 1\n",
        "  return vocab"
      ],
      "execution_count": 0,
      "outputs": []
    },
    {
      "cell_type": "code",
      "metadata": {
        "id": "Ug4Abi77B1WM",
        "colab_type": "code",
        "colab": {
          "base_uri": "https://localhost:8080/",
          "height": 34
        },
        "outputId": "5d9096f6-a9f1-48c7-df68-511c25ac141a"
      },
      "source": [
        "vocab = build_vocab(X_train)\n",
        "print({k: vocab[k] for k in list(vocab)[:10]})"
      ],
      "execution_count": 8,
      "outputs": [
        {
          "output_type": "stream",
          "text": [
            "{'george': 240, '.': 51896, 'w': 68, 'bush': 399, 'has': 3036, 'lobbed': 3, 'thinly': 3, 'veiled': 5, 'critiques': 2, 'of': 21340}\n"
          ],
          "name": "stdout"
        }
      ]
    },
    {
      "cell_type": "markdown",
      "metadata": {
        "id": "b5SYfFQxLeoz",
        "colab_type": "text"
      },
      "source": [
        "Build the embedding weight map with the indices. (either using only vocabulary words or all the pretrained embeddings)"
      ]
    },
    {
      "cell_type": "code",
      "metadata": {
        "id": "vihTj0YZC44I",
        "colab_type": "code",
        "colab": {}
      },
      "source": [
        "import numpy as np\n",
        "\n",
        "def build_embedding_weight_matrix( vocab, embeddings_index, usevoc = True):\n",
        "  EMBEDDING_DIM = 50\n",
        "  if (usevoc):\n",
        "    weight_matrix = np.zeros((len(vocab), EMBEDDING_DIM), dtype=float)\n",
        "    for idx, word in enumerate(vocab):\n",
        "      if word in embeddings_index.keys():\n",
        "        weight_matrix[idx] = embeddings_index[word]\n",
        "      else:\n",
        "        weight_matrix[idx] = embeddings_index[\"unknown_emb\"]\n",
        "  else:\n",
        "    weight_matrix = np.array((len(embeddings_index), EMBEDDING_DIM), dtype=float)\n",
        "    for idx, word in enumerate(embeddings_index):\n",
        "      weight_matrix[idx] = embeddings_index[word]\n",
        "  \n",
        "  return weight_matrix"
      ],
      "execution_count": 0,
      "outputs": []
    },
    {
      "cell_type": "code",
      "metadata": {
        "id": "cHyJVYIGQ1wu",
        "colab_type": "code",
        "colab": {}
      },
      "source": [
        "emb_weight_matrix = build_embedding_weight_matrix(vocab, embeddings_index, True)\n",
        "emb_weight_matrix[0:5]"
      ],
      "execution_count": 0,
      "outputs": []
    },
    {
      "cell_type": "markdown",
      "metadata": {
        "id": "qMrdhRtVsoNE",
        "colab_type": "text"
      },
      "source": [
        "Define neural network architecture."
      ]
    },
    {
      "cell_type": "code",
      "metadata": {
        "id": "Fp6ZLymASDtk",
        "colab_type": "code",
        "colab": {}
      },
      "source": [
        "import torch\n",
        "import torch.nn as nn\n",
        "\n",
        "class OneLayerModel(nn.Module):\n",
        "\n",
        "  def __init__(self):\n",
        "    super(OneLayerModel, self).__init__()\n",
        "    self.embeddings = nn.Embedding(emb_weight_matrix.shape[0], emb_weight_matrix.shape[1])"
      ],
      "execution_count": 0,
      "outputs": []
    },
    {
      "cell_type": "code",
      "metadata": {
        "id": "YaJSL-nYlRiS",
        "colab_type": "code",
        "colab": {}
      },
      "source": [
        ""
      ],
      "execution_count": 0,
      "outputs": []
    }
  ]
}