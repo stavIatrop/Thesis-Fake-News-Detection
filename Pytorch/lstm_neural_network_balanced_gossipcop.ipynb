{
  "nbformat": 4,
  "nbformat_minor": 0,
  "metadata": {
    "colab": {
      "name": "lstm_neural_network_balanced_gossipcop.ipynb",
      "provenance": [],
      "collapsed_sections": [],
      "toc_visible": true,
      "mount_file_id": "1YsEW6YU4dXD03bbD7dBntfwMAoQmqc1y",
      "authorship_tag": "ABX9TyOItoNZVO298eDTYldUyjtx",
      "include_colab_link": true
    },
    "kernelspec": {
      "name": "python3",
      "display_name": "Python 3"
    },
    "accelerator": "GPU"
  },
  "cells": [
    {
      "cell_type": "markdown",
      "metadata": {
        "id": "view-in-github",
        "colab_type": "text"
      },
      "source": [
        "<a href=\"https://colab.research.google.com/github/stavIatrop/Fake-News-Detection/blob/master/Pytorch/lstm_neural_network_balanced_gossipcop.ipynb\" target=\"_parent\"><img src=\"https://colab.research.google.com/assets/colab-badge.svg\" alt=\"Open In Colab\"/></a>"
      ]
    },
    {
      "cell_type": "markdown",
      "metadata": {
        "id": "VI--j2JXUyyT",
        "colab_type": "text"
      },
      "source": [
        "Import and split the data"
      ]
    },
    {
      "cell_type": "code",
      "metadata": {
        "id": "ArKjd-bNUk6i",
        "colab_type": "code",
        "colab": {
          "base_uri": "https://localhost:8080/",
          "height": 52
        },
        "outputId": "44ceed3a-5725-4d6c-f378-20f30ac139da"
      },
      "source": [
        "import pandas as pd\n",
        "from sklearn.model_selection import StratifiedShuffleSplit\n",
        "\n",
        "data = pd.read_csv(\"/content/drive/My Drive/datasets/gossipcop_withPunctRevBalanced.csv\")   #load balanced gossipcop dataset\n",
        "data_labels = data['label'].values\n",
        "data = data['text'].values\n",
        "\n",
        "sss = StratifiedShuffleSplit(n_splits=5, test_size=0.2, random_state=42)\n",
        "\n",
        "for train_index, test_index in sss.split(data, data_labels):\n",
        "    X_train, X_test = data[train_index], data[test_index]\n",
        "    Y_train, Y_test = data_labels[train_index], data_labels[test_index]\n",
        "\n",
        "print(\"Train shape : \",X_train.shape)\n",
        "print(\"Test shape : \",X_test.shape)"
      ],
      "execution_count": null,
      "outputs": [
        {
          "output_type": "stream",
          "text": [
            "Train shape :  (6601,)\n",
            "Test shape :  (1651,)\n"
          ],
          "name": "stdout"
        }
      ]
    },
    {
      "cell_type": "markdown",
      "metadata": {
        "id": "gQcp7Md8U4Au",
        "colab_type": "text"
      },
      "source": [
        "Preprocess the data."
      ]
    },
    {
      "cell_type": "code",
      "metadata": {
        "id": "zIzYm72wU3iC",
        "colab_type": "code",
        "colab": {}
      },
      "source": [
        "import re\n",
        "\n",
        "def remove_non_ascii(X):\n",
        "  for i in range(len(X)):\n",
        "    words = X[i].split()\n",
        "    filtered_list = []\n",
        "    for word in words:\n",
        "        pattern = re.compile('[^\\u0000-\\u007F]+', re.UNICODE)  #Remove all non-alphanumeric characters\n",
        "        \n",
        "        word = pattern.sub(\" \", word)\n",
        "        filtered_list.append(word)\n",
        "        result = ' '.join(filtered_list)\n",
        "        \n",
        "    X[i] = result\n",
        "  return X\n",
        "\n",
        "def toLowerCase(X):\n",
        "\n",
        "  for i in range(len(X)):\n",
        "    filtered_list = []\n",
        "    for word in X[i].split():\n",
        "      word = word.lower()\n",
        "      filtered_list.append(word)\n",
        "      result = ' '.join(filtered_list)\n",
        "\n",
        "    X[i] = result\n",
        "  \n",
        "  return X\n",
        "\n",
        "import string\n",
        "\n",
        "def handle_punctuation(X):\n",
        "\n",
        "  for i in range(len(X)):\n",
        "    filtered_list = []\n",
        "    \n",
        "    for word in X[i].split():\n",
        "      \n",
        "      cleaned = 0\n",
        "      \n",
        "      while(not cleaned):\n",
        "        punc_word = \"\"\n",
        "\n",
        "        if (word[0] in string.punctuation):\n",
        "          punc_word = word[0]\n",
        "          if (len(word) == 1):\n",
        "            cleaned = 1\n",
        "          else:\n",
        "            word = word[1:]\n",
        "          filtered_list.append(punc_word)\n",
        "          result = ' '.join(filtered_list)\n",
        "        elif (word[len(word) - 1] in string.punctuation):\n",
        "          punc_word = word[len(word) - 1]\n",
        "          word = word[:len(word) - 1]\n",
        "          filtered_list.append(punc_word)\n",
        "          result = ' '.join(filtered_list)\n",
        "        else:\n",
        "          #word = word.translate(str.maketrans(' ', ' ', string.punctuation))\n",
        "          t = str.maketrans(dict.fromkeys(string.punctuation, \" \"))\n",
        "          word = word.translate(t)\n",
        "          cleaned = 1\n",
        "          filtered_list.append(word)\n",
        "          result = ' '.join(filtered_list)\n",
        "    \n",
        "    X[i] = result\n",
        "  \n",
        "  return X\n",
        "\n",
        "def clean_numbers(X):\n",
        "  for i in range(len(X)):\n",
        "    x = X[i]\n",
        "    if bool(re.search(r'\\d', x)):\n",
        "      x = re.sub('[0-9]{4,}', ' ### ', x)\n",
        "      x = re.sub('[0-9]{3}', ' ## ', x)\n",
        "      x = re.sub('[0-9]{2}', ' # ', x)\n",
        "    X[i] = x\n",
        "  return X\n",
        "\n",
        "def preprocess_text(X):\n",
        "\n",
        "  #remove non ascii characters\n",
        "  X = remove_non_ascii(X)\n",
        "  #transform to lower case\n",
        "  X = toLowerCase(X)\n",
        "  #handle punctuation\n",
        "  X = handle_punctuation(X)\n",
        "  #clean numbers\n",
        "  X = clean_numbers(X)\n",
        "  return X"
      ],
      "execution_count": null,
      "outputs": []
    },
    {
      "cell_type": "code",
      "metadata": {
        "id": "gIM-lapiV28A",
        "colab_type": "code",
        "colab": {}
      },
      "source": [
        "X_train = preprocess_text(X_train)\n",
        "X_test = preprocess_text(X_test)"
      ],
      "execution_count": null,
      "outputs": []
    },
    {
      "cell_type": "markdown",
      "metadata": {
        "id": "It7SA09QWHqz",
        "colab_type": "text"
      },
      "source": [
        "Load GloVe embeddings and create word index"
      ]
    },
    {
      "cell_type": "code",
      "metadata": {
        "id": "9MW01IPXV-mL",
        "colab_type": "code",
        "colab": {}
      },
      "source": [
        "import numpy as np\n",
        "def load_glove_index():\n",
        "    word2idx = dict()\n",
        "    embeddings_index = dict()\n",
        "    word2idx[\"pad_token\"] = 0\n",
        "    idx = 1\n",
        "    EMBEDDING_FILE = \"/content/drive/My Drive/GloVe/glove.6B.50d.txt\"\n",
        "    for f in open(EMBEDDING_FILE):\n",
        "      line = f.split(\" \")\n",
        "      word = line[0]\n",
        "      word2idx[word] = idx\n",
        "      idx += 1\n",
        "      embeddings_index[word] = np.array(line[1:]).astype(np.float)\n",
        "    return embeddings_index, word2idx"
      ],
      "execution_count": null,
      "outputs": []
    },
    {
      "cell_type": "code",
      "metadata": {
        "id": "oks9MkFfWUTv",
        "colab_type": "code",
        "colab": {}
      },
      "source": [
        "embeddings_index, word2idx = load_glove_index()"
      ],
      "execution_count": null,
      "outputs": []
    },
    {
      "cell_type": "code",
      "metadata": {
        "id": "KbIvIEtlJXgd",
        "colab_type": "code",
        "colab": {
          "base_uri": "https://localhost:8080/",
          "height": 191
        },
        "outputId": "7d0fe32a-5a1f-4acf-8f63-f5960005085f"
      },
      "source": [
        "embeddings_index[(list(word2idx.keys())[len(word2idx)-1])]  #last token is the unknown token\n"
      ],
      "execution_count": null,
      "outputs": [
        {
          "output_type": "execute_result",
          "data": {
            "text/plain": [
              "array([-0.12920076, -0.28866628, -0.01224866, -0.05676644, -0.20210965,\n",
              "       -0.08389011,  0.33359843,  0.16045167,  0.03867431,  0.17833012,\n",
              "        0.04696583, -0.00285802,  0.29099807,  0.04613704, -0.20923874,\n",
              "       -0.06613114, -0.06822549,  0.07665912,  0.3134014 ,  0.17848536,\n",
              "       -0.1225775 , -0.09916983, -0.07495987,  0.06413227,  0.14441176,\n",
              "        0.60894334,  0.17463093,  0.05335403, -0.01273871,  0.03474107,\n",
              "       -0.8123879 , -0.04688699,  0.20193407,  0.2031118 , -0.03935686,\n",
              "        0.06967544, -0.01553638, -0.03405238, -0.06528071,  0.12250231,\n",
              "        0.13991883, -0.17446303, -0.08011883,  0.0849521 , -0.01041659,\n",
              "       -0.13705009,  0.20127155,  0.10069407,  0.00653003,  0.01685157])"
            ]
          },
          "metadata": {
            "tags": []
          },
          "execution_count": 6
        }
      ]
    },
    {
      "cell_type": "markdown",
      "metadata": {
        "id": "9cQ5nmOaCcaP",
        "colab_type": "text"
      },
      "source": [
        "Build the training vocab."
      ]
    },
    {
      "cell_type": "code",
      "metadata": {
        "id": "vRtVjjJGWbNI",
        "colab_type": "code",
        "colab": {}
      },
      "source": [
        "def build_vocab(X):\n",
        "  sentences = [row.split() for row in X]     #sentences --> list of lists of tokens\n",
        "  vocab = dict()\n",
        "  for sentence in sentences:\n",
        "    for word in sentence:\n",
        "      if word in vocab.keys():\n",
        "        vocab[word] += 1\n",
        "      else:\n",
        "        vocab[word] = 1\n",
        "  return vocab"
      ],
      "execution_count": null,
      "outputs": []
    },
    {
      "cell_type": "code",
      "metadata": {
        "id": "Ug4Abi77B1WM",
        "colab_type": "code",
        "colab": {
          "base_uri": "https://localhost:8080/",
          "height": 34
        },
        "outputId": "62bd7e43-8cd3-4667-b0d8-1a7384996865"
      },
      "source": [
        "vocab = build_vocab(X_train)\n",
        "print({k: vocab[k] for k in list(vocab)[:10]})"
      ],
      "execution_count": null,
      "outputs": [
        {
          "output_type": "stream",
          "text": [
            "{'trending': 270, 'update': 214, 'after': 10584, 'we': 16204, 'received': 1110, 'exclusive': 608, 'info': 194, 'that': 51185, 'the': 209196, 'two': 6729}\n"
          ],
          "name": "stdout"
        }
      ]
    },
    {
      "cell_type": "markdown",
      "metadata": {
        "id": "b5SYfFQxLeoz",
        "colab_type": "text"
      },
      "source": [
        "Build the embedding weight map with the indices. (either using only vocabulary words or all the pretrained embeddings)"
      ]
    },
    {
      "cell_type": "code",
      "metadata": {
        "id": "vihTj0YZC44I",
        "colab_type": "code",
        "colab": {}
      },
      "source": [
        "import numpy as np\n",
        "\n",
        "def build_embedding_weight_matrix( vocab, embeddings_index, word2idx, usevoc):\n",
        "  EMBEDDING_DIM = 50\n",
        "  if (usevoc):\n",
        "    word2idx.clear()\n",
        "    weight_matrix = np.zeros((len(vocab) + 2, EMBEDDING_DIM), dtype=float)\n",
        "    word2idx[\"pad_token\"] = 0\n",
        "    for idx, word in enumerate(vocab):\n",
        "      word2idx[word] = idx + 1\n",
        "      if word in embeddings_index.keys():\n",
        "        weight_matrix[idx + 1] = embeddings_index[word]\n",
        "      else:\n",
        "        #store in a variable one idx representing an unknown token for later use in generating batches\n",
        "        idx_unknown = idx + 1\n",
        "        weight_matrix[idx + 1] = embeddings_index[\"unknown_emb\"]\n",
        "    \n",
        "    word2idx[\"unknown_emb\"] = len(vocab) + 1\n",
        "    weight_matrix[word2idx[\"unknown_emb\"]] = embeddings_index[\"unknown_emb\"] #unknown token\n",
        "\n",
        "    weight_matrix[0] = np.zeros(EMBEDDING_DIM)     #pad token\n",
        "  else:\n",
        "    idx_unknown = -1\n",
        "    weight_matrix = np.zeros((len(embeddings_index) + 1, EMBEDDING_DIM), dtype=float)\n",
        "    for idx, word in enumerate(embeddings_index):\n",
        "      weight_matrix[idx] = embeddings_index[word]\n",
        "\n",
        "    weight_matrix[0] = np.zeros(EMBEDDING_DIM)    #pad token\n",
        "    \n",
        "  \n",
        "  \n",
        "  return weight_matrix, idx_unknown"
      ],
      "execution_count": null,
      "outputs": []
    },
    {
      "cell_type": "code",
      "metadata": {
        "id": "cHyJVYIGQ1wu",
        "colab_type": "code",
        "colab": {
          "base_uri": "https://localhost:8080/",
          "height": 34
        },
        "outputId": "afd176b9-da65-43f9-a861-a80101fb751e"
      },
      "source": [
        "emb_weight_matrix, idx_unk = build_embedding_weight_matrix(vocab, embeddings_index, word2idx, False)\n",
        "emb_weight_matrix[word2idx[\"pad_token\"]]\n",
        "emb_weight_matrix.shape"
      ],
      "execution_count": null,
      "outputs": [
        {
          "output_type": "execute_result",
          "data": {
            "text/plain": [
              "(400002, 50)"
            ]
          },
          "metadata": {
            "tags": []
          },
          "execution_count": 10
        }
      ]
    },
    {
      "cell_type": "markdown",
      "metadata": {
        "id": "Kc9uS9uNc-XO",
        "colab_type": "text"
      },
      "source": [
        "Split train and valid data set."
      ]
    },
    {
      "cell_type": "code",
      "metadata": {
        "id": "nCc35BuYc95S",
        "colab_type": "code",
        "colab": {
          "base_uri": "https://localhost:8080/",
          "height": 69
        },
        "outputId": "138c83be-c0c3-4bea-cb30-8f7ca7d5800f"
      },
      "source": [
        "sss = StratifiedShuffleSplit(n_splits=5, test_size=0.2, random_state=42)\n",
        "\n",
        "for train_index, valid_index in sss.split(X_train, Y_train):\n",
        "  train_X, X_valid = X_train[train_index],X_train[valid_index]\n",
        "  train_Y, Y_valid = Y_train[train_index] ,Y_train[valid_index]\n",
        "\n",
        "X_train = train_X\n",
        "Y_train = train_Y\n",
        "print(\"Train shape : \",X_train.shape)\n",
        "print(\"Valid shape : \",X_valid.shape)\n",
        "print(\"Test shape : \",X_test.shape)"
      ],
      "execution_count": null,
      "outputs": [
        {
          "output_type": "stream",
          "text": [
            "Train shape :  (5280,)\n",
            "Valid shape :  (1321,)\n",
            "Test shape :  (1651,)\n"
          ],
          "name": "stdout"
        }
      ]
    },
    {
      "cell_type": "markdown",
      "metadata": {
        "id": "FYT3t3-beqdq",
        "colab_type": "text"
      },
      "source": [
        "Encode documents' text."
      ]
    },
    {
      "cell_type": "code",
      "metadata": {
        "id": "s4xHvPxEf4ZC",
        "colab_type": "code",
        "colab": {}
      },
      "source": [
        "def encode_documents(X, word2idx):\n",
        "\n",
        "  sentences = [row.split() for row in X]\n",
        "  for sentence in sentences:\n",
        "    for i in range(len(sentence)):\n",
        "      if ( sentence[i] in word2idx.keys() ):\n",
        "        sentence[i] = word2idx[sentence[i]]\n",
        "      else:\n",
        "        sentence[i] = word2idx[\"unknown_emb\"]\n",
        "  return sentences \n"
      ],
      "execution_count": null,
      "outputs": []
    },
    {
      "cell_type": "code",
      "metadata": {
        "id": "iWLWGagZl3fN",
        "colab_type": "code",
        "colab": {}
      },
      "source": [
        "#print ([row.split() for row in X_train[:5]])\n",
        "\n",
        "X_train_encoded = encode_documents(X_train, word2idx)\n",
        "X_valid_encoded = encode_documents(X_valid, word2idx)\n",
        "X_test_encoded = encode_documents(X_test, word2idx)\n",
        "\n"
      ],
      "execution_count": null,
      "outputs": []
    },
    {
      "cell_type": "markdown",
      "metadata": {
        "id": "Lw6SKgM1Eole",
        "colab_type": "text"
      },
      "source": [
        "Plot distribution of data."
      ]
    },
    {
      "cell_type": "code",
      "metadata": {
        "id": "cj4TKY4tyeEK",
        "colab_type": "code",
        "colab": {
          "base_uri": "https://localhost:8080/",
          "height": 921
        },
        "outputId": "d593caff-dc11-4ecf-9fdd-51937e24ba4c"
      },
      "source": [
        "import pandas as pd\n",
        "import matplotlib.pyplot as plt\n",
        "%matplotlib inline\n",
        "\n",
        "train_X_lens = [len(x) for x in X_train_encoded]\n",
        "pd.Series(train_X_lens).hist()\n",
        "plt.show()\n",
        "pd.Series(train_X_lens).describe()\n",
        "\n",
        "valid_X_lens = [len(x) for x in X_valid_encoded]\n",
        "pd.Series(valid_X_lens).hist()\n",
        "plt.show()\n",
        "pd.Series(valid_X_lens).describe()\n",
        "\n",
        "test_X_lens = [len(x) for x in X_test_encoded]\n",
        "pd.Series(test_X_lens).hist()\n",
        "plt.show()\n",
        "pd.Series(test_X_lens).describe()"
      ],
      "execution_count": null,
      "outputs": [
        {
          "output_type": "display_data",
          "data": {
            "image/png": "[encoded data removed]",
            "text/plain": [
              "<Figure size 432x288 with 1 Axes>"
            ]
          },
          "metadata": {
            "tags": [],
            "needs_background": "light"
          }
        },
        {
          "output_type": "display_data",
          "data": {
            "image/png": "[encoded data removed]",
            "text/plain": [
              "<Figure size 432x288 with 1 Axes>"
            ]
          },
          "metadata": {
            "tags": [],
            "needs_background": "light"
          }
        },
        {
          "output_type": "display_data",
          "data": {
            "image/png": "[encoded data removed]",
            "text/plain": [
              "<Figure size 432x288 with 1 Axes>"
            ]
          },
          "metadata": {
            "tags": [],
            "needs_background": "light"
          }
        },
        {
          "output_type": "execute_result",
          "data": {
            "text/plain": [
              "count     1651.000000\n",
              "mean       774.597214\n",
              "std       1165.892323\n",
              "min          9.000000\n",
              "25%        322.000000\n",
              "50%        461.000000\n",
              "75%        747.000000\n",
              "max      13881.000000\n",
              "dtype: float64"
            ]
          },
          "metadata": {
            "tags": []
          },
          "execution_count": 14
        }
      ]
    },
    {
      "cell_type": "markdown",
      "metadata": {
        "id": "FXtqc32uyEho",
        "colab_type": "text"
      },
      "source": [
        "Generate Batches"
      ]
    },
    {
      "cell_type": "code",
      "metadata": {
        "id": "2FZe-4MlyDpx",
        "colab_type": "code",
        "colab": {}
      },
      "source": [
        "import random \n",
        "import torch\n",
        "from sklearn.utils import shuffle\n",
        "\n",
        "def generate_batches(data, labels, seq_len, batch_size, idx_unk):\n",
        "  #first shuffle the data and labels in parallel\n",
        "  #data_shu, labels_shu = shuffle(data, labels)\n",
        "  data_shu, labels_shu = data, labels\n",
        "  \n",
        "  slice_start = 0\n",
        "  slice_end = batch_size\n",
        "  num_batches = len(data_shu) // batch_size   #drop the last batch\n",
        "  \n",
        "  \n",
        "  for i in range(num_batches):    \n",
        "\n",
        "      batch = np.zeros((batch_size, seq_len), dtype=\"int\")\n",
        "      #get slice of data\n",
        "      slice_data = data_shu[slice_start:slice_end]\n",
        "      ret_labels = labels_shu[slice_start:slice_end]\n",
        "      sequence_lens = []\n",
        "      for j, slice_d in enumerate(slice_data):\n",
        "        \n",
        "        if seq_len >= len(slice_d):     #if text is longer than the sequence length set, padding with the unknown word token\n",
        "\n",
        "          sequence_lens.append(len(slice_d))  #keep actual seg_lens\n",
        "\n",
        "          if idx_unk == -1:\n",
        "            #pad_seq = list(np.full(seq_len - len(slice_d), word2idx[\"unknown_emb\"]))   #pad sequence with unknown token\n",
        "            pad_seq = list(np.full(seq_len - len(slice_d), word2idx[\"pad_token\"]) )      #or pad with zeros\n",
        "          else:\n",
        "            #pad_seq = list(np.full(seq_len - len(slice_d), idx_unk))                   #pad sequence with the index of a word that maps to unknown token\n",
        "            pad_seq = list(np.full(seq_len - len(slice_d), word2idx[\"pad_token\"] ) )      #or pad with zeros\n",
        "\n",
        "          new_len = slice_d + pad_seq          #pad sequence at the end of document\n",
        "          batch[j:] = np.array(new_len)\n",
        "        \n",
        "        else:   #sample the text\n",
        "\n",
        "          sequence_lens.append(seq_len)  #keep actual seg_lens\n",
        "\n",
        "          rand_start = random.randrange(0, len(slice_data[j]) - seq_len)\n",
        "          new_len = slice_d[rand_start : rand_start + seq_len]\n",
        "          batch[j:] = np.array(new_len)\n",
        "\n",
        "      batch = torch.from_numpy(batch)\n",
        "      ret_labels = torch.from_numpy(ret_labels)\n",
        "      sequence_lens = torch.tensor(sequence_lens)\n",
        "      yield batch, ret_labels, sequence_lens\n",
        "\n",
        "      slice_start = slice_end\n",
        "      slice_end = slice_end + batch_size\n"
      ],
      "execution_count": null,
      "outputs": []
    },
    {
      "cell_type": "markdown",
      "metadata": {
        "id": "o4dVkzvYjurK",
        "colab_type": "text"
      },
      "source": [
        "Second function for generate batches, remove outliers and get only a piece of text (SEQUENCE LENGTH), the same at each epoch"
      ]
    },
    {
      "cell_type": "code",
      "metadata": {
        "id": "0ps20fYskPUV",
        "colab_type": "code",
        "colab": {}
      },
      "source": [
        "def remove_outliers(X_lens, X_encoded, Y):\n",
        "\n",
        "  X_chopped = [X_encoded[i] for i, l in enumerate(X_lens) if l >=150 and l <= 1800]\n",
        "  Y_chopped = [Y[i] for i, l in enumerate(X_lens) if l>=150 and l <=1800]\n",
        "\n",
        "  return X_chopped, Y_chopped\n",
        "\n"
      ],
      "execution_count": null,
      "outputs": []
    },
    {
      "cell_type": "code",
      "metadata": {
        "id": "cvVh9v_3mm9o",
        "colab_type": "code",
        "colab": {}
      },
      "source": [
        "# X_train_chopped, Y_train_chopped  = remove_outliers(train_X_lens, X_train_encoded, Y_train)\n",
        "# X_valid_chopped, Y_valid_chopped = remove_outliers(valid_X_lens, X_valid_encoded, Y_valid)\n",
        "# X_test_chopped, Y_test_chopped = remove_outliers(test_X_lens, X_test_encoded, Y_test)"
      ],
      "execution_count": null,
      "outputs": []
    },
    {
      "cell_type": "markdown",
      "metadata": {
        "id": "wkWJYa2xoAdu",
        "colab_type": "text"
      },
      "source": [
        "## Train Set"
      ]
    },
    {
      "cell_type": "code",
      "metadata": {
        "id": "wc8uo6pPm8RQ",
        "colab_type": "code",
        "colab": {
          "base_uri": "https://localhost:8080/",
          "height": 423
        },
        "outputId": "52f8582e-8e6b-43e3-8e76-d0dbfc4a250d"
      },
      "source": [
        "# train_X_lens_new = [len(x) for x in X_train_chopped]\n",
        "# pd.Series(train_X_lens_new).hist()\n",
        "# plt.show()\n",
        "# pd.Series(train_X_lens_new).describe()"
      ],
      "execution_count": null,
      "outputs": [
        {
          "output_type": "display_data",
          "data": {
            "image/png": "[encoded data removed]",
            "text/plain": [
              "<Figure size 432x288 with 1 Axes>"
            ]
          },
          "metadata": {
            "tags": [],
            "needs_background": "light"
          }
        },
        {
          "output_type": "execute_result",
          "data": {
            "text/plain": [
              "count     308.000000\n",
              "mean      629.831169\n",
              "std       387.507862\n",
              "min       150.000000\n",
              "25%       313.500000\n",
              "50%       508.000000\n",
              "75%       887.250000\n",
              "max      1777.000000\n",
              "dtype: float64"
            ]
          },
          "metadata": {
            "tags": []
          },
          "execution_count": 46
        }
      ]
    },
    {
      "cell_type": "markdown",
      "metadata": {
        "id": "U-Lucvuunwdq",
        "colab_type": "text"
      },
      "source": [
        "Remove outliers from test and valid set"
      ]
    },
    {
      "cell_type": "markdown",
      "metadata": {
        "id": "EV5HpUFXoElM",
        "colab_type": "text"
      },
      "source": [
        "## Valid Set"
      ]
    },
    {
      "cell_type": "code",
      "metadata": {
        "id": "0nkgR1hMn7Q3",
        "colab_type": "code",
        "colab": {
          "base_uri": "https://localhost:8080/",
          "height": 421
        },
        "outputId": "3f86ed96-45db-4ede-b3d5-9e0bcff1ba96"
      },
      "source": [
        "# valid_X_lens_new = [len(x) for x in X_valid_chopped]\n",
        "# pd.Series(valid_X_lens_new).hist()\n",
        "# plt.show()\n",
        "# pd.Series(valid_X_lens_new).describe()"
      ],
      "execution_count": null,
      "outputs": [
        {
          "output_type": "display_data",
          "data": {
            "image/png": "[encoded data removed]",
            "text/plain": [
              "<Figure size 432x288 with 1 Axes>"
            ]
          },
          "metadata": {
            "tags": [],
            "needs_background": "light"
          }
        },
        {
          "output_type": "execute_result",
          "data": {
            "text/plain": [
              "count      75.000000\n",
              "mean      583.333333\n",
              "std       346.187550\n",
              "min       166.000000\n",
              "25%       305.500000\n",
              "50%       522.000000\n",
              "75%       696.500000\n",
              "max      1709.000000\n",
              "dtype: float64"
            ]
          },
          "metadata": {
            "tags": []
          },
          "execution_count": 47
        }
      ]
    },
    {
      "cell_type": "markdown",
      "metadata": {
        "id": "Ukte2Q4tpAnk",
        "colab_type": "text"
      },
      "source": [
        "## Test Set"
      ]
    },
    {
      "cell_type": "code",
      "metadata": {
        "id": "bUpV1jRNo-az",
        "colab_type": "code",
        "colab": {
          "base_uri": "https://localhost:8080/",
          "height": 424
        },
        "outputId": "7954f4b3-fa6c-4c04-ecc4-b480490c0ed4"
      },
      "source": [
        "# test_X_lens_new = [len(x) for x in X_test_chopped]\n",
        "# pd.Series(test_X_lens_new).hist()\n",
        "# plt.show()\n",
        "# pd.Series(test_X_lens_new).describe()"
      ],
      "execution_count": null,
      "outputs": [
        {
          "output_type": "display_data",
          "data": {
            "image/png": "[encoded data removed]",
            "text/plain": [
              "<Figure size 432x288 with 1 Axes>"
            ]
          },
          "metadata": {
            "tags": [],
            "needs_background": "light"
          }
        },
        {
          "output_type": "execute_result",
          "data": {
            "text/plain": [
              "count      93.000000\n",
              "mean      626.795699\n",
              "std       366.957987\n",
              "min       158.000000\n",
              "25%       326.000000\n",
              "50%       499.000000\n",
              "75%       888.000000\n",
              "max      1621.000000\n",
              "dtype: float64"
            ]
          },
          "metadata": {
            "tags": []
          },
          "execution_count": 48
        }
      ]
    },
    {
      "cell_type": "code",
      "metadata": {
        "id": "HEYTfdRKplzq",
        "colab_type": "code",
        "colab": {}
      },
      "source": [
        "def pad_truncate(X, seq_len):\n",
        "\n",
        "    X_pad_trunc = np.zeros((len(X), seq_len), dtype = int)\n",
        "    sequences_len = []\n",
        "    for i, article in enumerate(X):\n",
        "        article_len = len(article)\n",
        "        \n",
        "        if article_len <= seq_len:\n",
        "          sequences_len.append(article_len)\n",
        "          pad_seq = list(np.full(seq_len - article_len, word2idx[\"pad_token\"]) )\n",
        "          new = article + pad_seq\n",
        "        elif article_len > seq_len:\n",
        "          rand_start = random.randrange(0, article_len - seq_len)\n",
        "          new = article[rand_start : rand_start + seq_len]\n",
        "          sequences_len.append(seq_len)\n",
        "\n",
        "        X_pad_trunc[i,:] = np.array(new)\n",
        "    \n",
        "    return X_pad_trunc, sequences_len\n",
        "  "
      ],
      "execution_count": null,
      "outputs": []
    },
    {
      "cell_type": "code",
      "metadata": {
        "id": "hBB_V0CUsvvQ",
        "colab_type": "code",
        "colab": {}
      },
      "source": [
        "def chop_pad_trunc(X_lens, X_encoded, Y, seq_len ):\n",
        "\n",
        "  X_chopped, Y_chopped  = remove_outliers(X_lens, X_encoded, Y)\n",
        "  X_pad_trunc, sequences = pad_truncate(X_chopped, seq_len)\n",
        "  return X_pad_trunc, sequences\n"
      ],
      "execution_count": null,
      "outputs": []
    },
    {
      "cell_type": "code",
      "metadata": {
        "id": "SlcW4RwckH64",
        "colab_type": "code",
        "colab": {}
      },
      "source": [
        "import random \n",
        "import torch\n",
        "from sklearn.utils import shuffle\n",
        "\n",
        "def generate_batches_chopped(data, labels, seq_len, batch_size, seq_lens):\n",
        "  \n",
        "  slice_start = 0\n",
        "  slice_end = batch_size\n",
        "  num_batches = len(data) // batch_size   #drop the last batch\n",
        "  \n",
        "  \n",
        "  for i in range(num_batches):    \n",
        "\n",
        "      batch = np.zeros((batch_size, seq_len), dtype=\"int\")\n",
        "      #get slice of data\n",
        "      slice_data = data[slice_start:slice_end]\n",
        "      ret_labels = labels[slice_start:slice_end]\n",
        "      sequence_lens = seq_lens[slice_start:slice_end]\n",
        "        \n",
        "      batch = torch.from_numpy(slice_data)\n",
        "      ret_labels = torch.from_numpy(ret_labels)\n",
        "      yield batch, ret_labels, sequence_lens\n",
        "\n",
        "      slice_start = slice_end\n",
        "      slice_end = slice_end + batch_size\n"
      ],
      "execution_count": null,
      "outputs": []
    },
    {
      "cell_type": "markdown",
      "metadata": {
        "id": "qMrdhRtVsoNE",
        "colab_type": "text"
      },
      "source": [
        "Define neural network architecture."
      ]
    },
    {
      "cell_type": "code",
      "metadata": {
        "id": "Fp6ZLymASDtk",
        "colab_type": "code",
        "colab": {}
      },
      "source": [
        "import torch\n",
        "from torch.autograd import Variable\n",
        "import torch.nn as nn\n",
        "import torch.nn.functional as F\n",
        "\n",
        "class LSTMModel(nn.Module):\n",
        "\n",
        "  def __init__(self, vocab_size, embedding_dim, hidden_dim, output_dim, num_layers, embeddings_matrix ):\n",
        "    super(LSTMModel, self).__init__()\n",
        "\n",
        "    self.embedding_dim = embedding_dim\n",
        "    self.hidden_dim = hidden_dim\n",
        "    self.output_size = output_dim\n",
        "    self.n_layers = num_layers\n",
        "    #embedding layer\n",
        "    self.embeddings = nn.Embedding(vocab_size, embedding_dim)\n",
        "\n",
        "    #lstm layer\n",
        "    self.lstm = nn.LSTM(input_size = embedding_dim, hidden_size = hidden_dim, num_layers = num_layers, dropout = 0.3, batch_first = True )\n",
        "\n",
        "    #dropout layer\n",
        "    self.dropout = nn.Dropout(0.6)\n",
        "\n",
        "    #dense layer\n",
        "    self.fc = nn.Linear(hidden_dim, output_dim)\n",
        "\n",
        "    #sigmoid activation function\n",
        "    self.sig = nn.Sigmoid()\n",
        "\n",
        "    self.init_weigths(embeddings_matrix)\n",
        "  \n",
        "  def init_weigths(self, embeddings_matrix):\n",
        "    self.embeddings.weight =  torch.nn.Parameter(embeddings_matrix)\n",
        "\n",
        "\n",
        "  def forward(self, batch, seq_lens_train, hidden):\n",
        "    \n",
        "    assert (list(batch.size()) == [BATCH_SIZE, SEQUENCE_LEN]), \"Batch shape not appropriate\"\n",
        "\n",
        "    #embedding layer\n",
        "    embedded = self.embeddings(batch)\n",
        "    assert (list(embedded.size()) == [BATCH_SIZE, SEQUENCE_LEN, self.embedding_dim ]), \"Embedded batch shape not appropriate\"\n",
        "    \n",
        "    #pack padded sequences\n",
        "    packed_batch = torch.nn.utils.rnn.pack_padded_sequence(embedded, seq_lens_train, batch_first=True, enforce_sorted=False)\n",
        "    #lstm layer\n",
        "    lstm_out_packed, lstm_hidden_packed = self.lstm(packed_batch, hidden)\n",
        "\n",
        "    output, input_sizes = torch.nn.utils.rnn.pad_packed_sequence(lstm_out_packed, batch_first=True)\n",
        "    \n",
        "  \n",
        "    #stack up lstm ouput\n",
        "    #lstm_out = lstm_out.contiguous().view(-1, self.hidden_dim)\n",
        "\n",
        "    #dropout\n",
        "    drop_out = self.dropout(lstm_hidden_packed[0][-1])\n",
        "\n",
        "    #fully-connected layer\n",
        "    out = self.fc(drop_out)\n",
        "    assert (list(out.size()) == [BATCH_SIZE, self.output_size ]), \"Fully-connected layer output batch shape not appropriate\"\n",
        "\n",
        "    #sigmoid function\n",
        "    sig_out = self.sig(out)\n",
        "    assert (list(sig_out.size()) == [BATCH_SIZE, self.output_size ]), \"Sigmoid layer output batch shape not appropriate\"\n",
        "\n",
        "    #reshape to get batch_size first\n",
        "    #sig_out = sig_out.view(BATCH_SIZE, -1)\n",
        "\n",
        "    #get last one\n",
        "    #sig_out = sig_out[:, -1]\n",
        "\n",
        "    return sig_out, lstm_hidden_packed\n",
        "\n",
        "\n",
        "  def init_hidden(self):\n",
        "\n",
        "    weight = next(self.parameters()).data\n",
        "    gpu = torch.cuda.is_available()\n",
        "\n",
        "    #initialize hidden_state\n",
        "    if (gpu):\n",
        "      hidden = (weight.new(self.n_layers, BATCH_SIZE, self.hidden_dim).zero_().cuda(),\n",
        "                        weight.new(self.n_layers, BATCH_SIZE, self.hidden_dim).zero_().cuda())\n",
        "    else:\n",
        "      hidden = (weight.new(self.n_layers, BATCH_SIZE, self.hidden_dim).zero_(),\n",
        "                        weight.new(self.n_layers, BATCH_SIZE, self.hidden_dim).zero_())\n",
        "    return hidden"
      ],
      "execution_count": null,
      "outputs": []
    },
    {
      "cell_type": "markdown",
      "metadata": {
        "id": "b8DojqiFxyn2",
        "colab_type": "text"
      },
      "source": [
        "Instantiate the network."
      ]
    },
    {
      "cell_type": "code",
      "metadata": {
        "id": "ciuTXnyAx2Je",
        "colab_type": "code",
        "colab": {
          "base_uri": "https://localhost:8080/",
          "height": 156
        },
        "outputId": "62ed24db-3fca-41a1-d128-cd793fa16a1f"
      },
      "source": [
        "device = torch.device(\"cuda\" if torch.cuda.is_available() else \"cpu\")\n",
        "print(device)\n",
        "# Network parameters\n",
        "VOCAB_SIZE = emb_weight_matrix.shape[0]\n",
        "EMBEDDING_DIM = emb_weight_matrix.shape[1]\n",
        "HIDDEN_DIM = 256\n",
        "OUTPUT_DIM = 1\n",
        "NUM_LAYERS = 2  \n",
        "\n",
        "emb_weight_matrix = torch.FloatTensor(emb_weight_matrix)\n",
        "emb_weight_matrix.size()\n",
        "model = LSTMModel(VOCAB_SIZE, EMBEDDING_DIM, HIDDEN_DIM, OUTPUT_DIM, NUM_LAYERS, emb_weight_matrix).to(device)\n",
        "print(model)\n"
      ],
      "execution_count": null,
      "outputs": [
        {
          "output_type": "stream",
          "text": [
            "cuda\n",
            "LSTMModel(\n",
            "  (embeddings): Embedding(400002, 50)\n",
            "  (lstm): LSTM(50, 256, num_layers=2, batch_first=True, dropout=0.3)\n",
            "  (dropout): Dropout(p=0.6, inplace=False)\n",
            "  (fc): Linear(in_features=256, out_features=1, bias=True)\n",
            "  (sig): Sigmoid()\n",
            ")\n"
          ],
          "name": "stdout"
        }
      ]
    },
    {
      "cell_type": "markdown",
      "metadata": {
        "id": "_lJd4I9Gdx9a",
        "colab_type": "text"
      },
      "source": [
        "Build training loop"
      ]
    },
    {
      "cell_type": "code",
      "metadata": {
        "id": "YaJSL-nYlRiS",
        "colab_type": "code",
        "colab": {
          "base_uri": "https://localhost:8080/",
          "height": 350
        },
        "outputId": "e719cdcf-4655-48ec-ce9e-5e5160ada59f"
      },
      "source": [
        "import matplotlib.pyplot as plt\n",
        "import numpy as np\n",
        "\n",
        "# Parameters\n",
        "learning_rate = 0.001\n",
        "EPOCHS = 25    \n",
        "BATCH_SIZE = 50\n",
        "SEQUENCE_LEN = 200\n",
        "\n",
        "gpu = torch.cuda.is_available()\n",
        "model = LSTMModel(VOCAB_SIZE, EMBEDDING_DIM, HIDDEN_DIM, OUTPUT_DIM, NUM_LAYERS, emb_weight_matrix)\n",
        "\n",
        "if(gpu):\n",
        "  model.cuda()\n",
        "\n",
        "# Loss and Optimizer\n",
        "criterion = nn.BCELoss().to(device)\n",
        "optimizer = torch.optim.Adam(model.parameters(), lr = learning_rate)\n",
        "\n",
        "clip = 5\n",
        "\n",
        "#set model to training mode\n",
        "model.train()\n",
        "train_losses = []\n",
        "val_losses = []\n",
        "\n",
        "# X_train_chopped, seq_train = chop_pad_trunc(train_X_lens, X_train_encoded, Y_train, SEQUENCE_LEN )\n",
        "# X_valid_chopped, seq_valid = chop_pad_trunc(valid_X_lens, X_valid_encoded, Y_valid, SEQUENCE_LEN )\n",
        "\n",
        "for epoch in range(EPOCHS):\n",
        "  counter = 0\n",
        "  \n",
        "  train_loss = []\n",
        "  for batch, labels, seq_lens_train in generate_batches(X_train_encoded, Y_train, SEQUENCE_LEN, BATCH_SIZE, idx_unk):\n",
        "  #for batch, labels, seq_lens_train in generate_batches_chopped(X_train_chopped, Y_train, SEQUENCE_LEN, BATCH_SIZE, seq_train):\n",
        "    \n",
        "    #initialize hidden state\n",
        "    h = model.init_hidden()\n",
        "    \n",
        "    # Creating new variables for the hidden state, otherwise\n",
        "    # we'd backprop through the entire training history\n",
        "    h = tuple([each.data for each in h])\n",
        "\n",
        "    #Forward + Backward + Optimize\n",
        "\n",
        "    model.zero_grad()  # zero the gradient buffer\n",
        "    \n",
        "    if (gpu):\n",
        "      batch = batch.cuda()\n",
        "      seq_lens_train = seq_lens_train.cuda()\n",
        "      labels =labels.cuda()\n",
        "\n",
        "    output, h = model(batch, seq_lens_train, h)\n",
        "\n",
        "    #compute the loss    \n",
        "    loss = criterion(output.squeeze(), labels.float())\n",
        "\n",
        "    loss.backward()\n",
        "    train_loss.append(loss.data)\n",
        "    nn.utils.clip_grad_norm_(model.parameters(), clip)\n",
        "    optimizer.step()\n",
        "\n",
        "  \n",
        "  train_losses.append(torch.mean(torch.tensor(train_loss)))\n",
        "  validation_loss = []\n",
        "  model.eval()\n",
        "\n",
        "  for batch, labels, seq_lens_val in generate_batches(X_valid_encoded, Y_valid, SEQUENCE_LEN, BATCH_SIZE, idx_unk):\n",
        "  #for batch, labels, seq_lens_val in generate_batches_chopped(X_valid_chopped, Y_valid, SEQUENCE_LEN, BATCH_SIZE, seq_valid):\n",
        "\n",
        "    val_h = model.init_hidden()\n",
        "    val_h = tuple([each.data for each in val_h])\n",
        "\n",
        "    if (gpu):\n",
        "      batch = batch.cuda()\n",
        "      seq_lens_val = seq_lens_val.cuda()\n",
        "      labels =labels.cuda()\n",
        "\n",
        "    output, val_h = model(batch, seq_lens_val, val_h)\n",
        "    val_loss = criterion(output.squeeze(), labels.float())\n",
        "\n",
        "    validation_loss.append(val_loss.data)\n",
        "\n",
        "  val_losses.append(torch.mean(torch.tensor(validation_loss)))\n",
        "  \n",
        "  #switch back to train mode\n",
        "  model.train()\n",
        "\n",
        "    \n",
        "print(val_losses)\n",
        "print(train_losses)\n",
        "plt.plot(np.array(train_losses), label = 'train_loss')\n",
        "plt.plot(np.array(val_losses), label = 'val_loss')\n",
        "plt.ylim([0, max([max(train_losses),max(val_losses)]) + 0.1])\n",
        "plt.xlim(1, EPOCHS + 1)\n",
        "plt.title(\"Train/Val loss throught training epochs\")\n",
        "plt.xlabel(\"Epochs\")\n",
        "plt.ylabel(\"Loss\")\n",
        "plt.legend()\n",
        "plt.show()\n",
        "\n",
        "torch.save(model.state_dict(), \"/content/drive/My Drive/Models/gossipcop/mymodel_lr00001ep25_dout03inlstmdout06.pt\")\n",
        "\n",
        "import smtplib\n",
        "import ssl\n",
        "\n",
        "def notify_me(address, content):\n",
        "    port = 465  # For SSL\n",
        "    smtp_server = \"smtp.gmail.com\"\n",
        "    sender_email = \"jup.notify@gmail.com\"  # Enter your address\n",
        "    receiver_email = address  # Enter receiver address\n",
        "    message = f\"\"\"{content}\"\"\"\n",
        "\n",
        "    context = ssl.create_default_context()\n",
        "    with smtplib.SMTP_SSL(smtp_server, port, context=context) as server:\n",
        "        server.login(sender_email, \"jup_1392\")\n",
        "        server.sendmail(sender_email, receiver_email, message)\n",
        "\n",
        "# Example Usage\n",
        "notify_me(\"staviatrop@gmail.com\", \"Telooos\")"
      ],
      "execution_count": null,
      "outputs": [
        {
          "output_type": "stream",
          "text": [
            "[tensor(0.6934), tensor(0.6904), tensor(0.6881), tensor(0.6931), tensor(0.6724), tensor(0.6929), tensor(0.6895), tensor(0.6928), tensor(0.6939), tensor(0.6933), tensor(0.6932), tensor(0.6931), tensor(0.6931), tensor(0.6931), tensor(0.6931), tensor(0.6931), tensor(0.6931), tensor(0.6953), tensor(0.6851), tensor(0.6831), tensor(0.6925), tensor(0.6897), tensor(0.6317), tensor(0.6476), tensor(0.5975)]\n",
            "[tensor(0.6934), tensor(0.6905), tensor(0.6907), tensor(0.6952), tensor(0.6886), tensor(0.6983), tensor(0.6927), tensor(0.6949), tensor(0.6879), tensor(0.6950), tensor(0.6935), tensor(0.6939), tensor(0.6933), tensor(0.6934), tensor(0.6934), tensor(0.6934), tensor(0.6933), tensor(0.6915), tensor(0.6869), tensor(0.6808), tensor(0.6790), tensor(0.6919), tensor(0.6560), tensor(0.6045), tensor(0.5562)]\n"
          ],
          "name": "stdout"
        },
        {
          "output_type": "display_data",
          "data": {
            "image/png": "[encoded data removed]",
            "text/plain": [
              "<Figure size 432x288 with 1 Axes>"
            ]
          },
          "metadata": {
            "tags": [],
            "needs_background": "light"
          }
        }
      ]
    },
    {
      "cell_type": "markdown",
      "metadata": {
        "id": "7RzOfymEWmCo",
        "colab_type": "text"
      },
      "source": [
        "Evaluate on Test Set"
      ]
    },
    {
      "cell_type": "code",
      "metadata": {
        "id": "zRAxCVR3xBOY",
        "colab_type": "code",
        "colab": {
          "base_uri": "https://localhost:8080/",
          "height": 156
        },
        "outputId": "230a9e3a-b2b4-47b6-e722-390965c2e980"
      },
      "source": [
        "model_saved = LSTMModel(VOCAB_SIZE, EMBEDDING_DIM, HIDDEN_DIM, OUTPUT_DIM, NUM_LAYERS, emb_weight_matrix)\n",
        "gpu = torch.cuda.is_available()\n",
        "if (gpu):\n",
        "  model_saved.cuda()\n",
        "\n",
        "model_saved.load_state_dict(torch.load(\"/content/drive/My Drive/Models/gossipcop/mymodel_lr00001ep50_dout03inlstmdout06.pt\"))\n",
        "print(model_saved.parameters())\n",
        "model_saved.eval()\n",
        "SEQUENCE_LEN = 200\n",
        "BATCH_SIZE = 50\n",
        "criterion = nn.BCELoss().to(device)\n",
        "\n",
        "model.eval()\n",
        "gpu = torch.cuda.is_available()\n",
        "if (gpu):\n",
        "  model.cuda()\n",
        "\n",
        "test_losses = []\n",
        "num_correct = 0\n",
        "\n",
        "#X_test_chopped, seq_test = chop_pad_trunc(test_X_lens, X_test_encoded, Y_test, SEQUENCE_LEN )\n",
        "\n",
        "tp = 0\n",
        "fp = 0\n",
        "fn = 0\n",
        "tn = 0\n",
        "sum_batches = 0\n",
        "for test_batch, true_labels, seq_lens_test in generate_batches(X_test_encoded, Y_test, SEQUENCE_LEN, BATCH_SIZE, idx_unk):       #random subsampling\n",
        "#for test_batch, true_labels, seq_lens_test in generate_batches_chopped(X_test_chopped, Y_test, SEQUENCE_LEN, BATCH_SIZE, seq_test):   #fixed seq_len of evey article\n",
        "\n",
        "  sum_batches = sum_batches + test_batch.shape[0]\n",
        "  test_h = model_saved.init_hidden()\n",
        "  test_h = tuple([each.data for each in test_h])\n",
        "\n",
        "  if (gpu):\n",
        "    test_batch = test_batch.cuda()\n",
        "    seq_lens_test = seq_lens_test.cuda()\n",
        "    true_labels = true_labels.cuda()\n",
        "\n",
        "  output, test_h = model_saved(test_batch, seq_lens_test, test_h)\n",
        "\n",
        "  test_loss = criterion(output.squeeze(), true_labels.float())\n",
        "  test_losses.append(test_loss.data)\n",
        "\n",
        "  \n",
        "  predictions = torch.round(output.squeeze())\n",
        "  \n",
        "  correct_tensor = predictions.eq(true_labels.float().view_as(predictions))\n",
        "\n",
        "  correct = np.squeeze(correct_tensor.cpu().numpy())\n",
        "  num_correct += np.sum(correct)\n",
        "\n",
        "  pred_num = predictions.cpu().detach().numpy()\n",
        "  true_num = true_labels.cpu().numpy()\n",
        "  for i, pred in enumerate(pred_num):\n",
        "\n",
        "    if pred == 1:\n",
        "      if true_num[i] == 1:\n",
        "        tp = tp + 1\n",
        "      else:\n",
        "        fp = fp + 1\n",
        "    else:\n",
        "      if true_num[i] == 1:\n",
        "        fn = fn + 1\n",
        "      else:\n",
        "        tn = tn + 1\n",
        "\n",
        "# -- stats! -- ##\n",
        "# avg test loss\n",
        "print(\"Test loss: {:.3f}\".format(torch.mean(torch.tensor(test_losses))))\n",
        "\n",
        "# accuracy over all test data\n",
        "test_acc = num_correct/sum_batches\n",
        "print(\"Test accuracy: {:.3f}\".format(test_acc))\n",
        "\n",
        "# precision over all test data\n",
        "precision = tp/(tp + fp)\n",
        "print(\"Test precision: {:.3f}\".format(precision))\n",
        "\n",
        "# recall over all test data\n",
        "recall = tp/(tp + fn)\n",
        "print(\"Test recall: {:.3f}\".format(recall))\n",
        "\n",
        "# f1_score over all test data\n",
        "f1_score = 2* (precision * recall)/(precision + recall)\n",
        "print(\"Test f1_score: {:.3f}\".format(f1_score))\n",
        "\n",
        "\n",
        "#precision for class 0 (true articles)\n",
        "pre_class0 = tn / (tn + fn)\n",
        "print(\"Test precision for class 0: {:.3f}\".format(pre_class0))\n",
        "\n",
        "#recall for class 0 (true articles)\n",
        "rec_class0 = tn / (tn + fp)\n",
        "print(\"Test recall for class 0: {:.3f}\".format(rec_class0))"
      ],
      "execution_count": null,
      "outputs": [
        {
          "output_type": "stream",
          "text": [
            "<generator object Module.parameters at 0x7fd350e4fca8>\n",
            "Test loss: 0.614\n",
            "Test accuracy: 0.754\n",
            "Test precision: 0.739\n",
            "Test recall: 0.784\n",
            "Test f1_score: 0.761\n",
            "Test precision for class 0: 0.771\n",
            "Test recall for class 0: 0.724\n"
          ],
          "name": "stdout"
        }
      ]
    },
    {
      "cell_type": "code",
      "metadata": {
        "id": "ao_MMUY47rib",
        "colab_type": "code",
        "colab": {}
      },
      "source": [
        ""
      ],
      "execution_count": null,
      "outputs": []
    }
  ]
}