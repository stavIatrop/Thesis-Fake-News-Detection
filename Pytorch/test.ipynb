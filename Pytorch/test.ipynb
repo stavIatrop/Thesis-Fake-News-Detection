{
 "nbformat": 4,
 "nbformat_minor": 2,
 "metadata": {
  "language_info": {
   "name": "python",
   "codemirror_mode": {
    "name": "ipython",
    "version": 3
   },
   "version": "3.6.9-final"
  },
  "orig_nbformat": 2,
  "file_extension": ".py",
  "mimetype": "text/x-python",
  "name": "python",
  "npconvert_exporter": "python",
  "pygments_lexer": "ipython3",
  "version": 3,
  "kernelspec": {
   "name": "python36964bit801bdd0f6d924c1ebf89c3923d7c21c9",
   "display_name": "Python 3.6.9 64-bit"
  }
 },
 "cells": [
  {
   "cell_type": "markdown",
   "metadata": {},
   "source": [
    "### Loading the dataset from the csv file"
   ]
  },
  {
   "cell_type": "code",
   "execution_count": 1,
   "metadata": {},
   "outputs": [],
   "source": [
    "import pandas as pd\n",
    "\n",
    "df = pd.read_csv(\"cleaned_lower_politifact.csv\", ',')\n",
    "X = df['text'].values\n",
    "labels = df['label'].values"
   ]
  },
  {
   "cell_type": "markdown",
   "metadata": {},
   "source": [
    "### Data Processing — convert to lower case and remove punctuation"
   ]
  },
  {
   "cell_type": "code",
   "execution_count": 2,
   "metadata": {},
   "outputs": [],
   "source": [
    "# import re, string\n",
    "\n",
    "# for i in range(X.size):\n",
    "    \n",
    "#     words = X[i].split()\n",
    "#     filtered_list = []\n",
    "#     for word in words:\n",
    "#         pattern = re.compile('[^\\u0000-\\u007F]+', re.UNICODE)  #Remove all non-alphanumeric characters\n",
    "        \n",
    "#         word = pattern.sub('', word)\n",
    "#         word = word.translate(str.maketrans('', '', string.punctuation))\n",
    "#         word = word.lower()\n",
    "\n",
    "#         filtered_list.append(word)\n",
    "#         result = ' '.join(filtered_list)\n",
    "        \n",
    "#     X[i] = result      \n",
    "\n",
    "# list1 = [['id', 'text', 'label']]\n",
    "# for i in range(0, len(X)):\n",
    "#       list1.append([df['id'][i], X[i], df['label'][i]])\n",
    "# df1 = pd.DataFrame(list1)\n",
    "# df1.to_csv('cleaned_lower_politifact.csv',sep=',',index = False ,header = False)"
   ]
  },
  {
   "cell_type": "markdown",
   "metadata": {},
   "source": [
    "### Tokenize — Create Vocab to Int mapping dictionary\n",
    "\n",
    "Ιn most of the NLP tasks, you will create an index mapping dictionary in such a way that your frequently occurring words are assigned lower indexes. One of the most common way of doing this is to use ```Counter``` method from ```Collections``` library."
   ]
  },
  {
   "cell_type": "code",
   "execution_count": 3,
   "metadata": {},
   "outputs": [],
   "source": [
    "from collections import Counter\n",
    "\n",
    "words_list = []\n",
    "articles_list = []\n",
    "for i in range(X.size):\n",
    "    \n",
    "    articles_list.append(X[i])\n",
    "    words = X[i].split()\n",
    "    words_list.append(words)\n",
    "\n",
    "flat_words_list = [item for sublist in words_list for item in sublist]\n",
    "count_words = Counter(flat_words_list)\n",
    "\n",
    "total_words = len(flat_words_list)\n",
    "sorted_words = count_words.most_common(total_words)\n",
    "#print(count_words)\n",
    "#print(total_words)\n",
    "#print(sorted_words)"
   ]
  },
  {
   "cell_type": "markdown",
   "metadata": {},
   "source": [
    "In order to create a vocab to int mapping dictionary, you would simply do this"
   ]
  },
  {
   "cell_type": "code",
   "execution_count": 4,
   "metadata": {},
   "outputs": [],
   "source": [
    "vocab_to_int = {w:i for i, (w,c) in enumerate(sorted_words)}"
   ]
  },
  {
   "cell_type": "markdown",
   "metadata": {},
   "source": [
    "There is a small trick here, in this mapping index will start from 0 i.e. mapping of ‘the’ will be 0. But later on we are going to do padding for shorter articles and conventional choice for padding is 0. So we need to start this indexing from 1"
   ]
  },
  {
   "cell_type": "code",
   "execution_count": 5,
   "metadata": {},
   "outputs": [],
   "source": [
    "vocab_to_int = {w:i+1 for i, (w,c) in enumerate(sorted_words)}"
   ]
  },
  {
   "cell_type": "markdown",
   "metadata": {},
   "source": [
    "### Tokenize — Encode the words\n",
    "\n",
    "So far we have created a) list of articles and b) index mapping dictionary using vocab from all our articles. All this was to create an encoding of articles (replace words in our articles by integers)"
   ]
  },
  {
   "cell_type": "code",
   "execution_count": 6,
   "metadata": {},
   "outputs": [
    {
     "name": "stdout",
     "output_type": "stream",
     "text": "[[673, 13, 18, 10064, 759, 2, 36, 5, 335, 16, 26, 272, 8207, 1593, 1117, 127, 11, 129, 912, 63, 144, 138, 9000, 49, 496, 2429, 209, 120, 3, 1967, 419, 44, 2555, 2517, 11510, 72, 32, 364, 2, 2133, 3502, 513, 13815, 78, 8, 3144, 171, 4808, 61, 24, 154, 1, 92, 8, 6983, 331, 737, 3, 5, 5819, 726, 4, 441, 78, 13816, 2133, 4097, 2381, 10065, 2, 11511, 1, 172, 6156, 3, 1, 1854, 1930, 1477, 331, 737, 17, 5, 187, 4, 46, 7537, 166, 37, 5820, 1995, 4, 1665, 11512, 4, 1, 1246, 491, 13815, 11513, 18208, 18209, 48, 64, 44, 180, 60, 2517, 6, 1045, 5, 181, 43, 130, 28, 1665, 11512, 13, 51, 18, 2049, 27, 1259, 6, 15, 1478, 9001, 8, 1067, 2, 46, 6157, 1359, 4, 5, 147, 610, 619, 62, 7538, 1338, 4, 3812, 1125, 10066, 472, 1, 135, 18210, 35, 53, 3614, 1322, 37, 1593, 7, 1, 639, 4, 2049, 1, 6157, 1359, 2134, 42, 248, 344, 5821, 62, 993, 3, 43, 5526, 13817, 210, 1576, 6158, 117, 5, 13818, 1360, 394, 13, 8, 20, 5, 13819, 2024, 6, 86, 2518, 6158, 36, 32, 20, 46, 2024, 6, 24, 30, 7539, 2, 1, 1385, 3, 43, 659, 4, 6, 1360, 92, 44, 86, 2518, 6158, 54, 19, 4612, 37, 86, 844, 1385, 24, 103, 19, 18, 1056, 2, 18211, 183, 6, 1106, 36, 12, 41, 6, 993, 103, 4426, 1, 2517, 4, 49, 6524, 394, 43, 18, 1056, 2, 75, 2763, 6, 145, 17, 1260, 2, 5257, 72, 2556, 1149, 3145], [1, 545, 1855, 1553, 4243, 262, 3397, 3615, 749, 1908, 4, 8208, 1855, 771, 3, 2764, 4, 407, 16, 10067, 4243, 172, 1908, 3397, 845, 10, 1, 394, 3, 4243, 124, 3, 7540, 866, 3397, 1908, 10, 42, 713, 84, 1, 1138, 4, 3301, 3146, 3957, 1, 9002, 3958, 3, 28, 8209, 6159, 1033, 3, 3398, 379, 578, 4243, 6160, 1968, 11514, 329, 3, 104, 1273, 3399, 1968, 11515, 621, 11516, 755, 8208, 1644, 1855, 2228, 37, 11517, 7, 1297, 3, 1, 837, 421, 23, 303, 1260, 31, 2697, 119, 940, 565, 3, 4244, 1107, 343, 1283, 3, 382, 1833, 1102, 155, 1855, 2698, 7, 3212, 1878, 3, 1386, 1261, 1067, 2, 5, 1594, 7541, 3503, 38, 1855, 3, 2764, 7541, 3503, 17, 514, 7, 5258, 6161, 4243, 172, 1856, 1387, 5, 760, 9003, 1, 3708, 37, 749, 4, 209, 6525, 2999, 3, 19, 6525, 2999, 845, 545, 1855, 1553, 3813, 829, 414, 4, 1, 545, 1855, 1553, 17, 514, 1490, 179, 1200, 11518, 316, 2, 10068, 1568, 2468, 80, 10, 79, 1283, 5012, 6526, 11519, 7542, 6526, 11520, 44, 12, 14, 5, 874, 4243, 845, 152, 700, 2202, 56, 2556, 692, 1422, 6162, 103, 18, 3302, 2, 56, 2382, 4, 933, 1553, 2595, 4, 545, 1855, 1553, 9004, 11521, 555, 1057, 4809, 6163, 211, 1091, 11522]]\n"
    }
   ],
   "source": [
    "articles_int = []\n",
    "for aricle in articles_list:\n",
    "    a = [vocab_to_int[w] for w in aricle.split()]\n",
    "    articles_int.append(a)\n",
    "print (articles_int[:2])"
   ]
  },
  {
   "cell_type": "markdown",
   "metadata": {},
   "source": [
    "Note: what we have created now is a list of lists. Each individual article is a list of integer values and all of them are stored in one huge list"
   ]
  },
  {
   "cell_type": "markdown",
   "metadata": {},
   "source": [
    "### Analyze Article Length"
   ]
  },
  {
   "cell_type": "code",
   "execution_count": 7,
   "metadata": {},
   "outputs": [
    {
     "data": {
      "image/png": "[encoded data removed]",
      "image/svg+xml": "<?xml version=\"1.0\" encoding=\"utf-8\" standalone=\"no\"?>\n<!DOCTYPE svg PUBLIC \"-//W3C//DTD SVG 1.1//EN\"\n  \"http://www.w3.org/Graphics/SVG/1.1/DTD/svg11.dtd\">\n<!-- Created with matplotlib (https://matplotlib.org/) -->\n<svg height=\"248.518125pt\" version=\"1.1\" viewBox=\"0 0 383.413025 248.518125\" width=\"383.413025pt\" xmlns=\"http://www.w3.org/2000/svg\" xmlns:xlink=\"http://www.w3.org/1999/xlink\">\n <defs>\n  <style type=\"text/css\">\n*{stroke-linecap:butt;stroke-linejoin:round;}\n  </style>\n </defs>\n <g id=\"figure_1\">\n  <g id=\"patch_1\">\n   <path d=\"M 0 248.518125 \nL 383.413025 248.518125 \nL 383.413025 0 \nL 0 0 \nz\n\" style=\"fill:none;\"/>\n  </g>\n  <g id=\"axes_1\">\n   <g id=\"patch_2\">\n    <path d=\"M 33.2875 224.64 \nL 368.0875 224.64 \nL 368.0875 7.2 \nL 33.2875 7.2 \nz\n\" style=\"fill:#ffffff;\"/>\n   </g>\n   <g id=\"patch_3\">\n    <path clip-path=\"url(#pee4dfe0398)\" d=\"M 48.505682 224.64 \nL 78.942045 224.64 \nL 78.942045 17.554286 \nL 48.505682 17.554286 \nz\n\" style=\"fill:#1f77b4;\"/>\n   </g>\n   <g id=\"patch_4\">\n    <path clip-path=\"url(#pee4dfe0398)\" d=\"M 78.942045 224.64 \nL 109.378409 224.64 \nL 109.378409 205.045619 \nL 78.942045 205.045619 \nz\n\" style=\"fill:#1f77b4;\"/>\n   </g>\n   <g id=\"patch_5\">\n    <path clip-path=\"url(#pee4dfe0398)\" d=\"M 109.378409 224.64 \nL 139.814773 224.64 \nL 139.814773 217.724336 \nL 109.378409 217.724336 \nz\n\" style=\"fill:#1f77b4;\"/>\n   </g>\n   <g id=\"patch_6\">\n    <path clip-path=\"url(#pee4dfe0398)\" d=\"M 139.814773 224.64 \nL 170.251136 224.64 \nL 170.251136 217.724336 \nL 139.814773 217.724336 \nz\n\" style=\"fill:#1f77b4;\"/>\n   </g>\n   <g id=\"patch_7\">\n    <path clip-path=\"url(#pee4dfe0398)\" d=\"M 170.251136 224.64 \nL 200.6875 224.64 \nL 200.6875 220.029557 \nL 170.251136 220.029557 \nz\n\" style=\"fill:#1f77b4;\"/>\n   </g>\n   <g id=\"patch_8\">\n    <path clip-path=\"url(#pee4dfe0398)\" d=\"M 200.6875 224.64 \nL 231.123864 224.64 \nL 231.123864 222.718982 \nL 200.6875 222.718982 \nz\n\" style=\"fill:#1f77b4;\"/>\n   </g>\n   <g id=\"patch_9\">\n    <path clip-path=\"url(#pee4dfe0398)\" d=\"M 231.123864 224.64 \nL 261.560227 224.64 \nL 261.560227 220.029557 \nL 231.123864 220.029557 \nz\n\" style=\"fill:#1f77b4;\"/>\n   </g>\n   <g id=\"patch_10\">\n    <path clip-path=\"url(#pee4dfe0398)\" d=\"M 261.560227 224.64 \nL 291.996591 224.64 \nL 291.996591 217.340133 \nL 261.560227 217.340133 \nz\n\" style=\"fill:#1f77b4;\"/>\n   </g>\n   <g id=\"patch_11\">\n    <path clip-path=\"url(#pee4dfe0398)\" d=\"M 291.996591 224.64 \nL 322.432955 224.64 \nL 322.432955 223.487389 \nL 291.996591 223.487389 \nz\n\" style=\"fill:#1f77b4;\"/>\n   </g>\n   <g id=\"patch_12\">\n    <path clip-path=\"url(#pee4dfe0398)\" d=\"M 322.432955 224.64 \nL 352.869318 224.64 \nL 352.869318 216.187522 \nL 322.432955 216.187522 \nz\n\" style=\"fill:#1f77b4;\"/>\n   </g>\n   <g id=\"matplotlib.axis_1\">\n    <g id=\"xtick_1\">\n     <g id=\"line2d_1\">\n      <path clip-path=\"url(#pee4dfe0398)\" d=\"M 48.245631 224.64 \nL 48.245631 7.2 \n\" style=\"fill:none;stroke:#b0b0b0;stroke-linecap:square;stroke-width:0.8;\"/>\n     </g>\n     <g id=\"line2d_2\">\n      <defs>\n       <path d=\"M 0 0 \nL 0 3.5 \n\" id=\"m140c36480e\" style=\"stroke:#000000;stroke-width:0.8;\"/>\n      </defs>\n      <g>\n       <use style=\"stroke:#000000;stroke-width:0.8;\" x=\"48.245631\" xlink:href=\"#m140c36480e\" y=\"224.64\"/>\n      </g>\n     </g>\n     <g id=\"text_1\">\n      <!-- 0 -->\n      <defs>\n       <path d=\"M 31.78125 66.40625 \nQ 24.171875 66.40625 20.328125 58.90625 \nQ 16.5 51.421875 16.5 36.375 \nQ 16.5 21.390625 20.328125 13.890625 \nQ 24.171875 6.390625 31.78125 6.390625 \nQ 39.453125 6.390625 43.28125 13.890625 \nQ 47.125 21.390625 47.125 36.375 \nQ 47.125 51.421875 43.28125 58.90625 \nQ 39.453125 66.40625 31.78125 66.40625 \nz\nM 31.78125 74.21875 \nQ 44.046875 74.21875 50.515625 64.515625 \nQ 56.984375 54.828125 56.984375 36.375 \nQ 56.984375 17.96875 50.515625 8.265625 \nQ 44.046875 -1.421875 31.78125 -1.421875 \nQ 19.53125 -1.421875 13.0625 8.265625 \nQ 6.59375 17.96875 6.59375 36.375 \nQ 6.59375 54.828125 13.0625 64.515625 \nQ 19.53125 74.21875 31.78125 74.21875 \nz\n\" id=\"DejaVuSans-48\"/>\n      </defs>\n      <g transform=\"translate(45.064381 239.238437)scale(0.1 -0.1)\">\n       <use xlink:href=\"#DejaVuSans-48\"/>\n      </g>\n     </g>\n    </g>\n    <g id=\"xtick_2\">\n     <g id=\"line2d_3\">\n      <path clip-path=\"url(#pee4dfe0398)\" d=\"M 100.255822 224.64 \nL 100.255822 7.2 \n\" style=\"fill:none;stroke:#b0b0b0;stroke-linecap:square;stroke-width:0.8;\"/>\n     </g>\n     <g id=\"line2d_4\">\n      <g>\n       <use style=\"stroke:#000000;stroke-width:0.8;\" x=\"100.255822\" xlink:href=\"#m140c36480e\" y=\"224.64\"/>\n      </g>\n     </g>\n     <g id=\"text_2\">\n      <!-- 2000 -->\n      <defs>\n       <path d=\"M 19.1875 8.296875 \nL 53.609375 8.296875 \nL 53.609375 0 \nL 7.328125 0 \nL 7.328125 8.296875 \nQ 12.9375 14.109375 22.625 23.890625 \nQ 32.328125 33.6875 34.8125 36.53125 \nQ 39.546875 41.84375 41.421875 45.53125 \nQ 43.3125 49.21875 43.3125 52.78125 \nQ 43.3125 58.59375 39.234375 62.25 \nQ 35.15625 65.921875 28.609375 65.921875 \nQ 23.96875 65.921875 18.8125 64.3125 \nQ 13.671875 62.703125 7.8125 59.421875 \nL 7.8125 69.390625 \nQ 13.765625 71.78125 18.9375 73 \nQ 24.125 74.21875 28.421875 74.21875 \nQ 39.75 74.21875 46.484375 68.546875 \nQ 53.21875 62.890625 53.21875 53.421875 \nQ 53.21875 48.921875 51.53125 44.890625 \nQ 49.859375 40.875 45.40625 35.40625 \nQ 44.1875 33.984375 37.640625 27.21875 \nQ 31.109375 20.453125 19.1875 8.296875 \nz\n\" id=\"DejaVuSans-50\"/>\n      </defs>\n      <g transform=\"translate(87.530822 239.238437)scale(0.1 -0.1)\">\n       <use xlink:href=\"#DejaVuSans-50\"/>\n       <use x=\"63.623047\" xlink:href=\"#DejaVuSans-48\"/>\n       <use x=\"127.246094\" xlink:href=\"#DejaVuSans-48\"/>\n       <use x=\"190.869141\" xlink:href=\"#DejaVuSans-48\"/>\n      </g>\n     </g>\n    </g>\n    <g id=\"xtick_3\">\n     <g id=\"line2d_5\">\n      <path clip-path=\"url(#pee4dfe0398)\" d=\"M 152.266012 224.64 \nL 152.266012 7.2 \n\" style=\"fill:none;stroke:#b0b0b0;stroke-linecap:square;stroke-width:0.8;\"/>\n     </g>\n     <g id=\"line2d_6\">\n      <g>\n       <use style=\"stroke:#000000;stroke-width:0.8;\" x=\"152.266012\" xlink:href=\"#m140c36480e\" y=\"224.64\"/>\n      </g>\n     </g>\n     <g id=\"text_3\">\n      <!-- 4000 -->\n      <defs>\n       <path d=\"M 37.796875 64.3125 \nL 12.890625 25.390625 \nL 37.796875 25.390625 \nz\nM 35.203125 72.90625 \nL 47.609375 72.90625 \nL 47.609375 25.390625 \nL 58.015625 25.390625 \nL 58.015625 17.1875 \nL 47.609375 17.1875 \nL 47.609375 0 \nL 37.796875 0 \nL 37.796875 17.1875 \nL 4.890625 17.1875 \nL 4.890625 26.703125 \nz\n\" id=\"DejaVuSans-52\"/>\n      </defs>\n      <g transform=\"translate(139.541012 239.238437)scale(0.1 -0.1)\">\n       <use xlink:href=\"#DejaVuSans-52\"/>\n       <use x=\"63.623047\" xlink:href=\"#DejaVuSans-48\"/>\n       <use x=\"127.246094\" xlink:href=\"#DejaVuSans-48\"/>\n       <use x=\"190.869141\" xlink:href=\"#DejaVuSans-48\"/>\n      </g>\n     </g>\n    </g>\n    <g id=\"xtick_4\">\n     <g id=\"line2d_7\">\n      <path clip-path=\"url(#pee4dfe0398)\" d=\"M 204.276203 224.64 \nL 204.276203 7.2 \n\" style=\"fill:none;stroke:#b0b0b0;stroke-linecap:square;stroke-width:0.8;\"/>\n     </g>\n     <g id=\"line2d_8\">\n      <g>\n       <use style=\"stroke:#000000;stroke-width:0.8;\" x=\"204.276203\" xlink:href=\"#m140c36480e\" y=\"224.64\"/>\n      </g>\n     </g>\n     <g id=\"text_4\">\n      <!-- 6000 -->\n      <defs>\n       <path d=\"M 33.015625 40.375 \nQ 26.375 40.375 22.484375 35.828125 \nQ 18.609375 31.296875 18.609375 23.390625 \nQ 18.609375 15.53125 22.484375 10.953125 \nQ 26.375 6.390625 33.015625 6.390625 \nQ 39.65625 6.390625 43.53125 10.953125 \nQ 47.40625 15.53125 47.40625 23.390625 \nQ 47.40625 31.296875 43.53125 35.828125 \nQ 39.65625 40.375 33.015625 40.375 \nz\nM 52.59375 71.296875 \nL 52.59375 62.3125 \nQ 48.875 64.0625 45.09375 64.984375 \nQ 41.3125 65.921875 37.59375 65.921875 \nQ 27.828125 65.921875 22.671875 59.328125 \nQ 17.53125 52.734375 16.796875 39.40625 \nQ 19.671875 43.65625 24.015625 45.921875 \nQ 28.375 48.1875 33.59375 48.1875 \nQ 44.578125 48.1875 50.953125 41.515625 \nQ 57.328125 34.859375 57.328125 23.390625 \nQ 57.328125 12.15625 50.6875 5.359375 \nQ 44.046875 -1.421875 33.015625 -1.421875 \nQ 20.359375 -1.421875 13.671875 8.265625 \nQ 6.984375 17.96875 6.984375 36.375 \nQ 6.984375 53.65625 15.1875 63.9375 \nQ 23.390625 74.21875 37.203125 74.21875 \nQ 40.921875 74.21875 44.703125 73.484375 \nQ 48.484375 72.75 52.59375 71.296875 \nz\n\" id=\"DejaVuSans-54\"/>\n      </defs>\n      <g transform=\"translate(191.551203 239.238437)scale(0.1 -0.1)\">\n       <use xlink:href=\"#DejaVuSans-54\"/>\n       <use x=\"63.623047\" xlink:href=\"#DejaVuSans-48\"/>\n       <use x=\"127.246094\" xlink:href=\"#DejaVuSans-48\"/>\n       <use x=\"190.869141\" xlink:href=\"#DejaVuSans-48\"/>\n      </g>\n     </g>\n    </g>\n    <g id=\"xtick_5\">\n     <g id=\"line2d_9\">\n      <path clip-path=\"url(#pee4dfe0398)\" d=\"M 256.286394 224.64 \nL 256.286394 7.2 \n\" style=\"fill:none;stroke:#b0b0b0;stroke-linecap:square;stroke-width:0.8;\"/>\n     </g>\n     <g id=\"line2d_10\">\n      <g>\n       <use style=\"stroke:#000000;stroke-width:0.8;\" x=\"256.286394\" xlink:href=\"#m140c36480e\" y=\"224.64\"/>\n      </g>\n     </g>\n     <g id=\"text_5\">\n      <!-- 8000 -->\n      <defs>\n       <path d=\"M 31.78125 34.625 \nQ 24.75 34.625 20.71875 30.859375 \nQ 16.703125 27.09375 16.703125 20.515625 \nQ 16.703125 13.921875 20.71875 10.15625 \nQ 24.75 6.390625 31.78125 6.390625 \nQ 38.8125 6.390625 42.859375 10.171875 \nQ 46.921875 13.96875 46.921875 20.515625 \nQ 46.921875 27.09375 42.890625 30.859375 \nQ 38.875 34.625 31.78125 34.625 \nz\nM 21.921875 38.8125 \nQ 15.578125 40.375 12.03125 44.71875 \nQ 8.5 49.078125 8.5 55.328125 \nQ 8.5 64.0625 14.71875 69.140625 \nQ 20.953125 74.21875 31.78125 74.21875 \nQ 42.671875 74.21875 48.875 69.140625 \nQ 55.078125 64.0625 55.078125 55.328125 \nQ 55.078125 49.078125 51.53125 44.71875 \nQ 48 40.375 41.703125 38.8125 \nQ 48.828125 37.15625 52.796875 32.3125 \nQ 56.78125 27.484375 56.78125 20.515625 \nQ 56.78125 9.90625 50.3125 4.234375 \nQ 43.84375 -1.421875 31.78125 -1.421875 \nQ 19.734375 -1.421875 13.25 4.234375 \nQ 6.78125 9.90625 6.78125 20.515625 \nQ 6.78125 27.484375 10.78125 32.3125 \nQ 14.796875 37.15625 21.921875 38.8125 \nz\nM 18.3125 54.390625 \nQ 18.3125 48.734375 21.84375 45.5625 \nQ 25.390625 42.390625 31.78125 42.390625 \nQ 38.140625 42.390625 41.71875 45.5625 \nQ 45.3125 48.734375 45.3125 54.390625 \nQ 45.3125 60.0625 41.71875 63.234375 \nQ 38.140625 66.40625 31.78125 66.40625 \nQ 25.390625 66.40625 21.84375 63.234375 \nQ 18.3125 60.0625 18.3125 54.390625 \nz\n\" id=\"DejaVuSans-56\"/>\n      </defs>\n      <g transform=\"translate(243.561394 239.238437)scale(0.1 -0.1)\">\n       <use xlink:href=\"#DejaVuSans-56\"/>\n       <use x=\"63.623047\" xlink:href=\"#DejaVuSans-48\"/>\n       <use x=\"127.246094\" xlink:href=\"#DejaVuSans-48\"/>\n       <use x=\"190.869141\" xlink:href=\"#DejaVuSans-48\"/>\n      </g>\n     </g>\n    </g>\n    <g id=\"xtick_6\">\n     <g id=\"line2d_11\">\n      <path clip-path=\"url(#pee4dfe0398)\" d=\"M 308.296585 224.64 \nL 308.296585 7.2 \n\" style=\"fill:none;stroke:#b0b0b0;stroke-linecap:square;stroke-width:0.8;\"/>\n     </g>\n     <g id=\"line2d_12\">\n      <g>\n       <use style=\"stroke:#000000;stroke-width:0.8;\" x=\"308.296585\" xlink:href=\"#m140c36480e\" y=\"224.64\"/>\n      </g>\n     </g>\n     <g id=\"text_6\">\n      <!-- 10000 -->\n      <defs>\n       <path d=\"M 12.40625 8.296875 \nL 28.515625 8.296875 \nL 28.515625 63.921875 \nL 10.984375 60.40625 \nL 10.984375 69.390625 \nL 28.421875 72.90625 \nL 38.28125 72.90625 \nL 38.28125 8.296875 \nL 54.390625 8.296875 \nL 54.390625 0 \nL 12.40625 0 \nz\n\" id=\"DejaVuSans-49\"/>\n      </defs>\n      <g transform=\"translate(292.390335 239.238437)scale(0.1 -0.1)\">\n       <use xlink:href=\"#DejaVuSans-49\"/>\n       <use x=\"63.623047\" xlink:href=\"#DejaVuSans-48\"/>\n       <use x=\"127.246094\" xlink:href=\"#DejaVuSans-48\"/>\n       <use x=\"190.869141\" xlink:href=\"#DejaVuSans-48\"/>\n       <use x=\"254.492188\" xlink:href=\"#DejaVuSans-48\"/>\n      </g>\n     </g>\n    </g>\n    <g id=\"xtick_7\">\n     <g id=\"line2d_13\">\n      <path clip-path=\"url(#pee4dfe0398)\" d=\"M 360.306775 224.64 \nL 360.306775 7.2 \n\" style=\"fill:none;stroke:#b0b0b0;stroke-linecap:square;stroke-width:0.8;\"/>\n     </g>\n     <g id=\"line2d_14\">\n      <g>\n       <use style=\"stroke:#000000;stroke-width:0.8;\" x=\"360.306775\" xlink:href=\"#m140c36480e\" y=\"224.64\"/>\n      </g>\n     </g>\n     <g id=\"text_7\">\n      <!-- 12000 -->\n      <g transform=\"translate(344.400525 239.238437)scale(0.1 -0.1)\">\n       <use xlink:href=\"#DejaVuSans-49\"/>\n       <use x=\"63.623047\" xlink:href=\"#DejaVuSans-50\"/>\n       <use x=\"127.246094\" xlink:href=\"#DejaVuSans-48\"/>\n       <use x=\"190.869141\" xlink:href=\"#DejaVuSans-48\"/>\n       <use x=\"254.492188\" xlink:href=\"#DejaVuSans-48\"/>\n      </g>\n     </g>\n    </g>\n   </g>\n   <g id=\"matplotlib.axis_2\">\n    <g id=\"ytick_1\">\n     <g id=\"line2d_15\">\n      <path clip-path=\"url(#pee4dfe0398)\" d=\"M 33.2875 224.64 \nL 368.0875 224.64 \n\" style=\"fill:none;stroke:#b0b0b0;stroke-linecap:square;stroke-width:0.8;\"/>\n     </g>\n     <g id=\"line2d_16\">\n      <defs>\n       <path d=\"M 0 0 \nL -3.5 0 \n\" id=\"m675dd26a71\" style=\"stroke:#000000;stroke-width:0.8;\"/>\n      </defs>\n      <g>\n       <use style=\"stroke:#000000;stroke-width:0.8;\" x=\"33.2875\" xlink:href=\"#m675dd26a71\" y=\"224.64\"/>\n      </g>\n     </g>\n     <g id=\"text_8\">\n      <!-- 0 -->\n      <g transform=\"translate(19.925 228.439219)scale(0.1 -0.1)\">\n       <use xlink:href=\"#DejaVuSans-48\"/>\n      </g>\n     </g>\n    </g>\n    <g id=\"ytick_2\">\n     <g id=\"line2d_17\">\n      <path clip-path=\"url(#pee4dfe0398)\" d=\"M 33.2875 186.219645 \nL 368.0875 186.219645 \n\" style=\"fill:none;stroke:#b0b0b0;stroke-linecap:square;stroke-width:0.8;\"/>\n     </g>\n     <g id=\"line2d_18\">\n      <g>\n       <use style=\"stroke:#000000;stroke-width:0.8;\" x=\"33.2875\" xlink:href=\"#m675dd26a71\" y=\"186.219645\"/>\n      </g>\n     </g>\n     <g id=\"text_9\">\n      <!-- 100 -->\n      <g transform=\"translate(7.2 190.018864)scale(0.1 -0.1)\">\n       <use xlink:href=\"#DejaVuSans-49\"/>\n       <use x=\"63.623047\" xlink:href=\"#DejaVuSans-48\"/>\n       <use x=\"127.246094\" xlink:href=\"#DejaVuSans-48\"/>\n      </g>\n     </g>\n    </g>\n    <g id=\"ytick_3\">\n     <g id=\"line2d_19\">\n      <path clip-path=\"url(#pee4dfe0398)\" d=\"M 33.2875 147.79929 \nL 368.0875 147.79929 \n\" style=\"fill:none;stroke:#b0b0b0;stroke-linecap:square;stroke-width:0.8;\"/>\n     </g>\n     <g id=\"line2d_20\">\n      <g>\n       <use style=\"stroke:#000000;stroke-width:0.8;\" x=\"33.2875\" xlink:href=\"#m675dd26a71\" y=\"147.79929\"/>\n      </g>\n     </g>\n     <g id=\"text_10\">\n      <!-- 200 -->\n      <g transform=\"translate(7.2 151.598508)scale(0.1 -0.1)\">\n       <use xlink:href=\"#DejaVuSans-50\"/>\n       <use x=\"63.623047\" xlink:href=\"#DejaVuSans-48\"/>\n       <use x=\"127.246094\" xlink:href=\"#DejaVuSans-48\"/>\n      </g>\n     </g>\n    </g>\n    <g id=\"ytick_4\">\n     <g id=\"line2d_21\">\n      <path clip-path=\"url(#pee4dfe0398)\" d=\"M 33.2875 109.378935 \nL 368.0875 109.378935 \n\" style=\"fill:none;stroke:#b0b0b0;stroke-linecap:square;stroke-width:0.8;\"/>\n     </g>\n     <g id=\"line2d_22\">\n      <g>\n       <use style=\"stroke:#000000;stroke-width:0.8;\" x=\"33.2875\" xlink:href=\"#m675dd26a71\" y=\"109.378935\"/>\n      </g>\n     </g>\n     <g id=\"text_11\">\n      <!-- 300 -->\n      <defs>\n       <path d=\"M 40.578125 39.3125 \nQ 47.65625 37.796875 51.625 33 \nQ 55.609375 28.21875 55.609375 21.1875 \nQ 55.609375 10.40625 48.1875 4.484375 \nQ 40.765625 -1.421875 27.09375 -1.421875 \nQ 22.515625 -1.421875 17.65625 -0.515625 \nQ 12.796875 0.390625 7.625 2.203125 \nL 7.625 11.71875 \nQ 11.71875 9.328125 16.59375 8.109375 \nQ 21.484375 6.890625 26.8125 6.890625 \nQ 36.078125 6.890625 40.9375 10.546875 \nQ 45.796875 14.203125 45.796875 21.1875 \nQ 45.796875 27.640625 41.28125 31.265625 \nQ 36.765625 34.90625 28.71875 34.90625 \nL 20.21875 34.90625 \nL 20.21875 43.015625 \nL 29.109375 43.015625 \nQ 36.375 43.015625 40.234375 45.921875 \nQ 44.09375 48.828125 44.09375 54.296875 \nQ 44.09375 59.90625 40.109375 62.90625 \nQ 36.140625 65.921875 28.71875 65.921875 \nQ 24.65625 65.921875 20.015625 65.03125 \nQ 15.375 64.15625 9.8125 62.3125 \nL 9.8125 71.09375 \nQ 15.4375 72.65625 20.34375 73.4375 \nQ 25.25 74.21875 29.59375 74.21875 \nQ 40.828125 74.21875 47.359375 69.109375 \nQ 53.90625 64.015625 53.90625 55.328125 \nQ 53.90625 49.265625 50.4375 45.09375 \nQ 46.96875 40.921875 40.578125 39.3125 \nz\n\" id=\"DejaVuSans-51\"/>\n      </defs>\n      <g transform=\"translate(7.2 113.178153)scale(0.1 -0.1)\">\n       <use xlink:href=\"#DejaVuSans-51\"/>\n       <use x=\"63.623047\" xlink:href=\"#DejaVuSans-48\"/>\n       <use x=\"127.246094\" xlink:href=\"#DejaVuSans-48\"/>\n      </g>\n     </g>\n    </g>\n    <g id=\"ytick_5\">\n     <g id=\"line2d_23\">\n      <path clip-path=\"url(#pee4dfe0398)\" d=\"M 33.2875 70.958579 \nL 368.0875 70.958579 \n\" style=\"fill:none;stroke:#b0b0b0;stroke-linecap:square;stroke-width:0.8;\"/>\n     </g>\n     <g id=\"line2d_24\">\n      <g>\n       <use style=\"stroke:#000000;stroke-width:0.8;\" x=\"33.2875\" xlink:href=\"#m675dd26a71\" y=\"70.958579\"/>\n      </g>\n     </g>\n     <g id=\"text_12\">\n      <!-- 400 -->\n      <g transform=\"translate(7.2 74.757798)scale(0.1 -0.1)\">\n       <use xlink:href=\"#DejaVuSans-52\"/>\n       <use x=\"63.623047\" xlink:href=\"#DejaVuSans-48\"/>\n       <use x=\"127.246094\" xlink:href=\"#DejaVuSans-48\"/>\n      </g>\n     </g>\n    </g>\n    <g id=\"ytick_6\">\n     <g id=\"line2d_25\">\n      <path clip-path=\"url(#pee4dfe0398)\" d=\"M 33.2875 32.538224 \nL 368.0875 32.538224 \n\" style=\"fill:none;stroke:#b0b0b0;stroke-linecap:square;stroke-width:0.8;\"/>\n     </g>\n     <g id=\"line2d_26\">\n      <g>\n       <use style=\"stroke:#000000;stroke-width:0.8;\" x=\"33.2875\" xlink:href=\"#m675dd26a71\" y=\"32.538224\"/>\n      </g>\n     </g>\n     <g id=\"text_13\">\n      <!-- 500 -->\n      <defs>\n       <path d=\"M 10.796875 72.90625 \nL 49.515625 72.90625 \nL 49.515625 64.59375 \nL 19.828125 64.59375 \nL 19.828125 46.734375 \nQ 21.96875 47.46875 24.109375 47.828125 \nQ 26.265625 48.1875 28.421875 48.1875 \nQ 40.625 48.1875 47.75 41.5 \nQ 54.890625 34.8125 54.890625 23.390625 \nQ 54.890625 11.625 47.5625 5.09375 \nQ 40.234375 -1.421875 26.90625 -1.421875 \nQ 22.3125 -1.421875 17.546875 -0.640625 \nQ 12.796875 0.140625 7.71875 1.703125 \nL 7.71875 11.625 \nQ 12.109375 9.234375 16.796875 8.0625 \nQ 21.484375 6.890625 26.703125 6.890625 \nQ 35.15625 6.890625 40.078125 11.328125 \nQ 45.015625 15.765625 45.015625 23.390625 \nQ 45.015625 31 40.078125 35.4375 \nQ 35.15625 39.890625 26.703125 39.890625 \nQ 22.75 39.890625 18.8125 39.015625 \nQ 14.890625 38.140625 10.796875 36.28125 \nz\n\" id=\"DejaVuSans-53\"/>\n      </defs>\n      <g transform=\"translate(7.2 36.337443)scale(0.1 -0.1)\">\n       <use xlink:href=\"#DejaVuSans-53\"/>\n       <use x=\"63.623047\" xlink:href=\"#DejaVuSans-48\"/>\n       <use x=\"127.246094\" xlink:href=\"#DejaVuSans-48\"/>\n      </g>\n     </g>\n    </g>\n   </g>\n   <g id=\"patch_13\">\n    <path d=\"M 33.2875 224.64 \nL 33.2875 7.2 \n\" style=\"fill:none;stroke:#000000;stroke-linecap:square;stroke-linejoin:miter;stroke-width:0.8;\"/>\n   </g>\n   <g id=\"patch_14\">\n    <path d=\"M 368.0875 224.64 \nL 368.0875 7.2 \n\" style=\"fill:none;stroke:#000000;stroke-linecap:square;stroke-linejoin:miter;stroke-width:0.8;\"/>\n   </g>\n   <g id=\"patch_15\">\n    <path d=\"M 33.2875 224.64 \nL 368.0875 224.64 \n\" style=\"fill:none;stroke:#000000;stroke-linecap:square;stroke-linejoin:miter;stroke-width:0.8;\"/>\n   </g>\n   <g id=\"patch_16\">\n    <path d=\"M 33.2875 7.2 \nL 368.0875 7.2 \n\" style=\"fill:none;stroke:#000000;stroke-linecap:square;stroke-linejoin:miter;stroke-width:0.8;\"/>\n   </g>\n  </g>\n </g>\n <defs>\n  <clipPath id=\"pee4dfe0398\">\n   <rect height=\"217.44\" width=\"334.8\" x=\"33.2875\" y=\"7.2\"/>\n  </clipPath>\n </defs>\n</svg>\n",
      "text/plain": "<Figure size 432x288 with 1 Axes>"
     },
     "metadata": {
      "needs_background": "light"
     },
     "output_type": "display_data"
    },
    {
     "data": {
      "text/plain": "count      699.000000\nmean      1537.991416\nstd       2677.192407\nmin         10.000000\n25%        250.000000\n50%        477.000000\n75%       1059.000000\nmax      11714.000000\ndtype: float64"
     },
     "execution_count": 7,
     "metadata": {},
     "output_type": "execute_result"
    }
   ],
   "source": [
    "import pandas as pd\n",
    "import matplotlib.pyplot as plt\n",
    "%matplotlib inline\n",
    "\n",
    "articles_len = [len(x) for x in articles_int]\n",
    "pd.Series(articles_len).hist()\n",
    "plt.show()\n",
    "pd.Series(articles_len).describe()"
   ]
  },
  {
   "cell_type": "markdown",
   "metadata": {},
   "source": [
    "__Observations__ :\n",
    "\n",
    "1. Mean article length = __1538__\n",
    "2. Most of the articles are around 1000 words or more\n",
    "3. There are quite a few articles that are extremely long, we can manually investigate them to check whether we need to include or exclude them from our analysis"
   ]
  },
  {
   "cell_type": "markdown",
   "metadata": {},
   "source": [
    "### Removing Outliers — Getting rid of extremely long or short articles"
   ]
  },
  {
   "cell_type": "code",
   "execution_count": 8,
   "metadata": {},
   "outputs": [
    {
     "name": "stdout",
     "output_type": "stream",
     "text": "699\n528\n"
    }
   ],
   "source": [
    "articles_int = [ articles_int[i] for i, l in enumerate(articles_len) if l<1100 ]\n",
    "print(len(labels))\n",
    "\n",
    "labels = [ labels[i] for i, l in enumerate(articles_len) if l<1100 ]\n",
    "print(len(labels))"
   ]
  },
  {
   "cell_type": "markdown",
   "metadata": {},
   "source": [
    "### Analyze Article Length (after removing outliers)"
   ]
  },
  {
   "cell_type": "code",
   "execution_count": 9,
   "metadata": {},
   "outputs": [
    {
     "data": {
      "image/png": "[encoded data removed]",
      "image/svg+xml": "<?xml version=\"1.0\" encoding=\"utf-8\" standalone=\"no\"?>\n<!DOCTYPE svg PUBLIC \"-//W3C//DTD SVG 1.1//EN\"\n  \"http://www.w3.org/Graphics/SVG/1.1/DTD/svg11.dtd\">\n<!-- Created with matplotlib (https://matplotlib.org/) -->\n<svg height=\"248.518125pt\" version=\"1.1\" viewBox=\"0 0 375.2875 248.518125\" width=\"375.2875pt\" xmlns=\"http://www.w3.org/2000/svg\" xmlns:xlink=\"http://www.w3.org/1999/xlink\">\n <defs>\n  <style type=\"text/css\">\n*{stroke-linecap:butt;stroke-linejoin:round;}\n  </style>\n </defs>\n <g id=\"figure_1\">\n  <g id=\"patch_1\">\n   <path d=\"M 0 248.518125 \nL 375.2875 248.518125 \nL 375.2875 0 \nL 0 0 \nz\n\" style=\"fill:none;\"/>\n  </g>\n  <g id=\"axes_1\">\n   <g id=\"patch_2\">\n    <path d=\"M 33.2875 224.64 \nL 368.0875 224.64 \nL 368.0875 7.2 \nL 33.2875 7.2 \nz\n\" style=\"fill:#ffffff;\"/>\n   </g>\n   <g id=\"patch_3\">\n    <path clip-path=\"url(#p4ad60da873)\" d=\"M 48.505682 224.64 \nL 78.942045 224.64 \nL 78.942045 65.807268 \nL 48.505682 65.807268 \nz\n\" style=\"fill:#1f77b4;\"/>\n   </g>\n   <g id=\"patch_4\">\n    <path clip-path=\"url(#p4ad60da873)\" d=\"M 78.942045 224.64 \nL 109.378409 224.64 \nL 109.378409 73.849431 \nL 78.942045 73.849431 \nz\n\" style=\"fill:#1f77b4;\"/>\n   </g>\n   <g id=\"patch_5\">\n    <path clip-path=\"url(#p4ad60da873)\" d=\"M 109.378409 224.64 \nL 139.814773 224.64 \nL 139.814773 17.554286 \nL 109.378409 17.554286 \nz\n\" style=\"fill:#1f77b4;\"/>\n   </g>\n   <g id=\"patch_6\">\n    <path clip-path=\"url(#p4ad60da873)\" d=\"M 139.814773 224.64 \nL 170.251136 224.64 \nL 170.251136 83.902136 \nL 139.814773 83.902136 \nz\n\" style=\"fill:#1f77b4;\"/>\n   </g>\n   <g id=\"patch_7\">\n    <path clip-path=\"url(#p4ad60da873)\" d=\"M 170.251136 224.64 \nL 200.6875 224.64 \nL 200.6875 136.1762 \nL 170.251136 136.1762 \nz\n\" style=\"fill:#1f77b4;\"/>\n   </g>\n   <g id=\"patch_8\">\n    <path clip-path=\"url(#p4ad60da873)\" d=\"M 200.6875 224.64 \nL 231.123864 224.64 \nL 231.123864 138.186741 \nL 200.6875 138.186741 \nz\n\" style=\"fill:#1f77b4;\"/>\n   </g>\n   <g id=\"patch_9\">\n    <path clip-path=\"url(#p4ad60da873)\" d=\"M 231.123864 224.64 \nL 261.560227 224.64 \nL 261.560227 158.29215 \nL 231.123864 158.29215 \nz\n\" style=\"fill:#1f77b4;\"/>\n   </g>\n   <g id=\"patch_10\">\n    <path clip-path=\"url(#p4ad60da873)\" d=\"M 261.560227 224.64 \nL 291.996591 224.64 \nL 291.996591 148.239445 \nL 261.560227 148.239445 \nz\n\" style=\"fill:#1f77b4;\"/>\n   </g>\n   <g id=\"patch_11\">\n    <path clip-path=\"url(#p4ad60da873)\" d=\"M 291.996591 224.64 \nL 322.432955 224.64 \nL 322.432955 174.376477 \nL 291.996591 174.376477 \nz\n\" style=\"fill:#1f77b4;\"/>\n   </g>\n   <g id=\"patch_12\">\n    <path clip-path=\"url(#p4ad60da873)\" d=\"M 322.432955 224.64 \nL 352.869318 224.64 \nL 352.869318 188.450264 \nL 322.432955 188.450264 \nz\n\" style=\"fill:#1f77b4;\"/>\n   </g>\n   <g id=\"matplotlib.axis_1\">\n    <g id=\"xtick_1\">\n     <g id=\"line2d_1\">\n      <path clip-path=\"url(#p4ad60da873)\" d=\"M 45.67965 224.64 \nL 45.67965 7.2 \n\" style=\"fill:none;stroke:#b0b0b0;stroke-linecap:square;stroke-width:0.8;\"/>\n     </g>\n     <g id=\"line2d_2\">\n      <defs>\n       <path d=\"M 0 0 \nL 0 3.5 \n\" id=\"mc66d0ad424\" style=\"stroke:#000000;stroke-width:0.8;\"/>\n      </defs>\n      <g>\n       <use style=\"stroke:#000000;stroke-width:0.8;\" x=\"45.67965\" xlink:href=\"#mc66d0ad424\" y=\"224.64\"/>\n      </g>\n     </g>\n     <g id=\"text_1\">\n      <!-- 0 -->\n      <defs>\n       <path d=\"M 31.78125 66.40625 \nQ 24.171875 66.40625 20.328125 58.90625 \nQ 16.5 51.421875 16.5 36.375 \nQ 16.5 21.390625 20.328125 13.890625 \nQ 24.171875 6.390625 31.78125 6.390625 \nQ 39.453125 6.390625 43.28125 13.890625 \nQ 47.125 21.390625 47.125 36.375 \nQ 47.125 51.421875 43.28125 58.90625 \nQ 39.453125 66.40625 31.78125 66.40625 \nz\nM 31.78125 74.21875 \nQ 44.046875 74.21875 50.515625 64.515625 \nQ 56.984375 54.828125 56.984375 36.375 \nQ 56.984375 17.96875 50.515625 8.265625 \nQ 44.046875 -1.421875 31.78125 -1.421875 \nQ 19.53125 -1.421875 13.0625 8.265625 \nQ 6.59375 17.96875 6.59375 36.375 \nQ 6.59375 54.828125 13.0625 64.515625 \nQ 19.53125 74.21875 31.78125 74.21875 \nz\n\" id=\"DejaVuSans-48\"/>\n      </defs>\n      <g transform=\"translate(42.4984 239.238437)scale(0.1 -0.1)\">\n       <use xlink:href=\"#DejaVuSans-48\"/>\n      </g>\n     </g>\n    </g>\n    <g id=\"xtick_2\">\n     <g id=\"line2d_3\">\n      <path clip-path=\"url(#p4ad60da873)\" d=\"M 102.200288 224.64 \nL 102.200288 7.2 \n\" style=\"fill:none;stroke:#b0b0b0;stroke-linecap:square;stroke-width:0.8;\"/>\n     </g>\n     <g id=\"line2d_4\">\n      <g>\n       <use style=\"stroke:#000000;stroke-width:0.8;\" x=\"102.200288\" xlink:href=\"#mc66d0ad424\" y=\"224.64\"/>\n      </g>\n     </g>\n     <g id=\"text_2\">\n      <!-- 200 -->\n      <defs>\n       <path d=\"M 19.1875 8.296875 \nL 53.609375 8.296875 \nL 53.609375 0 \nL 7.328125 0 \nL 7.328125 8.296875 \nQ 12.9375 14.109375 22.625 23.890625 \nQ 32.328125 33.6875 34.8125 36.53125 \nQ 39.546875 41.84375 41.421875 45.53125 \nQ 43.3125 49.21875 43.3125 52.78125 \nQ 43.3125 58.59375 39.234375 62.25 \nQ 35.15625 65.921875 28.609375 65.921875 \nQ 23.96875 65.921875 18.8125 64.3125 \nQ 13.671875 62.703125 7.8125 59.421875 \nL 7.8125 69.390625 \nQ 13.765625 71.78125 18.9375 73 \nQ 24.125 74.21875 28.421875 74.21875 \nQ 39.75 74.21875 46.484375 68.546875 \nQ 53.21875 62.890625 53.21875 53.421875 \nQ 53.21875 48.921875 51.53125 44.890625 \nQ 49.859375 40.875 45.40625 35.40625 \nQ 44.1875 33.984375 37.640625 27.21875 \nQ 31.109375 20.453125 19.1875 8.296875 \nz\n\" id=\"DejaVuSans-50\"/>\n      </defs>\n      <g transform=\"translate(92.656538 239.238437)scale(0.1 -0.1)\">\n       <use xlink:href=\"#DejaVuSans-50\"/>\n       <use x=\"63.623047\" xlink:href=\"#DejaVuSans-48\"/>\n       <use x=\"127.246094\" xlink:href=\"#DejaVuSans-48\"/>\n      </g>\n     </g>\n    </g>\n    <g id=\"xtick_3\">\n     <g id=\"line2d_5\">\n      <path clip-path=\"url(#p4ad60da873)\" d=\"M 158.720926 224.64 \nL 158.720926 7.2 \n\" style=\"fill:none;stroke:#b0b0b0;stroke-linecap:square;stroke-width:0.8;\"/>\n     </g>\n     <g id=\"line2d_6\">\n      <g>\n       <use style=\"stroke:#000000;stroke-width:0.8;\" x=\"158.720926\" xlink:href=\"#mc66d0ad424\" y=\"224.64\"/>\n      </g>\n     </g>\n     <g id=\"text_3\">\n      <!-- 400 -->\n      <defs>\n       <path d=\"M 37.796875 64.3125 \nL 12.890625 25.390625 \nL 37.796875 25.390625 \nz\nM 35.203125 72.90625 \nL 47.609375 72.90625 \nL 47.609375 25.390625 \nL 58.015625 25.390625 \nL 58.015625 17.1875 \nL 47.609375 17.1875 \nL 47.609375 0 \nL 37.796875 0 \nL 37.796875 17.1875 \nL 4.890625 17.1875 \nL 4.890625 26.703125 \nz\n\" id=\"DejaVuSans-52\"/>\n      </defs>\n      <g transform=\"translate(149.177176 239.238437)scale(0.1 -0.1)\">\n       <use xlink:href=\"#DejaVuSans-52\"/>\n       <use x=\"63.623047\" xlink:href=\"#DejaVuSans-48\"/>\n       <use x=\"127.246094\" xlink:href=\"#DejaVuSans-48\"/>\n      </g>\n     </g>\n    </g>\n    <g id=\"xtick_4\">\n     <g id=\"line2d_7\">\n      <path clip-path=\"url(#p4ad60da873)\" d=\"M 215.241564 224.64 \nL 215.241564 7.2 \n\" style=\"fill:none;stroke:#b0b0b0;stroke-linecap:square;stroke-width:0.8;\"/>\n     </g>\n     <g id=\"line2d_8\">\n      <g>\n       <use style=\"stroke:#000000;stroke-width:0.8;\" x=\"215.241564\" xlink:href=\"#mc66d0ad424\" y=\"224.64\"/>\n      </g>\n     </g>\n     <g id=\"text_4\">\n      <!-- 600 -->\n      <defs>\n       <path d=\"M 33.015625 40.375 \nQ 26.375 40.375 22.484375 35.828125 \nQ 18.609375 31.296875 18.609375 23.390625 \nQ 18.609375 15.53125 22.484375 10.953125 \nQ 26.375 6.390625 33.015625 6.390625 \nQ 39.65625 6.390625 43.53125 10.953125 \nQ 47.40625 15.53125 47.40625 23.390625 \nQ 47.40625 31.296875 43.53125 35.828125 \nQ 39.65625 40.375 33.015625 40.375 \nz\nM 52.59375 71.296875 \nL 52.59375 62.3125 \nQ 48.875 64.0625 45.09375 64.984375 \nQ 41.3125 65.921875 37.59375 65.921875 \nQ 27.828125 65.921875 22.671875 59.328125 \nQ 17.53125 52.734375 16.796875 39.40625 \nQ 19.671875 43.65625 24.015625 45.921875 \nQ 28.375 48.1875 33.59375 48.1875 \nQ 44.578125 48.1875 50.953125 41.515625 \nQ 57.328125 34.859375 57.328125 23.390625 \nQ 57.328125 12.15625 50.6875 5.359375 \nQ 44.046875 -1.421875 33.015625 -1.421875 \nQ 20.359375 -1.421875 13.671875 8.265625 \nQ 6.984375 17.96875 6.984375 36.375 \nQ 6.984375 53.65625 15.1875 63.9375 \nQ 23.390625 74.21875 37.203125 74.21875 \nQ 40.921875 74.21875 44.703125 73.484375 \nQ 48.484375 72.75 52.59375 71.296875 \nz\n\" id=\"DejaVuSans-54\"/>\n      </defs>\n      <g transform=\"translate(205.697814 239.238437)scale(0.1 -0.1)\">\n       <use xlink:href=\"#DejaVuSans-54\"/>\n       <use x=\"63.623047\" xlink:href=\"#DejaVuSans-48\"/>\n       <use x=\"127.246094\" xlink:href=\"#DejaVuSans-48\"/>\n      </g>\n     </g>\n    </g>\n    <g id=\"xtick_5\">\n     <g id=\"line2d_9\">\n      <path clip-path=\"url(#p4ad60da873)\" d=\"M 271.762202 224.64 \nL 271.762202 7.2 \n\" style=\"fill:none;stroke:#b0b0b0;stroke-linecap:square;stroke-width:0.8;\"/>\n     </g>\n     <g id=\"line2d_10\">\n      <g>\n       <use style=\"stroke:#000000;stroke-width:0.8;\" x=\"271.762202\" xlink:href=\"#mc66d0ad424\" y=\"224.64\"/>\n      </g>\n     </g>\n     <g id=\"text_5\">\n      <!-- 800 -->\n      <defs>\n       <path d=\"M 31.78125 34.625 \nQ 24.75 34.625 20.71875 30.859375 \nQ 16.703125 27.09375 16.703125 20.515625 \nQ 16.703125 13.921875 20.71875 10.15625 \nQ 24.75 6.390625 31.78125 6.390625 \nQ 38.8125 6.390625 42.859375 10.171875 \nQ 46.921875 13.96875 46.921875 20.515625 \nQ 46.921875 27.09375 42.890625 30.859375 \nQ 38.875 34.625 31.78125 34.625 \nz\nM 21.921875 38.8125 \nQ 15.578125 40.375 12.03125 44.71875 \nQ 8.5 49.078125 8.5 55.328125 \nQ 8.5 64.0625 14.71875 69.140625 \nQ 20.953125 74.21875 31.78125 74.21875 \nQ 42.671875 74.21875 48.875 69.140625 \nQ 55.078125 64.0625 55.078125 55.328125 \nQ 55.078125 49.078125 51.53125 44.71875 \nQ 48 40.375 41.703125 38.8125 \nQ 48.828125 37.15625 52.796875 32.3125 \nQ 56.78125 27.484375 56.78125 20.515625 \nQ 56.78125 9.90625 50.3125 4.234375 \nQ 43.84375 -1.421875 31.78125 -1.421875 \nQ 19.734375 -1.421875 13.25 4.234375 \nQ 6.78125 9.90625 6.78125 20.515625 \nQ 6.78125 27.484375 10.78125 32.3125 \nQ 14.796875 37.15625 21.921875 38.8125 \nz\nM 18.3125 54.390625 \nQ 18.3125 48.734375 21.84375 45.5625 \nQ 25.390625 42.390625 31.78125 42.390625 \nQ 38.140625 42.390625 41.71875 45.5625 \nQ 45.3125 48.734375 45.3125 54.390625 \nQ 45.3125 60.0625 41.71875 63.234375 \nQ 38.140625 66.40625 31.78125 66.40625 \nQ 25.390625 66.40625 21.84375 63.234375 \nQ 18.3125 60.0625 18.3125 54.390625 \nz\n\" id=\"DejaVuSans-56\"/>\n      </defs>\n      <g transform=\"translate(262.218452 239.238437)scale(0.1 -0.1)\">\n       <use xlink:href=\"#DejaVuSans-56\"/>\n       <use x=\"63.623047\" xlink:href=\"#DejaVuSans-48\"/>\n       <use x=\"127.246094\" xlink:href=\"#DejaVuSans-48\"/>\n      </g>\n     </g>\n    </g>\n    <g id=\"xtick_6\">\n     <g id=\"line2d_11\">\n      <path clip-path=\"url(#p4ad60da873)\" d=\"M 328.282841 224.64 \nL 328.282841 7.2 \n\" style=\"fill:none;stroke:#b0b0b0;stroke-linecap:square;stroke-width:0.8;\"/>\n     </g>\n     <g id=\"line2d_12\">\n      <g>\n       <use style=\"stroke:#000000;stroke-width:0.8;\" x=\"328.282841\" xlink:href=\"#mc66d0ad424\" y=\"224.64\"/>\n      </g>\n     </g>\n     <g id=\"text_6\">\n      <!-- 1000 -->\n      <defs>\n       <path d=\"M 12.40625 8.296875 \nL 28.515625 8.296875 \nL 28.515625 63.921875 \nL 10.984375 60.40625 \nL 10.984375 69.390625 \nL 28.421875 72.90625 \nL 38.28125 72.90625 \nL 38.28125 8.296875 \nL 54.390625 8.296875 \nL 54.390625 0 \nL 12.40625 0 \nz\n\" id=\"DejaVuSans-49\"/>\n      </defs>\n      <g transform=\"translate(315.557841 239.238437)scale(0.1 -0.1)\">\n       <use xlink:href=\"#DejaVuSans-49\"/>\n       <use x=\"63.623047\" xlink:href=\"#DejaVuSans-48\"/>\n       <use x=\"127.246094\" xlink:href=\"#DejaVuSans-48\"/>\n       <use x=\"190.869141\" xlink:href=\"#DejaVuSans-48\"/>\n      </g>\n     </g>\n    </g>\n   </g>\n   <g id=\"matplotlib.axis_2\">\n    <g id=\"ytick_1\">\n     <g id=\"line2d_13\">\n      <path clip-path=\"url(#p4ad60da873)\" d=\"M 33.2875 224.64 \nL 368.0875 224.64 \n\" style=\"fill:none;stroke:#b0b0b0;stroke-linecap:square;stroke-width:0.8;\"/>\n     </g>\n     <g id=\"line2d_14\">\n      <defs>\n       <path d=\"M 0 0 \nL -3.5 0 \n\" id=\"mea9fe4c31c\" style=\"stroke:#000000;stroke-width:0.8;\"/>\n      </defs>\n      <g>\n       <use style=\"stroke:#000000;stroke-width:0.8;\" x=\"33.2875\" xlink:href=\"#mea9fe4c31c\" y=\"224.64\"/>\n      </g>\n     </g>\n     <g id=\"text_7\">\n      <!-- 0 -->\n      <g transform=\"translate(19.925 228.439219)scale(0.1 -0.1)\">\n       <use xlink:href=\"#DejaVuSans-48\"/>\n      </g>\n     </g>\n    </g>\n    <g id=\"ytick_2\">\n     <g id=\"line2d_15\">\n      <path clip-path=\"url(#p4ad60da873)\" d=\"M 33.2875 184.429182 \nL 368.0875 184.429182 \n\" style=\"fill:none;stroke:#b0b0b0;stroke-linecap:square;stroke-width:0.8;\"/>\n     </g>\n     <g id=\"line2d_16\">\n      <g>\n       <use style=\"stroke:#000000;stroke-width:0.8;\" x=\"33.2875\" xlink:href=\"#mea9fe4c31c\" y=\"184.429182\"/>\n      </g>\n     </g>\n     <g id=\"text_8\">\n      <!-- 20 -->\n      <g transform=\"translate(13.5625 188.2284)scale(0.1 -0.1)\">\n       <use xlink:href=\"#DejaVuSans-50\"/>\n       <use x=\"63.623047\" xlink:href=\"#DejaVuSans-48\"/>\n      </g>\n     </g>\n    </g>\n    <g id=\"ytick_3\">\n     <g id=\"line2d_17\">\n      <path clip-path=\"url(#p4ad60da873)\" d=\"M 33.2875 144.218363 \nL 368.0875 144.218363 \n\" style=\"fill:none;stroke:#b0b0b0;stroke-linecap:square;stroke-width:0.8;\"/>\n     </g>\n     <g id=\"line2d_18\">\n      <g>\n       <use style=\"stroke:#000000;stroke-width:0.8;\" x=\"33.2875\" xlink:href=\"#mea9fe4c31c\" y=\"144.218363\"/>\n      </g>\n     </g>\n     <g id=\"text_9\">\n      <!-- 40 -->\n      <g transform=\"translate(13.5625 148.017582)scale(0.1 -0.1)\">\n       <use xlink:href=\"#DejaVuSans-52\"/>\n       <use x=\"63.623047\" xlink:href=\"#DejaVuSans-48\"/>\n      </g>\n     </g>\n    </g>\n    <g id=\"ytick_4\">\n     <g id=\"line2d_19\">\n      <path clip-path=\"url(#p4ad60da873)\" d=\"M 33.2875 104.007545 \nL 368.0875 104.007545 \n\" style=\"fill:none;stroke:#b0b0b0;stroke-linecap:square;stroke-width:0.8;\"/>\n     </g>\n     <g id=\"line2d_20\">\n      <g>\n       <use style=\"stroke:#000000;stroke-width:0.8;\" x=\"33.2875\" xlink:href=\"#mea9fe4c31c\" y=\"104.007545\"/>\n      </g>\n     </g>\n     <g id=\"text_10\">\n      <!-- 60 -->\n      <g transform=\"translate(13.5625 107.806764)scale(0.1 -0.1)\">\n       <use xlink:href=\"#DejaVuSans-54\"/>\n       <use x=\"63.623047\" xlink:href=\"#DejaVuSans-48\"/>\n      </g>\n     </g>\n    </g>\n    <g id=\"ytick_5\">\n     <g id=\"line2d_21\">\n      <path clip-path=\"url(#p4ad60da873)\" d=\"M 33.2875 63.796727 \nL 368.0875 63.796727 \n\" style=\"fill:none;stroke:#b0b0b0;stroke-linecap:square;stroke-width:0.8;\"/>\n     </g>\n     <g id=\"line2d_22\">\n      <g>\n       <use style=\"stroke:#000000;stroke-width:0.8;\" x=\"33.2875\" xlink:href=\"#mea9fe4c31c\" y=\"63.796727\"/>\n      </g>\n     </g>\n     <g id=\"text_11\">\n      <!-- 80 -->\n      <g transform=\"translate(13.5625 67.595946)scale(0.1 -0.1)\">\n       <use xlink:href=\"#DejaVuSans-56\"/>\n       <use x=\"63.623047\" xlink:href=\"#DejaVuSans-48\"/>\n      </g>\n     </g>\n    </g>\n    <g id=\"ytick_6\">\n     <g id=\"line2d_23\">\n      <path clip-path=\"url(#p4ad60da873)\" d=\"M 33.2875 23.585908 \nL 368.0875 23.585908 \n\" style=\"fill:none;stroke:#b0b0b0;stroke-linecap:square;stroke-width:0.8;\"/>\n     </g>\n     <g id=\"line2d_24\">\n      <g>\n       <use style=\"stroke:#000000;stroke-width:0.8;\" x=\"33.2875\" xlink:href=\"#mea9fe4c31c\" y=\"23.585908\"/>\n      </g>\n     </g>\n     <g id=\"text_12\">\n      <!-- 100 -->\n      <g transform=\"translate(7.2 27.385127)scale(0.1 -0.1)\">\n       <use xlink:href=\"#DejaVuSans-49\"/>\n       <use x=\"63.623047\" xlink:href=\"#DejaVuSans-48\"/>\n       <use x=\"127.246094\" xlink:href=\"#DejaVuSans-48\"/>\n      </g>\n     </g>\n    </g>\n   </g>\n   <g id=\"patch_13\">\n    <path d=\"M 33.2875 224.64 \nL 33.2875 7.2 \n\" style=\"fill:none;stroke:#000000;stroke-linecap:square;stroke-linejoin:miter;stroke-width:0.8;\"/>\n   </g>\n   <g id=\"patch_14\">\n    <path d=\"M 368.0875 224.64 \nL 368.0875 7.2 \n\" style=\"fill:none;stroke:#000000;stroke-linecap:square;stroke-linejoin:miter;stroke-width:0.8;\"/>\n   </g>\n   <g id=\"patch_15\">\n    <path d=\"M 33.2875 224.64 \nL 368.0875 224.64 \n\" style=\"fill:none;stroke:#000000;stroke-linecap:square;stroke-linejoin:miter;stroke-width:0.8;\"/>\n   </g>\n   <g id=\"patch_16\">\n    <path d=\"M 33.2875 7.2 \nL 368.0875 7.2 \n\" style=\"fill:none;stroke:#000000;stroke-linecap:square;stroke-linejoin:miter;stroke-width:0.8;\"/>\n   </g>\n  </g>\n </g>\n <defs>\n  <clipPath id=\"p4ad60da873\">\n   <rect height=\"217.44\" width=\"334.8\" x=\"33.2875\" y=\"7.2\"/>\n  </clipPath>\n </defs>\n</svg>\n",
      "text/plain": "<Figure size 432x288 with 1 Axes>"
     },
     "metadata": {
      "needs_background": "light"
     },
     "output_type": "display_data"
    },
    {
     "data": {
      "text/plain": "count     528.000000\nmean      410.003788\nstd       276.342183\nmin        10.000000\n25%       205.500000\n50%       341.000000\n75%       605.000000\nmax      1087.000000\ndtype: float64"
     },
     "execution_count": 9,
     "metadata": {},
     "output_type": "execute_result"
    }
   ],
   "source": [
    "\n",
    "articles_len = [len(x) for x in articles_int]\n",
    "pd.Series(articles_len).hist()\n",
    "plt.show()\n",
    "pd.Series(articles_len).describe()"
   ]
  },
  {
   "cell_type": "markdown",
   "metadata": {},
   "source": [
    "### Padding / Truncating the remaining data\n",
    "\n",
    "To deal with both short and long articles, we will pad or truncate all our articles to a specific length. We define this length by __Sequence Length__. This sequence length is same as number of time steps for LSTM layer.\n",
    "\n",
    "For articles shorter than __seq_length__, we will pad with 0s. For articles longer than __seq_length__ we will truncate them to the first seq_length words."
   ]
  },
  {
   "cell_type": "code",
   "execution_count": 10,
   "metadata": {},
   "outputs": [],
   "source": [
    "import numpy as np\n",
    "\n",
    "def pad_features(articles_int, seq_length):\n",
    "\n",
    "    ''' Return features of articles_int, where each article is padded with 0's or truncated to the input seq_length.\n",
    "    '''\n",
    "    features = np.zeros((len(articles_int), seq_length), dtype = int)\n",
    "    \n",
    "    for i, article in enumerate(articles_int):\n",
    "        article_len = len(article)\n",
    "        \n",
    "        if article_len <= seq_length:\n",
    "            zeroes = list(np.zeros(seq_length-article_len))\n",
    "            new = zeroes + article\n",
    "        elif article_len > seq_length:\n",
    "            new = article[0:seq_length]\n",
    "        \n",
    "        features[i,:] = np.array(new)\n",
    "    \n",
    "    return features"
   ]
  },
  {
   "cell_type": "markdown",
   "metadata": {},
   "source": [
    "Note: We are creating/maintaining a 2D array structure as we created for articles_int. Output will look like this"
   ]
  },
  {
   "cell_type": "code",
   "execution_count": 11,
   "metadata": {},
   "outputs": [
    {
     "name": "stdout",
     "output_type": "stream",
     "text": "[[  673    13    18 ...     6    24    30]\n [    1   545  1855 ...     2    56  2382]\n [  292    28    95 ... 18216   366    42]\n ...\n [    0     0     0 ...   123  1198   388]\n [   20   149  4454 ...    15    92     3]\n [    0     0     0 ...  1029    85  5705]]\n"
    }
   ],
   "source": [
    "features = pad_features(articles_int, 200)\n",
    "print(features)"
   ]
  },
  {
   "cell_type": "markdown",
   "metadata": {},
   "source": [
    "### Training, Validation, Test Dataset Split\n",
    "\n",
    "Once we have got our data in nice shape, we will split it into training, validation and test sets\n",
    "\n",
    "train= 80% | valid = 10% | test = 10%"
   ]
  },
  {
   "cell_type": "code",
   "execution_count": 12,
   "metadata": {},
   "outputs": [],
   "source": [
    "split_frac = 0.8\n",
    "\n",
    "#train_split\n",
    "train_x = features[0 : int(split_frac * len(features))]\n",
    "train_y = labels[0 : int(split_frac * len(features))]       #labels not a numpy array, but list \n",
    "\n",
    "remaining_x = features[int(split_frac * len(features)) :]\n",
    "remaining_y = labels[int(split_frac * len(features)) :]     #list\n",
    "\n",
    "#validation split\n",
    "valid_x = remaining_x[0 : int(len(remaining_x) * 0.5)]\n",
    "valid_y = remaining_y[0 : int(len(remaining_y) * 0.5)]  #list\n",
    "\n",
    "#test_split\n",
    "test_x = remaining_x[int(len(remaining_x) * 0.5) :]\n",
    "test_y = remaining_y[int(len(remaining_y) * 0.5) :]     #list"
   ]
  },
  {
   "cell_type": "markdown",
   "metadata": {},
   "source": [
    "### Dataloaders and Batching\n",
    "\n",
    "After creating our training, test and validation data. Next step is to create dataloaders for this data. We can use generator function for batching our data into batches instead we will use a TensorDataset. This is one of a very useful utility in <u>__PyTorch__</u> for using our data with <u>__DataLoaders__</u> with exact same ease as of  <u>__torchvision datasets__</u> "
   ]
  },
  {
   "cell_type": "code",
   "execution_count": 13,
   "metadata": {},
   "outputs": [],
   "source": [
    "import torch\n",
    "from torch.utils.data import DataLoader, TensorDataset\n",
    "\n",
    "# create Tensor datasets\n",
    "train_data = TensorDataset(torch.from_numpy(train_x), torch.from_numpy(np.array(train_y)))\n",
    "valid_data = TensorDataset(torch.from_numpy(valid_x), torch.from_numpy(np.array(valid_y)))\n",
    "test_data = TensorDataset(torch.from_numpy(test_x), torch.from_numpy(np.array(test_y)))\n",
    "\n",
    "# dataloaders\n",
    "batch_size = 50\n",
    "\n",
    "# make sure to SHUFFLE your data\n",
    "train_loader = DataLoader(train_data, shuffle=True, batch_size=batch_size)\n",
    "valid_loader = DataLoader(valid_data, shuffle=True, batch_size=batch_size)\n",
    "test_loader = DataLoader(test_data, shuffle=True, batch_size=batch_size)"
   ]
  },
  {
   "cell_type": "markdown",
   "metadata": {},
   "source": [
    "In order to obtain one batch of training data for visualization purpose we will create a data iterator"
   ]
  },
  {
   "cell_type": "code",
   "execution_count": 14,
   "metadata": {},
   "outputs": [
    {
     "name": "stdout",
     "output_type": "stream",
     "text": "Sample input size:  torch.Size([50, 200])\nSample input: \n tensor([[    1,  2537,   258,  ...,    14,  3333,     4],\n        [    0,     0,     0,  ...,     1,   104,  3083],\n        [ 5261, 15879,   201,  ...,   113,     2,  1853],\n        ...,\n        [    0,     0,     0,  ...,     1,   110,    84],\n        [  211,    56,  2026,  ...,   437,     1,  5122],\n        [    1,  3979,  1127,  ...,    76,   832,    45]])\n\nSample label size:  torch.Size([50])\nSample label: \n tensor([1, 1, 0, 0, 1, 0, 1, 0, 0, 1, 0, 1, 1, 0, 1, 1, 1, 1, 0, 0, 1, 0, 0, 1,\n        1, 0, 1, 0, 1, 1, 1, 1, 0, 0, 1, 0, 0, 1, 1, 0, 1, 1, 0, 0, 0, 1, 1, 1,\n        0, 1])\n"
    }
   ],
   "source": [
    "# obtain one batch of training data\n",
    "dataiter = iter(train_loader)\n",
    "sample_x, sample_y = dataiter.next()\n",
    "\n",
    "print('Sample input size: ', sample_x.size()) # batch_size, seq_length\n",
    "print('Sample input: \\n', sample_x)\n",
    "print()\n",
    "print('Sample label size: ', sample_y.size()) # batch_size\n",
    "print('Sample label: \\n', sample_y)"
   ]
  },
  {
   "cell_type": "markdown",
   "metadata": {},
   "source": [
    "Here, 50 is the batch size and 500 is the sequence length that we have defined. Now our data prep step is complete and next we will look at the LSTM network architecture for start building our model"
   ]
  },
  {
   "cell_type": "markdown",
   "metadata": {},
   "source": [
    "### Define the LSTM Network Architecture\n",
    "\n",
    "![Getting Started](https://miro.medium.com/max/729/1*SICYykT7ybua1gVJDNlajw.png)\n",
    "\n",
    "The layers are as follows:\n",
    "\n",
    "0. __Tokenize__ : This is not a layer for LSTM network but a mandatory step of converting our words into tokens (integers)\n",
    "\n",
    "1. __Embedding Layer__: that converts our word tokens (integers) into embedding of specific size\n",
    "\n",
    "2. __LSTM Layer__: defined by hidden state dims and number of layers\n",
    "\n",
    "3. __Fully Connected Layer__: that maps output of LSTM layer to a desired output size\n",
    "\n",
    "4. __Sigmoid Activation Layer__: that turns all output values in a value between 0 and 1\n",
    "\n",
    "5. __Output__: Sigmoid output from the last timestep is considered as the final output of this network"
   ]
  },
  {
   "cell_type": "markdown",
   "metadata": {},
   "source": [
    "###  Define the Model Class"
   ]
  },
  {
   "cell_type": "code",
   "execution_count": 15,
   "metadata": {},
   "outputs": [],
   "source": [
    "import torch.nn as nn\n",
    "\n",
    "class ClassificationLSTM(nn.Module):\n",
    "    \"\"\"\n",
    "    The RNN model that will be used to perform classification.\n",
    "    \"\"\"\n",
    "\n",
    "    def __init__(self, vocab_size, output_size, embedding_dim, hidden_dim, n_layers, drop_prob=0.5):\n",
    "        \"\"\"\n",
    "        Initialize the model by setting up the layers.\n",
    "        \"\"\"\n",
    "        super().__init__()\n",
    "\n",
    "        self.output_size = output_size\n",
    "        self.n_layers = n_layers\n",
    "        self.hidden_dim = hidden_dim\n",
    "        \n",
    "        # embedding and LSTM layers\n",
    "        self.embedding = nn.Embedding(vocab_size, embedding_dim)\n",
    "        self.lstm = nn.LSTM(embedding_dim, hidden_dim, n_layers, \n",
    "                            dropout=drop_prob, batch_first=True)\n",
    "        \n",
    "        # dropout layer\n",
    "        self.dropout = nn.Dropout(0.3)\n",
    "        \n",
    "        # linear and sigmoid layers\n",
    "        self.fc = nn.Linear(hidden_dim, output_size)\n",
    "        self.sig = nn.Sigmoid()\n",
    "        \n",
    "\n",
    "    def forward(self, x, hidden):\n",
    "        \"\"\"\n",
    "        Perform a forward pass of our model on some input and hidden state.\n",
    "        \"\"\"\n",
    "        batch_size = x.size(0)\n",
    "\n",
    "        # embeddings and lstm_out\n",
    "        embeds = self.embedding(x)\n",
    "        lstm_out, hidden = self.lstm(embeds, hidden)\n",
    "    \n",
    "        # stack up lstm outputs\n",
    "        lstm_out = lstm_out.contiguous().view(-1, self.hidden_dim)\n",
    "        \n",
    "        # dropout and fully-connected layer\n",
    "        out = self.dropout(lstm_out)\n",
    "        out = self.fc(out)\n",
    "        \n",
    "        # sigmoid function\n",
    "        sig_out = self.sig(out)\n",
    "        \n",
    "        # reshape to be batch_size first\n",
    "        sig_out = sig_out.view(batch_size, -1)\n",
    "        sig_out = sig_out[:, -1] # get last batch of labels\n",
    "        \n",
    "        # return last sigmoid output and hidden state\n",
    "        return sig_out, hidden\n",
    "    \n",
    "    \n",
    "    def init_hidden(self, batch_size):\n",
    "        ''' Initializes hidden state '''\n",
    "        # Create two new tensors with sizes n_layers x batch_size x hidden_dim,\n",
    "        # initialized to zero, for hidden state and cell state of LSTM\n",
    "        weight = next(self.parameters()).data\n",
    "        \n",
    "        train_on_gpu =torch.cuda.is_available()\n",
    "\n",
    "        if (train_on_gpu):\n",
    "            #print('CUDA is available.  Training on CPU ...')\n",
    "            hidden = (weight.new(self.n_layers, batch_size, self.hidden_dim).zero_().cuda(),\n",
    "                  weight.new(self.n_layers, batch_size, self.hidden_dim).zero_().cuda())\n",
    "        else:\n",
    "            #print('CUDA is not available.  Training on CPU ...')\n",
    "            hidden = (weight.new(self.n_layers, batch_size, self.hidden_dim).zero_(),\n",
    "                      weight.new(self.n_layers, batch_size, self.hidden_dim).zero_())\n",
    "        \n",
    "        return hidden"
   ]
  },
  {
   "cell_type": "markdown",
   "metadata": {},
   "source": [
    "### Training the Network\n",
    "\n",
    "* __Instantiate the network__"
   ]
  },
  {
   "cell_type": "code",
   "execution_count": 16,
   "metadata": {},
   "outputs": [
    {
     "name": "stdout",
     "output_type": "stream",
     "text": "ClassificationLSTM(\n  (embedding): Embedding(30827, 400)\n  (lstm): LSTM(400, 256, num_layers=2, batch_first=True, dropout=0.5)\n  (dropout): Dropout(p=0.3, inplace=False)\n  (fc): Linear(in_features=256, out_features=1, bias=True)\n  (sig): Sigmoid()\n)\n"
    }
   ],
   "source": [
    "# Instantiate the model w/ hyperparams\n",
    "vocab_size = len(vocab_to_int) + 1 # +1 for the 0 padding\n",
    "output_size = 1\n",
    "embedding_dim = 400\n",
    "hidden_dim = 256\n",
    "n_layers = 2\n",
    "\n",
    "net = ClassificationLSTM(vocab_size, output_size, embedding_dim, hidden_dim, n_layers)\n",
    "\n",
    "print(net)\n"
   ]
  },
  {
   "cell_type": "markdown",
   "metadata": {},
   "source": [
    "* __Training Loop__\n",
    "\n",
    "Most of the code in training loop is pretty standard Deep Learning training code that you might see often in all the implementations that’s using PyTorch framework."
   ]
  },
  {
   "cell_type": "code",
   "execution_count": 28,
   "metadata": {},
   "outputs": [
    {
     "name": "stdout",
     "output_type": "stream",
     "text": "CUDA is available!  Training on GPU ...\n(tensor([[[0., 0., 0.,  ..., 0., 0., 0.],\n         [0., 0., 0.,  ..., 0., 0., 0.],\n         [0., 0., 0.,  ..., 0., 0., 0.],\n         ...,\n         [0., 0., 0.,  ..., 0., 0., 0.],\n         [0., 0., 0.,  ..., 0., 0., 0.],\n         [0., 0., 0.,  ..., 0., 0., 0.]],\n\n        [[0., 0., 0.,  ..., 0., 0., 0.],\n         [0., 0., 0.,  ..., 0., 0., 0.],\n         [0., 0., 0.,  ..., 0., 0., 0.],\n         ...,\n         [0., 0., 0.,  ..., 0., 0., 0.],\n         [0., 0., 0.,  ..., 0., 0., 0.],\n         [0., 0., 0.,  ..., 0., 0., 0.]]], device='cuda:0'), tensor([[[0., 0., 0.,  ..., 0., 0., 0.],\n         [0., 0., 0.,  ..., 0., 0., 0.],\n         [0., 0., 0.,  ..., 0., 0., 0.],\n         ...,\n         [0., 0., 0.,  ..., 0., 0., 0.],\n         [0., 0., 0.,  ..., 0., 0., 0.],\n         [0., 0., 0.,  ..., 0., 0., 0.]],\n\n        [[0., 0., 0.,  ..., 0., 0., 0.],\n         [0., 0., 0.,  ..., 0., 0., 0.],\n         [0., 0., 0.,  ..., 0., 0., 0.],\n         ...,\n         [0., 0., 0.,  ..., 0., 0., 0.],\n         [0., 0., 0.,  ..., 0., 0., 0.],\n         [0., 0., 0.,  ..., 0., 0., 0.]]], device='cuda:0'))\n(tensor([[[ 2.2208e-01, -6.4955e-02,  3.0623e-02,  ...,  2.4373e-01,\n          -8.5104e-02,  2.8160e-01],\n         [ 2.3705e-01,  6.3593e-04,  3.1045e-01,  ..., -4.8557e-02,\n           2.6222e-01, -1.8796e-01],\n         [ 9.3601e-02, -6.9951e-02, -7.0833e-02,  ...,  6.0103e-02,\n           3.2972e-02, -4.7519e-01],\n         ...,\n         [ 2.3043e-01,  9.6365e-02,  2.0892e-01,  ...,  7.3487e-02,\n           2.9274e-02,  3.0325e-01],\n         [-1.3006e-01,  2.4318e-01,  1.4365e-01,  ..., -3.5775e-02,\n          -6.6667e-03, -1.1762e-01],\n         [ 2.5403e-02,  3.8361e-02,  7.7361e-02,  ..., -2.9065e-01,\n          -2.7979e-01,  9.2625e-02]],\n\n        [[-3.3148e-01,  2.2113e-01,  3.2981e-01,  ..., -1.2531e-01,\n           2.2885e-01,  2.3773e-01],\n         [-7.8814e-01,  4.6886e-01,  7.0054e-01,  ..., -1.1565e-01,\n           3.2933e-01,  5.6918e-01],\n         [-5.2522e-01,  2.6383e-01,  6.0710e-01,  ..., -1.3673e-01,\n           2.6286e-01,  2.9367e-01],\n         ...,\n         [-2.7071e-01,  2.6656e-01,  2.3594e-01,  ..., -1.3871e-01,\n           8.4820e-02,  2.8908e-01],\n         [-5.2489e-01,  2.9991e-01,  5.8471e-01,  ..., -1.8321e-01,\n           3.5669e-01,  3.0874e-01],\n         [ 1.0975e-01, -1.0118e-01, -8.8194e-02,  ...,  2.5780e-01,\n          -1.9244e-01, -2.4572e-01]]], device='cuda:0'), tensor([[[ 0.4356, -0.1085,  0.0639,  ...,  0.5047, -0.2401,  0.5336],\n         [ 0.3322,  0.0018,  0.4244,  ..., -0.2310,  0.3375, -0.3399],\n         [ 0.3443, -0.1861, -0.2655,  ...,  0.0912,  0.0420, -0.7406],\n         ...,\n         [ 0.4103,  0.4120,  0.5088,  ...,  0.1295,  0.1711,  0.5315],\n         [-0.2470,  0.3045,  0.3233,  ..., -0.0502, -0.0354, -0.1873],\n         [ 0.1128,  0.1110,  0.1632,  ..., -0.5062, -0.5150,  0.2003]],\n\n        [[-0.5520,  0.4203,  0.6055,  ..., -0.3232,  0.4260,  0.5425],\n         [-1.6677,  0.9270,  1.6087,  ..., -0.3904,  0.5774,  1.0146],\n         [-1.0553,  0.4803,  1.1766,  ..., -0.3941,  0.5415,  0.5705],\n         ...,\n         [-0.4538,  0.4798,  0.4346,  ..., -0.3692,  0.1600,  0.5882],\n         [-0.8930,  0.5729,  1.1813,  ..., -0.5046,  0.6774,  0.6522],\n         [ 0.2534, -0.2260, -0.1934,  ...,  0.4777, -0.3710, -0.4917]]],\n       device='cuda:0'))\n(tensor([[[-0.4524, -0.4273, -0.1202,  ..., -0.3294, -0.1360, -0.2193],\n         [ 0.0067,  0.0969, -0.1636,  ..., -0.2890, -0.0214,  0.0107],\n         [ 0.0723,  0.0303,  0.3914,  ...,  0.2891,  0.0138,  0.3917],\n         ...,\n         [-0.3520, -0.1982,  0.0071,  ..., -0.3911,  0.1308,  0.0790],\n         [-0.0725, -0.4307, -0.1493,  ..., -0.0181, -0.1427,  0.3051],\n         [-0.0919, -0.3294, -0.3980,  ...,  0.2117,  0.0016, -0.2305]],\n\n        [[ 0.0294, -0.1221, -0.1437,  ...,  0.4071, -0.3226, -0.2827],\n         [ 0.0751, -0.0896, -0.1240,  ...,  0.4262, -0.2834, -0.2849],\n         [ 0.0049, -0.0276, -0.0904,  ...,  0.2108, -0.1252, -0.0670],\n         ...,\n         [ 0.0823, -0.1892, -0.1817,  ...,  0.3970, -0.2310, -0.2768],\n         [ 0.0771, -0.1217, -0.0852,  ...,  0.3907, -0.2281, -0.2110],\n         [ 0.0159, -0.1434, -0.1104,  ...,  0.4622, -0.2630, -0.1638]]],\n       device='cuda:0'), tensor([[[-0.9810, -0.7872, -0.3122,  ..., -0.4045, -0.2141, -0.4176],\n         [ 0.0139,  0.1218, -0.4567,  ..., -0.7064, -0.0513,  0.0353],\n         [ 0.1602,  0.1452,  0.5344,  ...,  0.5148,  0.0281,  0.4597],\n         ...,\n         [-0.7013, -0.3390,  0.0163,  ..., -0.7478,  0.3162,  0.1791],\n         [-0.1205, -0.8611, -0.8786,  ..., -0.0386, -0.2255,  0.4837],\n         [-0.3584, -0.8905, -0.5792,  ...,  0.3226,  0.0021, -0.3574]],\n\n        [[ 0.0875, -0.3813, -0.3586,  ...,  0.6691, -0.6242, -0.5444],\n         [ 0.2385, -0.2206, -0.4026,  ...,  0.7643, -0.5751, -0.6673],\n         [ 0.0105, -0.0537, -0.2043,  ...,  0.4334, -0.2410, -0.1251],\n         ...,\n         [ 0.2696, -0.4962, -0.4667,  ...,  0.7753, -0.5313, -0.5992],\n         [ 0.2095, -0.3069, -0.2628,  ...,  0.6738, -0.5242, -0.4885],\n         [ 0.0596, -0.3377, -0.3713,  ...,  0.8766, -0.4612, -0.3193]]],\n       device='cuda:0'))\n(tensor([[[-0.0130, -0.0243,  0.0654,  ..., -0.0595, -0.2384,  0.0343],\n         [ 0.1781,  0.1715,  0.1868,  ..., -0.0408, -0.0199, -0.1439],\n         [ 0.0258,  0.1480, -0.2561,  ..., -0.2427, -0.4128,  0.3553],\n         ...,\n         [ 0.1571,  0.0435, -0.0180,  ...,  0.0190, -0.0122, -0.0836],\n         [ 0.0915, -0.3309,  0.0752,  ...,  0.3320,  0.2370, -0.0656],\n         [ 0.4579,  0.1147,  0.1146,  ...,  0.0154,  0.3889,  0.0845]],\n\n        [[-0.0718, -0.0098,  0.0821,  ...,  0.1190,  0.0191, -0.0856],\n         [-0.8269,  0.5704,  0.8242,  ..., -0.1696,  0.4848,  0.6251],\n         [ 0.0013,  0.0360, -0.0844,  ...,  0.1374,  0.0279, -0.0990],\n         ...,\n         [-0.6947,  0.4274,  0.6663,  ..., -0.1408,  0.2921,  0.4534],\n         [-0.0647,  0.0367,  0.1893,  ..., -0.0358,  0.1719,  0.0468],\n         [-0.1557,  0.0796,  0.1401,  ..., -0.0197,  0.0896,  0.0589]]],\n       device='cuda:0'), tensor([[[-1.9683e-02, -8.3784e-02,  1.4634e-01,  ..., -1.0972e-01,\n          -6.1637e-01,  4.8456e-02],\n         [ 7.9330e-01,  3.5800e-01,  3.8885e-01,  ..., -2.1362e-01,\n          -5.5599e-02, -3.7433e-01],\n         [ 1.0084e-01,  3.6254e-01, -4.4658e-01,  ..., -6.3460e-01,\n          -5.0793e-01,  4.6902e-01],\n         ...,\n         [ 2.3183e-01,  5.1621e-02, -5.3389e-02,  ...,  2.7693e-02,\n          -3.1401e-02, -2.2176e-01],\n         [ 2.1033e-01, -5.9364e-01,  1.6658e-01,  ...,  4.7330e-01,\n           3.5987e-01, -1.5280e-01],\n         [ 6.2641e-01,  2.6069e-01,  5.2266e-01,  ...,  2.7760e-02,\n           5.2362e-01,  1.1936e-01]],\n\n        [[-1.4001e-01, -1.9053e-02,  1.7458e-01,  ...,  2.1468e-01,\n           4.1285e-02, -1.8556e-01],\n         [-3.0838e+00,  1.2833e+00,  2.8185e+00,  ..., -5.5193e-01,\n           1.0032e+00,  1.2725e+00],\n         [ 2.5768e-03,  6.8442e-02, -1.6051e-01,  ...,  2.4749e-01,\n           5.6709e-02, -1.9642e-01],\n         ...,\n         [-1.6048e+00,  8.7634e-01,  1.6581e+00,  ..., -3.2558e-01,\n           4.4299e-01,  8.4655e-01],\n         [-1.0825e-01,  7.4053e-02,  4.1404e-01,  ..., -7.3464e-02,\n           3.2510e-01,  8.0233e-02],\n         [-2.6322e-01,  1.4629e-01,  3.0720e-01,  ..., -4.6881e-02,\n           1.8145e-01,  1.1082e-01]]], device='cuda:0'))\n(tensor([[[ 0.2280,  0.0354, -0.3237,  ..., -0.1564,  0.1240,  0.3469],\n         [-0.1108, -0.3716, -0.0103,  ..., -0.3076,  0.0602, -0.1872],\n         [ 0.2473,  0.1082,  0.0737,  ...,  0.1996,  0.2596, -0.0909],\n         ...,\n         [-0.0079,  0.0355,  0.4536,  ...,  0.4911,  0.0760, -0.0424],\n         [-0.3203, -0.0018, -0.3699,  ..., -0.3864, -0.0805, -0.2312],\n         [ 0.0686, -0.0601,  0.4994,  ...,  0.0793,  0.1697, -0.0559]],\n\n        [[-0.4340,  0.1607,  0.3687,  ..., -0.1073,  0.2252,  0.1173],\n         [ 0.0268, -0.1640, -0.0771,  ...,  0.5550, -0.3483, -0.2616],\n         [-0.7035,  0.4655,  0.6837,  ..., -0.1112,  0.3358,  0.4711],\n         ...,\n         [-0.4966,  0.3761,  0.6169,  ..., -0.1503,  0.3188,  0.4033],\n         [ 0.0621, -0.1557, -0.1767,  ...,  0.4719, -0.3157, -0.2122],\n         [ 0.0852, -0.1411, -0.1103,  ...,  0.5059, -0.2314, -0.2821]]],\n       device='cuda:0'), tensor([[[ 0.5084,  0.0896, -0.5313,  ..., -0.2155,  0.2789,  0.6261],\n         [-0.2070, -0.6387, -0.0373,  ..., -0.7670,  0.1039, -0.5203],\n         [ 0.5246,  0.2668,  0.1596,  ...,  0.2751,  0.5181, -0.1325],\n         ...,\n         [-0.0323,  0.0688,  0.6420,  ...,  0.6188,  0.1578, -0.1016],\n         [-0.8262, -0.0055, -0.5482,  ..., -0.5529, -0.3810, -0.5669],\n         [ 0.2737, -0.1884,  0.7014,  ...,  0.1520,  0.3492, -0.2094]],\n\n        [[-0.6961,  0.3087,  0.7387,  ..., -0.2306,  0.4028,  0.1962],\n         [ 0.0822, -0.4091, -0.2875,  ...,  1.0699, -0.7860, -0.8275],\n         [-1.3353,  0.9086,  1.5588,  ..., -0.3216,  0.5980,  0.9502],\n         ...,\n         [-0.8544,  0.7291,  1.1876,  ..., -0.4051,  0.6511,  0.6792],\n         [ 0.1876, -0.3473, -0.4237,  ...,  0.8651, -0.6372, -0.4644],\n         [ 0.1911, -0.3175, -0.3915,  ...,  1.1149, -0.4798, -0.5882]]],\n       device='cuda:0'))\n(tensor([[[ 0.4652,  0.0932,  0.4628,  ..., -0.0546, -0.2070, -0.3713],\n         [ 0.1629,  0.1695, -0.6684,  ..., -0.2089, -0.2394, -0.0400],\n         [ 0.1119, -0.0737, -0.4101,  ..., -0.0711, -0.5740, -0.2150],\n         ...,\n         [-0.3566,  0.0241,  0.0033,  ..., -0.0321, -0.1149, -0.0357],\n         [ 0.0516, -0.1869, -0.0519,  ...,  0.1053,  0.0515, -0.1187],\n         [-0.0467,  0.0668, -0.0815,  ...,  0.0645, -0.0015,  0.1149]],\n\n        [[-0.7844,  0.5402,  0.7690,  ..., -0.1298,  0.4248,  0.6555],\n         [ 0.0948, -0.1685, -0.1115,  ...,  0.6519, -0.3827, -0.3748],\n         [ 0.0680, -0.1520, -0.1239,  ...,  0.6922, -0.3989, -0.3299],\n         ...,\n         [-0.2436,  0.1337,  0.2260,  ..., -0.0817,  0.1787,  0.1269],\n         [-0.2596,  0.1795,  0.1893,  ..., -0.0761,  0.0728,  0.3046],\n         [-0.1982,  0.1563,  0.3255,  ..., -0.0579,  0.1050,  0.1374]]],\n       device='cuda:0'), tensor([[[ 0.6822,  0.2907,  0.7240,  ..., -0.2599, -0.2515, -0.6454],\n         [ 0.3852,  0.3414, -1.0163,  ..., -0.2887, -0.5870, -0.1008],\n         [ 0.3083, -0.1589, -0.8143,  ..., -0.1126, -0.9219, -0.3448],\n         ...,\n         [-0.5071,  0.2951,  0.0111,  ..., -0.1110, -0.4706, -0.0828],\n         [ 0.1636, -0.3635, -0.0961,  ...,  0.1554,  0.0783, -0.3019],\n         [-0.0881,  0.0982, -0.1980,  ...,  0.1651, -0.0032,  0.2438]],\n\n        [[-1.7916,  1.1687,  1.6376,  ..., -0.3629,  0.6964,  1.2082],\n         [ 0.2940, -0.3277, -0.3879,  ...,  1.4273, -0.8736, -0.8316],\n         [ 0.2611, -0.3905, -0.4244,  ...,  1.3037, -0.9208, -0.6889],\n         ...,\n         [-0.3954,  0.2673,  0.3795,  ..., -0.1960,  0.3231,  0.2783],\n         [-0.4151,  0.3591,  0.3325,  ..., -0.1893,  0.1528,  0.5759],\n         [-0.3509,  0.2835,  0.5621,  ..., -0.1263,  0.1949,  0.2405]]],\n       device='cuda:0'))\n(tensor([[[ 0.1779,  0.3240,  0.2157,  ...,  0.1470,  0.0856,  0.1995],\n         [-0.5305, -0.0406, -0.0274,  ..., -0.2070,  0.0260,  0.0888],\n         [-0.2413,  0.1568,  0.0304,  ..., -0.1082,  0.0818,  0.4696],\n         ...,\n         [-0.2242, -0.2493, -0.1331,  ...,  0.0510,  0.1090, -0.3558],\n         [-0.0922, -0.1663, -0.3376,  ...,  0.1083, -0.2951, -0.0535],\n         [ 0.0616, -0.1240,  0.0935,  ..., -0.2833,  0.0476, -0.0546]],\n\n        [[-0.7804,  0.4711,  0.7368,  ..., -0.1094,  0.4310,  0.4377],\n         [ 0.0404, -0.1673, -0.1366,  ...,  0.6706, -0.4240, -0.2651],\n         [-0.4366,  0.2407,  0.5097,  ..., -0.0977,  0.3020,  0.2726],\n         ...,\n         [ 0.0611, -0.1491, -0.1080,  ...,  0.7473, -0.4785, -0.3799],\n         [-0.0318, -0.1491, -0.0491,  ...,  0.1475, -0.1217, -0.0054],\n         [ 0.0670, -0.1668, -0.1305,  ...,  0.7514, -0.5222, -0.3541]]],\n       device='cuda:0'), tensor([[[ 0.2794,  0.8064,  0.5251,  ...,  0.2829,  0.2830,  0.3491],\n         [-1.0482, -0.0641, -0.0520,  ..., -0.8036,  0.0443,  0.4422],\n         [-0.3618,  0.3188,  0.0888,  ..., -0.5103,  0.2203,  0.6562],\n         ...,\n         [-0.4933, -0.6366, -0.2776,  ...,  0.2536,  0.2273, -0.5532],\n         [-0.3277, -0.2770, -0.5921,  ...,  0.2496, -0.6519, -0.1706],\n         [ 0.1476, -0.2544,  0.1400,  ..., -0.5537,  0.2060, -0.1837]],\n\n        [[-1.9553,  1.1121,  1.8315,  ..., -0.3812,  0.8654,  0.9456],\n         [ 0.1367, -0.3845, -0.4070,  ...,  1.5745, -0.9462, -0.7272],\n         [-0.7495,  0.4560,  0.9259,  ..., -0.2527,  0.5625,  0.4812],\n         ...,\n         [ 0.2730, -0.3712, -0.3785,  ...,  1.9589, -1.0701, -0.8204],\n         [-0.0764, -0.2830, -0.1007,  ...,  0.2524, -0.2459, -0.0104],\n         [ 0.2043, -0.4108, -0.4306,  ...,  1.8483, -1.2602, -0.7757]]],\n       device='cuda:0'))\n(tensor([[[ 0.1110,  0.0121, -0.1398,  ...,  0.0219, -0.0273, -0.1881],\n         [ 0.0998, -0.0028, -0.0493,  ..., -0.4761,  0.0791, -0.1173],\n         [ 0.1544, -0.1869,  0.1734,  ...,  0.2772, -0.1359, -0.1654],\n         ...,\n         [-0.3876, -0.0746, -0.3171,  ..., -0.0536, -0.1408, -0.1011],\n         [ 0.3547,  0.3412,  0.1249,  ...,  0.1347,  0.1316, -0.3609],\n         [ 0.0178,  0.0276,  0.0231,  ...,  0.0680, -0.1262, -0.0599]],\n\n        [[-0.7195,  0.4070,  0.7028,  ..., -0.0958,  0.2444,  0.4901],\n         [ 0.0880, -0.1617, -0.1711,  ...,  0.6832, -0.2614, -0.3339],\n         [-0.7701,  0.4824,  0.7207,  ..., -0.1353,  0.3895,  0.5578],\n         ...,\n         [ 0.0706, -0.0794,  0.0152,  ...,  0.2080, -0.1692, -0.1616],\n         [-0.7955,  0.5579,  0.7913,  ..., -0.1173,  0.3797,  0.5480],\n         [-0.8171,  0.5643,  0.7664,  ..., -0.1006,  0.3652,  0.6638]]],\n       device='cuda:0'), tensor([[[ 0.1466,  0.0540, -0.3477,  ...,  0.0711, -0.0516, -0.4753],\n         [ 0.4629, -0.0136, -0.1720,  ..., -0.6461,  0.1373, -0.2566],\n         [ 0.2311, -0.3264,  0.3513,  ...,  0.5040, -0.2730, -0.2812],\n         ...,\n         [-0.5846, -0.1010, -0.7828,  ..., -0.0971, -0.2693, -0.1277],\n         [ 0.8697,  0.9236,  0.4739,  ...,  0.2499,  0.3135, -0.5165],\n         [ 0.0311,  0.0431,  0.0545,  ...,  0.1044, -0.1986, -0.1388]],\n\n        [[-1.4275,  0.9807,  1.9062,  ..., -0.3303,  0.3578,  0.8488],\n         [ 0.3091, -0.3420, -0.4229,  ...,  1.4853, -0.6675, -0.6549],\n         [-1.6792,  0.9579,  1.6605,  ..., -0.4274,  0.6952,  1.2439],\n         ...,\n         [ 0.1423, -0.1738,  0.0331,  ...,  0.3554, -0.3011, -0.2848],\n         [-2.4938,  1.3245,  2.3566,  ..., -0.3796,  0.8283,  1.0588],\n         [-2.6005,  1.4791,  2.8496,  ..., -0.3742,  0.7359,  1.5529]]],\n       device='cuda:0'))\n(tensor([[[ 0.1178,  0.2839,  0.0053,  ..., -0.3606, -0.0719,  0.4743],\n         [-0.2112, -0.1618, -0.1754,  ..., -0.1459, -0.1003, -0.0738],\n         [ 0.2490,  0.2806,  0.2842,  ..., -0.1055,  0.2860, -0.1098],\n         ...,\n         [ 0.0114,  0.3047,  0.0484,  ...,  0.0067,  0.1258, -0.0422],\n         [ 0.1606,  0.2813,  0.0288,  ..., -0.1742,  0.0738,  0.0167],\n         [ 0.1424,  0.0217,  0.3281,  ...,  0.0319,  0.1178, -0.0204]],\n\n        [[-0.7609,  0.5028,  0.7104,  ..., -0.1078,  0.3581,  0.5772],\n         [ 0.0625, -0.1226, -0.1055,  ...,  0.6154, -0.3368, -0.2354],\n         [-0.8181,  0.6382,  0.8021,  ..., -0.1081,  0.4479,  0.6526],\n         ...,\n         [-0.6677,  0.4057,  0.6525,  ..., -0.1100,  0.3666,  0.4233],\n         [-0.5112,  0.3458,  0.4360,  ..., -0.1160,  0.2941,  0.3489],\n         [-0.2978,  0.2201,  0.3581,  ..., -0.0906,  0.1430,  0.1191]]],\n       device='cuda:0'), tensor([[[ 0.1467,  0.7744,  0.0131,  ..., -0.7394, -0.1475,  0.7050],\n         [-0.4234, -0.3738, -0.3960,  ..., -0.4126, -0.7668, -0.2665],\n         [ 0.9181,  0.6507,  0.4393,  ..., -0.1515,  0.5082, -0.1628],\n         ...,\n         [ 0.0170,  0.4241,  0.1665,  ...,  0.0172,  0.3058, -0.0644],\n         [ 0.2271,  0.7047,  0.1034,  ..., -0.2688,  0.1658,  0.0465],\n         [ 0.3019,  0.0576,  0.6407,  ...,  0.1404,  0.1964, -0.0280]],\n\n        [[-1.7473,  1.1215,  1.6307,  ..., -0.3675,  0.6128,  1.1324],\n         [ 0.2019, -0.2789, -0.3026,  ...,  1.2576, -0.6974, -0.5661],\n         [-2.6211,  1.6191,  2.8088,  ..., -0.4575,  0.9551,  1.4801],\n         ...,\n         [-1.2237,  0.7385,  1.3259,  ..., -0.3307,  0.6725,  0.7204],\n         [-1.0121,  0.6674,  0.7942,  ..., -0.3302,  0.5747,  0.6427],\n         [-0.5196,  0.4354,  0.6556,  ..., -0.2022,  0.2584,  0.2028]]],\n       device='cuda:0'))\n"
    },
    {
     "ename": "RuntimeError",
     "evalue": "Expected hidden[0] size (2, 22, 256), got (2, 50, 256)",
     "output_type": "error",
     "traceback": [
      "\u001b[0;31m---------------------------------------------------------------------------\u001b[0m",
      "\u001b[0;31mRuntimeError\u001b[0m                              Traceback (most recent call last)",
      "\u001b[0;32m<ipython-input-28-a3fa18737d01>\u001b[0m in \u001b[0;36m<module>\u001b[0;34m\u001b[0m\n\u001b[1;32m     50\u001b[0m                                                 \u001b[0;31m#'index' in call to _th_index_select\u001b[0m\u001b[0;34m\u001b[0m\u001b[0;34m\u001b[0m\u001b[0;34m\u001b[0m\u001b[0m\n\u001b[1;32m     51\u001b[0m         \u001b[0mprint\u001b[0m\u001b[0;34m(\u001b[0m\u001b[0;34m(\u001b[0m\u001b[0mh\u001b[0m\u001b[0;34m)\u001b[0m\u001b[0;34m)\u001b[0m\u001b[0;34m\u001b[0m\u001b[0;34m\u001b[0m\u001b[0m\n\u001b[0;32m---> 52\u001b[0;31m         \u001b[0moutput\u001b[0m\u001b[0;34m,\u001b[0m \u001b[0mh\u001b[0m \u001b[0;34m=\u001b[0m \u001b[0mnet\u001b[0m\u001b[0;34m(\u001b[0m\u001b[0minputs\u001b[0m\u001b[0;34m,\u001b[0m \u001b[0mh\u001b[0m\u001b[0;34m)\u001b[0m\u001b[0;34m\u001b[0m\u001b[0;34m\u001b[0m\u001b[0m\n\u001b[0m\u001b[1;32m     53\u001b[0m \u001b[0;34m\u001b[0m\u001b[0m\n\u001b[1;32m     54\u001b[0m         \u001b[0;31m# calculate the loss and perform backprop\u001b[0m\u001b[0;34m\u001b[0m\u001b[0;34m\u001b[0m\u001b[0;34m\u001b[0m\u001b[0m\n",
      "\u001b[0;32m~/.local/lib/python3.6/site-packages/torch/nn/modules/module.py\u001b[0m in \u001b[0;36m__call__\u001b[0;34m(self, *input, **kwargs)\u001b[0m\n\u001b[1;32m    530\u001b[0m             \u001b[0mresult\u001b[0m \u001b[0;34m=\u001b[0m \u001b[0mself\u001b[0m\u001b[0;34m.\u001b[0m\u001b[0m_slow_forward\u001b[0m\u001b[0;34m(\u001b[0m\u001b[0;34m*\u001b[0m\u001b[0minput\u001b[0m\u001b[0;34m,\u001b[0m \u001b[0;34m**\u001b[0m\u001b[0mkwargs\u001b[0m\u001b[0;34m)\u001b[0m\u001b[0;34m\u001b[0m\u001b[0;34m\u001b[0m\u001b[0m\n\u001b[1;32m    531\u001b[0m         \u001b[0;32melse\u001b[0m\u001b[0;34m:\u001b[0m\u001b[0;34m\u001b[0m\u001b[0;34m\u001b[0m\u001b[0m\n\u001b[0;32m--> 532\u001b[0;31m             \u001b[0mresult\u001b[0m \u001b[0;34m=\u001b[0m \u001b[0mself\u001b[0m\u001b[0;34m.\u001b[0m\u001b[0mforward\u001b[0m\u001b[0;34m(\u001b[0m\u001b[0;34m*\u001b[0m\u001b[0minput\u001b[0m\u001b[0;34m,\u001b[0m \u001b[0;34m**\u001b[0m\u001b[0mkwargs\u001b[0m\u001b[0;34m)\u001b[0m\u001b[0;34m\u001b[0m\u001b[0;34m\u001b[0m\u001b[0m\n\u001b[0m\u001b[1;32m    533\u001b[0m         \u001b[0;32mfor\u001b[0m \u001b[0mhook\u001b[0m \u001b[0;32min\u001b[0m \u001b[0mself\u001b[0m\u001b[0;34m.\u001b[0m\u001b[0m_forward_hooks\u001b[0m\u001b[0;34m.\u001b[0m\u001b[0mvalues\u001b[0m\u001b[0;34m(\u001b[0m\u001b[0;34m)\u001b[0m\u001b[0;34m:\u001b[0m\u001b[0;34m\u001b[0m\u001b[0;34m\u001b[0m\u001b[0m\n\u001b[1;32m    534\u001b[0m             \u001b[0mhook_result\u001b[0m \u001b[0;34m=\u001b[0m \u001b[0mhook\u001b[0m\u001b[0;34m(\u001b[0m\u001b[0mself\u001b[0m\u001b[0;34m,\u001b[0m \u001b[0minput\u001b[0m\u001b[0;34m,\u001b[0m \u001b[0mresult\u001b[0m\u001b[0;34m)\u001b[0m\u001b[0;34m\u001b[0m\u001b[0;34m\u001b[0m\u001b[0m\n",
      "\u001b[0;32m<ipython-input-15-e9684355fb0e>\u001b[0m in \u001b[0;36mforward\u001b[0;34m(self, x, hidden)\u001b[0m\n\u001b[1;32m     37\u001b[0m         \u001b[0;31m# embeddings and lstm_out\u001b[0m\u001b[0;34m\u001b[0m\u001b[0;34m\u001b[0m\u001b[0;34m\u001b[0m\u001b[0m\n\u001b[1;32m     38\u001b[0m         \u001b[0membeds\u001b[0m \u001b[0;34m=\u001b[0m \u001b[0mself\u001b[0m\u001b[0;34m.\u001b[0m\u001b[0membedding\u001b[0m\u001b[0;34m(\u001b[0m\u001b[0mx\u001b[0m\u001b[0;34m)\u001b[0m\u001b[0;34m\u001b[0m\u001b[0;34m\u001b[0m\u001b[0m\n\u001b[0;32m---> 39\u001b[0;31m         \u001b[0mlstm_out\u001b[0m\u001b[0;34m,\u001b[0m \u001b[0mhidden\u001b[0m \u001b[0;34m=\u001b[0m \u001b[0mself\u001b[0m\u001b[0;34m.\u001b[0m\u001b[0mlstm\u001b[0m\u001b[0;34m(\u001b[0m\u001b[0membeds\u001b[0m\u001b[0;34m,\u001b[0m \u001b[0mhidden\u001b[0m\u001b[0;34m)\u001b[0m\u001b[0;34m\u001b[0m\u001b[0;34m\u001b[0m\u001b[0m\n\u001b[0m\u001b[1;32m     40\u001b[0m \u001b[0;34m\u001b[0m\u001b[0m\n\u001b[1;32m     41\u001b[0m         \u001b[0;31m# stack up lstm outputs\u001b[0m\u001b[0;34m\u001b[0m\u001b[0;34m\u001b[0m\u001b[0;34m\u001b[0m\u001b[0m\n",
      "\u001b[0;32m~/.local/lib/python3.6/site-packages/torch/nn/modules/module.py\u001b[0m in \u001b[0;36m__call__\u001b[0;34m(self, *input, **kwargs)\u001b[0m\n\u001b[1;32m    530\u001b[0m             \u001b[0mresult\u001b[0m \u001b[0;34m=\u001b[0m \u001b[0mself\u001b[0m\u001b[0;34m.\u001b[0m\u001b[0m_slow_forward\u001b[0m\u001b[0;34m(\u001b[0m\u001b[0;34m*\u001b[0m\u001b[0minput\u001b[0m\u001b[0;34m,\u001b[0m \u001b[0;34m**\u001b[0m\u001b[0mkwargs\u001b[0m\u001b[0;34m)\u001b[0m\u001b[0;34m\u001b[0m\u001b[0;34m\u001b[0m\u001b[0m\n\u001b[1;32m    531\u001b[0m         \u001b[0;32melse\u001b[0m\u001b[0;34m:\u001b[0m\u001b[0;34m\u001b[0m\u001b[0;34m\u001b[0m\u001b[0m\n\u001b[0;32m--> 532\u001b[0;31m             \u001b[0mresult\u001b[0m \u001b[0;34m=\u001b[0m \u001b[0mself\u001b[0m\u001b[0;34m.\u001b[0m\u001b[0mforward\u001b[0m\u001b[0;34m(\u001b[0m\u001b[0;34m*\u001b[0m\u001b[0minput\u001b[0m\u001b[0;34m,\u001b[0m \u001b[0;34m**\u001b[0m\u001b[0mkwargs\u001b[0m\u001b[0;34m)\u001b[0m\u001b[0;34m\u001b[0m\u001b[0;34m\u001b[0m\u001b[0m\n\u001b[0m\u001b[1;32m    533\u001b[0m         \u001b[0;32mfor\u001b[0m \u001b[0mhook\u001b[0m \u001b[0;32min\u001b[0m \u001b[0mself\u001b[0m\u001b[0;34m.\u001b[0m\u001b[0m_forward_hooks\u001b[0m\u001b[0;34m.\u001b[0m\u001b[0mvalues\u001b[0m\u001b[0;34m(\u001b[0m\u001b[0;34m)\u001b[0m\u001b[0;34m:\u001b[0m\u001b[0;34m\u001b[0m\u001b[0;34m\u001b[0m\u001b[0m\n\u001b[1;32m    534\u001b[0m             \u001b[0mhook_result\u001b[0m \u001b[0;34m=\u001b[0m \u001b[0mhook\u001b[0m\u001b[0;34m(\u001b[0m\u001b[0mself\u001b[0m\u001b[0;34m,\u001b[0m \u001b[0minput\u001b[0m\u001b[0;34m,\u001b[0m \u001b[0mresult\u001b[0m\u001b[0;34m)\u001b[0m\u001b[0;34m\u001b[0m\u001b[0;34m\u001b[0m\u001b[0m\n",
      "\u001b[0;32m~/.local/lib/python3.6/site-packages/torch/nn/modules/rnn.py\u001b[0m in \u001b[0;36mforward\u001b[0;34m(self, input, hx)\u001b[0m\n\u001b[1;32m    554\u001b[0m             \u001b[0mhx\u001b[0m \u001b[0;34m=\u001b[0m \u001b[0mself\u001b[0m\u001b[0;34m.\u001b[0m\u001b[0mpermute_hidden\u001b[0m\u001b[0;34m(\u001b[0m\u001b[0mhx\u001b[0m\u001b[0;34m,\u001b[0m \u001b[0msorted_indices\u001b[0m\u001b[0;34m)\u001b[0m\u001b[0;34m\u001b[0m\u001b[0;34m\u001b[0m\u001b[0m\n\u001b[1;32m    555\u001b[0m \u001b[0;34m\u001b[0m\u001b[0m\n\u001b[0;32m--> 556\u001b[0;31m         \u001b[0mself\u001b[0m\u001b[0;34m.\u001b[0m\u001b[0mcheck_forward_args\u001b[0m\u001b[0;34m(\u001b[0m\u001b[0minput\u001b[0m\u001b[0;34m,\u001b[0m \u001b[0mhx\u001b[0m\u001b[0;34m,\u001b[0m \u001b[0mbatch_sizes\u001b[0m\u001b[0;34m)\u001b[0m\u001b[0;34m\u001b[0m\u001b[0;34m\u001b[0m\u001b[0m\n\u001b[0m\u001b[1;32m    557\u001b[0m         \u001b[0;32mif\u001b[0m \u001b[0mbatch_sizes\u001b[0m \u001b[0;32mis\u001b[0m \u001b[0;32mNone\u001b[0m\u001b[0;34m:\u001b[0m\u001b[0;34m\u001b[0m\u001b[0;34m\u001b[0m\u001b[0m\n\u001b[1;32m    558\u001b[0m             result = _VF.lstm(input, hx, self._flat_weights, self.bias, self.num_layers,\n",
      "\u001b[0;32m~/.local/lib/python3.6/site-packages/torch/nn/modules/rnn.py\u001b[0m in \u001b[0;36mcheck_forward_args\u001b[0;34m(self, input, hidden, batch_sizes)\u001b[0m\n\u001b[1;32m    510\u001b[0m \u001b[0;34m\u001b[0m\u001b[0m\n\u001b[1;32m    511\u001b[0m         self.check_hidden_size(hidden[0], expected_hidden_size,\n\u001b[0;32m--> 512\u001b[0;31m                                'Expected hidden[0] size {}, got {}')\n\u001b[0m\u001b[1;32m    513\u001b[0m         self.check_hidden_size(hidden[1], expected_hidden_size,\n\u001b[1;32m    514\u001b[0m                                'Expected hidden[1] size {}, got {}')\n",
      "\u001b[0;32m~/.local/lib/python3.6/site-packages/torch/nn/modules/rnn.py\u001b[0m in \u001b[0;36mcheck_hidden_size\u001b[0;34m(self, hx, expected_hidden_size, msg)\u001b[0m\n\u001b[1;32m    174\u001b[0m         \u001b[0;31m# type: (Tensor, Tuple[int, int, int], str) -> None\u001b[0m\u001b[0;34m\u001b[0m\u001b[0;34m\u001b[0m\u001b[0;34m\u001b[0m\u001b[0m\n\u001b[1;32m    175\u001b[0m         \u001b[0;32mif\u001b[0m \u001b[0mhx\u001b[0m\u001b[0;34m.\u001b[0m\u001b[0msize\u001b[0m\u001b[0;34m(\u001b[0m\u001b[0;34m)\u001b[0m \u001b[0;34m!=\u001b[0m \u001b[0mexpected_hidden_size\u001b[0m\u001b[0;34m:\u001b[0m\u001b[0;34m\u001b[0m\u001b[0;34m\u001b[0m\u001b[0m\n\u001b[0;32m--> 176\u001b[0;31m             \u001b[0;32mraise\u001b[0m \u001b[0mRuntimeError\u001b[0m\u001b[0;34m(\u001b[0m\u001b[0mmsg\u001b[0m\u001b[0;34m.\u001b[0m\u001b[0mformat\u001b[0m\u001b[0;34m(\u001b[0m\u001b[0mexpected_hidden_size\u001b[0m\u001b[0;34m,\u001b[0m \u001b[0mtuple\u001b[0m\u001b[0;34m(\u001b[0m\u001b[0mhx\u001b[0m\u001b[0;34m.\u001b[0m\u001b[0msize\u001b[0m\u001b[0;34m(\u001b[0m\u001b[0;34m)\u001b[0m\u001b[0;34m)\u001b[0m\u001b[0;34m)\u001b[0m\u001b[0;34m)\u001b[0m\u001b[0;34m\u001b[0m\u001b[0;34m\u001b[0m\u001b[0m\n\u001b[0m\u001b[1;32m    177\u001b[0m \u001b[0;34m\u001b[0m\u001b[0m\n\u001b[1;32m    178\u001b[0m     \u001b[0;32mdef\u001b[0m \u001b[0mcheck_forward_args\u001b[0m\u001b[0;34m(\u001b[0m\u001b[0mself\u001b[0m\u001b[0;34m,\u001b[0m \u001b[0minput\u001b[0m\u001b[0;34m,\u001b[0m \u001b[0mhidden\u001b[0m\u001b[0;34m,\u001b[0m \u001b[0mbatch_sizes\u001b[0m\u001b[0;34m)\u001b[0m\u001b[0;34m:\u001b[0m\u001b[0;34m\u001b[0m\u001b[0;34m\u001b[0m\u001b[0m\n",
      "\u001b[0;31mRuntimeError\u001b[0m: Expected hidden[0] size (2, 22, 256), got (2, 50, 256)"
     ]
    }
   ],
   "source": [
    "# loss and optimization functions\n",
    "lr = 0.001\n",
    "\n",
    "criterion = nn.BCELoss()\n",
    "optimizer = torch.optim.Adam(net.parameters(), lr = lr)\n",
    "\n",
    "\n",
    "# training params\n",
    "\n",
    "epochs = 4 # 3-4 is approx where I noticed the validation loss stop decreasing\n",
    "\n",
    "counter = 0\n",
    "print_every = 100\n",
    "clip = 5 # gradient clipping\n",
    "\n",
    "# check if CUDA is available\n",
    "\n",
    "train_on_gpu = torch.cuda.is_available() \n",
    "\n",
    "# move model to GPU, if available\n",
    "if(train_on_gpu):\n",
    "    print( \"CUDA is available!  Training on GPU ...\")\n",
    "    net.cuda()\n",
    "\n",
    "net.train()\n",
    "\n",
    "# train for some number of epochs\n",
    "for e in range(epochs):\n",
    "    # initialize hidden state\n",
    "    h = net.init_hidden(batch_size)\n",
    "\n",
    "    # batch loop\n",
    "    for inputs, labels in train_loader:\n",
    "        counter += 1\n",
    "        \n",
    "        if(train_on_gpu):\n",
    "            inputs, labels = inputs.cuda(), labels.cuda()\n",
    "        \n",
    "        # Creating new variables for the hidden state, otherwise\n",
    "        # we'd backprop through the entire training history\n",
    "        h = tuple([each.data for each in h])\n",
    "\n",
    "        # zero accumulated gradients\n",
    "        net.zero_grad()\n",
    "\n",
    "        # get the output from the model\n",
    "\n",
    "        #inputs = inputs.type(torch.LongTensor) #this line is commented because it throws RunTime error: \n",
    "                                                #Expected object of device type cuda but got device type cpu for argument #3\n",
    "                                                #'index' in call to _th_index_select\n",
    "        print((h))\n",
    "        output, h = net(inputs, h)\n",
    "        \n",
    "        # calculate the loss and perform backprop\n",
    "        loss = criterion(output.squeeze(), labels.float())\n",
    "        loss.backward()\n",
    "\n",
    "        # `clip_grad_norm` helps prevent the exploding gradient problem in RNNs / LSTMs.\n",
    "        nn.utils.clip_grad_norm_(net.parameters(), clip)\n",
    "        optimizer.step()\n",
    "\n",
    "        # loss stats\n",
    "        if counter % print_every == 0:\n",
    "            # Get validation loss\n",
    "            val_h = net.init_hidden(batch_size)\n",
    "            val_losses = []\n",
    "            net.eval()\n",
    "            for inputs, labels in valid_loader:\n",
    "\n",
    "                # Creating new variables for the hidden state, otherwise\n",
    "                # we'd backprop through the entire training history\n",
    "                val_h = tuple([each.data for each in val_h])\n",
    "                \n",
    "                \n",
    "                if(train_on_gpu):\n",
    "                    inputs, labels = inputs.cuda(), labels.cuda()\n",
    "\n",
    "                \n",
    "                inputs = inputs.type(torch.LongTensor)\n",
    "                output, val_h = net(inputs, val_h)\n",
    "                val_loss = criterion(output.squeeze(), labels.float())\n",
    "\n",
    "                val_losses.append(val_loss.item())\n",
    "\n",
    "            net.train()\n",
    "            print(\"Epoch: {}/{}...\".format(e+1, epochs),\n",
    "                  \"Step: {}...\".format(counter),\n",
    "                  \"Loss: {:.6f}...\".format(loss.item()),\n",
    "                  \"Val Loss: {:.6f}\".format(np.mean(val_losses)))"
   ]
  },
  {
   "cell_type": "code",
   "execution_count": null,
   "metadata": {},
   "outputs": [],
   "source": []
  }
 ]
}