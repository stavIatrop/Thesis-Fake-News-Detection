{
 "nbformat": 4,
 "nbformat_minor": 2,
 "metadata": {
  "language_info": {
   "name": "python",
   "codemirror_mode": {
    "name": "ipython",
    "version": 3
   },
   "version": "3.6.9-final"
  },
  "orig_nbformat": 2,
  "file_extension": ".py",
  "mimetype": "text/x-python",
  "name": "python",
  "npconvert_exporter": "python",
  "pygments_lexer": "ipython3",
  "version": 3,
  "kernelspec": {
   "name": "python36964bit801bdd0f6d924c1ebf89c3923d7c21c9",
   "display_name": "Python 3.6.9 64-bit"
  }
 },
 "cells": [
  {
   "cell_type": "markdown",
   "metadata": {},
   "source": [
    "### Loading the dataset from the csv file"
   ]
  },
  {
   "cell_type": "code",
   "execution_count": 23,
   "metadata": {},
   "outputs": [],
   "source": [
    "import pandas as pd\n",
    "\n",
    "df = pd.read_csv(\"cleaned_lower_politifact.csv\", ',')\n",
    "X = df['text'].values\n",
    "labels = df['label'].values"
   ]
  },
  {
   "cell_type": "markdown",
   "metadata": {},
   "source": [
    "### Data Processing — convert to lower case and remove punctuation"
   ]
  },
  {
   "cell_type": "code",
   "execution_count": 24,
   "metadata": {},
   "outputs": [],
   "source": [
    "# import re, string\n",
    "\n",
    "# for i in range(X.size):\n",
    "    \n",
    "#     words = X[i].split()\n",
    "#     filtered_list = []\n",
    "#     for word in words:\n",
    "#         pattern = re.compile('[^\\u0000-\\u007F]+', re.UNICODE)  #Remove all non-alphanumeric characters\n",
    "        \n",
    "#         word = pattern.sub('', word)\n",
    "#         word = word.translate(str.maketrans('', '', string.punctuation))\n",
    "#         word = word.lower()\n",
    "\n",
    "#         filtered_list.append(word)\n",
    "#         result = ' '.join(filtered_list)\n",
    "        \n",
    "#     X[i] = result      \n",
    "\n",
    "# list1 = [['id', 'text', 'label']]\n",
    "# for i in range(0, len(X)):\n",
    "#       list1.append([df['id'][i], X[i], df['label'][i]])\n",
    "# df1 = pd.DataFrame(list1)\n",
    "# df1.to_csv('cleaned_lower_politifact.csv',sep=',',index = False ,header = False)"
   ]
  },
  {
   "cell_type": "markdown",
   "metadata": {},
   "source": [
    "### Tokenize — Create Vocab to Int mapping dictionary\n",
    "\n",
    "Ιn most of the NLP tasks, you will create an index mapping dictionary in such a way that your frequently occurring words are assigned lower indexes. One of the most common way of doing this is to use ```Counter``` method from ```Collections``` library."
   ]
  },
  {
   "cell_type": "code",
   "execution_count": 56,
   "metadata": {},
   "outputs": [],
   "source": [
    "from collections import Counter\n",
    "\n",
    "words_list = []\n",
    "for i in range(X.size):\n",
    "    \n",
    "    words = X[i].split()\n",
    "    words_list.append(words)\n",
    "\n",
    "flat_word_list = [item for sublist in words_list for item in sublist]\n",
    "count_words = Counter(flat_word_list)\n",
    "\n",
    "total_words = len(flat_word_list)\n",
    "sorted_words = count_words.most_common(total_words)\n",
    "#print(count_words)\n",
    "#print(total_words)\n",
    "#print(sorted_words)"
   ]
  },
  {
   "cell_type": "code",
   "execution_count": null,
   "metadata": {},
   "outputs": [],
   "source": []
  }
 ]
}