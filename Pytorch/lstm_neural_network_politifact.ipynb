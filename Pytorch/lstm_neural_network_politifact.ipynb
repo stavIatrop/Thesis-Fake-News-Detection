{
  "nbformat": 4,
  "nbformat_minor": 0,
  "metadata": {
    "colab": {
      "name": "lstm_neural_network.ipynb",
      "provenance": [],
      "collapsed_sections": [],
      "mount_file_id": "1YsEW6YU4dXD03bbD7dBntfwMAoQmqc1y",
      "authorship_tag": "ABX9TyMwo++Pm1qoyf3U2ribhMoH",
      "include_colab_link": true
    },
    "kernelspec": {
      "name": "python3",
      "display_name": "Python 3"
    }
  },
  "cells": [
    {
      "cell_type": "markdown",
      "metadata": {
        "id": "view-in-github",
        "colab_type": "text"
      },
      "source": [
        "<a href=\"https://colab.research.google.com/github/stavIatrop/Fake-News-Detection/blob/master/lstm_neural_network.ipynb\" target=\"_parent\"><img src=\"https://colab.research.google.com/assets/colab-badge.svg\" alt=\"Open In Colab\"/></a>"
      ]
    },
    {
      "cell_type": "markdown",
      "metadata": {
        "id": "VI--j2JXUyyT",
        "colab_type": "text"
      },
      "source": [
        "Import and split the data"
      ]
    },
    {
      "cell_type": "code",
      "metadata": {
        "id": "ArKjd-bNUk6i",
        "colab_type": "code",
        "outputId": "9eb3f312-07cf-4b0f-fff7-acbbc3e1dd05",
        "colab": {
          "base_uri": "https://localhost:8080/",
          "height": 52
        }
      },
      "source": [
        "import pandas as pd\n",
        "from sklearn.model_selection import StratifiedShuffleSplit\n",
        "\n",
        "data = pd.read_csv(\"drive/My Drive/datasets/politifact.csv\", \",\")\n",
        "data_labels = data['label'].values\n",
        "data = data['text'].values\n",
        "\n",
        "sss = StratifiedShuffleSplit(n_splits=5, test_size=0.2, random_state=42)\n",
        "\n",
        "for train_index, test_index in sss.split(data, data_labels):\n",
        "    X_train, X_test = data[train_index], data[test_index]\n",
        "    Y_train, Y_test = data_labels[train_index], data_labels[test_index]\n",
        "\n",
        "print(\"Train shape : \",X_train.shape)\n",
        "print(\"Test shape : \",X_test.shape)"
      ],
      "execution_count": 45,
      "outputs": [
        {
          "output_type": "stream",
          "text": [
            "Train shape :  (559,)\n",
            "Test shape :  (140,)\n"
          ],
          "name": "stdout"
        }
      ]
    },
    {
      "cell_type": "markdown",
      "metadata": {
        "id": "gQcp7Md8U4Au",
        "colab_type": "text"
      },
      "source": [
        "Preprocess the data."
      ]
    },
    {
      "cell_type": "code",
      "metadata": {
        "id": "zIzYm72wU3iC",
        "colab_type": "code",
        "colab": {}
      },
      "source": [
        "import re\n",
        "\n",
        "def remove_non_ascii(X):\n",
        "  for i in range(len(X)):\n",
        "    words = X[i].split()\n",
        "    filtered_list = []\n",
        "    for word in words:\n",
        "        pattern = re.compile('[^\\u0000-\\u007F]+', re.UNICODE)  #Remove all non-alphanumeric characters\n",
        "        \n",
        "        word = pattern.sub(\" \", word)\n",
        "        filtered_list.append(word)\n",
        "        result = ' '.join(filtered_list)\n",
        "        \n",
        "    X[i] = result\n",
        "  return X\n",
        "\n",
        "def toLowerCase(X):\n",
        "\n",
        "  for i in range(len(X)):\n",
        "    filtered_list = []\n",
        "    for word in X[i].split():\n",
        "      word = word.lower()\n",
        "      filtered_list.append(word)\n",
        "      result = ' '.join(filtered_list)\n",
        "\n",
        "    X[i] = result\n",
        "  \n",
        "  return X\n",
        "\n",
        "import string\n",
        "\n",
        "def handle_punctuation(X):\n",
        "\n",
        "  for i in range(len(X)):\n",
        "    filtered_list = []\n",
        "    \n",
        "    for word in X[i].split():\n",
        "      \n",
        "      cleaned = 0\n",
        "      \n",
        "      while(not cleaned):\n",
        "        punc_word = \"\"\n",
        "\n",
        "        if (word[0] in string.punctuation):\n",
        "          punc_word = word[0]\n",
        "          if (len(word) == 1):\n",
        "            cleaned = 1\n",
        "          else:\n",
        "            word = word[1:]\n",
        "          filtered_list.append(punc_word)\n",
        "          result = ' '.join(filtered_list)\n",
        "        elif (word[len(word) - 1] in string.punctuation):\n",
        "          punc_word = word[len(word) - 1]\n",
        "          word = word[:len(word) - 1]\n",
        "          filtered_list.append(punc_word)\n",
        "          result = ' '.join(filtered_list)\n",
        "        else:\n",
        "          #word = word.translate(str.maketrans(' ', ' ', string.punctuation))\n",
        "          t = str.maketrans(dict.fromkeys(string.punctuation, \" \"))\n",
        "          word = word.translate(t)\n",
        "          cleaned = 1\n",
        "          filtered_list.append(word)\n",
        "          result = ' '.join(filtered_list)\n",
        "    \n",
        "    X[i] = result\n",
        "  \n",
        "  return X\n",
        "\n",
        "def clean_numbers(X):\n",
        "  for i in range(len(X)):\n",
        "    x = X[i]\n",
        "    if bool(re.search(r'\\d', x)):\n",
        "      x = re.sub('[0-9]{4,}', ' ### ', x)\n",
        "      x = re.sub('[0-9]{3}', ' ## ', x)\n",
        "      x = re.sub('[0-9]{2}', ' # ', x)\n",
        "    X[i] = x\n",
        "  return X\n",
        "\n",
        "def preprocess_text(X):\n",
        "\n",
        "  #remove non ascii characters\n",
        "  X = remove_non_ascii(X)\n",
        "  #transform to lower case\n",
        "  X = toLowerCase(X)\n",
        "  #handle punctuation\n",
        "  X = handle_punctuation(X)\n",
        "  #clean numbers\n",
        "  X = clean_numbers(X)\n",
        "  return X"
      ],
      "execution_count": 0,
      "outputs": []
    },
    {
      "cell_type": "code",
      "metadata": {
        "id": "gIM-lapiV28A",
        "colab_type": "code",
        "colab": {}
      },
      "source": [
        "X_train = preprocess_text(X_train)\n",
        "X_test = preprocess_text(X_test)"
      ],
      "execution_count": 0,
      "outputs": []
    },
    {
      "cell_type": "markdown",
      "metadata": {
        "id": "It7SA09QWHqz",
        "colab_type": "text"
      },
      "source": [
        "Load GloVe embeddings and create word index"
      ]
    },
    {
      "cell_type": "code",
      "metadata": {
        "id": "9MW01IPXV-mL",
        "colab_type": "code",
        "colab": {}
      },
      "source": [
        "import numpy as np\n",
        "def load_glove_index():\n",
        "    word2idx = dict()\n",
        "    embeddings_index = dict()\n",
        "    idx = 0\n",
        "    EMBEDDING_FILE = \"/content/drive/My Drive/GloVe/glove.6B.50d.txt\"\n",
        "    for f in open(EMBEDDING_FILE):\n",
        "      line = f.split(\" \")\n",
        "      word = line[0]\n",
        "      word2idx[word] = idx\n",
        "      idx += 1\n",
        "      embeddings_index[word] = np.array(line[1:]).astype(np.float)\n",
        "    return embeddings_index, word2idx"
      ],
      "execution_count": 0,
      "outputs": []
    },
    {
      "cell_type": "code",
      "metadata": {
        "id": "oks9MkFfWUTv",
        "colab_type": "code",
        "colab": {}
      },
      "source": [
        "embeddings_index, word2idx = load_glove_index()"
      ],
      "execution_count": 0,
      "outputs": []
    },
    {
      "cell_type": "code",
      "metadata": {
        "id": "KbIvIEtlJXgd",
        "colab_type": "code",
        "outputId": "3d62b80a-a8fb-47c8-d542-b4a2546c1165",
        "colab": {
          "base_uri": "https://localhost:8080/",
          "height": 191
        }
      },
      "source": [
        "embeddings_index[(list(word2idx.keys())[len(word2idx)-1])]  #last token is the unknown token\n"
      ],
      "execution_count": 50,
      "outputs": [
        {
          "output_type": "execute_result",
          "data": {
            "text/plain": [
              "array([-0.12920076, -0.28866628, -0.01224866, -0.05676644, -0.20210965,\n",
              "       -0.08389011,  0.33359843,  0.16045167,  0.03867431,  0.17833012,\n",
              "        0.04696583, -0.00285802,  0.29099807,  0.04613704, -0.20923874,\n",
              "       -0.06613114, -0.06822549,  0.07665912,  0.3134014 ,  0.17848536,\n",
              "       -0.1225775 , -0.09916983, -0.07495987,  0.06413227,  0.14441176,\n",
              "        0.60894334,  0.17463093,  0.05335403, -0.01273871,  0.03474107,\n",
              "       -0.8123879 , -0.04688699,  0.20193407,  0.2031118 , -0.03935686,\n",
              "        0.06967544, -0.01553638, -0.03405238, -0.06528071,  0.12250231,\n",
              "        0.13991883, -0.17446303, -0.08011883,  0.0849521 , -0.01041659,\n",
              "       -0.13705009,  0.20127155,  0.10069407,  0.00653003,  0.01685157])"
            ]
          },
          "metadata": {
            "tags": []
          },
          "execution_count": 50
        }
      ]
    },
    {
      "cell_type": "markdown",
      "metadata": {
        "id": "9cQ5nmOaCcaP",
        "colab_type": "text"
      },
      "source": [
        "Build the training vocab."
      ]
    },
    {
      "cell_type": "code",
      "metadata": {
        "id": "vRtVjjJGWbNI",
        "colab_type": "code",
        "colab": {}
      },
      "source": [
        "def build_vocab(X):\n",
        "  sentences = [row.split() for row in X]     #sentences --> list of lists of tokens\n",
        "  vocab = dict()\n",
        "  for sentence in sentences:\n",
        "    for word in sentence:\n",
        "      if word in vocab.keys():\n",
        "        vocab[word] += 1\n",
        "      else:\n",
        "        vocab[word] = 1\n",
        "  return vocab"
      ],
      "execution_count": 0,
      "outputs": []
    },
    {
      "cell_type": "code",
      "metadata": {
        "id": "Ug4Abi77B1WM",
        "colab_type": "code",
        "outputId": "809358ae-252a-4970-f749-82ee1152b5ca",
        "colab": {
          "base_uri": "https://localhost:8080/",
          "height": 34
        }
      },
      "source": [
        "vocab = build_vocab(X_train)\n",
        "print({k: vocab[k] for k in list(vocab)[:10]})"
      ],
      "execution_count": 52,
      "outputs": [
        {
          "output_type": "stream",
          "text": [
            "{'george': 240, '.': 51896, 'w': 68, 'bush': 399, 'has': 3036, 'lobbed': 3, 'thinly': 3, 'veiled': 5, 'critiques': 2, 'of': 21340}\n"
          ],
          "name": "stdout"
        }
      ]
    },
    {
      "cell_type": "markdown",
      "metadata": {
        "id": "b5SYfFQxLeoz",
        "colab_type": "text"
      },
      "source": [
        "Build the embedding weight map with the indices. (either using only vocabulary words or all the pretrained embeddings)"
      ]
    },
    {
      "cell_type": "code",
      "metadata": {
        "id": "vihTj0YZC44I",
        "colab_type": "code",
        "colab": {}
      },
      "source": [
        "import numpy as np\n",
        "\n",
        "def build_embedding_weight_matrix( vocab, embeddings_index, word2idx, usevoc = True):\n",
        "  EMBEDDING_DIM = 50\n",
        "  if (usevoc):\n",
        "    word2idx.clear()\n",
        "    weight_matrix = np.zeros((len(vocab) + 1, EMBEDDING_DIM), dtype=float)\n",
        "    for idx, word in enumerate(vocab):\n",
        "      word2idx[word] = idx\n",
        "      if word in embeddings_index.keys():\n",
        "        weight_matrix[idx] = embeddings_index[word]\n",
        "      else:\n",
        "        #store in a variable one idx representing an unknown token for later use in generating batches\n",
        "        idx_unknown = idx\n",
        "        weight_matrix[idx] = embeddings_index[\"unknown_emb\"]\n",
        "    \n",
        "    word2idx[\"pad_token\"] = len(vocab)\n",
        "    weight_matrix[len(vocab)] = np.zeros(EMBEDDING_DIM)     #pad token\n",
        "  else:\n",
        "    idx_unknown = -1\n",
        "    weight_matrix = np.zeros((len(embeddings_index) + 1, EMBEDDING_DIM), dtype=float)\n",
        "    for idx, word in enumerate(embeddings_index):\n",
        "      weight_matrix[idx] = embeddings_index[word]\n",
        "\n",
        "    word2idx[\"pad_token\"] = len(vocab)\n",
        "    weight_matrix[len(embeddings_index)] = np.zeros(EMBEDDING_DIM)    #pad token\n",
        "    \n",
        "  \n",
        "  \n",
        "  return weight_matrix, idx_unknown"
      ],
      "execution_count": 0,
      "outputs": []
    },
    {
      "cell_type": "code",
      "metadata": {
        "id": "cHyJVYIGQ1wu",
        "colab_type": "code",
        "outputId": "914f88d5-e57e-4568-a938-2c4b781aca61",
        "colab": {
          "base_uri": "https://localhost:8080/",
          "height": 34
        }
      },
      "source": [
        "emb_weight_matrix, idx_unk = build_embedding_weight_matrix(vocab, embeddings_index, word2idx, True)\n",
        "emb_weight_matrix[0:5]\n",
        "emb_weight_matrix.shape"
      ],
      "execution_count": 54,
      "outputs": [
        {
          "output_type": "execute_result",
          "data": {
            "text/plain": [
              "(22942, 50)"
            ]
          },
          "metadata": {
            "tags": []
          },
          "execution_count": 54
        }
      ]
    },
    {
      "cell_type": "markdown",
      "metadata": {
        "id": "Kc9uS9uNc-XO",
        "colab_type": "text"
      },
      "source": [
        "Split train and valid data set."
      ]
    },
    {
      "cell_type": "code",
      "metadata": {
        "id": "nCc35BuYc95S",
        "colab_type": "code",
        "outputId": "7066336f-845f-499a-c19b-06843371d8ff",
        "colab": {
          "base_uri": "https://localhost:8080/",
          "height": 69
        }
      },
      "source": [
        "sss = StratifiedShuffleSplit(n_splits=5, test_size=0.2, random_state=42)\n",
        "\n",
        "for train_index, valid_index in sss.split(X_train, Y_train):\n",
        "  train_X, X_valid = X_train[train_index],X_train[valid_index]\n",
        "  train_Y, Y_valid = Y_train[train_index] ,Y_train[valid_index]\n",
        "\n",
        "print(\"Train shape : \",train_X.shape)\n",
        "print(\"Valid shape : \",X_valid.shape)\n",
        "print(\"Test shape : \",X_test.shape)"
      ],
      "execution_count": 55,
      "outputs": [
        {
          "output_type": "stream",
          "text": [
            "Train shape :  (447,)\n",
            "Valid shape :  (112,)\n",
            "Test shape :  (140,)\n"
          ],
          "name": "stdout"
        }
      ]
    },
    {
      "cell_type": "markdown",
      "metadata": {
        "id": "FYT3t3-beqdq",
        "colab_type": "text"
      },
      "source": [
        "Encode documents' text."
      ]
    },
    {
      "cell_type": "code",
      "metadata": {
        "id": "s4xHvPxEf4ZC",
        "colab_type": "code",
        "colab": {}
      },
      "source": [
        "def encode_documents(X, word2idx):\n",
        "\n",
        "  sentences = [row.split() for row in X]\n",
        "  for sentence in sentences:\n",
        "    for i in range(len(sentence)):\n",
        "      if ( sentence[i] in word2idx.keys() ):\n",
        "        sentence[i] = word2idx[sentence[i]]\n",
        "      else:\n",
        "        sentence[i] = word2idx[\"unknown_emb\"]\n",
        "  return sentences \n"
      ],
      "execution_count": 0,
      "outputs": []
    },
    {
      "cell_type": "code",
      "metadata": {
        "id": "iWLWGagZl3fN",
        "colab_type": "code",
        "outputId": "26145a1a-360a-4ab1-c903-32038e648eb4",
        "colab": {
          "base_uri": "https://localhost:8080/",
          "height": 54
        }
      },
      "source": [
        "print ([row.split() for row in train_X[:5]])\n",
        "\n",
        "X_train = encode_documents(train_X, word2idx)\n",
        "X_valid = encode_documents(X_valid, word2idx)"
      ],
      "execution_count": 57,
      "outputs": [
        {
          "output_type": "stream",
          "text": [
            "[['brian', 'kline', 'is', 'the', 'type', 'of', 'person', 'who', 'voted', 'for', 'president', 'donald', 'trump', 'in', '.', 'november', 'he', 's', 'a', 'working', 'class', 'man', 'whose', 'job', 'is', 'in', ',', 'retail', 'scoring', 'him', '$', '.', '#', '#', 'hour', 'thanks', 'to', 'medicaid', 'he', 's', 'being', 'treated', 'for', '.', 'cancer', 'during', 'the', 'cnn', 'town', 'hall', 'with', 'health', 'and', 'human', 'services', 'secretary', 'tom', ',', 'price', 'kline', 'explained', 'his', 'situation', 'and', 'his', '.', 'struggles', 'my', 'question', 'is', 'pretty', ',', 'straightforward', 'kline', 'told', '.', 'price', 'why', 'do', 'you', 'want', 'to', 'take', 'away', 'my', 'medicaid', '?', 'expansion', 'price', 's', 'dispassionate', 'answer', 'seemed', 'to', 'fall', 'flat', 'on', 'the', '.', 'audience', 'i', 'took', 'care', 'of', 'a', 'lot', 'of', 'patients', 'with', ',', 'cancer', 'price', 'explained', 'about', 'his', '#', 'years', 'as', 'an', 'orthopedic', '.', 'surgeon', 'we', 'don', 't', 'want', 'to', 'take', 'care', 'away', 'from', '.', 'anybody', 'what', 'we', 'want', 'to', 'make', ',', 'certain', ',', 'though', 'is', 'that', 'every', 'single', 'american', 'has', 'access', 'to', 'the', 'kind', 'of', 'coverage', 'and', 'care', 'that', 'they', 'want', 'for', '.', 'themselves', ',', 'but', 'what', 'if', 'there', 'are', 'people', 'out', 'there', 'who', 'are', 'going', 'to', 'die', 'more', 'quickly', 'because', 'of', 'what', 'you', 're', 'doing', ',', 'here', 'because', 'you', 're', 'essentially', 'taking', 'medical', 'care', 'away', 'from', 'people', 'who', 'need', 'it', 'the', '?', 'most', 'kline', 'wouldn', 't', 'back', '.', 'down', 'are', 'you', 'saying', 'you', 'actually', 'want', 'people', 'to', 'be', 'okay', 'with', '?', 'that', 'price', 'thought', 'for', 'a', ',', 'second', 'then', ':', 'replied', ',', 'look', 'i', 'understand', 'how', 'all', 'of', 'this', 'sounds', 'right', ',', 'now', 'but', 'you', ',', 'know', 'there', 'comes', 'a', 'time', 'in', 'everyone', 's', 'life', 'when', 'they', 'just', 'have', 'to', 'stop', 'talking', '.', 'b', 's', 'and', 'be', '.', 'practical', 'as', 'of', 'right', ',', 'now', 'the', 'fact', 'to', 'the', 'matter', ',', 'is', 'our', 'national', 'budget', 'is', 'hemorrhaging', 'money', 'because', 'of', '.', 'obamacare', 'and', 'believe', 'me', 'i', 'get', 'how', 'insensitive', 'that', ',', 'sounds', 'but', 'at', 'the', 'end', 'of', 'the', ',', 'day', 'we', 'have', 'to', 'stop', 'ignoring', 'the', 'facts', '.', 'here', 'he', ',', 'continued', 'i', 'understand', 'that', 'this', 'is', 'not', 'something', 'anyone', 'wants', 'to', ',', 'hear', 'especially', 'people', 'who', 've', 'got', 'worse', 'problems', 'to', 'deal', 'with', 'than', 'the', 'state', 'of', 'the', 'national', ',', 'budget', 'but', 'this', 'is', 'one', 'of', 'those', 'situations', 'where', 'the', 'needs', 'of', 'the', 'many', 'outweigh', 'the', 'needs', 'of', 'the', '.', 'few', 'when', 'president', 'trump', 'assumed', ',', 'office', 'he', 'was', 'appalled', 'at', 'the', 'state', 'of', 'the', 'national', 'budget', 'and', 'our', '.', 'finances', 'it', 'doesn', 't', 'take', 'a', 'rocket', 'scientist', 'to', 'figure', 'out', 'that', 'barack', 'obama', 'was', 'to', ',', 'blame', 'since', 'he', 's', 'the', 'one', 'who', 'left', 'the', 'hot', 'potato', 'behind', 'for', 'us', 'to', 'deal', '.', 'with', ',', 'now', 'i', 'm', 'not', 'going', 'to', 'go', 'into', 'whether', 'or', 'not', 'he', 'did', 'that', 'on', ',', 'purpose', 'but', 'at', 'the', 'end', 'of', 'the', ',', 'day', 'all', 'i', 'can', 'say', ',', 'is', 'we', 'have', 'to', 'fix', 'the', 'problem', 'or', 'else', 'we', 're', 'looking', 'at', 'nationwide', 'riots', 'and', 'another', 'economic', '.', 'recession', 'put', ',', 'simply', 'we', 'have', 'to', 'plug', 'some', 'holes', 'of', ',', 'which', 'by', 'the', ',', 'way', 'there', 'are', 'plenty', 'and', 'we', 'kind', 'of', 'have', 'to', 'start', 'with', 'the', 'biggest', ',', 'ones', 'the', 'orthopedic', 'surgeon', '.', 'added', 'unfortunately', 'for', 'millions', 'of', 'people', 'across', 'the', ',', 'country', 'obamacare', 'seems', 'to', 'be', 'the', 'biggest', 'one', 'by', '.', 'far', ',', 'besides', 'there', 'are', 'more', 'ways', 'than', 'one', 'to', 'look', 'at', 'this', '.', 'picture', 'i', 'know', 'it', 's', 'not', ',', 'pretty', 'but', 'at', 'the', 'end', 'of', 'the', ',', 'day', 'even', 'people', 'who', 'are', 'able', 'to', 'fight', 'off', 'cancer', 'i', 'm', 'sure', 'you', 'know', 'what', 'i', 'm', 'talking', ',', 'about', 'brian', 'they', 'can', 't', 'lead', '##', 'percent', 'normal', ',', 'lives', 'ever', '.', 'again', 'what', 'kind', 'of', 'an', 'existence', 'is', ',', 'that', 'to', 'have', 'to', 'survive', 'instead', 'of', '?', 'live', 'at', 'the', 'risk', 'of', 'sounding', ',', 'insensitive', 'we', 've', 'pretty', 'much', 'got', 'two', 'choices', ':', 'here', 'we', 'either', 'repeal', ',', 'obamacare', 'or', 'we', 'take', 'out', 'more', 'loans', 'from', 'countries', 'like', '.', 'china', 'and', 'nobody', 'wants', 'to', 'be', 'in', 'debt', 'to', 'the', '.', 'chinese', 'at', 'the', 'end', 'of', 'the', ',', 'day', 'it', 's', 'better', 'for', 'our', 'national', 'budget', 'if', 'cancer', 'patients', 'pass', 'away', 'more', ',', 'quickly', 'it', 's', 'a', 'lousy', 'way', 'to', 'live', ',', 'anyway', 'and', 'i', 'm', 'sorry', 'to', 'say', 'it', 'out', ',', 'loud', 'but', 'it', 's', 'the', ',', 'truth', 'price', '.', 'concluded'], ['robert', 'mueller', 's', ',', 'steamy', '#', 'year', 'affair', 'with', 'house', 'minority', 'leader', 'nancy', 'pelosi', 'is', 'going', 'to', 'cost', 'him', 'more', 'than', 'a', 'little', 'bit', 'of', 'embarrassment', 'and', 'his', ',', 'marriage', 'according', 'to', 'a', 'trusted', 'source', 'inside', 'the', 'department', 'of', '.', 'justice', 'mueller', 'will', 'also', 'be', 'forced', 'to', 'resign', 'from', 'his', 'position', 'as', 'special', 'prosecutor', 'for', 'the', ',', 'fbi', 'nullifying', 'everything', 'that', 'investigator', 'has', 'uncovered', 'as', 'fruit', 'of', 'the', 'poisonous', '.', 'tree', ',', 'pelosi', 'who', 'says', 'her', 'husband', 'was', 'well', 'aware', 'of', 'the', ',', 'affair', 'swears', 'that', 'mueller', 'was', 'just', 'a', 'friend', 'whose', 'company', 'she', 'enjoyed', 'on', ',', 'long', 'lonely', 'working', 'nights', 'and', 'weekends', 'in', '.', 'washington', 'the', 'california', 'progressive', 'says', 'her', 'husband', 'was', 'afforded', 'the', 'same', 'freedom', 'to', 'explore', 'pleasures', 'of', 'the', '.', 'flesh', ':', 'we', 're', 'not', 'interested', 'in', 'defending', 'our', 'actions', 'or', 'our', 'values', 'as', 'human', '.', 'beings', 'i', 'm', 'a', 'public', 'servant', 'who', 'will', 'continue', 'to', 'serve', 'until', 'my', 'health', 'or', 'my', 'constituents', 'say', '.', 'otherwise', 'regardless', 'of', 'how', 'much', 'we', 'hate', 'nacy', ',', 'pelosi', 'she', 'represents', 'a', 'congressional', 'district', 'that', 'saw', 'a', 'million', 'fraudulent', 'votes', 'from', 'illegal', '.', 'immigrants', 'she', 'll', 'hold', 'that', 'seat', 'until', 'she', '.', 'dies', ',', 'mueller', 'on', 'the', 'other', ',', 'hand', 'is', 'looking', 'at', 'a', 'messy', ',', 'divorce', 'a', 'public', 'humiliation', 'and', 'the', 'loss', 'of', 'his', '.', 'job', 'he', 'll', 'also', 'go', 'down', 'in', 'history', 'as', 'the', 'man', 'who', 'had', 'solid', 'evidence', 'against', 'several', 'trump', 'surrogates', 'and', 'allowed', 'their', 'cases', 'to', 'all', 'be', 'dismissed', 'on', 'a', '.', 'technicality', 'none', 'of', 'it', 'would', 'have', 'led', 'to', ',', 'trump', 'but', 'it', 'still', 'lifts', 'a', 'huge', 'weight', 'from', 'his', '.', 'legacy', 'mueller', 'is', 'finished', 'and', 'will', 'resign', 'as', 'early', 'as', 'next', 'tuesday', 'at', '.', '4', ':', 'source', 'ladies', 'of', 'liberty'], ['thousands', 'of', 'government', 'workers', 'are', 'unsure', 'whether', 'or', 'not', 'they', 'will', 'be', 'heading', 'to', 'work', 'on', 'monday', 'amid', 'uncertainty', 'about', 'how', 'long', 'a', 'government', 'shutdown', 'will', '.', 'last', 'uncertainty', 'is', 'the', 'byproduct', 'of', 'a', 'government', ',', 'shutdown', 'with', 'its', 'impact', 'often', 'hard', 'to', '.', 'predict', ',', 'however', 'clues', 'exist', 'in', 'the', 'last', ',', 'shutdown', 'which', 'was', 'in', '.', '###', 'key', 'services', 'will', ',', 'continue', 'and', 'many', 'agencies', 'plan', 'to', 'use', 'carryover', 'funds', 'to', 'remain', 'open', 'for', 'several', '.', 'days', 'but', 'each', 'day', 'the', 'shutdown', 'lasts', 'adds', 'to', 'the', 'pressure', 'on', ',', 'agencies', 'government', 'employees', 'and', 'civilian', ',', 'contractors', 'as', 'well', 'as', 'americans', 'who', 'rely', 'on', 'various', 'federal', '.', 'services', 'employees', 'considered', 'essential', 'will', 'still', 'be', 'required', 'to', 'report', 'to', 'work', 'should', 'the', 'shutdown', ',', 'continue', 'while', 'those', 'in', 'positions', 'deemed', 'nonessential', 'will', 'be', 'barred', 'from', 'coming', '.', 'in', 'the', 'white', 'house', 'on', 'friday', 'pledged', 'to', 'minimize', 'the', 'effects', 'of', 'the', 'shutdown', 'on', 'the', 'american', ',', 'people', 'with', 'one', 'official', 'noting', 'that', 'the', 'administration', 'has', 'urged', 'government', 'agencies', 'to', 'do', 'as', 'much', 'as', 'they', 'can', 'within', 'the', 'law', 'to', 'maintain', '.', 'operations', 'the', 'push', 'for', 'departments', 'and', 'agencies', 'to', 'utilize', 'existing', 'funding', 'to', 'remain', 'open', 'suggests', 'the', 'trump', 'administration', 'is', 'hedging', 'its', 'bets', 'that', 'lawmakers', 'can', 'reach', 'a', 'deal', 'and', 'avoid', 'a', 'shutdown', 'the', 'length', 'of', 'one', 'in', ',', '###', 'which', 'lasted', '#', '.', 'days', 'advertisement', 'each', 'federal', 'agency', 'has', 'a', 'contingency', 'plan', 'for', 'a', 'shutdown', 'that', 'is', 'written', 'with', 'help', 'from', 'the', 'white', 'house', 's', 'office', 'of', 'management', 'and', '.', 'budget', 'but', 'the', 'impact', 'of', 'the', ',', 'shutdown', 'which', 'began', 'at', 'midnight', 'when', 'the', 'senate', 'failed', 'to', 'pass', 'a', 'short', 'term', 'spending', ',', 'bill', 'is', 'likely', 'to', 'trickle', 'down', 'gradually', 'as', 'agencies', 'work', 'to', 'mitigate', 'the', '.', 'effects', 'about', 'half', 'of', 'the', 'department', 'of', 'health', 'and', 'human', 'services', 'will', 'be', 'placed', 'on', '.', 'furlough', 'beneficiaries', 'of', 'programs', 'like', ',', 'medicare', 'social', 'security', 'and', 'medicaid', 'will', 'still', 'receive', '.', 'services', 'the', 'food', 'and', 'drug', ',', 'administration', ',', 'however', 'will', 'take', 'a', ',', 'hit', 'as', 'it', 'will', 'have', 'to', 'halt', 'activities', 'like', 'food', 'safety', '.', 'inspections', 'the', 'centers', 'for', 'disease', 'control', 'and', 'prevention', 'will', 'continue', 'immediate', 'response', 'work', 'on', ',', 'influenza', 'according', 'to', 'white', 'house', 'budget', 'chief', 'mick', 'mulvaney', 'john', '(', ')', 'mick', 'michael', 'mulvaneykey', 'impeachment', 'witnesses', 'to', 'know', 'as', 'public', 'hearings', 'begin', 'overnight', ':', 'defense', 'new', 'transcripts', 'tie', 'mulvaney', 'to', 'quid', 'pro', 'quo', 'effort', '|', 'mulvaney', 'defies', 'house', 'subpoena', '|', 'trump', 'rails', 'against', 'public', 'impeachment', 'hearings', 'democrats', 'aim', 'to', 'impeach', 'trump', 'by', 'christmas', '.', 'more', 'the', 'national', 'park', 'service', '(', ')', 'nps', 'will', 'keep', 'parks', ',', 'open', 'unlike', 'in', ',', '###', 'though', 'much', 'of', 'its', 'staff', 'will', 'not', 'report', 'to', '.', 'work', 'services', 'such', 'as', 'trash', 'pickup', 'and', 'restroom', 'cleaning', 'will', 'be', ',', 'halted', 'according', 'to', 'the', 'nps', 'contingency', 'plan', 'for', 'a', '.', 'shutdown', 'cybersecurity', 'will', 'remain', 'a', 'priority', 'during', 'the', ',', 'shutdown', 'as', 'the', 'government', 'will', 'continue', 'to', 'protect', 'information', 'technology', ',', 'systems', 'mulvaney', 'said', 'saturday', 'at', 'a', 'press', '.', 'conference', 'the', 'environmental', 'protection', 'agency', 'will', 'largely', 'stay', 'open', 'during', 'the', 'government', 's', ',', 'closure', 'and', 'the', 'labor', 'department', 'will', 'resume', 'mine', 'safety', '.', 'inspections', 'military', 'personnel', 'will', 'be', 'required', 'to', 'show', 'up', 'for', ',', 'work', 'but', 'will', 'not', 'receive', 'pay', 'for', 'as', 'long', 'as', 'the', 'shutdown', '.', 'lasts', 'families', 'of', 'slain', 'military', 'members', 'will', 'experience', 'a', 'halt', 'to', 'death', 'benefits', 'as', 'a', 'result', 'of', 'the', '.', 'shutdown', 'transportation', 'security', 'administration', '(', ')', 'tsa', 'personnel', 'will', 'continue', ',', 'operations', 'meaning', 'travelers', 'will', 'see', 'both', 'tsa', 'employees', 'and', 'canines', 'operating', 'in', '.', 'airports', 'the', 'federal', 'aviation', 'administration', 's', '(', ')', 'faa', 'management', 'of', 'air', 'traffic', 'control', 'will', 'also', '.', 'continue', 'flight', 'delays', 'are', 'not', 'expected', 'and', 'much', 'of', 'the', 'faa', 's', 'safety', 'inspections', 'will', '.', 'continue', 'the', 'government', ',', 'closure', 'a', 'result', 'of', 'congress', 's', 'failed', 'negotiations', 'over', 'a', 'spending', 'bill', 'the', 'last', 'several', ',', 'weeks', 'has', 'sparked', 'both', 'intraparty', 'battles', 'and', 'fights', 'between', 'democrats', 'and', '.', 'republicans', 'the', 'two', 'parties', 'have', 'each', 'tried', 'to', 'cast', 'blame', 'on', 'the', 'other', 'for', 'the', ',', 'shutdown', 'with', 'the', 'republican', 'national', 'committee', 'invoking', 'the', 'hashtag', '#', ',', 'schumershutdown', 'referring', 'to', 'senate', 'minority', 'leader', 'charles', 'schumer', 'charles', '(', ')', 'chuck', 'ellis', 'schumertop', 'senate', ':', 'dem', 'officials', 'timed', 'immigration', 'policy', 'around', '###', 'election', 'senate', 'fight', 'derails', 'bipartisan', 'drug', 'pricing', 'bills', 'trump', 'has', 'officially', 'appointed', 'one', 'in', 'four', 'circuit', 'court', 'judges', 'more', '(', '.', ')', '.', 'd', 'n', 'y', 'democrats', 'say', 'president', 'trump', 'donald', 'john', 'trumpkey', 'impeachment', 'witnesses', 'to', 'know', 'as', 'public', 'hearings', 'begin', 'centrist', 'democrats', 'seize', 'on', 'state', 'election', 'wins', 'to', 'rail', 'against', 'warren', 's', 'agenda', 'nunes', 'demands', 'schiff', 'testify', 'behind', 'closed', 'doors', 'in', 'trump', 'impeachment', 'inquiry', 'more', 'is', 'to', 'blame', 'for', 'the', ',', 'closure', 'which', 'follows', 'failed', 'talks', 'over', 'immigration', 'and', 'health', 'care', '.', 'funding', 'what', 'happens', 'next', 'depends', 'on', 'whether', 'lawmakers', 'reach', 'a', ',', 'deal', 'as', 'members', 'of', 'both', 'the', 'house', 'and', 'senate', 'have', 'remained', 'in', ',', 'washington', ',', '.', 'd', 'c', 'to', 'work', 'toward', 'an', 'agreement', 'to', 'open', 'the', '.', 'government', 'leaders', 'in', 'opposing', 'parties', 'on', 'saturday', 'appear', 'to', 'be', 'at', 'odds', 'over', 'a', 'short', 'term', 'resolution', 'to', 'fund', 'the', '.', 'government', 'both', 'chambers', 'returned', 'to', 'capitol', 'hill', 'on', 'saturday', 'afternoon', 'to', 'work', 'toward', 'a', '.', 'solution'], [',', 'hempstead', 'new', 'york', '(', ')', 'cnn', '-', '-', 'republican', 'presidential', 'candidate', '.', 'sen', 'john', 'mccain', 'and', 'democrat', '.', 'sen', 'barack', 'obama', 'faced', 'off', 'at', 'hofstra', 'university', 'wednesday', 'night', 'in', 'their', 'last', 'debate', 'before', 'election', '.', 'day', 'bob', 'schieffer', 'of', 'cbs', 'was', 'the', '.', 'moderator', 'here', 'is', 'a', 'transcript', 'of', 'the', '.', 'debate', '.', 'sens', 'barack', 'obama', 'and', 'john', 'mccain', 'debate', 'face', 'to', 'face', 'wednesday', '.', 'night', ':', 'schieffer', 'good', '.', 'evening', 'and', 'welcome', 'to', 'the', 'third', 'and', 'last', 'presidential', 'debate', 'of', ',', '###', 'sponsored', 'by', 'the', 'commission', 'on', 'presidential', '.', 'debates', 'i', 'm', 'bob', 'schieffer', 'of', 'cbs', '.', 'news', 'the', 'rules', 'tonight', 'are', '.', 'simple', 'the', 'subject', 'is', 'domestic', '.', 'policy', 'i', 'will', 'divide', 'the', 'next', 'hour', 'and', 'a', 'half', 'into', 'nine', 'minute', '.', 'segments', 'i', 'will', 'ask', 'a', 'question', 'at', 'the', 'beginning', 'of', 'each', '.', 'segment', 'each', 'candidate', 'will', 'then', 'have', 'two', 'minutes', 'to', ',', 'respond', 'and', 'then', 'we', 'll', 'have', 'a', '.', 'discussion', 'i', 'll', 'encourage', 'them', 'to', 'ask', 'follow', 'up', 'questions', 'of', 'each', '.', 'other', 'if', 'they', 'do', ',', 'not', 'i', '.', 'will', 'the', 'audience', 'behind', 'me', 'has', 'promised', 'to', 'be', ',', 'quiet', 'except', 'at', 'this', ',', 'moment', 'when', 'we', 'welcome', 'barack', 'obama', 'and', 'john', '.', 'mccain', ',', 'gentlemen', '.', 'welcome', 'by', ',', 'now', 'we', 've', 'heard', 'all', 'the', 'talking', ',', 'points', 'so', 'let', 's', 'try', 'to', 'tell', 'the', 'people', 'tonight', 'some', 'things', 'that', 'they', '-', '-', 'they', 'haven', 't', '.', 'heard', 'let', 's', 'get', 'to', '.', 'it', 'another', 'very', 'bad', 'day', 'on', 'wall', ',', 'street', 'as', 'both', 'of', 'you', '.', 'know', 'both', 'of', 'you', 'proposed', 'new', 'plans', 'this', 'week', 'to', 'address', 'the', 'economic', '.', 'crisis', '.', 'sen', ',', 'mccain', 'you', 'proposed', 'a', '$', '#', 'billion', 'plan', 'that', 'includes', 'new', 'tax', 'cuts', 'on', 'capital', ',', 'gains', 'tax', 'breaks', 'for', ',', 'seniors', 'write', 'offs', 'for', 'stock', ',', 'losses', 'among', 'other', '.', 'things', '.', 'sen', ',', 'obama', 'you', 'proposed', '$', '#', 'billion', 'in', 'tax', 'cuts', 'for', '-', 'middle', 'income', 'and', 'lower', 'income', ',', 'people', 'more', 'tax', 'breaks', 'to', 'create', ',', 'jobs', 'new', 'spending', 'for', 'public', 'works', 'projects', 'to', 'create', '.', 'jobs', 'i', 'will', 'ask', 'both', 'of', ':', 'you', 'why', 'is', 'your', 'plan', 'better', 'than', '?', 'his', '.', 'sen', ',', 'mccain', 'you', 'go', '.', 'first', ':', 'mccain', ',', 'well', 'let', '-', '-', 'let', 'me', ',', 'say', ',', 'bob', 'thank', '.', 'you', 'and', 'thanks', 'to', '.', 'hofstra', ',', 'and', 'by', 'the', ',', 'way', 'our', 'beloved', 'nancy', 'reagan', 'is', 'in', 'the', 'hospital', ',', 'tonight', 'so', 'our', 'thoughts', 'and', 'prayers', 'are', 'going', 'with', '.', 'you', 'it', 's', 'good', 'to', 'see', 'you', ',', 'again', '.', 'sen', '.', 'obama', 'americans', 'are', 'hurting', 'right', ',', 'now', 'and', 'they', 're', '.', 'angry', 'they', 're', ',', 'hurting', 'and', 'they', 're', '.', 'angry', 'they', 're', 'innocent', 'victims', 'of', 'greed', 'and', 'excess', 'on', 'wall', 'street', 'and', 'as', 'well', 'as', ',', 'washington', '.', 'd', 'c', 'and', 'they', 're', ',', 'angry', 'and', 'they', 'have', 'every', 'reason', 'to', 'be', '.', 'angry', 'and', 'they', 'want', 'this', 'country', 'to', 'go', 'in', 'a', 'new', '.', 'direction', 'and', 'there', 'are', 'elements', 'of', 'my', 'proposal', 'that', 'you', 'just', 'outlined', 'which', 'i', 'won', 't', '.', 'repeat', 'but', 'we', 'also', 'have', 'to', 'have', 'a', 'short', 'term', ',', 'fix', 'in', 'my', ',', 'view', 'and', '-', 'long', 'term', '.', 'fixes', 'let', 'me', 'just', 'talk', 'to', 'you', 'about', 'one', 'of', 'the', 'short', 'term', '.', 'fixes', 'the', 'catalyst', 'for', 'this', 'housing', 'crisis', 'was', 'the', 'fannie', 'and', 'freddie', 'mae', 'that', 'caused', 'subprime', 'lending', 'situation', 'that', 'now', 'caused', 'the', 'housing', 'market', 'in', 'america', 'to', '.', 'collapse', 'i', 'am', 'convinced', ',', 'that', 'until', 'we', 'reverse', 'this', 'continued', 'decline', 'in', 'home', 'ownership', 'and', 'put', 'a', 'floor', 'under', ',', 'it', 'and', 'so', 'that', 'people', 'have', 'not', 'only', 'the', 'hope', 'and', 'belief', 'they', 'can', 'stay', 'in', 'their', 'homes', 'and', 'realize', 'the', 'american', ',', 'dream', 'but', 'that', 'value', 'will', 'come', '.', 'up', ',', 'now', 'we', 'have', 'allocated', '$', '##', '.', 'billion', 'let', 's', 'take', '##', 'of', 'that', 'billion', 'and', 'go', 'in', 'and', 'buy', 'those', 'home', 'loan', 'mortgages', 'and', 'negotiate', 'with', 'those', 'people', 'in', 'their', ',', 'homes', '#', 'million', 'homes', 'or', ',', 'more', 'so', 'that', 'they', 'can', 'afford', 'to', 'pay', 'the', ',', 'mortgage', 'stay', 'in', 'their', '.', 'home', ',', 'now', 'i', 'know', 'the', 'criticism', 'of', '.', 'this', ',', 'well', 'what', 'about', 'the', 'citizen', 'that', 'stayed', 'in', 'their', '?', 'homes', 'that', 'paid', 'their', 'mortgage', '?', 'payments', 'it', 'doesn', 't', 'help', 'that', 'person', 'in', 'their', 'home', 'if', 'the', 'next', 'door', 'neighbor', 's', 'house', 'is', '.', 'abandoned', 'and', 'so', 'we', 've', 'got', 'to', 'reverse', '.', 'this', 'we', 'ought', 'to', 'put', 'the', 'homeowners', '.', 'first', 'and', 'i', 'am', 'disappointed', 'that', 'secretary', 'paulson', 'and', 'others', 'have', 'not', 'made', 'that', 'their', 'first', '.', 'priority', ':', 'schieffer', 'all', '.', 'right', '.', 'sen', '?', 'obama', ':', 'obama', ',', 'well', 'first', 'of', ',', 'all', 'i', 'want', 'to', 'thank', 'hofstra', 'university', 'and', 'the', 'people', 'of', 'new', 'york', 'for', 'hosting', 'us', 'tonight', 'and', 'it', 's', 'wonderful', 'to', 'join', '.', 'sen', 'mccain', ',', 'again', 'and', 'thank', ',', 'you', '.', 'bob', 'i', 'think', 'everybody', 'understands', 'at', 'this', 'point', 'that', 'we', 'are', 'experiencing', 'the', 'worst', 'financial', 'crisis', 'since', 'the', 'great', '.', 'depression', 'and', 'the', 'financial', 'rescue', 'plan', 'that', '.', 'sen', 'mccain', 'and', 'i', 'supported', 'is', 'an', 'important', 'first', '.', 'step', 'and', 'i', 'pushed', 'for', 'some', 'core', ':', 'principles', 'making', 'sure', 'that', 'taxpayer', 'can', 'get', 'their', 'money', 'back', 'if', 'they', 're', 'putting', 'money', '.', 'up', 'making', 'sure', 'that', 'ceos', 'are', 'not', 'enriching', 'themselves', 'through', 'this', '.', 'process', 'and', 'i', 'think', 'that', 'it', 's', 'going', 'to', 'take', 'some', 'time', 'to', 'work', 'itself', '.', 'out', 'but', 'what', 'we', 'haven', 't', 'yet', 'seen', 'is', 'a', 'rescue', 'package', 'for', 'the', 'middle', '.', 'class', 'because', 'the', 'fundamentals', 'of', 'the', 'economy', 'were', 'weak', 'even', 'before', 'this', 'latest', '.', 'crisis', 'so', 'i', 've', 'proposed', 'four', 'specific', 'things', 'that', 'i', 'think', 'can', '.', 'help', 'number', ',', 'one', 'let', 's', 'focus', 'on', '.', 'jobs', 'i', 'want', 'to', 'end', 'the', 'tax', 'breaks', 'for', 'companies', 'that', 'are', 'shipping', 'jobs', 'overseas', 'and', 'provide', 'a', 'tax', 'credit', 'for', 'every', 'company', 'that', 's', 'creating', 'a', 'job', 'right', 'here', 'in', '.', 'america', 'number', ',', 'two', 'let', 's', 'help', 'families', 'right', 'away', 'by', 'providing', 'them', 'a', 'tax', 'cut', '-', '-', 'a', 'middle', 'class', 'tax', 'cut', 'for', 'people', 'making', 'less', 'than', '$', ',', '##', '##', 'and', 'let', 's', 'allow', 'them', 'to', 'access', 'their', 'ira', 'accounts', 'without', 'penalty', 'if', 'they', 're', 'experiencing', 'a', '.', 'crisis', 'now', '.', 'sen', 'mccain', 'and', 'i', 'agree', 'with', 'your', 'idea', 'that', 'we', 've', 'got', 'to', 'help', '.', 'homeowners', 'that', 's', 'why', 'we', 'included', 'in', 'the', 'financial', 'package', 'a', 'proposal', 'to', 'get', 'homeowners', 'in', 'a', 'position', 'where', 'they', 'can', 'renegotiate', 'their', '.', 'mortgages', 'i', 'disagree', 'with', '.', 'sen', 'mccain', 'in', 'how', 'to', 'do', ',', 'it', 'because', 'the', 'way', '.', 'sen', 'mccain', 'has', 'designed', 'his', ',', 'plan', 'it', 'could', 'be', 'a', 'giveaway', 'to', 'banks', 'if', 'we', 're', 'buying', 'full', 'price', 'for', 'mortgages', 'that', 'now', 'are', 'worth', 'a', 'lot', '.', 'less', 'and', 'we', 'don', 't', 'want', 'to', 'waste', 'taxpayer', '.', 'money', 'and', 'we', 've', 'got', 'to', 'get', 'the', 'financial', 'package', 'working', 'much', 'quicker', 'than', 'it', 'has', 'been', '.', 'working', 'last', 'point', 'i', 'want', 'to', ',', 'make', '.', 'though', 'we', 've', 'got', 'some', 'long', 'term', 'challenges', 'in', 'this', 'economy', 'that', 'have', 'to', 'be', 'dealt', '.', 'with', 'we', 've', 'got', 'to', 'fix', 'our', 'energy', 'policy', 'that', 's', 'giving', 'our', 'wealth', '.', 'away', 'we', 've', 'got', 'to', 'fix', 'our', 'health', 'care', 'system', 'and', 'we', 've', 'got', 'to', 'invest', 'in', 'our', 'education', 'system', 'for', 'every', 'young', 'person', 'to', 'be', 'able', 'to', '.', 'learn', ':', 'schieffer', 'all', '.', 'right', 'would', 'you', 'like', 'to', 'ask', 'him', 'a', '?', 'question', ':', 'mccain', '.', 'no', 'i', 'would', 'like', 'to', 'mention', 'that', 'a', 'couple', 'days', 'ago', '.', 'sen', 'obama', 'was', 'out', 'in', 'ohio', 'and', 'he', 'had', 'an', 'encounter', 'with', 'a', 'guy', 'who', 's', 'a', ',', 'plumber', 'his', 'name', 'is', 'joe', '.', 'wurzelbacher', 'joe', 'wants', 'to', 'buy', 'the', 'business', 'that', 'he', 'has', 'been', 'in', 'for', 'all', 'of', 'these', ',', 'years', 'worked', ',', '#', '#', 'hours', 'a', '.', 'day', 'and', 'he', 'wanted', 'to', 'buy', 'the', 'business', 'but', 'he', 'looked', 'at', 'your', 'tax', 'plan', 'and', 'he', 'saw', 'that', 'he', 'was', 'going', 'to', 'pay', 'much', 'higher', '.', 'taxes', 'you', 'were', 'going', 'to', 'put', 'him', 'in', 'a', 'higher', 'tax', 'bracket', 'which', 'was', 'going', 'to', 'increase', 'his', ',', 'taxes', 'which', 'was', 'going', 'to', 'cause', 'him', 'not', 'to', 'be', 'able', 'to', 'employ', ',', 'people', 'which', 'joe', 'was', 'trying', 'to', 'realize', 'the', 'american', '.', 'dream', 'now', '.', 'sen', 'obama', 'talks', 'about', 'the', ',', 'very', 'very', '.', 'rich', ',', 'joe', 'i', 'want', 'to', 'tell', ',', 'you', 'i', 'll', 'not', 'only', 'help', 'you', 'buy', 'that', 'business', 'that', 'you', 'worked', 'your', 'whole', 'life', 'for', 'and', 'be', 'able', '-', '-', 'and', 'i', 'll', 'keep', 'your', 'taxes', 'low', 'and', 'i', 'll', 'provide', 'available', 'and', 'affordable', 'health', 'care', 'for', 'you', 'and', 'your', '.', 'employees', 'and', 'i', 'will', 'not', 'have', '-', '-', 'i', 'will', 'not', 'stand', 'for', 'a', 'tax', 'increase', 'on', 'small', 'business', '.', 'income', 'fifty', 'percent', 'of', 'small', 'business', 'income', 'taxes', 'are', 'paid', 'by', 'small', '.', 'businesses', 'that', 's', '#', 'million', 'jobs', 'in', '.', 'america', 'and', 'what', 'you', 'want', 'to', 'do', 'to', 'joe', 'the', 'plumber', 'and', 'millions', 'more', 'like', 'him', 'is', 'have', 'their', 'taxes', 'increased', 'and', 'not', 'be', 'able', 'to', 'realize', 'the', 'american', 'dream', 'of', 'owning', 'their', 'own', '.', 'business', ':', 'schieffer', 'is', 'that', 'what', 'you', 'want', 'to', '?', 'do', ':', 'mccain', 'that', 's', 'what', 'joe', '.', 'believes', ':', 'obama', 'he', 'has', 'been', 'watching', 'ads', 'of', '.', 'sen', '.', 'mccain', 's', 'let', 'me', 'tell', 'you', 'what', 'i', 'm', 'actually', 'going', 'to', '.', 'do', 'i', 'think', 'tax', 'policy', 'is', 'a', 'major', 'difference', 'between', '.', 'sen', 'mccain', 'and', '.', 'myself', 'and', 'we', 'both', 'want', 'to', 'cut', ',', 'taxes', 'the', 'difference', 'is', 'who', 'we', 'want', 'to', 'cut', 'taxes', '.', 'for', ',', 'now', '.', 'sen', ',', 'mccain', 'the', 'centerpiece', 'of', 'his', 'economic', 'proposal', 'is', 'to', 'provide', '$', '##', 'billion', 'in', 'additional', 'tax', 'breaks', 'to', 'some', 'of', 'the', 'wealthiest', 'corporations', 'in', '.', 'america', 'exxon', ',', 'mobil', 'and', 'other', 'oil', ',', 'companies', 'for', ',', 'example', 'would', 'get', 'an', 'additional', '$', '4', 'billion', 'in', 'tax', '.', 'breaks', 'what', 'i', 've', 'said', 'is', 'i', 'want', 'to', 'provide', 'a', 'tax', 'cut', 'for', '#', 'percent', 'of', 'working', ',', 'americans', '#', '.', 'percent', 'if', 'you', 'make', 'more', '-', '-', 'if', 'you', 'make', 'less', 'than', 'a', 'quarter', 'million', 'dollars', 'a', ',', 'year', 'then', 'you', 'will', 'not', 'see', 'your', 'income', 'tax', 'go', ',', 'up', 'your', 'capital', 'gains', 'tax', 'go', ',', 'up', 'your', 'payroll', '.', 'tax', 'not', 'one', '.', 'dime', 'and', '#', 'percent', 'of', 'working', ',', 'families', '#', 'percent', 'of', 'you', 'out', ',', 'there', 'will', 'get', 'a', 'tax', '.', 'cut', 'in', ',', 'fact', 'independent', 'studies', 'have', 'looked', 'at', 'our', 'respective', 'plans', 'and', 'have', 'concluded', 'that', 'i', 'provide', 'three', 'times', 'the', 'amount', 'of', 'tax', 'relief', 'to', 'middle', 'class', 'families', 'than', '.', 'sen', 'mccain', '.', 'does', ',', 'now', 'the', 'conversation', 'i', 'had', 'with', 'joe', 'the', ',', 'plumber', 'what', 'i', 'essentially', 'said', 'to', 'him', ',', 'was', '\"', 'five', 'years', ',', 'ago', 'when', 'you', 'were', 'in', 'a', 'position', 'to', 'buy', 'your', ',', 'business', 'you', 'needed', 'a', 'tax', 'cut', '\"', '.', 'then', 'and', 'what', 'i', 'want', 'to', 'do', 'is', 'to', 'make', 'sure', 'that', 'the', ',', 'plumber', 'the', ',', 'nurse', 'the', ',', 'firefighter', 'the', ',', 'teacher', 'the', 'young', 'entrepreneur', 'who', 'doesn', 't', 'yet', 'have', ',', 'money', 'i', 'want', 'to', 'give', 'them', 'a', 'tax', 'break', '.', 'now', 'and', 'that', 'requires', 'us', 'to', 'make', 'some', 'important', '.', 'choices', 'the', 'last', 'point', 'i', 'll', 'make', 'about', 'small', '.', 'businesses', 'not', 'only', 'do', '#', 'percent', 'of', 'small', 'businesses', 'make', 'less', 'than', '$', ',', '##', '##', 'but', 'i', 'also', 'want', 'to', 'give', 'them', 'additional', 'tax', ',', 'breaks', 'because', 'they', 'are', 'the', 'drivers', 'of', 'the', '.', 'economy', 'they', 'produce', 'the', 'most', '.', 'jobs', ':', 'mccain', 'you', ',', 'know', 'when', '.', 'sen', 'obama', 'ended', 'up', 'his', 'conversation', 'with', 'joe', 'the', 'plumber', '-', '-', 'we', 'need', 'to', 'spread', 'the', 'wealth', '.', 'around', 'in', 'other', ',', 'words', 'we', 're', 'going', 'to', 'take', 'joe', 's', ',', 'money', 'give', 'it', 'to', '.', 'sen', ',', 'obama', 'and', 'let', 'him', 'spread', 'the', 'wealth', '.', 'around', 'i', 'want', 'joe', 'the', 'plumber', 'to', 'spread', 'that', 'wealth', '.', 'around', 'you', 'told', 'him', 'you', 'wanted', 'to', 'spread', 'the', 'wealth', '.', 'around', 'the', 'whole', 'premise', 'behind', '.', 'sen', 'obama', 's', 'plans', 'are', 'class', ',', 'warfare', 'let', 's', 'spread', 'the', 'wealth', '.', 'around', 'i', 'want', 'small', 'businesses', '-', '-', 'and', 'by', 'the', ',', 'way', 'the', 'small', 'businesses', 'that', 'we', 're', 'talking', 'about', 'would', 'receive', 'an', 'increase', 'in', 'their', 'taxes', 'right', '.', 'now', 'who', '-', '-', 'why', 'would', 'you', 'want', 'to', 'increase', 'anybody', 's', 'taxes', 'right', '?', 'now', 'why', 'would', 'you', 'want', 'to', 'do', ',', 'that', ',', 'anyone', 'anyone', 'in', ',', 'america', 'when', 'we', 'have', 'such', 'a', 'tough', ',', 'time', 'when', 'these', 'small', 'business', ',', 'people', 'like', 'joe', 'the', ',', 'plumber', 'are', 'going', 'to', 'create', ',', 'jobs', 'unless', 'you', 'take', 'that', 'money', 'from', 'him', 'and', 'spread', 'the', 'wealth', '.', 'around', 'i', 'm', 'not', 'going', '.', '.', '.', 'to', ':', 'obama', '.', 'ok', 'can', '.', '.', '.', 'i', ':', 'mccain', 'we', 're', 'not', 'going', 'to', 'do', 'that', 'in', 'my', '.', 'administration', ':', 'obama', 'if', 'i', 'can', 'answer', 'the', '.', 'question', 'number', ',', 'one', 'i', 'want', 'to', 'cut', 'taxes', 'for', '#', 'percent', 'of', '.', 'americans', ',', 'now', 'it', 'is', 'true', 'that', 'my', 'friend', 'and', ',', 'supporter', 'warren', ',', 'buffett', 'for', ',', 'example', 'could', 'afford', 'to', 'pay', 'a', 'little', 'more', 'in', 'taxes', 'in', '.', '.', '.', 'order', ':', 'mccain', 'we', 're', 'talking', 'about', 'joe', 'the', '.', 'plumber', ':', 'obama', '.', '.', '.', 'in', 'order', 'to', 'give', '-', '-', 'in', 'order', 'to', 'give', 'additional', 'tax', 'cuts', 'to', 'joe', 'the', 'plumber', 'before', 'he', 'was', 'at', 'the', 'point', 'where', 'he', 'could', 'make', '$', '.', '##', '##', 'then', 'exxon', ',', 'mobil', 'which', 'made', '$', '#', ',', 'billion', 'record', ',', 'profits', 'over', 'the', 'last', 'several', ',', 'quarters', 'they', 'can', 'afford', 'to', 'pay', 'a', 'little', 'more', 'so', 'that', 'ordinary', 'families', 'who', 'are', 'hurting', 'out', 'there', '-', '-', 'they', 're', 'trying', 'to', 'figure', 'out', 'how', 'they', 're', 'going', 'to', 'afford', ',', 'food', 'how', 'they', 're', 'going', 'to', 'save', 'for', 'their', \"'\", 'kids', 'college', ',', 'education', 'they', 'need', 'a', '.', 'break', ',', 'so', ',', 'look', 'nobody', 'likes', '.', 'taxes', 'i', 'would', 'prefer', 'that', 'none', 'of', 'us', 'had', 'to', 'pay', ',', 'taxes', 'including', '.', 'myself', 'but', ',', 'ultimately', 'we', 've', 'got', 'to', 'pay', 'for', 'the', 'core', 'investments', 'that', 'make', 'this', 'economy', 'strong', 'and', 'somebody', 's', 'got', 'to', 'do', '.', 'it', ':', 'mccain', 'nobody', 'likes', '.', 'taxes', 'let', 's', 'not', 'raise', 'anybody', 's', '.', 'taxes', '?', 'ok', ':', 'obama', ',', 'well', 'i', 'don', 't', 'mind', 'paying', 'a', 'little', '.', 'more', ':', 'mccain', 'the', 'fact', 'is', 'that', 'businesses', 'in', 'america', 'today', 'are', 'paying', 'the', 'second', 'highest', 'tax', 'rate', 'of', 'anywhere', 'in', 'the', '.', 'world', 'our', 'tax', 'rate', 'for', 'business', 'in', 'america', 'is', '#', '.', 'percent', ',', 'ireland', 'it', 's', '#', '.', 'percent', 'where', 'are', 'companies', 'going', 'to', 'go', 'where', 'they', 'can', 'create', 'jobs', 'and', 'where', 'they', 'can', 'do', 'best', 'in', '?', 'business', 'we', 'need', 'to', 'cut', 'the', 'business', 'tax', 'rate', 'in', '.', 'america', 'we', 'need', 'to', 'encourage', '.', 'business', ',', 'now', 'of', 'all', 'times', 'in', ',', 'america', 'we', 'need', 'to', 'cut', 'people', 's', '.', 'taxes', 'we', 'need', 'to', 'encourage', ',', 'business', 'create', ',', 'jobs', 'not', 'spread', 'the', 'wealth', '.', 'around', ':', 'schieffer', 'all', '.', 'right', 'let', 's', 'go', 'to', 'another', '.', 'topic', 'it', 's', '.', 'related', 'so', 'if', 'you', 'have', 'other', 'things', 'you', 'want', 'to', ',', 'say', 'you', 'can', 'get', 'back', 'to', '.', 'that', 'this', 'question', 'goes', 'to', 'you', ',', 'first', '.', 'sen', '.', 'obama', 'we', 'found', 'out', 'yesterday', 'that', 'this', 'year', 's', 'deficit', 'will', 'reach', 'an', 'astounding', 'record', 'high', '$', '##', '.', 'billion', 'some', 'experts', 'say', 'it', 'could', 'go', 'to', '$', '1', 'trillion', 'next', '.', 'year', 'both', 'of', 'you', 'have', 'said', 'you', 'want', 'to', 'reduce', 'the', ',', 'deficit', 'but', 'the', 'nonpartisan', 'committee', 'for', 'a', 'responsible', 'federal', 'budget', 'ran', 'the', 'numbers', 'on', 'both', 'of', 'your', 'proposals', 'and', 'they', 'say', 'the', 'cost', 'of', 'your', ',', 'proposals', 'even', 'with', 'the', 'savings', 'you', 'claim', 'can', 'be', ',', 'made', 'each', 'will', 'add', 'more', 'than', '$', '##', 'billion', 'to', 'the', '.', 'deficit', 'aren', 't', 'you', 'both', 'ignoring', '?', 'reality', 'won', 't', 'some', 'of', 'the', 'programs', 'you', 'are', 'proposing', 'have', 'to', 'be', ',', 'trimmed', ',', 'postponed', 'even', '?', 'eliminated', 'give', 'us', 'some', 'specifics', 'on', 'what', 'you', 're', 'going', 'to', 'cut', '.', 'back', '.', 'sen', '?', 'obama', ':', 'obama', ',', 'well', 'first', 'of', ',', 'all', 'i', 'think', 'it', 's', 'important', 'for', 'the', 'american', 'public', 'to', 'understand', 'that', 'the', '$', '##', 'billion', 'rescue', ',', 'package', 'if', 'it', 's', 'structured', ',', 'properly', ',', 'and', 'as', ',', 'president', 'i', 'will', 'make', 'sure', 'it', 's', 'structured', ',', 'properly', 'means', 'that', 'ultimately', 'taxpayers', 'get', 'their', 'money', ',', 'back', 'and', 'that', 's', 'important', 'to', '.', 'understand', 'but', 'there', 'is', 'no', 'doubt', 'that', 'we', 've', 'been', 'living', 'beyond', 'our', 'means', 'and', 'we', 're', 'going', 'to', 'have', 'to', 'make', 'some', '.', 'adjustments', ',', 'now', 'what', 'i', 've', 'done', 'throughout', 'this', 'campaign', 'is', 'to', 'propose', 'a', 'net', 'spending', '.', 'cut', 'i', 'haven', 't', 'made', 'a', 'promise', '.', '.', '.', 'about', ':', 'schieffer', 'but', 'you', 're', 'going', 'to', 'have', 'to', 'cut', 'some', 'of', 'these', ',', 'programs', '.', 'certainly', ':', 'obama', '.', 'absolutely', 'so', 'let', 'me', 'get', 'to', '.', 'that', 'what', 'i', 'want', 'to', ',', 'emphasize', ',', 'though', 'is', 'that', 'i', 'have', 'been', 'a', 'strong', 'proponent', 'of', '-', 'pay', 'as', '.', 'you', 'go', 'every', 'dollar', 'that', 'i', 've', ',', 'proposed', 'i', 've', 'proposed', 'an', 'additional', 'cut', 'so', 'that', 'it', '.', 'matches', 'and', 'some', 'of', 'the', ',', 'cuts', 'just', 'to', 'give', 'you', 'an', ',', 'example', 'we', 'spend', '$', '#', 'billion', 'a', 'year', 'on', 'subsidies', 'to', 'insurance', '.', 'companies', 'it', 'doesn', 't', '-', '-', 'under', 'the', 'medicare', 'plan', '-', '-', 'it', 'doesn', 't', 'help', 'seniors', 'get', 'any', '.', 'better', 'it', 's', 'not', 'improving', 'our', 'health', 'care', '.', 'system', 'it', 's', 'just', 'a', '.', 'giveaway', 'we', 'need', 'to', 'eliminate', 'a', 'whole', 'host', 'of', 'programs', 'that', 'don', 't', '.', 'work', 'and', 'i', 'want', 'to', 'go', 'through', 'the', 'federal', 'budget', 'line', 'by', ',', 'line', 'page', 'by', ',', 'page', 'programs', 'that', 'don', 't', ',', 'work', 'we', 'should', '.', 'cut', 'programs', 'that', 'we', ',', 'need', 'we', 'should', 'make', 'them', 'work', '.', 'better', ',', 'now', 'what', 'is', 'true', 'is', 'that', '.', 'sen', 'mccain', 'and', 'i', 'have', 'a', 'difference', 'in', 'terms', 'of', 'the', 'need', 'to', 'invest', 'in', 'america', 'and', 'the', 'american', '.', 'people', 'i', 'mentioned', 'health', 'care', '.', 'earlier', 'if', 'we', 'make', 'investments', 'now', 'so', 'that', 'people', 'have', ',', 'coverage', 'that', 'we', 'are', 'preventing', ',', 'diseases', 'that', 'will', 'save', 'on', 'medicare', 'and', 'medicaid', 'in', 'the', '.', 'future', 'if', 'we', 'invest', 'in', 'a', 'serious', 'energy', ',', 'policy', 'that', 'will', 'save', 'in', 'the', 'amount', 'of', 'money', 'we', 're', 'borrowing', 'from', 'china', 'to', 'send', 'to', 'saudi', '.', 'arabia', 'if', 'we', 'invest', 'now', 'in', 'our', 'young', 'people', 'and', 'their', 'ability', 'to', 'go', 'to', ',', 'college', 'that', 'will', 'allow', 'them', 'to', 'drive', 'this', 'economy', 'into', 'the', '#', 'st', '.', 'century', 'but', 'what', 'is', 'absolutely', 'true', 'is', ',', 'that', 'once', 'we', 'get', 'through', 'this', 'economic', 'crisis', 'and', 'some', 'of', 'the', 'specific', 'proposals', 'to', 'get', 'us', 'out', 'of', 'this', ',', 'slump', 'that', 'we', 're', 'not', 'going', 'to', 'be', 'able', 'to', 'go', 'back', 'to', 'our', 'profligate', '.', 'ways', 'and', 'we', 're', 'going', 'to', 'have', 'to', 'embrace', 'a', 'culture', 'and', 'an', 'ethic', 'of', ',', 'responsibility', 'all', 'of', ',', 'us', ',', 'corporations', 'the', 'federal', ',', 'government', 'and', 'individuals', 'out', 'there', 'who', 'may', 'be', 'living', 'beyond', 'their', '.', 'means', ':', 'schieffer', 'time', 's', '.', 'up', '?', 'senator', ':', 'mccain', ',', 'well', 'thank', ',', 'you', '.', 'bob', 'i', 'just', 'want', 'to', 'get', 'back', 'to', 'this', 'home', '.', 'ownership', 'during', 'the', 'depression', ',', 'era', 'we', 'had', 'a', 'thing', 'called', 'the', 'home', 'ownership', 'loan', '.', 'corporation', 'and', 'they', 'went', 'out', 'and', 'bought', 'up', 'these', '.', 'mortgages', 'and', 'people', 'were', 'able', 'to', 'stay', 'in', 'their', ',', 'homes', 'and', 'eventually', 'the', 'values', 'of', 'those', 'homes', 'went', ',', 'up', 'and', 'they', 'actually', 'made', '.', 'money', ',', 'and', 'by', 'the', ',', 'way', 'this', 'was', 'a', 'proposal', 'made', 'by', '.', 'sen', 'clinton', 'not', 'too', 'long', '.', 'ago', ',', 'so', ',', 'obviously', 'if', 'we', 'can', 'start', 'increasing', 'home', ',', 'values', 'then', 'there', 'will', 'be', 'creation', 'of', '.', 'wealth', ':', 'schieffer', 'but', '.', '.', '.', 'what', ':', 'mccain', 'but', '-', '-', '.', 'ok', 'all', '.', 'right', ':', 'schieffer', 'the', 'question', ',', 'was', 'what', 'are', 'you', 'going', 'to', '?', 'cut', ':', 'mccain', 'energy', '-', '-', ',', 'well', 'first', '-', '-', 'second', 'of', ',', 'all', 'energy', '.', 'independence', 'we', 'have', 'to', 'have', 'nuclear', '.', 'power', 'we', 'have', 'to', 'stop', 'sending', '$', '##', 'billion', 'a', 'year', 'to', 'countries', 'that', 'don', 't', 'like', 'us', 'very', '.', 'much', 'it', 's', ',', 'wind', ',', 'tide', ',', 'solar', 'natural', ',', 'gas', ',', 'nuclear', 'off', 'shore', ',', 'drilling', 'which', '.', 'sen', 'obama', 'has', '.', 'opposed', 'and', 'the', 'point', 'is', 'that', 'we', 'become', 'energy', 'independent', 'and', 'we', 'will', 'create', 'millions', 'of', 'jobs', '-', '-', 'millions', 'of', 'jobs', 'in', '.', 'america', ',', 'ok', 'what', '-', '-', 'what', 'would', 'i', '?', 'cut', 'i', 'would', ',', 'have', 'first', 'of', ',', 'all', 'across', 'the', 'board', 'spending', ',', 'freeze', '?', 'ok', 'some', 'people', 'say', 'that', 's', 'a', '.', 'hatchet', 'that', 's', 'a', ',', 'hatchet', 'and', 'then', 'i', 'would', 'get', 'out', 'a', ',', 'scalpel', '?', 'ok', 'because', 'we', 've', 'got', '-', '-', 'we', 'have', 'presided', 'over', 'the', 'largest', 'increase', '-', '-', 'we', 've', 'got', 'to', 'have', 'a', 'new', 'direction', 'for', 'this', '.', 'country', 'we', 'have', 'presided', 'over', 'the', 'largest', 'increase', 'in', 'government', 'since', 'the', 'great', '.', 'society', 'government', 'spending', 'has', 'gone', 'completely', 'out', 'of', ';', 'control', '$', '#', 'trillion', 'dollar', 'debt', 'we', 're', 'giving', 'to', 'our', ',', 'kids', 'a', 'half', 'a', 'trillion', 'dollars', 'we', 'owe', '.', 'china', 'i', 'know', 'how', 'to', 'save', 'billions', 'of', 'dollars', 'in', 'defense', '.', 'spending', 'i', 'know', 'how', 'to', 'eliminate', '.', 'programs', ':', 'schieffer', 'which', '?', 'ones', ':', 'mccain', 'i', 'have', 'fought', 'against', '-', '-', ',', 'well', 'one', 'of', 'them', 'would', 'be', 'the', 'marketing', 'assistance', '.', 'program', 'another', 'one', 'would', 'be', 'a', 'number', 'of', 'subsidies', 'for', '.', 'ethanol', 'i', 'oppose', 'subsidies', 'for', 'ethanol', 'because', 'i', 'thought', 'it', 'distorted', 'the', 'market', 'and', 'created', ';', 'inflation', '.', 'sen', 'obama', 'supported', 'those', '.', 'subsidies', 'i', 'would', 'eliminate', 'the', 'tariff', 'on', 'imported', 'sugarcane', 'based', 'ethanol', 'from', '.', 'brazil', 'i', 'know', 'how', 'to', 'save', '.', 'billions', 'i', 'saved', 'the', 'taxpayer', '$', '6', '8', 'billion', 'by', 'fighting', 'a', 'deal', 'for', 'a', 'couple', 'of', ',', 'years', 'as', 'you', 'might', ',', 'recall', 'that', 'was', 'a', 'sweetheart', 'deal', 'between', 'an', 'aircraft', ',', 'manufacturer', ',', 'dod', 'and', 'people', 'ended', 'up', 'in', '.', 'jail', 'but', 'i', 'would', 'fight', 'for', 'a', 'line', 'item', ',', 'veto', 'and', 'i', 'would', 'certainly', 'veto', 'every', 'earmark', 'pork', 'barrel', '.', 'bill', '.', 'sen', 'obama', 'has', 'asked', 'for', 'nearly', '$', '1', 'billion', 'in', 'pork', 'barrel', 'earmark', '.', '.', '.', 'projects', ':', 'schieffer', 'time', 's', '.', 'up', ':', 'mccain', '.', '.', '.', 'including', '$', '3', 'million', 'for', 'an', 'overhead', 'projector', 'in', 'a', 'planetarium', 'in', 'his', '.', 'hometown', 'that', 's', 'not', 'the', 'way', 'we', 'cut', '-', '-', 'we', 'll', 'cut', 'out', 'all', 'the', '.', 'pork', ':', 'schieffer', 'time', 's', '.', 'up', ':', 'obama', ',', 'well', ',', 'look', 'i', 'think', 'that', 'we', 'do', 'have', 'a', 'disagreement', 'about', 'an', 'across', 'the', 'board', 'spending', '.', 'freeze', 'it', 'sounds', '.', 'good', 'it', 's', 'proposed', '.', 'periodically', 'it', 'doesn', 't', '.', 'happen', ',', 'and', 'in', ',', 'fact', 'an', 'across', 'the', 'board', 'spending', 'freeze', 'is', 'a', ',', 'hatchet', 'and', 'we', 'do', 'need', 'a', ',', 'scalpel', 'because', 'there', 'are', 'some', 'programs', 'that', 'don', 't', 'work', 'at', '.', 'all', 'there', 'are', 'some', 'programs', 'that', 'are', '.', 'underfunded', 'and', 'i', 'want', 'to', 'make', 'sure', 'that', 'we', 'are', 'focused', 'on', 'those', 'programs', 'that', '.', 'work', ',', 'now', '.', 'sen', 'mccain', 'talks', 'a', 'lot', 'about', '.', 'earmarks', 'that', 's', 'one', 'of', 'the', 'centerpieces', 'of', 'his', '.', 'campaign', 'earmarks', 'account', 'for', '0', '5', 'percent', 'of', 'the', 'total', 'federal', '.', 'budget', 'there', 's', 'no', 'doubt', 'that', 'the', 'system', 'needs', 'reform', 'and', 'there', 'are', 'a', 'lot', 'of', 'screwy', 'things', 'that', 'we', 'end', 'up', 'spending', 'money', ',', 'on', 'and', 'they', 'need', 'to', 'be', '.', 'eliminated', 'but', 'it', 's', 'not', 'going', 'to', 'solve', 'the', '.', 'problem', ',', 'now', 'the', 'last', 'thing', 'i', 'think', 'we', 'have', 'to', 'focus', 'on', 'is', 'a', 'little', 'bit', 'of', ',', 'history', 'just', 'so', 'that', 'we', 'understand', 'what', 'we', 're', 'doing', 'going', '.', 'forward', 'when', 'president', 'bush', 'came', 'into', ',', 'office', 'we', 'had', 'a', 'budget', 'surplus', 'and', 'the', 'national', 'debt', 'was', 'a', 'little', 'over', '$', '5', '.', 'trillion', 'it', 'has', 'doubled', 'over', 'the', 'last', 'eight', '.', 'years', ':', 'obama', 'and', 'we', 'are', 'now', 'looking', 'at', 'a', 'deficit', 'of', 'well', 'over', 'half', 'a', 'trillion', '.', 'dollars', 'so', 'one', 'of', 'the', 'things', 'that', 'i', 'think', 'we', 'have', 'to', 'recognize', 'is', 'pursuing', 'the', 'same', 'kinds', 'of', 'policies', 'that', 'we', 'pursued', 'over', 'the', 'last', 'eight', 'years', 'is', 'not', 'going', 'to', 'bring', 'down', 'the', '.', 'deficit', ',', 'and', ',', 'frankly', '.', 'sen', 'mccain', 'voted', 'for', 'four', 'out', 'of', 'five', 'of', 'president', 'bush', 's', '.', 'budgets', 'we', 've', 'got', 'to', 'take', 'this', 'in', 'a', 'new', ',', 'direction', 'that', 's', 'what', 'i', 'propose', 'as', '.', 'president', ':', 'schieffer', 'do', 'either', 'of', 'you', 'think', 'you', 'can', 'balance', 'the', 'budget', 'in', 'four', '?', 'years', 'you', 'have', 'said', 'previously', 'you', 'thought', 'you', ',', 'could', '.', 'sen', '.', 'mccain', ':', 'mccain', 'sure', 'i', '.', 'do', 'and', 'let', 'me', 'tell', '.', '.', '.', 'you', ':', 'schieffer', 'you', 'can', 'still', 'do', '?', 'that', ':', 'mccain', '.', 'yes', '.', 'sen', ',', 'obama', 'i', 'am', 'not', 'president', '.', 'bush', 'if', 'you', 'wanted', 'to', 'run', 'against', 'president', ',', 'bush', 'you', 'should', 'have', 'run', 'four', 'years', '.', 'ago', 'i', 'm', 'going', 'to', 'give', 'a', 'new', 'direction', 'to', 'this', 'economy', 'in', 'this', '.', 'country', '.', 'sen', 'obama', 'talks', 'about', 'voting', 'for', '.', 'budgets', 'he', 'voted', 'twice', 'for', 'a', 'budget', 'resolution', 'that', 'increases', 'the', 'taxes', 'on', 'individuals', 'making', '$', '#', '##', 'a', '.', 'year', 'of', ',', 'course', 'we', 'can', 'take', 'a', 'hatchet', 'and', 'a', 'scalpel', 'to', 'this', '.', 'budget', 'it', 's', 'completely', 'out', 'of', '.', 'control', 'the', 'mayor', 'of', 'new', ',', 'york', 'mayor', ',', 'bloomberg', 'just', 'imposed', 'an', '-', 'across', 'the', 'board', 'spending', 'freeze', 'on', 'new', 'york', '.', 'city', 'they', 're', 'doing', 'it', 'all', 'over', 'america', 'because', 'they', 'have', '.', 'to', 'because', 'they', 'have', 'to', 'balance', 'their', '.', 'budgets', 'i', 'will', 'balance', 'our', 'budgets', 'and', 'i', 'will', 'get', 'them', 'and', 'i', '.', '.', '.', 'will', ':', 'schieffer', 'in', 'four', '?', 'years', ':', 'mccain', '.', '.', '.', 'reduce', 'this', '-', '-', 'i', 'can', '-', '-', 'we', 'can', 'do', 'it', 'with', 'this', 'kind', 'of', 'job', 'creation', 'of', 'energy', '.', 'independence', ',', 'now', ',', 'look', 'americans', 'are', 'hurting', 'tonight', 'and', 'they', 're', 'angry', 'and', 'i', 'understand', ',', 'that', 'and', 'they', 'want', 'a', 'new', '.', 'direction', 'i', 'can', 'bring', 'them', 'in', 'that', 'direction', 'by', 'eliminating', '.', 'spending', '.', 'sen', 'obama', 'talks', 'about', 'the', 'budgets', 'i', 'voted', '.', 'for', 'he', 'voted', 'for', 'the', 'last', 'two', 'budgets', 'that', 'had', 'that', '$', '#', 'billion', 'more', 'in', 'spending', 'than', 'the', 'budget', 'that', 'the', 'bush', 'administration', '.', 'proposed', 'he', 'voted', 'for', 'the', 'energy', 'bill', 'that', 'was', 'full', 'of', 'goodies', 'for', 'the', 'oil', 'companies', 'that', 'i', '.', 'opposed', 'so', 'the', 'fact', ',', 'is', 'let', 's', 'look', 'at', 'our', ',', 'records', '.', 'sen', '.', 'obama', 'let', 's', 'look', 'at', 'it', 'as', 'graded', 'by', 'the', 'national', 'taxpayers', 'union', 'and', 'the', 'citizens', 'against', 'government', 'waste', 'and', 'the', 'other', 'watchdog', '.', 'organizations', 'i', 'have', 'fought', 'against', '.', 'spending', 'i', 'have', 'fought', 'against', 'special', '.', 'interests', 'i', 'have', 'fought', 'for', '.', 'reform', 'you', 'have', 'to', 'tell', 'me', 'one', 'time', 'when', 'you', 'have', 'stood', 'up', 'with', 'the', 'leaders', 'of', 'your', 'party', 'on', 'one', 'single', 'major', '.', 'issue', ':', 'schieffer', '.', 'barack', ':', 'obama', ',', 'well', 'there', 's', 'a', 'lot', 'of', 'stuff', 'that', 'was', 'put', 'out', ',', 'there', 'so', 'let', 'me', 'try', 'to', 'address', '.', 'it', 'first', 'of', ',', 'all', 'in', 'terms', 'of', 'standing', 'up', 'to', 'the', 'leaders', 'of', 'my', ',', 'party', 'the', 'first', 'major', 'bill', 'that', 'i', 'voted', 'on', 'in', 'the', 'senate', 'was', 'in', 'support', 'of', 'tort', ',', 'reform', 'which', 'wasn', 't', 'very', 'popular', 'with', 'trial', ',', 'lawyers', 'a', 'major', 'constituency', 'in', 'the', 'democratic', '.', 'party', 'i', '.', '.', '.', 'support', ':', 'mccain', 'an', 'overwhelming', '.', 'vote', ':', 'obama', 'i', 'support', 'charter', 'schools', 'and', 'pay', 'for', 'performance', 'for', '.', 'teachers', 'doesn', 't', 'make', 'me', 'popular', 'with', 'the', 'teachers', '.', 'union', 'i', 'support', 'clean', 'coal', '.', 'technology', 'doesn', 't', 'make', 'me', 'popular', 'with', '.', 'environmentalists', 'so', 'i', 've', 'got', 'a', 'history', 'of', 'reaching', 'across', 'the', '.', 'aisle', 'now', 'with', 'respect', 'to', 'a', 'couple', 'of', 'things', '.', 'sen', 'mccain', ',', 'said', 'the', 'notion', 'that', 'i', 'voted', 'for', 'a', 'tax', 'increase', 'for', 'people', 'making', '$', '#', '##', 'a', 'year', 'has', 'been', 'disputed', 'by', 'everybody', 'who', 'has', 'looked', 'at', 'this', 'claim', 'that', '.', 'sen', 'mccain', 'keeps', 'on', '.', 'making', 'even', 'fox', 'news', 'disputes', ',', 'it', 'and', 'that', 'doesn', 't', 'happen', 'very', 'often', 'when', 'it', 'comes', 'to', 'accusations', 'about', '.', 'me', 'so', 'the', 'fact', 'of', 'the', 'matter', 'is', 'that', 'if', 'i', 'occasionally', 'have', 'mistaken', 'your', 'policies', 'for', 'george', 'bush', 's', ',', 'policies', 'it', 's', 'because', 'on', 'the', 'core', 'economic', 'issues', 'that', 'matter', 'to', 'the', 'american', ',', 'people', 'on', 'tax', ',', 'policy', 'on', 'energy', ',', 'policy', 'on', 'spending', ',', 'priorities', 'you', 'have', 'been', 'a', 'vigorous', 'supporter', 'of', 'president', '.', 'bush', ',', 'now', 'you', 've', 'shown', 'independence', '-', '-', 'commendable', ',', 'independence', 'on', 'some', 'key', 'issues', 'like', ',', 'torture', 'for', ',', 'example', 'and', 'i', 'give', 'you', 'enormous', 'credit', 'for', '.', 'that', 'but', 'when', 'it', 'comes', 'to', 'economic', ',', 'policies', 'essentially', 'what', 'you', 're', 'proposing', 'is', 'eight', 'more', 'years', 'of', 'the', 'same', '.', 'thing', 'and', 'it', 'hasn', 't', '.', 'worked', 'and', 'i', 'think', 'the', 'american', 'people', 'understand', 'it', 'hasn', 't', '.', 'worked', 'we', 'need', 'to', 'move', 'in', 'a', 'new', '.', 'direction', ':', 'schieffer', 'all', '.', '.', '.', 'right', ':', 'mccain', 'let', 'me', 'just', ',', 'say', '.', 'bob', ':', 'schieffer', '.', 'ok', 'about', '#', '.', 'seconds', ':', 'mccain', '.', 'ok', 'but', 'it', 's', 'very', 'clear', 'that', 'i', 'have', 'disagreed', 'with', 'the', 'bush', '.', 'administration', 'i', 'have', 'disagreed', 'with', 'leaders', 'of', 'my', 'own', '.', 'party', 'i', 've', 'got', 'the', 'scars', 'to', 'prove', '.', 'it', 'whether', 'it', 'be', 'bringing', 'climate', 'change', 'to', 'the', 'floor', 'of', 'the', 'senate', 'for', 'the', 'first', '.', 'time', 'whether', 'it', 'be', 'opposition', 'to', 'spending', 'and', ',', 'earmarks', 'whether', 'it', 'be', 'the', 'issue', 'of', ',', 'torture', 'whether', 'it', 'be', 'the', 'conduct', 'of', 'the', 'war', 'in', ',', 'iraq', 'which', 'i', 'vigorously', '.', 'opposed', 'whether', 'it', 'be', 'on', 'fighting', 'the', 'pharmaceutical', 'companies', 'on', 'medicare', 'prescription', ',', 'drugs', '.', 'importation', 'whether', 'it', 'be', 'fighting', 'for', 'an', 'hmo', 'patient', 's', 'bill', 'of', '.', 'rights', 'whether', 'it', 'be', 'the', 'establishment', 'of', 'the', '9', '#', '.', 'commission', 'i', 'have', 'a', 'long', 'record', 'of', 'reform', 'and', 'fighting', 'through', 'on', 'the', 'floor', 'of', 'the', 'united', 'states', '.', 'senate', ':', 'schieffer', 'all', '.', 'right', ':', 'mccain', '.', 'sen', ',', 'obama', 'your', 'argument', 'for', 'standing', 'up', 'to', 'the', 'leadership', 'of', 'your', 'party', 'isn', 't', 'very', '.', 'convincing', ':', 'schieffer', 'all', '.', 'right', 'we', 're', 'going', 'to', 'move', 'to', 'another', 'question', 'and', 'the', 'topic', 'is', 'leadership', 'in', 'this', '.', 'campaign', 'both', 'of', 'you', 'pledged', 'to', 'take', 'the', 'high', 'road', 'in', 'this', 'campaign', 'yet', 'it', 'has', 'turned', 'very', '.', 'nasty', ':', 'schieffer', '.', 'sen', ',', 'obama', 'your', 'campaign', 'has', 'used', 'words', 'like', '\"', '\"', ',', 'erratic', '\"', 'out', 'of', '\"', ',', 'touch', '\"', '\"', ',', 'lie', '\"', '\"', ',', 'angry', '\"', 'losing', 'his', '\"', 'bearings', 'to', 'describe', '.', 'sen', '.', 'mccain', '.', 'sen', ',', 'mccain', 'your', 'commercials', 'have', 'included', 'words', 'like', '\"', '\"', ',', 'disrespectful', '\"', '\"', ',', 'dangerous', '\"', '\"', ',', 'dishonorable', '\"', 'he', '\"', '.', 'lied', 'your', 'running', 'mate', 'said', 'he', '\"', 'palled', 'around', 'with', '\"', '.', 'terrorists', 'are', 'each', 'of', 'you', 'tonight', 'willing', 'to', 'sit', 'at', 'this', 'table', 'and', 'say', 'to', 'each', 'other', 's', 'face', 'what', 'your', 'campaigns', 'and', 'the', 'people', 'in', 'your', 'campaigns', 'have', 'said', 'about', 'each', '?', 'other', ',', 'and', '.', 'sen', ',', 'mccain', 'you', 're', '.', 'first', ':', 'mccain', ',', 'well', 'this', 'has', 'been', 'a', 'tough', '.', 'campaign', 'it', 's', 'been', 'a', 'very', 'tough', '.', 'campaign', 'and', 'i', 'know', 'from', 'my', 'experience', 'in', 'many', 'campaigns', ',', 'that', 'if', '.', 'sen', 'obama', 'had', 'asked', '-', '-', 'responded', 'to', 'my', 'urgent', 'request', 'to', 'sit', ',', 'down', 'and', 'do', 'town', 'hall', ',', 'meetings', 'and', 'come', 'before', 'the', 'american', ',', 'people', 'we', 'could', 'have', 'done', 'at', 'least', '#', 'of', 'them', 'by', '.', 'now', 'when', '.', 'sen', 'obama', 'was', 'first', ',', 'asked', 'he', ',', 'said', '\"', 'any', ',', 'place', 'any', '\"', ',', 'time', 'the', 'way', 'barry', 'goldwater', 'and', 'jack', 'kennedy', 'agreed', 'to', ',', 'do', 'before', 'the', 'intervention', 'of', 'the', 'tragedy', 'at', '.', 'dallas', 'so', 'i', 'think', 'the', 'tone', 'of', 'this', 'campaign', 'could', 'have', 'been', 'very', '.', 'different', 'and', 'the', 'fact', ',', 'is', 'it', 's', 'gotten', 'pretty', '.', 'tough', 'and', 'i', 'regret', 'some', 'of', 'the', 'negative', 'aspects', 'of', 'both', '.', 'campaigns', 'but', 'the', 'fact', 'is', 'that', 'it', 'has', 'taken', 'many', 'turns', 'which', 'i', 'think', 'are', '.', 'unacceptable', 'one', 'of', 'them', 'happened', 'just', 'the', 'other', ',', 'day', 'when', 'a', 'man', 'i', 'admire', 'and', 'respect', '-', '-', 'i', 've', 'written', 'about', 'him', '-', '-', 'congressman', 'john', ',', 'lewis', 'an', 'american', ',', 'hero', 'made', 'allegations', 'that', 'sarah', 'palin', 'and', 'i', 'were', 'somehow', 'associated', 'with', 'the', 'worst', 'chapter', 'in', 'american', ',', 'history', ',', 'segregation', 'deaths', 'of', 'children', 'in', 'church', ',', 'bombings', 'george', '.', 'wallace', ',', 'that', 'to', ',', 'me', 'was', 'so', '.', 'hurtful', ',', 'and', '.', 'sen', ',', 'obama', 'you', 'didn', 't', 'repudiate', 'those', '.', 'remarks', 'every', 'time', 'there', 's', 'been', 'an', 'out', 'of', 'bounds', 'remark', 'made', 'by', 'a', ',', 'republican', 'no', 'matter', 'where', 'they', ',', 'are', 'i', 'have', 'repudiated', '.', 'them', 'i', 'hope', 'that', '.', 'sen', 'obama', 'will', 'repudiate', 'those', 'remarks', 'that', 'were', 'made', 'by', 'congressman', 'john', ',', 'lewis', 'very', 'unfair', 'and', 'totally', '.', 'inappropriate', 'so', 'i', 'want', 'to', 'tell', ',', 'you', 'we', 'will', 'run', 'a', 'truthful', '.', 'campaign', 'this', 'is', 'a', 'tough', '.', 'campaign', 'and', 'it', 's', 'a', 'matter', 'of', 'fact', 'that', '.', 'sen', 'obama', 'has', 'spent', 'more', 'money', 'on', 'negative', 'ads', 'than', 'any', 'political', 'campaign', 'in', '.', 'history', 'and', 'i', 'can', 'prove', '.', 'it', ',', 'and', '.', 'sen', ',', 'obama', 'when', 'he', 'said', '-', '-', 'and', 'he', 'signed', 'a', 'piece', 'of', 'paper', 'that', 'said', 'he', 'would', 'take', 'public', 'financing', 'for', 'his', 'campaign', 'if', 'i', 'did', '-', '-', 'that', 'was', 'back', 'when', 'he', 'was', 'a', 'long', 'shot', 'candidate', '-', '-', 'you', 'didn', 't', 'keep', 'your', '.', 'word', 'and', 'when', 'you', 'looked', 'into', 'the', 'camera', 'in', 'a', 'debate', 'with', '.', 'sen', 'clinton', 'and', ',', 'said', '\"', 'i', 'will', 'sit', 'down', 'and', 'negotiate', 'with', 'john', 'mccain', 'about', 'public', 'financing', 'before', 'i', 'make', 'a', '\"', ',', 'decision', 'you', 'didn', 't', 'tell', 'the', 'american', 'people', 'the', 'truth', 'because', 'you', '.', 'didn', 't', 'and', 'that', 's', '-', '-', 'that', 's', '-', '-', 'that', 's', 'an', 'unfortunate', '.', 'part', 'now', 'we', 'have', 'the', 'highest', 'spending', 'by', '.', 'sen', 'obama', 's', 'campaign', 'than', 'any', 'time', 'since', '.', 'watergate', ':', 'schieffer', 'time', 's', '.', 'up', 'all', '.', 'right', ':', 'obama', ',', 'well', ',', 'look', 'you', ',', 'know', 'i', 'think', 'that', 'we', 'expect', 'presidential', 'campaigns', 'to', 'be', '.', 'tough', 'i', 'think', ',', 'that', 'if', 'you', 'look', 'at', 'the', 'record', 'and', 'the', 'impressions', 'of', 'the', 'american', 'people', '-', '-', ',', 'bob', 'your', 'network', 'just', 'did', 'a', ',', 'poll', 'showing', 'that', 'two', 'thirds', 'of', 'the', 'american', 'people', 'think', 'that', '.', 'sen', 'mccain', 'is', 'running', 'a', 'negative', 'campaign', 'versus', 'one', 'third', 'of', '.', 'mine', 'and', '##', ',', 'percent', ',', 'john', 'of', 'your', 'ads', '-', '-', '##', 'percent', 'of', 'them', 'have', 'been', '.', 'negative', ':', 'mccain', 'it', 's', 'not', '.', 'true', ':', 'obama', 'it', 'absolutely', 'is', '.', 'true', ',', 'and', ',', 'now', 'i', 'think', 'the', 'american', 'people', 'are', 'less', 'interested', 'in', 'our', 'hurt', 'feelings', 'during', 'the', 'course', 'of', 'the', 'campaign', 'than', 'addressing', 'the', 'issues', 'that', 'matter', 'to', 'them', 'so', '.', 'deeply', 'and', 'there', 'is', 'nothing', 'wrong', 'with', 'us', 'having', 'a', 'vigorous', 'debate', 'like', 'we', 're', 'having', 'tonight', 'about', 'health', ',', 'care', 'about', 'energy', ',', 'policy', 'about', 'tax', '.', 'policy', 'that', 's', 'the', 'stuff', 'that', 'campaigns', 'should', 'be', 'made', '.', 'of', 'the', ',', 'notion', ',', 'though', 'that', 'because', 'we', 're', 'not', 'doing', 'town', 'hall', 'meetings', 'that', 'justifies', 'some', 'of', 'the', 'ads', 'that', 'have', 'been', 'going', ',', 'up', 'not', 'just', 'from', 'your', 'own', 'campaign', ',', 'directly', ',', 'john', 'but', '##', 's', 'and', 'other', 'organizations', 'that', 'make', 'some', 'pretty', 'tough', ',', 'accusations', ',', 'well', 'i', 'don', 't', 'mind', 'being', 'attacked', 'for', 'the', 'next', 'three', '.', 'weeks', 'what', 'the', 'american', 'people', 'can', 't', ',', 'afford', ',', 'though', 'is', 'four', 'more', 'years', 'of', 'failed', 'economic', '.', 'policies', 'and', 'what', 'they', 'deserve', 'over', 'the', 'next', 'four', 'weeks', 'is', 'that', 'we', 'talk', 'about', 'what', 's', 'most', 'pressing', 'to', ':', 'them', 'the', 'economic', '.', 'crisis', '.', 'sen', 'mccain', 's', 'own', 'campaign', 'said', 'publicly', 'last', 'week', ',', 'that', 'if', 'we', 'keep', 'on', 'talking', 'about', 'the', 'economic', ',', 'crisis', 'we', ',', 'lose', 'so', 'we', 'need', 'to', 'change', 'the', '.', 'subject', 'and', 'i', 'would', 'love', 'to', 'see', 'the', 'next', 'three', 'weeks', 'devoted', 'to', 'talking', 'about', 'the', ',', 'economy', 'devoted', 'to', 'talking', 'about', 'health', ',', 'care', 'devoted', 'to', 'talking', 'about', ',', 'energy', 'and', 'figuring', 'out', 'how', 'the', 'american', 'people', 'can', 'send', 'their', 'kids', 'to', '.', 'college', 'and', 'that', 'is', 'something', 'that', 'i', 'would', '.', 'welcome', 'but', 'it', ',', 'requires', 'i', ',', 'think', 'a', 'recognition', 'that', 'politics', 'as', ',', 'usual', 'as', 'been', 'practiced', 'over', 'the', 'last', 'several', ',', 'years', 'is', 'not', 'solving', 'the', 'big', 'problems', 'here', 'in', '.', 'america', ':', 'mccain', ',', 'well', 'if', 'you', 'll', 'turn', 'on', 'the', ',', 'television', 'as', 'i', '-', '-', 'i', 'watched', 'the', 'arizona', 'cardinals', 'defeat', 'the', 'dallas', 'cowboys', 'on', '.', 'sunday', ':', 'obama', '.', 'congratulations', ':', 'mccain', 'every', 'other', 'ad', '-', '-', 'ever', 'other', 'ad', 'was', 'an', 'attack', 'ad', 'on', 'my', 'health', 'care', '.', 'plan', 'and', 'any', 'objective', 'observer', 'has', 'said', 'it', 's', 'not', '.', 'true', 'you', 're', 'running', 'ads', 'right', 'now', 'that', 'say', 'that', 'i', 'oppose', 'federal', 'funding', 'for', 'stem', 'cell', '.', 'research', 'i', '.', 'don', 't', 'you', 're', 'running', 'ads', 'that', 'misportray', 'completely', 'my', 'position', 'on', '.', 'immigration', 'so', 'the', 'fact', 'is', 'that', '.', 'sen', 'obama', 'is', 'spending', 'unprecedented', '-', '-', 'unprecedented', 'in', 'the', 'history', 'of', 'american', ',', 'politics', 'going', 'back', 'to', 'the', ',', 'beginning', 'amounts', 'of', 'money', 'in', 'negative', 'attack', 'ads', 'on', '.', 'me', 'and', 'of', ',', 'course', 'i', 've', 'been', 'talking', 'about', 'the', '.', 'economy', 'of', ',', 'course', 'i', 've', 'talked', 'to', 'people', 'like', 'joe', 'the', 'plumber', 'and', 'tell', 'him', 'that', 'i', 'm', 'not', 'going', 'to', 'spread', 'his', 'wealth', '.', 'around', 'i', 'm', 'going', 'to', 'let', 'him', 'keep', 'his', '.', 'wealth', 'and', 'of', ',', 'course', 'we', 're', 'talking', 'about', 'positive', 'plan', 'of', 'action', 'to', 'restore', 'this', 'economy', 'and', 'restore', 'jobs', 'in', '.', 'america', 'that', 's', 'what', 'my', 'campaign', 'is', 'all', 'about', 'and', 'that', 's', 'what', 'it', 'll', 'continue', 'to', 'be', 'all', '.', 'about', 'but', ',', 'again', 'i', 'did', 'not', 'hear', 'a', 'repudiation', 'of', '.', '.', '.', 'congressman', ':', 'obama', 'i', ',', 'mean', ',', 'look', 'if', 'we', 'want', 'to', 'talk', 'about', 'congressman', ',', 'lewis', 'who', 'is', 'an', 'american', ',', 'hero', ',', 'he', 'unprompted', 'by', 'my', ',', 'campaign', 'without', 'my', 'campaign', 's', ',', 'awareness', 'made', 'a', 'statement', 'that', 'he', 'was', 'troubled', 'with', 'what', 'he', 'was', 'hearing', 'at', 'some', 'of', 'the', 'rallies', 'that', 'your', 'running', 'mate', 'was', ',', 'holding', 'in', 'which', 'all', 'the', 'republican', 'reports', 'indicated', 'were', ',', 'shouting', 'when', 'my', 'name', 'came', ',', 'up', 'things', 'like', '\"', '\"', 'terrorist', 'and', '\"', 'kill', '\"', ',', 'him', 'and', 'that', 'you', 're', 'running', 'mate', 'didn', 't', ',', 'mention', 'didn', 't', ',', 'stop', 'didn', 't', 'say', '\"', 'hold', 'on', 'a', ',', 'second', 'that', 's', 'kind', 'of', 'out', 'of', '\"', '.', 'line', 'and', 'i', 'think', 'congressman', \"'\", 'lewis', 'point', 'was', 'that', 'we', 'have', 'to', 'be', 'careful', 'about', 'how', 'we', 'deal', 'with', 'our', '.', 'supporters', '.', '.', '.', 'now', ':', 'mccain', 'you', 've', 'got', 'to', 'read', 'what', 'he', '.', '.', '.', 'said', '(', ')', 'crosstalk', ':', 'obama', 'let', '-', '-', 'let', '-', '-', '.', '.', '.', 'let', ':', 'mccain', 'you', 've', 'got', 'to', 'read', 'what', 'he', '.', 'said', ':', 'obama', 'let', 'me', '-', '-', 'let', 'me', '.', '.', '.', 'complete', ':', 'schieffer', 'go', '.', 'ahead', ':', 'obama', '.', '.', '.', 'my', '.', 'response', 'i', 'do', 'think', 'that', 'he', 'inappropriately', 'drew', 'a', 'comparison', 'between', 'what', 'was', 'happening', 'there', 'and', 'what', 'had', 'happened', 'during', 'the', 'civil', 'rights', ',', 'movement', 'and', 'we', 'immediately', 'put', 'out', 'a', 'statement', 'saying', 'that', 'we', 'don', 't', 'think', 'that', 'comparison', 'is', '.', 'appropriate', ',', 'and', 'in', ',', 'fact', ',', 'afterwards', 'congressman', 'lewis', 'put', 'out', 'a', 'similar', ',', 'statement', 'saying', 'that', 'he', 'had', 'probably', 'gone', 'over', 'the', '.', 'line', 'the', 'important', 'point', 'here', ',', 'is', ',', 'though', 'the', 'american', 'people', 'have', 'become', 'so', 'cynical', 'about', 'our', ',', 'politics', 'because', 'all', 'they', 'see', 'is', 'a', '-', 'tit', 'for', 'tat', 'and', '.', 'back', 'and', 'forth', 'and', 'what', 'they', 'want', 'is', 'the', 'ability', 'to', 'just', 'focus', 'on', 'some', 'really', 'big', 'challenges', 'that', 'we', 'face', 'right', ',', 'now', 'and', 'that', 's', 'what', 'i', 'have', 'been', 'trying', 'to', 'focus', 'on', 'this', 'entire', '.', 'campaign', ':', 'mccain', 'i', '.', '.', '.', 'cannot', ':', 'obama', 'we', 'can', 'have', 'serious', 'differences', 'about', 'our', 'health', 'care', ',', 'policy', 'for', ',', 'example', ',', 'john', 'because', 'we', 'do', 'have', 'a', 'difference', 'on', 'health', 'care', ',', 'policy', 'but', '.', '.', '.', 'we', ':', 'mccain', 'we', 'do', 'and', 'i', '.', '.', '.', 'hope', ':', 'obama', '.', '.', '.', 'talking', 'about', 'it', 'this', '.', 'evening', ':', 'mccain', '.', 'sure', ':', 'obama', 'but', 'when', 'people', 'suggest', 'that', 'i', 'pal', 'around', 'with', ',', 'terrorists', 'then', 'we', 're', 'not', 'talking', 'about', '.', 'issues', 'what', 'we', 're', 'talking', '.', '.', '.', 'about', ':', 'mccain', ',', 'well', 'let', 'me', 'just', 'say', 'i', '.', '.', '.', 'would', ':', 'schieffer', '(', ')', 'inaudible', ':', 'mccain', 'let', 'me', 'just', 'say', 'categorically', 'i', 'm', 'proud', 'of', 'the', 'people', 'that', 'come', 'to', 'our', '.', 'rallies', 'whenever', 'you', 'get', 'a', 'large', 'rally', 'of', ',', '#', '##', ',', '#', '##', '#', '##', ',', 'people', 'you', 're', 'going', 'to', 'have', 'some', 'fringe', '.', 'peoples', 'you', 'know', '.', 'that', 'and', 'i', 've', '-', '-', 'and', 'we', 've', 'always', 'said', 'that', 'that', 's', 'not', '.', 'appropriate', 'but', 'to', 'somehow', 'say', 'that', 'group', 'of', 'young', 'women', 'who', 'said', '\"', 'military', 'wives', 'for', '\"', 'mccain', 'are', 'somehow', 'saying', 'anything', 'derogatory', 'about', ',', 'you', 'but', 'anything', '-', '-', 'and', 'those', 'veterans', 'that', 'wear', 'those', 'hats', 'that', 'say', '\"', 'world', 'war', ',', 'ii', ',', 'vietnam', ',', 'korea', '\"', ',', 'iraq', 'i', 'm', 'not', 'going', 'to', 'stand', 'for', 'people', 'saying', 'that', 'the', 'people', 'that', 'come', 'to', 'my', 'rallies', 'are', 'anything', 'but', 'the', 'most', ',', 'dedicated', 'patriotic', 'men', 'and', 'women', 'that', 'are', 'in', 'this', 'nation', 'and', 'they', 're', 'great', '.', 'citizens', 'and', 'i', 'm', 'not', 'going', 'to', 'stand', 'for', 'somebody', 'saying', 'that', 'because', 'someone', 'yelled', 'something', 'at', 'a', 'rally', '-', '-', 'there', 's', 'a', 'lot', 'of', 'things', 'that', 'have', 'been', 'yelled', 'at', 'your', ',', 'rallies', '.', 'sen', ',', 'obama', 'that', 'i', 'm', 'not', 'happy', 'about', '.', 'either', 'in', ',', 'fact', 'some', 't', 'shirts', 'that', 'are', '.', '.', '.', 'very', ':', 'obama', ',', 'john', '.', '.', '.', 'i', ':', 'mccain', '.', '.', '.', '.', 'unacceptable', 'so', 'the', 'point', 'is', '-', '-', 'the', 'point', 'is', 'that', 'i', 'have', 'repudiated', 'every', 'time', 'someone', 's', 'been', 'out', 'of', ',', 'line', 'whether', 'they', 've', 'been', 'part', 'of', 'my', 'campaign', 'or', ',', 'not', 'and', 'i', 'will', 'continue', 'to', 'do', '.', 'that', 'but', 'the', 'fact', 'is', 'that', 'we', 'need', 'to', 'absolutely', 'not', 'stand', 'for', 'the', 'kind', 'of', 'things', 'that', 'have', 'been', 'going', '.', 'on', 'i', '.', 'haven', 't', ':', 'obama', ',', 'well', ',', 'look', ',', 'bob', 'as', 'i', '.', '.', '.', 'said', ':', 'schieffer', 'i', ',', 'mean', 'do', 'you', 'take', 'issue', 'with', '?', 'that', ':', 'obama', 'you', ',', 'know', 'here', 's', 'what', 'i', 'would', '.', 'say', 'i', ',', 'mean', 'we', 'can', 'have', 'a', 'debate', 'back', 'and', 'forth', 'about', 'the', 'merits', 'of', 'each', 'other', 's', '.', 'campaigns', 'i', 'suspect', 'we', 'won', 't', 'agree', 'here', '.', 'tonight', 'what', 'i', 'think', 'is', 'most', 'important', 'is', 'that', 'we', 'recognize', 'that', 'to', 'solve', 'the', 'key', 'problems', 'that', 'we', 're', ',', 'facing', 'if', 'we', 're', 'going', 'to', 'solve', 'two', ',', 'wars', 'the', 'worst', 'financial', 'crisis', 'since', 'the', 'great', ',', 'depression', 'if', 'we', 'can', '-', '-', 'if', 'we', 're', 'going', 'to', 'focus', 'on', 'lifting', 'wages', 'that', 'have', 'declined', 'over', 'the', 'last', 'eight', 'years', 'and', 'create', 'jobs', 'here', 'in', ',', 'america', 'then', ',', 'democrats', 'independents', 'and', ',', 'republicans', 'we', 're', 'going', 'to', 'have', 'to', 'be', 'able', 'to', 'work', '.', 'together', 'and', 'what', 'is', 'important', 'is', 'making', 'sure', 'that', 'we', 'disagree', 'without', 'being', '.', 'disagreeable', 'and', 'it', 'means', 'that', 'we', 'can', 'have', ',', 'tough', 'vigorous', 'debates', 'around', '.', 'issues', 'what', 'we', 'can', 't', ',', 'do', 'i', ',', 'think', 'is', 'try', 'to', 'characterize', 'each', 'other', 'as', 'bad', '.', 'people', 'and', 'that', 'has', 'been', 'a', 'culture', 'in', 'washington', 'that', 'has', 'been', 'taking', 'place', 'for', 'too', '.', 'long', 'and', 'i', '.', '.', '.', 'think', ':', 'mccain', ',', 'well', ',', 'bob', 'you', 'asked', 'me', 'a', 'direct', '.', 'question', ':', 'schieffer', 'short', ',', 'answer', ',', 'yes', 'short', '.', 'answer', ':', 'mccain', ',', 'yes', 'real', '.', 'quick', '.', 'mr', ',', 'ayers', 'i', 'don', 't', 'care', 'about', 'an', 'old', 'washed', 'up', '.', 'terrorist', 'but', 'as', '.', 'sen', 'clinton', 'said', 'in', 'her', 'debates', 'with', ',', 'you', 'we', 'need', 'to', 'know', 'the', 'full', 'extent', 'of', 'that', '.', 'relationship', 'we', 'need', 'to', 'know', 'the', 'full', 'extent', 'of', '.', 'sen', 'obama', 's', 'relationship', 'with', ',', 'acorn', 'who', 'is', 'now', 'on', 'the', 'verge', 'of', 'maybe', 'perpetrating', 'one', 'of', 'the', 'greatest', 'frauds', 'in', 'voter', 'history', 'in', 'this', ',', 'country', 'maybe', 'destroying', 'the', 'fabric', 'of', '.', 'democracy', 'the', 'same', 'front', 'outfit', 'organization', 'that', 'your', 'campaign', 'gave', '$', '##', '##', 'for', '\"', 'lighting', 'and', 'site', '\"', '.', 'selection', 'so', 'all', 'of', 'these', 'things', 'need', 'to', 'be', ',', 'examined', 'of', '.', 'course', ':', 'schieffer', 'all', '.', 'right', 'i', 'm', 'going', 'to', 'let', 'you', 'respond', 'and', 'we', 'll', 'extend', 'this', 'for', 'a', '.', 'moment', ':', 'obama', ',', 'bob', 'i', 'think', 'it', 's', 'going', 'to', 'be', 'important', 'to', 'just', '-', '-', 'i', 'll', 'respond', 'to', 'these', 'two', 'particular', 'allegations', 'that', '.', 'sen', 'mccain', 'has', 'made', 'and', 'that', 'have', 'gotten', 'a', 'lot', 'of', '.', 'attention', 'in', ',', 'fact', '.', 'mr', 'ayers', 'has', 'become', 'the', 'centerpiece', 'of', '.', 'sen', 'mccain', 's', 'campaign', 'over', 'the', 'last', 'two', 'or', 'three', '.', 'weeks', 'this', 'has', 'been', 'their', 'primary', '.', 'focus', 'so', 'let', 's', 'get', 'the', 'record', '.', 'straight', 'bill', 'ayers', 'is', 'a', 'professor', 'of', 'education', 'in', '.', 'chicago', 'forty', 'years', ',', 'ago', 'when', 'i', 'was', '8', 'years', ',', 'old', 'he', 'engaged', 'in', 'despicable', 'acts', 'with', 'a', 'radical', 'domestic', '.', 'group', 'i', 'have', 'roundly', 'condemned', 'those', '.', 'acts', 'ten', 'years', 'ago', 'he', 'served', 'and', 'i', 'served', 'on', 'a', 'school', 'reform', 'board', 'that', 'was', 'funded', 'by', 'one', 'of', 'ronald', 'reagan', 's', 'former', 'ambassadors', 'and', 'close', ',', 'friends', '.', 'mr', '.', 'annenberg', 'other', 'members', 'on', 'that', 'board', 'were', 'the', 'presidents', 'of', 'the', 'university', 'of', ',', 'illinois', 'the', 'president', 'of', 'northwestern', ',', 'university', 'who', 'happens', 'to', 'be', 'a', ',', 'republican', 'the', 'president', 'of', 'the', 'chicago', ',', 'tribune', 'a', '-', 'republican', 'leaning', '.', 'newspaper', '.', 'mr', 'ayers', 'is', 'not', 'involved', 'in', 'my', '.', 'campaign', 'he', 'has', 'never', 'been', 'involved', 'in', 'this', '.', 'campaign', 'and', 'he', 'will', 'not', 'advise', 'me', 'in', 'the', 'white', '.', 'house', 'so', 'that', 's', '.', 'mr', '.', 'ayers', ',', 'now', 'with', 'respect', 'to', ',', 'acorn', 'acorn', 'is', 'a', 'community', '.', 'organization', 'apparently', 'what', 'they', 've', 'done', 'is', 'they', 'were', 'paying', 'people', 'to', 'go', 'out', 'and', 'register', ',', 'folks', 'and', 'apparently', 'some', 'of', 'the', 'people', 'who', 'were', 'out', 'there', 'didn', 't', 'really', 'register', ',', 'people', 'they', 'just', 'filled', 'out', 'a', 'bunch', 'of', '.', 'names', 'it', 'had', 'nothing', 'to', 'do', 'with', '.', 'us', 'we', 'were', 'not', '.', 'involved', 'the', 'only', 'involvement', 'i', 've', 'had', 'with', 'acorn', 'was', 'i', 'represented', 'them', 'alongside', 'the', '.', 'u', 's', 'justice', 'department', 'in', 'making', 'illinois', 'implement', 'a', 'motor', 'voter', 'law', 'that', 'helped', 'people', 'get', 'registered', 'at', '.', 'dmvs', ',', 'now', 'the', 'reason', 'i', 'think', 'that', 'it', 's', 'important', 'to', 'just', 'get', 'these', 'facts', 'out', 'is', 'because', 'the', 'allegation', 'that', '.', 'sen', 'mccain', 'has', 'continually', 'made', 'is', 'that', 'somehow', 'my', 'associations', 'are', '.', 'troubling', 'let', 'me', 'tell', 'you', 'who', 'i', 'associate', '.', 'with', 'on', 'economic', ',', 'policy', 'i', 'associate', 'with', 'warren', 'buffett', 'and', 'former', 'fed', 'chairman', 'paul', '.', 'volcker', 'if', 'i', 'm', 'interested', 'in', 'figuring', 'out', 'my', 'foreign', ',', 'policy', 'i', 'associate', 'myself', 'with', 'my', 'running', ',', 'mate', 'joe', 'biden', 'or', 'with', 'dick', ',', 'lugar', 'the', 'republican', 'ranking', 'member', 'on', 'the', 'senate', 'foreign', 'relations', ',', 'committee', 'or', 'general', 'jim', ',', 'jones', 'the', 'former', 'supreme', 'allied', 'commander', 'of', '.', 'nato', 'those', 'are', 'the', ',', 'people', 'democrats', 'and', ',', 'republicans', 'who', 'have', 'shaped', 'my', 'ideas', 'and', 'who', 'will', 'be', 'surrounding', 'me', 'in', 'the', 'white', '.', 'house', 'and', 'i', 'think', 'the', 'fact', 'that', 'this', 'has', 'become', 'such', 'an', 'important', 'part', 'of', 'your', ',', 'campaign', '.', 'sen', ',', 'mccain', 'says', 'more', 'about', 'your', 'campaign', 'than', 'it', 'says', 'about', '.', 'me', ':', 'mccain', ',', 'well', ',', 'again', 'while', 'you', 'were', 'on', 'the', 'board', 'of', 'the', 'woods', ',', 'foundation', 'you', 'and', '.', 'mr', ',', 'ayers', ',', 'together', 'you', 'sent', '$', '##', '##', 'to', '.', 'acorn', 'so', '-', '-', 'and', 'you', 'launched', 'your', 'political', 'campaign', 'in', '.', 'mr', \"'\", 'ayers', 'living', '.', 'room', ':', 'obama', 'that', 's', 'absolutely', 'not', '.', 'true', ':', 'mccain', 'and', 'the', 'facts', 'are', 'facts', 'and', 'records', 'are', '.', 'records', ':', 'obama', 'and', 'that', 's', 'not', 'the', '.', 'facts', ':', 'mccain', 'and', 'it', 's', 'not', 'the', 'fact', '-', '-', 'it', 's', 'not', 'the', 'fact', 'that', '.', 'sen', 'obama', 'chooses', 'to', 'associate', 'with', 'a', 'guy', 'who', 'in', '###', 'said', 'that', 'he', 'wished', 'he', 'had', 'have', 'bombed', ',', 'more', 'and', 'he', 'had', 'a', 'long', 'association', 'with', '.', 'him', 'it', 's', 'the', 'fact', 'that', 'all', 'the', '-', '-', 'all', 'of', 'the', 'details', 'need', 'to', 'be', 'known', 'about', '.', 'sen', 'obama', 's', 'relationship', 'with', 'them', 'and', 'with', 'acorn', 'and', 'the', 'american', 'people', 'will', 'make', 'a', '.', 'judgment', 'and', 'my', 'campaign', 'is', 'about', 'getting', 'this', 'economy', 'back', 'on', ',', 'track', 'about', 'creating', ',', 'jobs', 'about', 'a', 'brighter', 'future', 'for', '.', 'america', 'and', 'that', 's', 'what', 'my', 'campaign', 'is', 'about', 'and', 'i', 'm', 'not', 'going', 'to', 'raise', 'taxes', 'the', 'way', '.', 'sen', 'obama', 'wants', 'to', 'raise', 'taxes', 'in', 'a', 'tough', '.', 'economy', 'and', 'that', 's', 'really', 'what', 'this', 'campaign', 'is', 'going', 'to', 'be', '.', 'about', ':', 'schieffer', 'all', '.', 'right', 'let', 's', 'go', 'to', 'the', 'next', 'topic', 'and', 'you', '-', '-', 'we', 'may', 'want', 'to', 'get', 'back', 'into', 'some', 'of', 'this', 'during', 'this', 'next', '.', 'discussion', 'i', 'want', 'to', 'ask', 'both', 'of', 'you', 'about', 'the', 'people', 'that', 'you', 're', 'going', 'to', 'bring', 'into', 'the', '.', 'government', 'and', 'our', 'best', 'insight', 'yet', 'is', 'who', 'you', 'have', 'picked', 'as', 'your', 'running', '.', 'mates', ':', 'schieffer', 'so', 'i', 'll', 'begin', 'by', 'asking', 'both', 'of', 'you', 'this', ',', 'question', 'and', 'i', 'll', 'ask', 'you', 'to', 'answer', ',', 'first', '.', 'sen', '.', 'obama', 'why', 'would', 'the', 'country', 'be', 'better', 'off', 'if', 'your', 'running', 'mate', 'became', 'president', 'rather', 'than', 'his', 'running', '?', 'mate', ':', 'obama', ',', 'well', 'joe', ',', 'biden', 'i', ',', 'think', 'is', 'one', 'of', 'the', 'finest', 'public', 'servants', 'that', 'has', 'served', 'in', 'this', '.', 'country', 'it', 's', 'not', 'just', 'that', 'he', 'has', 'some', 'of', 'the', 'best', 'foreign', 'policy', 'credentials', 'of', '.', 'anybody', 'and', 'democrats', 'and', 'republicans', ',', 'alike', 'i', ',', 'think', 'acknowledge', 'his', 'expertise', '.', 'there', 'but', 'it', 's', 'also', 'that', 'his', 'entire', 'life', 'he', 'has', 'never', 'forgotten', 'where', 'he', 'came', ',', 'from', 'coming', 'from', ',', 'scranton', 'fighting', 'on', 'behalf', 'of', 'working', ',', 'families', 'remembering', 'what', 'it', 's', 'like', 'to', 'see', 'his', 'father', 'lose', 'his', 'job', 'and', 'go', 'through', 'a', 'downward', 'spiral', '.', 'economically', ',', 'and', 'as', 'a', ',', 'consequence', 'his', 'consistent', 'pattern', 'throughout', 'his', 'career', 'is', 'to', 'fight', 'for', 'the', 'little', '.', 'guy', 'that', 's', 'what', 'he', 's', 'done', 'when', 'it', 'comes', 'to', 'economic', 'policies', 'that', 'will', 'help', 'working', 'families', 'get', 'a', 'leg', '.', 'up', 'that', 's', 'what', 'he', 's', 'done', 'when', 'it', 'comes', ',', 'to', 'for', ',', 'example', 'passing', 'the', 'landmark', '###', 'crime', ',', 'bill', 'the', 'violence', 'against', 'women', 's', '.', 'act', 'joe', 'has', 'always', 'made', 'sure', 'that', 'he', 'is', 'fighting', 'on', 'behalf', 'of', 'working', ',', 'families', 'and', 'i', 'think', 'he', 'shares', 'my', 'core', 'values', 'and', 'my', 'sense', 'of', 'where', 'the', 'country', 'needs', 'to', '.', 'go', 'because', 'after', 'eight', 'years', 'of', 'failed', ',', 'policies', 'he', 'and', 'i', 'both', 'agree', 'that', 'what', 'we', 're', 'going', 'to', 'have', 'to', 'do', 'is', 'to', ',', 're', 'prioritize', 'make', 'sure', 'that', 'we', 're', 'investing', 'in', 'the', 'american', ',', 'people', 'give', 'tax', 'cuts', 'not', 'to', 'the', 'wealthiest', ',', 'corporations', 'but', 'give', 'them', 'to', 'small', 'businesses', 'and', 'give', 'them', 'to', 'individuals', 'who', 'are', 'struggling', 'right', ',', 'now', 'make', 'sure', 'that', 'we', 'finally', 'get', 'serious', 'about', 'energy', ',', 'independence', 'something', 'that', 'has', 'been', 'languishing', 'in', 'washington', 'for', '#', ',', 'years', 'and', 'make', 'sure', 'that', 'our', 'kids', 'get', 'a', 'great', 'education', 'and', 'can', 'afford', 'to', 'go', 'to', '.', 'college', ',', 'so', 'on', 'the', 'key', 'issues', 'that', 'are', 'of', 'importance', 'to', 'american', ',', 'families', 'joe', 'biden', 's', 'always', 'been', 'on', 'the', 'right', ',', 'side', 'and', 'i', 'think', 'he', 'will', 'make', 'an', 'outstanding', 'president', ',', 'if', 'heaven', ',', 'forbid', 'something', 'happened', 'to', '.', 'me', ':', 'schieffer', '?', 'senator', ':', 'mccain', ',', 'well', 'americans', 'have', 'gotten', 'to', 'know', 'sarah', '.', 'palin', 'they', 'know', 'that', 'she', 's', 'a', 'role', 'model', 'to', 'women', 'and', 'other', '-', '-', 'and', 'reformers', 'all', 'over', '.', 'america', 'she', 's', 'a', '.', 'reformer', 'she', 'is', '-', '-', 'she', 'took', 'on', 'a', 'governor', 'who', 'was', 'a', 'member', 'of', 'her', 'own', 'party', 'when', 'she', 'ran', 'for', '.', 'governor', 'when', 'she', 'was', 'the', 'head', 'of', 'their', 'energy', 'and', 'natural', 'resources', ',', 'board', 'she', 'saw', ',', 'corruption', 'she', 'resigned', 'and', ',', 'said', '\"', 'this', 'can', 't', 'go', '\"', '.', 'on', 'she', 's', 'given', 'money', 'back', 'to', 'the', '.', 'taxpayers', 'she', 's', 'cut', 'the', 'size', 'of', '.', 'government', 'she', 'negotiated', 'with', 'the', 'oil', 'companies', 'and', 'faced', 'them', ',', 'down', 'a', '$', '#', 'billion', 'pipeline', 'of', 'natural', 'gas', 'that', 's', 'going', 'to', 'relieve', 'the', 'energy', 'needs', 'of', 'the', 'united', '-', '-', 'of', 'what', 'they', 'call', 'the', 'lower', '.', '#', 'she', 's', 'a', 'reformer', 'through', 'and', '.', 'through', 'and', 'it', 's', 'time', 'we', 'had', 'that', 'bresh', 'of', 'freth', 'air', '(', ')', 'sic', '-', '-', 'breath', 'of', 'fresh', 'air', 'coming', 'into', 'our', 'nation', 's', 'capital', 'and', 'sweep', 'out', 'the', 'old', 'boy', 'network', 'and', 'the', 'cronyism', 'that', 's', 'been', 'so', 'much', 'a', 'part', 'of', 'it', 'that', 'i', 've', 'fought', 'against', 'for', 'all', 'these', '.', 'years', 'she', 'll', 'be', 'my', '.', 'partner', 'she', 'understands', '.', 'reform', ',', 'and', 'by', 'the', ',', 'way', 'she', 'also', 'understands', 'special', 'needs', '.', 'families', 'she', 'understands', 'that', 'autism', 'is', 'on', 'the', ',', 'rise', 'that', 'we', 've', 'got', 'to', 'find', 'out', 'what', 's', 'causing', ',', 'it', 'and', 'we', 've', 'got', 'to', 'reach', 'out', 'to', 'these', ',', 'families', 'and', 'help', ',', 'them', 'and', 'give', 'them', 'the', 'help', 'they', 'need', 'as', 'they', 'raise', 'these', 'very', 'special', 'needs', '.', 'children', 'she', 'understands', 'that', 'better', 'than', 'almost', 'any', 'american', 'that', 'i', '.', 'know', 'i', 'm', 'proud', 'of', '.', 'her', 'and', 'she', 'has', 'ignited', 'our', 'party', 'and', 'people', 'all', 'over', 'america', 'that', 'have', 'never', 'been', 'involved', 'in', 'the', 'political', '.', 'process', 'and', 'i', 'can', 't', 'tell', 'how', 'proud', 'i', 'am', 'of', 'her', 'and', 'her', '.', 'family', 'her', 'husband', 's', 'a', 'pretty', 'tough', ',', 'guy', 'by', 'the', ',', 'way', '.', 'too', ':', 'schieffer', 'do', 'you', 'think', 'she', 's', 'qualified', 'to', 'be', '?', 'president', ':', 'obama', 'you', ',', 'know', 'i', 'think', 'it', 's', '-', '-', 'that', 's', 'going', 'to', 'be', 'up', 'to', 'the', 'american', '.', 'people', 'i', 'think', ',', 'that', ',', 'obviously', 'she', 's', 'a', 'capable', 'politician', 'who', ',', 'has', 'i', ',', 'think', 'excited', 'the', '-', '-', 'a', 'base', 'in', 'the', 'republican', '.', 'party', 'and', 'i', 'think', 'it', 's', 'very', 'commendable', 'the', 'work', 'she', 's', 'done', 'on', 'behalf', 'of', 'special', '.', 'needs', 'i', 'agree', 'with', ',', 'that', '.', 'john', 'i', 'do', 'want', 'to', 'just', 'point', 'out', 'that', ',', 'autism', 'for', ',', 'example', 'or', 'other', 'special', 'needs', 'will', 'require', 'some', 'additional', ',', 'funding', 'if', 'we', 're', 'going', 'to', 'get', 'serious', 'in', 'terms', 'of', '.', 'research', 'that', 'is', 'something', 'that', 'every', 'family', 'that', 'advocates', 'on', 'behalf', 'of', 'disabled', 'children', 'talk', '.', 'about', 'and', 'if', 'we', 'have', 'an', 'across', 'the', 'board', 'spending', ',', 'freeze', 'we', 're', 'not', 'going', 'to', 'be', 'able', 'to', 'do', '.', 'it', 'that', 's', 'an', 'example', ',', 'of', 'i', ',', 'think', 'the', 'kind', 'of', 'use', 'of', 'the', 'scalpel', 'that', 'we', 'want', 'to', 'make', 'sure', 'that', 'we', 're', 'funding', 'some', 'of', 'those', '.', 'programs', ':', 'schieffer', 'do', 'you', 'think', '.', 'sen', 'biden', 'is', '?', 'qualified', ':', 'mccain', 'i', 'think', 'that', 'joe', 'biden', 'is', 'qualified', 'in', 'many', '.', 'respects', 'but', 'i', 'do', 'point', 'out', 'that', 'he', 's', 'been', 'wrong', 'on', 'many', 'foreign', 'policy', 'and', 'national', 'security', ',', 'issues', 'which', 'is', 'supposed', 'to', 'be', 'his', '.', 'strength', 'he', 'voted', 'against', 'the', 'first', 'gulf', '.', 'war', 'he', 'voted', 'against', 'it', ',', 'and', ',', 'obviously', 'we', 'had', 'to', 'take', 'saddam', 'hussein', 'out', 'of', 'kuwait', 'or', 'it', 'would', 've', 'threatened', 'the', 'middle', 'eastern', 'world', '.', 'supply', 'in', ',', 'iraq', 'he', 'had', 'this', 'cockamamie', 'idea', 'about', 'dividing', 'iraq', 'into', 'three', '.', 'countries', 'we', 're', 'seeing', 'iraq', 'united', 'as', ',', 'iraqis', ',', 'tough', ',', 'hard', 'but', 'we', 're', 'seeing', '.', 'them', 'we', 're', 'now', 'about', 'to', 'have', 'an', 'agreement', 'for', 'status', 'of', 'forces', 'in', 'iraq', 'coming', '.', 'up', 'there', 'are', 'several', 'issues', 'in', ',', 'which', ',', 'frankly', 'joe', 'biden', 'and', 'i', 'open', 'and', 'honestly', 'disagreed', 'on', 'national', 'security', ',', 'policy', 'and', 'he', 's', 'been', 'wrong', 'on', 'a', 'number', 'of', 'the', 'major', '.', 'ones', 'but', ',', 'again', 'i', 'want', 'to', 'come', 'back', ',', 'to', 'notice', 'every', 'time', '.', 'sen', 'obama', ',', 'says', '\"', 'we', 'need', 'to', 'spend', ',', 'more', 'we', 'need', 'to', 'spend', ',', 'more', 'that', 's', 'the', '\"', 'answer', '-', '-', 'why', 'do', 'we', 'always', 'have', 'to', 'spend', '?', 'more', 'why', 'can', 't', 'we', 'have', ',', 'transparency', ',', 'accountability', 'reform', 'of', 'these', 'agencies', 'of', '?', 'government', 'maybe', 'that', 's', 'why', 'he', 's', 'asked', 'for', '##', '-', '-', 'sought', 'and', 'proposed', '$', '##', 'billion', 'worth', 'of', 'new', 'spending', 'and', 'wants', 'to', 'raise', 'people', 's', 'taxes', 'in', 'a', 'time', 'of', 'incredible', 'challenge', 'and', 'difficulty', 'and', 'heartache', 'for', 'the', 'american', '.', 'families', ':', 'schieffer', 'let', 's', 'go', 'to', '-', '-', 'let', 's', 'go', 'to', 'a', 'new', '.', 'topic', 'we', 're', 'running', 'a', 'little', '.', 'behind', 'let', 's', 'talk', 'about', 'energy', 'and', 'climate', '.', 'control', 'every', 'president', 'since', 'nixon', 'has', 'said', 'what', 'both', 'of', '.', '.', '.', 'you', ':', 'mccain', 'climate', '.', 'change', ':', 'schieffer', 'climate', ',', 'change', 'yes', '-', '-', 'has', 'said', 'what', 'both', 'of', 'you', 'have', ',', 'said', ',', 'and', 'that', ',', 'is', 'we', 'must', 'reduce', 'our', 'dependence', 'on', 'foreign', '.', 'oil', 'when', 'nixon', 'said', ',', 'it', 'we', 'imported', 'from', '#', 'to', '#', 'percent', 'of', 'our', 'foreign', '.', 'oil', ',', 'now', 'we', 're', 'importing', 'more', 'than', '#', '.', 'percent', 'would', 'each', 'of', 'you', 'give', 'us', 'a', ',', 'number', 'a', 'specific', 'number', 'of', 'how', 'much', 'you', 'believe', 'we', 'can', 'reduce', 'our', 'foreign', 'oil', 'imports', 'during', 'your', 'first', '?', 'term', 'and', 'i', 'believe', 'the', 'first', 'question', 'goes', 'to', ',', 'you', '.', 'sen', '.', 'mccain', ':', 'mccain', 'i', 'think', 'we', ',', 'can', 'for', 'all', 'intents', 'and', ',', 'purposes', 'eliminate', 'our', 'dependence', 'on', 'middle', 'eastern', 'oil', 'and', 'venezuelan', '.', 'oil', 'canadian', 'oil', 'is', '.', 'fine', 'by', 'the', ',', 'way', 'when', '.', 'sen', 'obama', 'said', 'he', 'would', 'unilaterally', 'renegotiate', 'the', 'north', 'american', 'free', 'trade', ',', 'agreement', 'the', 'canadians', ',', 'said', '\"', ',', 'yes', 'and', 'we', 'll', 'sell', 'our', 'oil', 'to', '\"', '.', 'china', 'you', 'don', 't', 'tell', 'countries', 'you', 're', 'going', 'to', 'unilaterally', 'renegotiate', 'agreements', 'with', '.', 'them', 'we', 'can', 'eliminate', 'our', 'dependence', 'on', 'foreign', 'oil', 'by', 'building', '#', 'new', 'nuclear', ',', 'plants', 'power', ',', 'plants', 'right', '.', 'away', 'we', 'can', 'store', 'and', 'we', 'can', '.', 'reprocess', '.', 'sen', 'obama', 'will', 'tell', ',', 'you', 'in', 'the', '-', '-', 'as', 'the', 'extreme', 'environmentalists', ',', 'do', 'it', 'has', 'to', 'be', '.', 'safe', ',', 'look', 'we', 've', 'sailed', 'navy', 'ships', 'around', 'the', 'world', 'for', '#', 'years', 'with', 'nuclear', 'power', 'plants', 'on', '.', 'them', 'we', 'can', 'store', 'and', 'reprocess', 'spent', 'nuclear', ',', 'fuel', '.', 'sen', ',', 'obama', 'no', '.', 'problem', 'so', 'the', 'point', 'is', 'with', 'nuclear', ',', 'power', 'with', ',', 'wind', ',', 'tide', ',', 'solar', 'natural', ',', 'gas', 'with', 'development', 'of', 'flex', ',', 'fuel', ',', 'hybrid', 'clean', 'coal', ',', 'technology', 'clean', 'coal', 'technology', 'is', 'key', 'in', 'the', 'heartland', 'of', 'america', 'that', 's', 'hurting', 'rather', '.', 'badly', 'so', 'i', 'think', 'we', 'can', ',', 'easily', 'within', ',', 'seven', ',', 'eight', 'ten', ',', 'years', 'if', 'we', 'put', 'our', 'minds', 'to', ',', 'it', 'we', 'can', 'eliminate', 'our', 'dependence', 'on', 'the', 'places', 'in', 'the', 'world', 'that', 'harm', 'our', 'national', 'security', 'if', 'we', 'don', 't', 'achieve', 'our', '.', 'independence', ':', 'schieffer', 'all', '.', 'right', 'can', 'we', 'reduce', 'our', 'dependence', 'on', 'foreign', 'oil', 'and', 'by', 'how', 'much', 'in', 'the', 'first', ',', 'term', 'in', 'four', '?', 'years', ':', 'obama', 'i', 'think', 'that', 'in', 'ten', ',', 'years', 'we', 'can', 'reduce', 'our', 'dependence', 'so', 'that', 'we', 'no', 'longer', 'have', 'to', 'import', 'oil', 'from', 'the', 'middle', 'east', 'or', '.', 'venezuela', 'i', 'think', 'that', 's', 'about', 'a', 'realistic', '.', 'timeframe', 'and', 'this', 'is', 'the', 'most', 'important', 'issue', 'that', 'our', 'future', 'economy', 'is', 'going', 'to', '.', 'face', ',', 'obviously', 'we', 've', 'got', 'an', 'immediate', 'crisis', 'right', '.', 'now', 'but', 'nothing', 'is', 'more', 'important', 'than', 'us', 'no', 'longer', 'borrowing', '$', '##', 'billion', 'or', 'more', 'from', 'china', 'and', 'sending', 'it', 'to', 'saudi', '.', 'arabia', 'it', 's', 'mortgaging', 'our', 'children', 's', '.', 'future', ',', 'now', 'from', 'the', 'start', 'of', 'this', ',', 'campaign', 'i', 've', 'identified', 'this', 'as', 'one', 'of', 'my', 'top', 'priorities', 'and', 'here', 'is', 'what', 'i', 'think', 'we', 'have', 'to', '.', 'do', 'number', ',', 'one', 'we', 'do', 'need', 'to', 'expand', 'domestic', 'production', 'and', 'that', ',', 'means', 'for', ',', 'example', 'telling', 'the', 'oil', 'companies', 'the', '#', 'million', 'acres', 'that', 'they', 'currently', 'have', 'leased', 'that', 'they', 're', 'not', ',', 'drilling', 'use', 'them', 'or', 'lose', '.', 'them', 'and', 'i', 'think', 'that', 'we', 'should', 'look', 'at', 'offshore', 'drilling', 'and', 'implement', 'it', 'in', 'a', 'way', 'that', 'allows', 'us', 'to', 'get', 'some', 'additional', '.', 'oil', 'but', ',', 'understand', 'we', 'only', 'have', 'three', 'to', 'four', 'percent', 'of', 'the', 'world', 's', 'oil', 'reserves', 'and', 'we', 'use', '#', 'percent', 'of', 'the', 'world', 's', ',', 'oil', 'which', 'means', 'that', 'we', 'can', 't', 'drill', 'our', 'way', 'out', 'of', 'the', '.', 'problem', 'that', 's', 'why', 'i', 've', 'focused', 'on', 'putting', 'resources', 'into', ',', 'solar', ',', 'wind', ',', 'biodiesel', '.', 'geothermal', 'these', 'have', 'been', 'priorities', 'of', 'mine', 'since', 'i', 'got', 'to', 'the', ',', 'senate', 'and', 'it', 'is', 'absolutely', 'critical', 'that', 'we', 'develop', 'a', 'high', 'fuel', 'efficient', 'car', 'that', 's', 'built', 'not', 'in', 'japan', 'and', 'not', 'in', 'south', ',', 'korea', 'but', 'built', 'here', 'in', 'the', 'united', 'states', 'of', '.', 'america', 'we', 'invented', 'the', 'auto', 'industry', 'and', 'the', 'fact', 'that', 'we', 'have', 'fallen', 'so', 'far', 'behind', 'is', 'something', 'that', 'we', 'have', 'to', 'work', '.', 'on', 'now', 'i', 'just', 'want', 'to', 'make', 'one', 'last', 'point', 'because', '.', 'sen', 'mccain', 'mentioned', 'nafta', 'and', 'the', 'issue', 'of', 'trade', 'and', 'that', 'actually', 'bears', 'on', 'this', '.', 'issue', 'i', 'believe', 'in', 'free', '.', 'trade', 'but', 'i', 'also', 'believe', 'that', 'for', 'far', 'too', ',', 'long', 'certainly', 'during', 'the', 'course', 'of', 'the', 'bush', 'administration', 'with', 'the', 'support', 'of', '.', 'sen', ',', 'mccain', 'the', 'attitude', 'has', 'been', 'that', 'any', 'trade', 'agreement', 'is', 'a', 'good', 'trade', '.', 'agreement', 'and', 'nafta', 'doesn', 't', 'have', '-', '-', 'did', 'not', 'have', 'enforceable', 'labor', 'agreements', 'and', 'environmental', '.', 'agreements', 'and', 'what', 'i', 'said', 'was', 'we', 'should', 'include', 'those', 'and', 'make', 'them', '.', 'enforceable', 'in', 'the', 'same', 'way', 'that', 'we', 'should', 'enforce', 'rules', 'against', 'china', 'manipulating', 'its', 'currency', 'to', 'make', 'our', 'exports', 'more', 'expensive', 'and', 'their', 'exports', 'to', 'us', '.', 'cheaper', 'and', 'when', 'it', 'comes', 'to', 'south', ',', 'korea', 'we', 've', 'got', 'a', 'trade', 'agreement', 'up', 'right', ',', 'now', 'they', 'are', 'sending', 'hundreds', 'of', 'thousands', 'of', 'south', 'korean', 'cars', 'into', 'the', 'united', '.', 'states', 'that', 's', 'all', '.', 'good', 'we', 'can', 'only', 'get', '4', '##', 'to', '5', '##', 'into', 'south', '.', 'korea', 'that', 'is', 'not', 'free', '.', 'trade', 'we', 've', 'got', 'to', 'have', 'a', 'president', 'who', 'is', 'going', 'to', 'be', 'advocating', 'on', 'behalf', 'of', 'american', 'businesses', 'and', 'american', 'workers', 'and', 'i', 'make', 'no', 'apology', 'for', '.', 'that', ':', 'schieffer', '?', 'senator', ':', 'mccain', ',', 'well', 'you', ',', 'know', 'i', 'admire', 'so', 'much', '.', 'sen', 'obama', 's', '.', 'eloquence', 'and', 'you', 'really', 'have', 'to', 'pay', 'attention', 'to', '.', 'words', 'he', ',', 'said', 'we', 'will', 'look', 'at', 'offshore', '.', 'drilling', 'did', 'you', 'get', '?', 'that', 'look', '.', 'at', 'we', 'can', 'offshore', 'drill', '.', 'now', 'we', 've', 'got', 'to', 'do', 'it', '.', 'now', 'we', 'will', 'reduce', 'the', 'cost', 'of', 'a', 'barrel', 'of', 'oil', 'because', 'we', 'show', 'the', 'world', 'that', 'we', 'have', 'a', 'supply', 'of', 'our', '.', 'own', 'it', 's', '.', 'doable', 'the', 'technology', 'is', 'there', 'and', 'we', 'have', 'to', 'drill', '.', 'now', ',', 'now', 'on', 'the', 'subject', 'of', 'free', 'trade', '.', 'agreements', 'i', 'am', 'a', 'free', '.', 'trader', 'and', 'i', 'need', '-', '-', 'we', 'need', 'to', 'have', 'education', 'and', 'training', 'programs', 'for', 'displaced', 'workers', 'that', ',', 'work', 'going', 'to', 'our', 'community', '.', 'colleges', 'but', 'let', 'me', 'give', 'you', 'another', 'example', 'of', 'a', 'free', 'trade', 'agreement', 'that', '.', 'sen', 'obama', '.', 'opposes', 'right', ',', 'now', 'because', 'of', 'previous', ',', 'agreements', 'some', 'made', 'by', 'president', ',', 'clinton', 'the', 'goods', 'and', 'products', 'that', 'we', 'send', 'to', ',', 'colombia', 'which', 'is', 'our', 'largest', 'agricultural', 'importer', 'of', 'our', ',', 'products', 'is', '-', '-', 'there', 's', 'a', 'billion', 'dollars', 'that', 'we', '-', '-', 'our', 'businesses', 'have', 'paid', 'so', 'far', 'in', 'order', 'to', 'get', 'our', 'goods', 'in', '.', 'there', 'because', 'of', 'previous', ',', 'agreements', 'their', 'goods', 'and', 'products', 'come', 'into', 'our', 'country', 'for', '.', 'free', 'so', '.', 'sen', ',', 'obama', 'who', 'has', 'never', 'traveled', 'south', 'of', 'our', ',', 'border', 'opposes', 'the', 'colombia', 'free', 'trade', '.', 'agreement', 'the', 'same', 'country', 'that', 's', 'helping', 'us', 'try', 'to', 'stop', 'the', 'flow', 'of', 'drugs', 'into', 'our', 'country', 'that', 's', 'killing', 'young', '.', 'americans', 'and', 'also', 'the', 'country', 'that', 'just', 'freed', 'three', 'americans', 'that', 'will', 'help', 'us', 'create', 'jobs', 'in', 'america', 'because', 'they', 'will', 'be', 'a', 'market', 'for', 'our', 'goods', 'and', 'products', 'without', 'having', 'to', 'pay', '-', '-', 'without', 'us', 'having', 'to', 'pay', 'the', 'billions', 'of', 'dollars', '-', '-', 'the', 'billion', 'dollars', 'and', 'more', 'that', 'we', 've', 'already', '.', 'paid', 'free', 'trade', 'with', 'colombia', 'is', 'something', 'that', 's', 'a', '.', 'no', 'brainer', 'but', 'maybe', 'you', 'ought', 'to', 'travel', 'down', 'there', 'and', 'visit', 'them', 'and', 'maybe', 'you', 'could', 'understand', 'it', 'a', 'lot', '.', 'better', ':', 'obama', 'let', 'me', '.', 'respond', ',', 'actually', 'i', 'understand', 'it', 'pretty', '.', 'well', 'the', 'history', 'in', 'colombia', 'right', 'now', 'is', 'that', 'labor', 'leaders', 'have', 'been', 'targeted', 'for', 'assassination', 'on', 'a', 'fairly', 'consistent', 'basis', 'and', 'there', 'have', 'not', 'been', '.', 'prosecutions', 'and', 'what', 'i', 'have', ',', 'said', 'because', 'the', 'free', 'trade', '-', '-', 'the', 'trade', 'agreement', 'itself', 'does', 'have', 'labor', 'and', 'environmental', ',', 'protections', 'but', 'we', 'have', 'to', 'stand', 'for', 'human', 'rights', 'and', 'we', 'have', 'to', 'make', 'sure', 'that', 'violence', 'isn', 't', 'being', 'perpetrated', 'against', 'workers', 'who', 'are', 'just', 'trying', 'to', 'organize', 'for', 'their', ',', 'rights', 'which', 'is', ',', 'why', 'for', ',', 'example', 'i', 'supported', 'the', 'peruvian', 'free', 'trade', 'agreement', 'which', 'was', 'a', 'well', 'structured', '.', 'agreement', 'but', 'i', 'think', 'that', 'the', 'important', 'point', 'is', 'we', 've', 'got', 'to', 'have', 'a', 'president', 'who', 'understands', 'the', 'benefits', 'of', 'free', 'trade', 'but', 'also', 'is', 'going', 'to', 'enforce', 'unfair', 'trade', 'agreements', 'and', 'is', 'going', 'to', 'stand', 'up', 'to', 'other', '.', 'countries', 'and', 'the', 'last', 'point', 'i', 'll', ',', 'make', 'because', 'we', 'started', 'on', '.', 'energy', 'when', 'i', 'talked', 'about', 'the', ',', 'automakers', 'they', 'are', 'obviously', 'getting', 'hammered', 'right', '.', 'now', 'they', 'were', 'already', 'having', 'a', 'tough', 'time', 'because', 'of', 'high', 'gas', '.', 'prices', 'and', 'now', 'with', 'the', 'financial', ',', 'crisis', 'car', 'dealerships', 'are', 'closing', 'and', 'people', 'can', 't', 'get', 'car', '.', 'loans', 'that', 's', 'why', 'i', 'think', 'it', 's', 'important', 'for', 'us', 'to', 'get', 'loan', 'guarantees', 'to', 'the', ',', 'automakers', 'but', 'we', 'do', 'have', 'to', 'hold', 'them', 'responsible', 'as', 'well', 'to', 'start', 'producing', 'the', 'highly', 'fuel', 'efficient', 'cars', 'of', 'the', '.', 'future', 'and', 'detroit', 'had', 'dragged', 'its', 'feet', 'too', 'long', 'in', 'terms', 'of', 'getting', 'that', '.', 'done', 'it', 's', 'going', 'to', 'be', 'one', 'of', 'my', 'highest', 'priorities', 'because', 'transportation', 'accounts', 'for', 'about', '#', 'percent', 'of', 'our', 'total', 'energy', '.', 'consumption', 'if', 'we', 'can', 'get', 'that', ',', 'right', 'then', 'we', 'can', 'move', 'in', 'a', 'direction', 'not', 'only', 'of', 'energy', ',', 'independence', 'but', 'we', 'can', 'create', '5', 'million', 'new', 'jobs', 'all', 'across', ',', 'america', 'including', 'in', 'the', 'heartland', 'where', 'we', 'can', 'retool', 'some', 'of', 'these', 'plants', 'to', 'make', 'these', 'highly', 'fuel', 'efficient', 'cars', 'and', 'also', 'to', 'make', 'wind', 'turbines', 'and', 'solar', ',', 'panels', 'the', 'kinds', 'of', 'clean', 'energy', 'approaches', 'that', 'should', 'be', 'the', 'driver', 'of', 'our', 'economy', 'for', 'the', 'next', '.', 'century', ':', 'mccain', ',', 'well', 'let', 'me', 'just', 'said', 'that', 'that', 'this', 'is', '-', '-', 'he', '-', '-', '.', 'sen', 'obama', 'doesn', 't', 'want', 'a', 'free', 'trade', 'agreement', 'with', 'our', 'best', 'ally', 'in', 'the', 'region', 'but', 'wants', 'to', 'sit', 'down', 'across', 'the', 'table', 'without', 'precondition', 'to', '-', '-', 'with', 'hugo', ',', 'chavez', 'the', 'guy', 'who', 'has', 'been', 'helping', ',', 'farc', 'the', 'terrorist', '.', 'organization', 'free', 'trade', 'between', 'ourselves', 'and', ',', 'colombia', 'i', 'just', 'recited', 'to', 'you', 'the', 'benefits', 'of', 'concluding', 'that', ',', 'agreement', 'a', 'billion', 'dollars', 'of', 'american', 'dollars', 'that', 'could', 'have', 'gone', 'to', 'creating', 'jobs', 'and', 'businesses', 'in', 'the', 'united', ',', 'states', 'opening', 'up', 'those', '.', 'markets', 'so', 'i', 'don', 't', '-', '-', 'i', 'don', 't', 'think', 'there', 's', 'any', 'doubt', 'that', '.', 'sen', 'obama', 'wants', 'to', 'restrict', 'trade', 'and', 'he', 'wants', 'to', 'raise', '.', 'taxes', 'and', 'the', 'last', 'president', 'of', 'the', 'united', 'states', 'that', 'tried', 'that', 'was', 'herbert', ',', 'hoover', 'and', 'we', 'went', 'from', 'a', 'deep', 'recession', 'into', 'a', '.', 'depression', 'we', 're', 'not', 'going', 'to', 'follow', 'that', 'path', 'while', 'i', 'm', '-', '-', 'when', 'i', 'm', 'president', 'of', 'the', 'united', '.', 'states', ':', 'schieffer', 'all', ',', 'right', 'let', 's', 'go', 'to', 'a', 'new', ',', 'topic', 'health', '.', 'care', 'given', 'the', 'current', 'economic', ',', 'situation', 'would', 'either', 'of', 'you', 'now', 'favor', 'controlling', 'health', 'care', 'costs', 'over', 'expanding', 'health', 'care', '?', 'coverage', 'the', 'question', 'is', 'first', 'to', '.', 'sen', '.', 'obama', ':', 'obama', 'we', 've', 'got', 'to', 'do', ',', 'both', 'and', 'that', 's', 'exactly', 'what', 'my', 'plan', '.', 'does', ',', 'look', 'as', 'i', 'travel', 'around', 'the', ',', 'country', 'this', 'is', 'the', 'issue', 'that', 'will', 'break', 'your', 'heart', 'over', 'and', 'over', '.', 'again', 'just', ',', 'yesterday', 'i', 'was', 'in', 'toledo', 'shaking', 'some', 'hands', 'in', 'a', '.', 'line', 'two', ',', 'women', 'both', 'of', 'them', 'probably', 'in', 'their', '-', 'mid', 'to', ',', 'late', '#', 's', 'had', 'just', 'been', 'laid', 'off', 'of', 'their', '.', 'plant', 'neither', 'of', 'them', 'have', 'health', '.', 'insurance', 'and', 'they', 'were', 'desperate', 'for', 'some', 'way', 'of', 'getting', ',', 'coverage', ',', 'because', ',', 'understandably', 'they', 're', 'worried', ',', 'that', 'if', 'they', 'get', ',', 'sick', 'they', 'could', 'go', '.', 'bankrupt', 'so', 'here', 's', 'what', 'my', 'plan', '.', 'does', 'if', 'you', 'have', 'health', ',', 'insurance', 'then', 'you', 'don', 't', 'have', 'to', 'do', '.', 'anything', 'if', 'you', 've', 'got', 'health', 'insurance', 'through', 'your', ',', 'employer', 'you', 'can', 'keep', 'your', 'health', ',', 'insurance', 'keep', 'your', 'choice', 'of', ',', 'doctor', 'keep', 'your', '.', 'plan', 'the', 'only', 'thing', 'we', 're', 'going', 'to', 'try', 'to', 'do', 'is', 'lower', 'costs', 'so', 'that', 'those', 'cost', 'savings', 'are', 'passed', 'onto', '.', 'you', 'and', 'we', 'estimate', 'we', 'can', 'cut', 'the', 'average', 'family', 's', 'premium', 'by', 'about', '$', '2', '##', 'per', '.', 'year', 'if', 'you', 'don', 't', 'have', 'health', ',', 'insurance', 'then', 'what', 'we', 're', 'going', 'to', 'do', 'is', 'to', 'provide', 'you', 'the', 'option', 'of', 'buying', 'into', 'the', 'same', 'kind', 'of', 'federal', 'pool', 'that', 'both', '.', 'sen', 'mccain', 'and', 'i', 'enjoy', 'as', 'federal', ',', 'employees', 'which', 'will', 'give', 'you', 'high', 'quality', ',', 'care', 'choice', 'of', ',', 'doctors', 'at', 'lower', ',', 'costs', 'because', 'so', 'many', 'people', 'are', 'part', 'of', 'this', 'insured', '.', 'group', 'we', 're', 'going', 'to', 'make', 'sure', 'that', 'insurance', 'companies', 'can', 't', 'discriminate', 'on', 'the', 'basis', 'of', 'pre', 'existing', '.', 'conditions', 'we', 'll', 'negotiate', 'with', 'the', 'drug', 'companies', 'for', 'the', 'cheapest', 'available', 'price', 'on', '.', 'drugs', 'we', 'are', 'going', 'to', 'invest', 'in', 'information', 'technology', 'to', 'eliminate', 'bureaucracy', 'and', 'make', 'the', 'system', 'more', '.', 'efficient', 'and', 'we', 'are', 'going', 'to', 'make', 'sure', 'that', 'we', 'manage', 'chronic', ',', 'illnesses', 'like', 'diabetes', 'and', 'heart', ',', 'disease', 'that', 'cost', 'a', 'huge', ',', 'amount', 'but', 'could', 'be', '.', 'prevented', 'we', 've', 'got', 'to', 'put', 'more', 'money', 'into', 'preventive', '.', 'care', 'this', 'will', 'cost', 'some', 'money', 'on', 'the', 'front', ',', 'end', 'but', 'over', 'the', 'long', 'term', 'this', 'is', 'the', 'only', 'way', 'that', 'not', 'only', 'are', 'we', 'going', 'to', 'make', 'families', ',', 'healthy', 'but', 'it', 's', 'also', 'how', 'we', 're', 'going', 'to', 'save', 'the', 'federal', ',', 'budget', 'because', 'we', 'can', 't', 'afford', 'these', 'escalating', '.', 'costs', ':', 'schieffer', 'all', '.', 'right', '.', 'sen', '?', 'mccain', ':', 'mccain', ',', 'well', 'it', 'is', 'a', 'terribly', 'painful', 'situation', 'for', '.', 'americans', 'they', 're', 'seeing', 'their', ',', 'premiums', 'their', 'co', 'pays', 'go', '.', 'up', 'forty', 'seven', 'million', 'americans', 'are', 'without', 'health', 'insurance', 'in', 'america', '.', 'today', 'and', 'it', 'really', 'is', 'the', ',', 'cost', 'the', 'escalating', 'costs', 'of', 'health', 'care', 'that', 'are', 'inflicting', 'such', 'pain', 'on', 'working', 'families', 'and', 'people', 'across', 'this', '.', 'country', 'and', 'i', 'am', 'convinced', 'we', 'need', 'to', 'do', 'a', 'lot', 'of', '.', 'things', 'we', 'need', 'to', 'put', 'health', 'care', 'records', '.', 'online', 'the', '.', 'v', 'a', 'does', '.', 'that', 'that', 'will', '-', '-', 'that', 'will', 'reduce', '.', 'costs', 'we', 'need', 'to', 'have', 'more', 'community', 'health', '.', 'centers', 'we', 'need', 'to', 'have', 'walk', 'in', '.', 'clinics', 'the', 'rise', 'of', 'obesity', 'amongst', 'young', 'americans', 'is', 'one', 'of', 'the', 'most', 'alarming', 'statistics', 'that', 'there', '.', 'is', 'we', 'should', 'have', 'physical', 'fitness', 'programs', 'and', 'nutrition', 'programs', 'in', '.', 'schools', 'every', 'parent', 'should', 'know', 'what', 's', 'going', 'on', '.', 'there', 'we', '-', '-', 'we', 'need', 'to', 'have', '-', '-', 'we', 'need', 'to', 'have', 'employers', 'reward', 'employees', 'who', 'join', 'health', 'clubs', 'and', 'practice', 'wellness', 'and', '.', 'fitness', 'but', 'i', 'want', 'to', 'give', 'every', 'american', 'family', 'a', '$', '5', '##', 'refundable', 'tax', '.', 'credit', 'take', 'it', 'and', 'get', 'anywhere', 'in', 'america', 'the', 'health', 'care', 'that', 'you', '.', 'wish', ',', 'now', 'my', 'old', ',', 'buddy', ',', 'joe', 'joe', 'the', ',', 'plumber', 'is', 'out', '.', 'there', ',', 'now', ',', 'joe', '.', 'sen', 'obama', 's', ',', 'plan', 'if', 'you', 're', 'a', 'small', 'business', 'and', 'you', 'are', 'able', '-', '-', 'and', 'your', '-', '-', 'the', 'guy', 'that', 'sells', 'to', 'you', 'will', 'not', 'have', 'his', 'capital', 'gains', 'tax', ',', 'increase', 'which', '.', 'sen', 'obama', ',', 'wants', 'if', 'you', 're', 'out', ',', 'there', 'my', ',', 'friend', 'and', 'you', 've', 'got', ',', 'employees', 'and', 'you', 've', 'got', ',', 'kids', 'if', 'you', 'don', 't', 'get', '-', '-', 'adopt', 'the', 'health', 'care', 'plan', 'that', '.', 'sen', 'obama', ',', 'mandates', 'he', 's', 'going', 'to', 'fine', '.', 'you', ',', 'now', '.', 'sen', ',', 'obama', 'i', 'd', 'like', '-', '-', 'still', 'like', 'to', 'know', 'what', 'that', 'fine', 'is', 'going', 'to', ',', 'be', 'and', 'i', 'don', 't', 'think', 'that', 'joe', 'right', 'now', 'wants', 'to', 'pay', 'a', 'fine', 'when', 'he', 'is', 'seeing', 'such', 'difficult', 'times', 'in', 'america', 's', '.', 'economy', '.', 'sen', 'obama', 'wants', 'to', 'set', 'up', 'health', 'care', ',', 'bureaucracies', 'take', 'over', 'the', 'health', 'care', 'of', 'america', 'through', '-', '-', 'as', 'he', ',', 'said', 'his', 'object', 'is', 'a', 'single', 'payer', '.', 'system', 'if', 'you', 'like', ',', 'that', 'you', 'll', 'love', 'canada', 'and', '.', 'england', 'so', 'the', 'point', '.', '.', '.', 'is', ':', 'schieffer', 'so', 'that', 's', 'your', '?', 'objective', ':', 'obama', 'it', 'is', 'not', 'and', 'i', 'didn', 't', 'describe', '.', '.', '.', 'it', ':', 'mccain', ',', 'no', 'you', 'stated', '.', 'it', ':', 'obama', 'i', '.', '.', '.', 'just', ':', 'mccain', 'excuse', '.', 'me', ':', 'obama', 'i', 'just', 'described', 'what', 'my', 'plan', '.', 'is', 'and', 'i', 'm', 'happy', 'to', 'talk', 'to', ',', 'you', ',', 'joe', ',', 'too', 'if', 'you', 're', 'out', '.', 'there', 'here', 's', 'your', 'fine', '-', '-', '.', 'zero', 'you', 'won', 't', 'pay', 'a', ',', 'fine', '.', '.', '.', 'because', ':', 'mccain', '?', 'zero', ':', 'obama', ',', 'zero', 'because', 'as', 'i', 'said', 'in', 'our', 'last', 'debate', 'and', 'i', 'll', ',', 'repeat', ',', 'john', 'i', 'exempt', 'small', 'businesses', 'from', 'the', 'requirement', 'for', 'large', 'businesses', 'that', 'can', 'afford', 'to', 'provide', 'health', 'care', 'to', 'their', ',', 'employees', 'but', 'are', 'not', 'doing', '.', 'it', 'i', 'exempt', 'small', 'businesses', 'from', 'having', 'to', 'pay', 'into', 'a', '.', 'kitty', 'but', 'large', 'businesses', 'that', 'can', 'afford', ',', 'it', 'we', 've', 'got', 'a', '.', 'choice', 'either', 'they', 'provide', 'health', 'insurance', 'to', 'their', 'employees', 'or', 'somebody', 'has', '.', 'to', 'right', ',', 'now', 'what', 'happens', 'is', 'those', 'employees', 'get', 'dumped', 'into', 'either', 'the', 'medicaid', ',', 'system', 'which', 'taxpayers', 'pick', ',', 'up', 'or', 'they', 're', 'going', 'to', 'the', 'emergency', 'room', 'for', 'uncompensated', ',', 'care', 'which', 'everybody', 'picks', 'up', 'in', 'their', '.', 'premiums', 'the', 'average', 'family', 'is', 'paying', 'an', 'additional', '$', '##', 'a', 'year', 'in', 'higher', 'premiums', 'because', 'of', 'the', '.', 'uninsured', 'so', 'here', 's', 'what', 'we', '.', 'do', 'we', 'exempt', 'small', '.', 'businesses', 'in', ',', 'fact', ',', 'what', ',', 'joe', 'if', 'you', 'want', 'to', 'do', 'the', 'right', 'thing', 'with', 'your', 'employees', 'and', 'you', 'want', 'to', 'provide', 'them', 'health', ',', 'insurance', 'we', 'll', 'give', 'you', 'a', '#', 'percent', 'credit', 'so', 'that', 'you', 'will', 'actually', 'be', 'able', 'to', 'afford', '.', 'it', 'if', 'you', 'don', 't', 'have', 'health', 'insurance', 'or', 'you', 'want', 'to', 'buy', 'into', 'a', 'group', ',', 'plan', 'you', 'will', 'be', 'able', 'to', 'buy', 'into', 'the', 'plan', 'that', 'i', 'just', '.', 'described', ',', 'now', 'what', 'we', 'haven', 't', 'talked', 'about', 'is', '.', 'sen', 'mccain', 's', '.', 'plan', 'he', 'says', 'he', 's', 'going', 'to', 'give', 'you', 'all', 'a', '$', '5', '##', 'tax', '.', 'credit', 'that', 'sounds', 'pretty', '.', 'good', 'and', 'you', 'can', 'go', 'out', 'and', 'buy', 'your', 'own', '.', 'insurance', 'here', 's', 'the', 'problem', '-', '-', 'that', 'for', 'about', '#', 'million', ',', 'people', 'you', 'may', 'find', 'yourselves', 'no', 'longer', 'having', 'employer', 'based', 'health', '.', 'insurance', 'this', 'is', 'because', 'younger', 'people', 'might', 'be', 'able', 'to', 'get', 'health', 'insurance', 'for', '$', ',', '5', '##', 'young', 'and', 'healthy', '.', 'folks', 'older', ',', 'folks', 'let', 's', 'healthy', ',', 'folks', 'what', 's', 'going', 'to', 'end', 'up', 'happening', 'is', 'that', 'you', 're', 'going', 'to', 'be', 'the', 'only', 'ones', 'left', 'in', 'your', 'employer', 'based', ',', 'system', 'your', 'employers', 'won', 't', 'be', 'able', 'to', 'afford', '.', 'it', 'and', 'once', 'you', 're', 'out', 'on', 'your', 'own', 'with', 'this', '$', '5', '##', ',', 'credit', '.', 'sen', ',', 'mccain', 'for', 'the', 'first', ',', 'time', 'is', 'going', 'to', 'be', 'taxing', 'the', 'health', 'care', 'benefits', 'that', 'you', 'have', 'from', 'your', '.', 'employer', 'and', 'this', 'is', 'your', ',', 'plan', '.', 'john', 'for', 'the', 'first', 'time', 'in', ',', 'history', 'you', 'will', 'be', 'taxing', 'people', 's', 'health', 'care', '.', 'benefits', 'by', 'the', ',', 'way', 'the', 'average', 'policy', 'costs', 'about', '$', '.', '#', '##', 'so', 'if', 'you', 've', 'got', '$', '5', '##', 'and', 'it', 's', 'going', 'to', 'cost', 'you', '$', ',', '#', '##', 'that', 's', 'a', 'loss', 'for', '.', 'you', 'last', 'point', 'about', '.', 'sen', 'mccain', 's', 'plan', 'is', 'that', 'insurers', 'right', ',', 'now', 'the', 'main', 'restrictions', 'on', 'what', 'they', 'do', 'is', 'primarily', 'state', 'law', ',', 'and', 'under', '.', 'sen', 'mccain', 's', ',', 'plan', 'those', 'rules', 'would', 'be', 'stripped', 'away', 'and', 'you', 'would', 'start', 'seeing', 'a', 'lot', 'more', 'insurance', 'companies', 'cherry', 'picking', 'and', 'excluding', 'people', 'from', '.', 'coverage', ',', 'that', 'i', ',', 'think', 'is', 'a', 'mistake', 'and', 'i', 'think', 'that', 'this', 'is', 'a', 'fundamental', 'difference', 'in', 'our', 'campaign', 'and', 'how', 'we', 'would', 'approach', 'health', '.', 'care', ':', 'schieffer', 'what', 'about', '?', 'that', ':', 'mccain', ',', 'hey', ',', 'joe', 'you', 're', ',', 'rich', ',', 'congratulations', 'because', 'what', 'joe', 'wanted', 'to', 'do', 'was', 'buy', 'the', 'business', 'that', 'he', 's', 'been', 'working', 'for', '#', '#', 'hours', 'a', ',', 'day', 'seven', 'days', 'a', ',', 'week', 'and', 'you', 'said', 'that', 'you', 'wanted', 'to', 'spread', 'the', ',', 'wealth', 'but', '-', '-', 'in', 'other', ',', 'words', 'take', 'joe', 's', 'money', 'and', 'then', 'you', 'decide', 'what', 'to', 'do', 'with', '.', 'it', ',', 'now', ',', 'joe', 'you', 're', ',', 'rich', ',', 'congratulations', 'and', 'you', 'will', 'then', 'fall', 'into', 'the', 'category', 'where', 'you', 'll', 'have', 'to', 'pay', 'a', 'fine', 'if', 'you', 'don', 't', 'provide', 'health', 'insurance', 'that', '.', 'sen', 'obama', ',', 'mandates', 'not', 'the', 'kind', 'that', 'you', 'think', 'is', 'best', 'for', 'your', ',', 'family', 'your', ',', 'children', 'your', ',', 'employees', 'but', 'the', 'kind', 'that', 'he', 'mandates', 'for', '.', 'you', 'that', 's', 'big', 'government', 'at', 'its', '.', 'best', ',', 'now', '#', 'percent', 'of', 'the', 'people', 'in', 'america', 'will', 'receive', 'more', 'money', 'under', 'my', 'plan', 'because', 'they', 'will', 'receive', 'not', 'only', 'their', 'present', ',', 'benefits', 'which', 'may', 'be', ',', 'taxed', 'which', 'will', 'be', ',', 'taxed', 'but', 'then', 'you', 'add', '$', '5', '##', 'onto', ',', 'it', 'except', 'for', 'those', 'people', 'who', 'have', 'the', 'gold', 'plated', 'cadillac', 'insurance', 'policies', 'that', 'have', 'to', 'do', 'with', 'cosmetic', 'surgery', 'and', 'transplants', 'and', 'all', 'of', 'those', 'kinds', 'of', '.', 'things', 'and', 'the', 'good', 'thing', 'about', 'this', 'is', 'they', 'll', 'be', 'able', 'to', 'go', 'across', '.', 'america', 'the', 'average', 'cost', 'of', 'a', 'health', 'care', 'insurance', 'plan', 'in', 'america', 'today', 'is', '$', '.', '5', '##', 'i', 'm', 'going', 'to', 'give', 'them', '$', '5', '##', 'to', 'take', 'with', 'them', 'wherever', 'they', 'want', 'to', ',', 'go', 'and', 'this', 'will', 'give', 'them', '.', 'affordability', 'this', 'will', 'give', 'them', '.', 'availability', 'this', 'will', 'give', 'them', 'a', 'chance', 'to', 'choose', 'their', 'own', ',', 'futures', 'not', 'have', '.', 'sen', 'obama', 'and', 'government', 'decide', 'that', 'for', '.', 'them', 'this', 'really', 'gets', 'down', 'to', 'the', 'fundamental', 'difference', 'in', 'our', '.', 'philosophies', 'if', 'you', 'notice', 'that', 'in', 'all', 'of', 'this', ',', 'proposal', 'senator', '-', '-', 'government', 'wants', '-', '-', '.', 'sen', 'obama', 'wants', 'government', 'to', 'do', 'the', '.', 'job', '.', 'sen', 'obama', 'wants', 'government', 'to', 'do', 'the', '.', 'job', 'i', ',', 'want', ',', 'joe', 'you', 'to', 'do', 'the', '.', 'job', 'i', 'want', 'to', 'leave', 'money', 'in', 'your', '.', 'pocket', 'i', 'want', 'you', 'to', 'be', 'able', 'to', 'choose', 'the', 'health', 'care', 'for', 'you', 'and', 'your', '.', 'family', 'that', 's', 'what', 'i', 'm', 'all', '.', 'about', 'and', 'we', 've', 'got', 'too', 'much', 'government', 'and', 'too', 'much', 'spending', 'and', 'the', 'government', 'is', '-', '-', 'the', 'size', 'of', 'government', 'has', 'grown', 'by', '#', 'percent', 'in', 'the', 'last', 'eight', '.', 'years', 'we', 'can', 't', 'afford', 'that', 'in', 'the', 'next', 'eight', 'years', 'and', '.', 'sen', ',', 'obama', 'with', 'the', 'democrats', 'in', 'charge', 'of', ',', 'congress', 'things', 'have', 'gotten', '.', 'worse', 'have', 'you', ',', 'noticed', 'they', 've', 'been', 'in', 'charge', 'the', 'last', 'two', '.', 'years', ':', 'schieffer', 'all', '.', 'right', 'a', 'short', '.', 'response', ':', 'obama', 'very', '.', 'briefly', 'you', 'all', 'just', 'heard', 'my', '.', 'plan', 'if', 'you', 've', 'got', 'an', 'employer', 'based', 'health', 'care', ',', 'plan', 'you', 'keep', '.', 'it', ',', 'now', 'under', '.', 'sen', 'mccain', 's', 'plan', 'there', 'is', 'a', 'strong', 'risk', 'that', 'people', 'would', 'lose', 'their', 'employer', 'based', 'health', '.', 'care', 'that', 's', 'the', 'choice', 'you', 'll', 'have', 'is', 'having', 'your', 'employer', 'no', 'longer', 'provide', 'you', 'health', '.', 'care', 'and', 'don', 't', 'take', 'my', 'word', 'for', '.', 'it', 'the', '.', 'u', 's', 'chamber', 'of', ',', 'commerce', 'which', 'generally', 'doesn', 't', 'support', 'a', 'lot', 'of', ',', 'democrats', 'said', 'that', 'this', 'plan', 'could', 'lead', 'to', 'the', 'unraveling', 'of', 'the', 'employer', 'based', 'health', 'care', '.', 'system', 'all', 'i', 'want', 'to', ',', 'do', 'if', 'you', 've', 'already', 'got', 'health', ',', 'care', 'is', 'lower', 'your', '.', 'costs', 'that', 'includes', ',', 'you', '.', 'joe', ':', 'schieffer', 'all', '.', 'right', 'let', 's', 'stop', 'there', 'and', 'go', 'to', 'another', '.', 'question', 'and', 'this', 'one', 'goes', 'to', '.', 'sen', '.', 'mccain', '.', 'sen', ',', 'mccain', 'you', 'believe', 'roe', '.', 'v', 'wade', 'should', 'be', '.', 'overturned', '.', 'sen', ',', 'obama', 'you', 'believe', 'it', '.', 'shouldn', 't', 'could', 'either', 'of', 'you', 'ever', 'nominate', 'someone', 'to', 'the', 'supreme', 'court', 'who', 'disagrees', 'with', 'you', 'on', 'this', '?', 'issue', '.', 'sen', '?', 'mccain', ':', 'mccain', 'i', 'would', 'never', 'and', 'have', 'never', 'in', 'all', 'the', 'years', 'i', 've', 'been', 'there', 'imposed', 'a', 'litmus', 'test', 'on', 'any', 'nominee', 'to', 'the', '.', 'court', 'that', 's', 'not', 'appropriate', 'to', '.', 'do', ':', 'schieffer', 'but', 'you', 'don', 't', 'want', 'roe', '.', 'v', 'wade', 'to', 'be', '?', 'overturned', ':', 'mccain', 'i', 'thought', 'it', 'was', 'a', 'bad', '.', 'decision', 'i', 'think', 'there', 'were', 'a', 'lot', 'of', 'decisions', 'that', 'were', '.', 'bad', 'i', 'think', 'that', 'decisions', 'should', 'rest', 'in', 'the', 'hands', 'of', 'the', '.', 'states', 'i', 'm', 'a', '.', 'federalist', 'and', 'i', 'believe', 'strongly', 'that', 'we', 'should', 'have', 'nominees', 'to', 'the', 'united', 'states', 'supreme', 'court', 'based', 'on', 'their', 'qualifications', 'rather', 'than', 'any', 'litmus', '.', 'test', ',', 'now', 'let', 'me', 'say', 'that', 'there', 'was', 'a', 'time', 'a', 'few', 'years', 'ago', 'when', 'the', 'united', 'states', 'senate', 'was', 'about', 'to', 'blow', '.', 'up', 'republicans', 'wanted', 'to', 'have', 'just', 'a', 'majority', 'vote', 'to', 'confirm', 'a', 'judge', 'and', 'the', 'democrats', 'were', 'blocking', 'in', 'an', 'unprecedented', '.', 'fashion', 'we', 'got', 'together', 'seven', ',', 'republicans', 'seven', '.', 'democrats', 'you', 'were', 'offered', 'a', 'chance', 'to', '.', 'join', 'you', 'chose', 'not', 'to', 'because', 'you', 'were', 'afraid', 'of', 'the', 'appointment', ',', 'of', ',', 'quote', '\"', 'conservative', '\"', '.', 'judges', 'i', 'voted', 'for', 'justice', 'breyer', 'and', 'justice', '.', 'ginsburg', 'not', 'because', 'i', 'agreed', 'with', 'their', ',', 'ideology', 'but', 'because', 'i', 'thought', 'they', 'were', 'qualified', 'and', 'that', 'elections', 'have', 'consequences', 'when', 'presidents', 'are', '.', 'nominated', 'this', 'is', 'a', 'very', 'important', 'issue', 'we', 're', 'talking', '.', 'about', '.', 'sen', 'obama', 'voted', 'against', 'justice', 'breyer', 'and', 'justice', 'roberts', 'on', 'the', 'grounds', 'that', 'they', 'didn', 't', 'meet', 'his', 'ideological', '.', 'standards', 'that', 's', 'not', 'the', 'way', 'we', 'should', 'judge', 'these', '.', 'nominees', 'elections', 'have', '.', 'consequences', 'they', 'should', 'be', 'judged', 'on', 'their', '.', 'qualifications', 'and', 'so', 'that', 's', 'what', 'i', 'will', '.', 'do', 'i', 'will', 'find', 'the', 'best', 'people', 'in', 'the', 'world', '-', '-', 'in', 'the', 'united', 'states', 'of', 'america', 'who', 'have', 'a', 'history', 'of', 'strict', 'adherence', 'to', 'the', '.', 'constitution', 'and', 'not', 'legislating', 'from', 'the', '.', 'bench', ':', 'schieffer', 'but', 'even', 'if', 'it', 'was', 'someone', '-', '-', 'even', 'someone', 'who', 'had', 'a', 'history', 'of', 'being', 'for', 'abortion', ',', 'rights', 'you', 'would', 'consider', '?', 'them', ':', 'mccain', 'i', 'would', 'consider', 'anyone', 'in', 'their', '.', 'qualifications', 'i', 'do', 'not', 'believe', 'that', 'someone', 'who', 'has', 'supported', 'roe', '.', 'v', 'wade', 'that', 'would', 'be', 'part', 'of', 'those', '.', 'qualifications', 'but', 'i', 'certainly', 'would', 'not', 'impose', 'any', 'litmus', '.', 'test', ':', 'schieffer', 'all', '.', 'right', ':', 'obama', ',', 'well', 'i', 'think', 'it', 's', 'true', 'that', 'we', 'shouldn', 't', 'apply', 'a', 'strict', 'litmus', 'test', 'and', 'the', 'most', 'important', 'thing', 'in', 'any', 'judge', 'is', 'their', 'capacity', 'to', 'provide', 'fairness', 'and', 'justice', 'to', 'the', 'american', '.', 'people', 'and', 'it', 'is', 'true', 'that', 'this', 'is', 'going', 'to', ',', 'be', 'i', 'thi'], ['##', 'shares', 'share', 'tweet', 'president', 'trump', 'is', 'about', 'to', 'end', 'the', 'longstanding', 'abuse', 'of', 'the', 'american', 'welfare', 'system', 'and', 'ban', 'migrants', 'from', 'getting', 'free', 'money', 'and', 'handouts', 'for', 'five', '.', 'years', 'the', 'immigration', 'rules', 'will', 'prohibit', 'migrants', 'from', 'coming', 'to', 'the', 'country', 'and', 'taking', 'advantage', 'of', 'free', 'american', 'welfare', 'money', 'right', '.', 'away', 'it', 'will', 'slow', ',', 'down', 'or', ',', 'stop', 'chain', 'migration', 'while', 'protecting', 'american', 'workers', 'and', 'potentially', 'saving', 'taxpayers', 'money', 'what', 'used', 'to', 'happen', 'is', 'that', 'people', 'would', 'migrate', 'to', 'america', 'and', 'just', 'live', 'on', 'the', 'free', 'money', 'they', '.', 'received', 'that', 's', 'called', 'welfare', '.', 'abuse', 'america', 'is', 'open', 'to', ',', 'migrants', 'but', 'perhaps', 'we', 'don', 't', 'want', 'migrants', 'who', 'can', 't', 'fend', 'for', '.', 'themselves', 'maybe', 'it', 's', 'better', 'if', 'people', 'who', 'are', 'self', 'sufficient', 'migrate', 'to', 'the', 'country', 'so', 'that', 'we', 'can', 'reduce', 'the', 'amount', 'of', 'citizens', 'living', 'off', 'the', 'system', 'president', 'trump', 'wants', 'to', 'introduce', 'a', 'merit', 'based', 'green', 'card', 'system', 'in', 'which', 'migrants', 'compete', 'for', '.', 'visas', 'migrants', 'can', 'earn', 'points', 'for', 'themselves', 'by', 'learning', 'to', 'speak', ',', 'english', 'gaining', 'job', 'training', 'or', 'job', ',', 'offers', 'or', 'doing', 'something', 'else', 'that', 'is', 'considered', 'a', 'benefit', 'to', 'the', '.', 'america', 'the', 'idea', 'seems', 'to', 'be', 'that', 'in', 'order', 'for', 'america', 'to', 'grant', 'visas', 'or', ',', 'citizenship', 'the', 'migrant', 'has', 'to', 'give', 'something', 'back', 'to', 'the', '.', 'country', 'it', 's', 'as', 'though', 'the', 'government', 'wants', 'to', 'stop', 'people', 'coming', 'to', 'america', 'and', 'living', 'off', 'the', 'system', 'and', 'would', 'prefer', 'people', 'coming', 'to', 'the', 'country', 'to', 'be', '.', 'contributors', 'do', 'something', 'for', 'america', 'and', 'america', 'will', 'do', 'something', 'for', 'you', 'migrants', 'to', 'those', 'countries', 'must', 'compete', 'for', 'a', 'limited', 'number', 'of', 'visas', 'by', 'gaining', 'points', 'for', 'english', ',', 'proficiency', 'competitive', ',', 'training', 'a', 'job', 'offer', 'or', 'another', 'major', 'achievement', 'that', 'benefits', 'the', 'host', 'country', 'the', ',', 'concept', 'which', 'is', 'modeled', 'after', 'similar', 'programs', 'from', 'australia', 'and', ',', 'canada', 'is', 'taking', 'harsh', 'criticism', 'from', '.', 'activists', 'it', 's', 'like', 'they', 'want', 'an', 'open', 'border', 'policy', 'where', 'everyone', 'gets', 'free', 'welfare', ',', 'money', 'but', 'that', 'would', 'just', 'be', 'the', 'downfall', 'of', '.', 'america', 'if', 'we', 'observe', 'what', 's', 'happening', 'in', ',', 'germany', 'with', 'merkel', 's', 'come', 'on', 'in', ',', 'policy', 'then', 'we', 'see', 'a', 'mass', 'increase', 'in', 'horrible', 'crimes', 'like', 'gang', '.', 'rape', 'do', 'we', 'want', 'mass', 'amounts', 'of', 'migrant', 'gang', 'rape', 'in', '?', 'america', 'there', 's', 'already', 'enough', 'trouble', 'with', 'crime', 'in', 'sanctuary', 'cities', 'that', 'protect', 'illegal', 'immigrant', '.', 'criminals', 'those', 'folks', 'should', 'be', 'deported', 'because', 'of', 'their', 'bad', 'behavior', 'and', 'often', 'violent', 'crimes', 'they', 'commit', 'on', 'american', 'people', 'and', 'even', 'other', 'immigrants', 'if', 'america', 'prevents', 'immigrants', 'from', 'getting', 'free', 'benefits', 'for', 'five', ',', 'years', 'then', 'that', 'makes', 'people', 'think', 'twice', 'about', 'coming', '.', 'here', 'if', 'a', 'family', 'who', 'thinks', 'about', 'crossing', 'the', 'border', 'to', 'start', 'a', 'new', 'life', 'knows', 'that', 'they', 'cannot', 'live', 'for', ',', 'free', 'then', 'they', 'may', 'not', 'come', 'at', '.', 'all', 'if', 'they', 'have', 'possible', 'jobs', 'lined', 'up', 'and', 'will', 'be', 'almost', 'instantly', 'integrating', 'successfully', 'with', ',', 'society', 'then', 'that', 's', 'a', 'great', '.', 'match', 'america', 'is', 'the', 'land', 'of', 'the', ',', 'free', 'but', 'not', 'the', 'land', 'of', 'the', 'free', 'money', 'migrants', 'who', 'enter', 'the', 'united', 'states', 'cannot', 'receive', 'welfare', 'during', 'their', 'first', 'five', 'years', 'in', 'the', ',', 'country', 'president', 'trump', 'revealed', 'from', 'his', 'upcoming', 'immigration', '.', 'overhaul', 'just', 'this', ',', 'week', 'we', 'announced', 'a', 'historic', 'immigration', 'bill', 'to', 'create', 'a', 'merit', 'based', 'green', 'card', 'system', 'that', 'ends', 'the', 'abuse', 'of', 'our', 'welfare', ',', 'system', 'stops', 'chain', ',', 'migration', 'and', 'protects', 'our', 'workers', 'and', 'our', ',', 'economy', 'he', 'stated', 'on', 'his', 'weekly', 'radio', '.', 'address', 'as', 'an', ',', 'example', 'you', 'cannot', 'get', 'welfare', 'for', 'five', 'years', 'when', 'you', 'come', 'into', 'our', '.', 'country', 'you', 'cannot', 'just', 'come', 'in', 'like', 'in', 'past', ',', 'weeks', ',', 'years', 'and', ',', 'decades', 'you', 'come', 'in', 'immediately', 'and', 'start', 'picking', 'up', '.', 'welfare', 'for', 'five', ',', 'years', 'you', 'have', 'to', 'say', 'you', 'will', 'not', 'be', 'asking', 'or', 'using', 'our', 'welfare', '.', 'systems', 'compare', 'that', 'to', ',', 'germany', 'where', 'chancellor', 'angela', 'merkel', 'opened', 'the', 'border', 'to', 'millions', 'of', 'unvetted', 'migrants', 'who', 'can', 't', 'speak', 'german', 'and', 'lack', 'employable', ',', 'skills', 'which', 'dooms', 'them', 'to', 'perpetual', 'welfare', 'paid', 'by', 'german', 'taxpayers', 'and', 'boredom', 'that', 'manifests', 'into', 'terrorist', 'attacks', ',', 'against', 'once', ',', 'again', 'german', 'taxpayers', 'last', 'year', 'the', 'german', 'government', 'admitted', 'that', 'only', '%', '2', '8', 'of', 'over', '1', '2', 'million', 'migrants', 'had', 'gotten', 'a', 'job', 'but', 'even', 'then', 'those', 'statistics', 'might', 'be', ',', 'exaggerated', 'according', 'to', 'journalist', 'chris', '.', 'menahan', 'they', 'said', 'back', 'in', 'july', 'only', '#', 'out', 'of', 'one', 'million', 'migrants', 'had', 'got', 'jobs', 'with', 'any', 'major', 'firms', 'and', '#', 'of', 'those', 'jobs', 'were', 'working', 'at', 'the', 'post', ',', 'office', 'he', '.', 'reported', 'two', 'thirds', 'or', 'more', 'of', 'these', 'migrants', 'are', 'illiterate', 'in', 'their', 'own', '.', 'languages', 'they', 'came', 'because', 'merkel', 'promised', 'them', 'free', 'money', 'if', 'they', 'can', 'just', 'make', 'it', 'into', 'the', '.', 'country', 'what', 'in', 'tarnation', 'would', 'be', 'a', 'good', 'reason', 'for', 'any', 'country', 'to', 'accept', 'illiterate', 'people', 'who', 'don', 't', '?', 'work', 'there', 'is', 'literally', 'no', 'benefit', 'to', 'the', 'host', 'country', 'to', 'admit', 'people', 'like', '.', 'that', 'i', 'know', 'it', 'sounds', 'mean', 'to', 'say', ',', 'this', 'but', 'they', 'don', 't', 'offer', 'anything', 'to', 'the', 'country', 'other', 'than', 'leeching', 'the', 'system', 'of', 'funds', 'and', 'it', 's', 'a', 'complete', 'downgrade', 'to', 'the', '.', 'population', 'if', 'you', 'let', 'too', 'many', 'low', 'illiterate', 'people', 'into', 'the', ',', 'country', 'then', 'they', 'have', 'kids', 'who', 'could', 'be', ',', 'illiterate', 'then', 'over', ',', 'time', 'it', 'would', 'only', 'decrease', 'the', 'overall', 'intelligence', 'of', 'the', 'country', 'and', 'civilization', 'in', 'america', 'would', '.', 'suffer', 'we', 'need', 'hard', 'working', 'and', 'intelligent', 'people', 'who', 'bring', 'promise', 'and', 'productivity', 'to', 'further', 'the', 'advancement', 'of', 'americans', 'and', '.', 'mankind', 'that', 'sounds', 'like', 'quite', 'a', 'stretch', 'but', 'think', 'of', 'the', 'impact', 'of', 'accepting', 'one', 'million', 'people', 'who', 'mostly', 'can', 't', 'read', 'or', 'don', 't', 'work', 'now', 'the', 'government', 'has', 'to', 'pay', 'for', 'them', 'let', 's', 'say', 'one', 'million', 'immigrants', 'each', 'get', '$', '#', '##', 'worth', 'of', 'welfare', 'benefits', 'per', '.', 'year', 'that', 's', '$', '#', '##', '##', '##', 'of', 'free', 'welfare', 'money', 'sucked', 'out', 'of', 'the', 'american', 'budget', 'for', 'people', 'who', 'put', 'nothing', 'back', 'into', 'our', ',', 'society', ',', 'culture', 'or', 'anything', 'at', '.', 'all', 'that', 'is', 'literally', 'a', '$', '0', '#', 'return', 'on', '.', 'investment', 'not', 'that', 'people', 'are', 'a', ',', 'business', 'but', 'that', 's', 'really', 'bad', '.', 'business', 'and', 'as', 'you', 'can', ',', 'see', 'germany', 'has', 'turned', 'into', 'a', 'cesspool', 'from', 'all', 'the', 'migrants', 'flooding', 'the', 'gates', 'and', 'ruining', 'their', 'nation', 'prepare', 'for', 'a', 'massive', 'backlash', 'from', ',', 'liberals', ',', 'democrats', 'and', '.', 'activists', 'there', 's', 'sure', 'to', 'be', 'protests', 'regarding', 'trump', 's', 'potential', 'immigration', 'policy', 'follow', 'us', 'on', 'facebook', 'at', 'freedom', '!', 'daily']]\n"
          ],
          "name": "stdout"
        }
      ]
    },
    {
      "cell_type": "code",
      "metadata": {
        "id": "cj4TKY4tyeEK",
        "colab_type": "code",
        "outputId": "b7f9c69f-50d5-4ae9-abb2-d2647b56f2ca",
        "colab": {
          "base_uri": "https://localhost:8080/",
          "height": 422
        }
      },
      "source": [
        "import pandas as pd\n",
        "import matplotlib.pyplot as plt\n",
        "%matplotlib inline\n",
        "\n",
        "train_X_lens = [len(x) for x in X_train]\n",
        "pd.Series(train_X_lens).hist()\n",
        "plt.show()\n",
        "pd.Series(train_X_lens).describe()"
      ],
      "execution_count": 58,
      "outputs": [
        {
          "output_type": "display_data",
          "data": {
            "image/png": "[encoded data removed]",
            "text/plain": [
              "<Figure size 432x288 with 1 Axes>"
            ]
          },
          "metadata": {
            "tags": [],
            "needs_background": "light"
          }
        },
        {
          "output_type": "execute_result",
          "data": {
            "text/plain": [
              "count      447.000000\n",
              "mean      1852.152125\n",
              "std       3159.777389\n",
              "min         11.000000\n",
              "25%        295.000000\n",
              "50%        587.000000\n",
              "75%       1356.500000\n",
              "max      14534.000000\n",
              "dtype: float64"
            ]
          },
          "metadata": {
            "tags": []
          },
          "execution_count": 58
        }
      ]
    },
    {
      "cell_type": "markdown",
      "metadata": {
        "id": "FXtqc32uyEho",
        "colab_type": "text"
      },
      "source": [
        "Generate Batches"
      ]
    },
    {
      "cell_type": "code",
      "metadata": {
        "id": "2FZe-4MlyDpx",
        "colab_type": "code",
        "colab": {}
      },
      "source": [
        "import random \n",
        "import torch\n",
        "from sklearn.utils import shuffle\n",
        "\n",
        "def generate_batches(data, labels, seq_len, batch_size, idx_unk):\n",
        "  #first shuffle the data and labels in parallel!!!!!!!!!\n",
        "  data_shu, labels_shu = shuffle(data, labels)\n",
        "  \n",
        "  slice_start = 0\n",
        "  slice_end = batch_size\n",
        "  num_batches = len(data_shu) // batch_size   #drop the last batch\n",
        "  \n",
        "  \n",
        "  for i in range(num_batches):    \n",
        "\n",
        "      batch = np.zeros((batch_size, seq_len), dtype=\"int\")\n",
        "      #get slice of data\n",
        "      slice_data = data_shu[slice_start:slice_end]\n",
        "      ret_labels = labels_shu[slice_start:slice_end]\n",
        "      for j, slice_d in enumerate(slice_data):\n",
        "        \n",
        "        if seq_len >= len(slice_d):     #if text is longer than the sequence length set, padding with the unknown word token\n",
        "\n",
        "          if idx_unk == -1:\n",
        "            #pad_seq = list(np.full(seq_len - len(slice_d), word2idx[\"unknown_emb\"]))   #pad sequence with unknown token\n",
        "            pad_seq = list(np.full(seq_len - len(slice_d), word2idx[\"pad_token\"]) )      #or pad with zeros\n",
        "          else:\n",
        "            #pad_seq = list(np.full(seq_len - len(slice_d), idx_unk))                   #pad sequence with the index of a word that maps to unknown token\n",
        "            pad_seq = list(np.full(seq_len - len(slice_d), word2idx[\"pad_token\"] ) )      #or pad with zeros\n",
        "\n",
        "          new_len =  slice_d +  pad_seq       #pad sequence at the end of document\n",
        "          batch[j:] = np.array(new_len)\n",
        "        \n",
        "        else:   #sample the text\n",
        "\n",
        "          rand_start = random.randrange(0, len(slice_data[j]) - seq_len)\n",
        "          new_len = slice_d[rand_start : rand_start + seq_len]\n",
        "          batch[j:] = np.array(new_len)\n",
        "\n",
        "      batch = torch.from_numpy(batch)\n",
        "      ret_labels = torch.from_numpy(ret_labels)\n",
        "      yield batch, ret_labels\n",
        "\n",
        "      slice_start = slice_end\n",
        "      slice_end = slice_end + batch_size\n"
      ],
      "execution_count": 0,
      "outputs": []
    },
    {
      "cell_type": "markdown",
      "metadata": {
        "id": "qMrdhRtVsoNE",
        "colab_type": "text"
      },
      "source": [
        "Define neural network architecture."
      ]
    },
    {
      "cell_type": "code",
      "metadata": {
        "id": "Fp6ZLymASDtk",
        "colab_type": "code",
        "colab": {}
      },
      "source": [
        "import torch\n",
        "from torch.autograd import Variable\n",
        "import torch.nn as nn\n",
        "import torch.nn.functional as F\n",
        "\n",
        "class OneLayerModel(nn.Module):\n",
        "\n",
        "  def __init__(self, vocab_size, embedding_dim, hidden_dim, output_dim, embeddings_matrix ):\n",
        "    super(OneLayerModel, self).__init__()\n",
        "\n",
        "    self.embedding_dim = embedding_dim\n",
        "    self.hidden_dim = hidden_dim\n",
        "    self.output_size = output_dim\n",
        "    self.n_layers = 1\n",
        "    #embedding layer\n",
        "    self.embeddings = nn.Embedding(vocab_size, embedding_dim)\n",
        "\n",
        "    #lstm layer\n",
        "    self.lstm = nn.LSTM(input_size = embedding_dim, hidden_size = hidden_dim, batch_first = True )\n",
        "\n",
        "    #dense layer\n",
        "    self.fc = nn.Linear(hidden_dim, output_dim)\n",
        "\n",
        "    #sigmoid activation function\n",
        "    self.sig = nn.Sigmoid()\n",
        "\n",
        "    self.init_weigths(embeddings_matrix)\n",
        "  \n",
        "  def init_weigths(self, embeddings_matrix):\n",
        "    self.embeddings.weight =  torch.nn.Parameter(embeddings_matrix)\n",
        "\n",
        "\n",
        "  def forward(self, batch, hidden):\n",
        "    \n",
        "    assert (list(batch.size()) == [BATCH_SIZE, SEQUENCE_LEN]), \"Batch shape not appropriate\"\n",
        "\n",
        "    #embedding layer\n",
        "    embedded = self.embeddings(batch)\n",
        "    assert (list(embedded.size()) == [BATCH_SIZE, SEQUENCE_LEN, self.embedding_dim ]), \"Embedded batch shape not appropriate\"\n",
        "    \n",
        "    #lstm layer\n",
        "    lstm_out, lstm_hidden = self.lstm(embedded, hidden)\n",
        "    \n",
        "    assert (list(lstm_out.size()) == [BATCH_SIZE, SEQUENCE_LEN, self.hidden_dim ]), \"LSTM output shape not appropriate\"\n",
        "\n",
        "    #stack up lstm ouput\n",
        "    lstm_out = lstm_out.contiguous().view(-1, self.hidden_dim)\n",
        "\n",
        "    #fully-connected layer\n",
        "    out = self.fc(lstm_out)\n",
        "    assert (list(out.size()) == [BATCH_SIZE * SEQUENCE_LEN, self.output_size ]), \"Fully-connected layer output batch shape not appropriate\"\n",
        "\n",
        "    #sigmoid function\n",
        "    sig_out = self.sig(out)\n",
        "    assert (list(sig_out.size()) == [BATCH_SIZE * SEQUENCE_LEN, self.output_size ]), \"Sigmoid layer output batch shape not appropriate\"\n",
        "\n",
        "    #reshape to get batch_size first\n",
        "    sig_out = sig_out.view(BATCH_SIZE, -1)\n",
        "\n",
        "    #get last one\n",
        "    sig_out = sig_out[:, -1]\n",
        "\n",
        "    return sig_out, lstm_hidden\n",
        "\n",
        "\n",
        "  def init_hidden(self):\n",
        "\n",
        "    weight = next(self.parameters()).data\n",
        "\n",
        "    #initialize hidden_state\n",
        "    hidden = (weight.new(self.n_layers, BATCH_SIZE, self.hidden_dim).zero_(),\n",
        "                      weight.new(self.n_layers, BATCH_SIZE, self.hidden_dim).zero_())\n",
        "\n",
        "    return hidden"
      ],
      "execution_count": 0,
      "outputs": []
    },
    {
      "cell_type": "markdown",
      "metadata": {
        "id": "b8DojqiFxyn2",
        "colab_type": "text"
      },
      "source": [
        "Instantiate the network."
      ]
    },
    {
      "cell_type": "code",
      "metadata": {
        "id": "ciuTXnyAx2Je",
        "colab_type": "code",
        "outputId": "c2ae9ce2-9cd0-46f7-b25e-5a9e8a568b20",
        "colab": {
          "base_uri": "https://localhost:8080/",
          "height": 139
        }
      },
      "source": [
        "device = torch.device(\"cuda\" if torch.cuda.is_available() else \"cpu\")\n",
        "print(device)\n",
        "# Network parameters\n",
        "VOCAB_SIZE = emb_weight_matrix.shape[0]\n",
        "EMBEDDING_DIM = emb_weight_matrix.shape[1]\n",
        "HIDDEN_DIM = 256\n",
        "OUTPUT_DIM = 1\n",
        "\n",
        "emb_weight_matrix = torch.FloatTensor(emb_weight_matrix)\n",
        "emb_weight_matrix.size()\n",
        "model = OneLayerModel(VOCAB_SIZE, EMBEDDING_DIM, HIDDEN_DIM, OUTPUT_DIM, emb_weight_matrix).to(device)\n",
        "print(model)"
      ],
      "execution_count": 61,
      "outputs": [
        {
          "output_type": "stream",
          "text": [
            "cpu\n",
            "OneLayerModel(\n",
            "  (embeddings): Embedding(22942, 50)\n",
            "  (lstm): LSTM(50, 256, batch_first=True)\n",
            "  (fc): Linear(in_features=256, out_features=1, bias=True)\n",
            "  (sig): Sigmoid()\n",
            ")\n"
          ],
          "name": "stdout"
        }
      ]
    },
    {
      "cell_type": "markdown",
      "metadata": {
        "id": "_lJd4I9Gdx9a",
        "colab_type": "text"
      },
      "source": [
        "Build training loop"
      ]
    },
    {
      "cell_type": "code",
      "metadata": {
        "id": "YaJSL-nYlRiS",
        "colab_type": "code",
        "outputId": "bbac99c5-f6a9-44de-d00f-fdbb6ca55c3c",
        "colab": {
          "base_uri": "https://localhost:8080/",
          "height": 225
        }
      },
      "source": [
        "# Parameters\n",
        "learning_rate = 0.001\n",
        "EPOCHS = 6\n",
        "BATCH_SIZE = 50\n",
        "SEQUENCE_LEN = 200\n",
        "\n",
        "# Loss and Optimizer\n",
        "criterion = nn.BCELoss().to(device)\n",
        "optimizer = torch.optim.Adam(model.parameters(), lr = learning_rate)\n",
        "\n",
        "clip = 5\n",
        "\n",
        "#set model to training mode\n",
        "model.train()\n",
        "\n",
        "for epoch in range(EPOCHS):\n",
        "  counter = 0\n",
        "  #initialize hidden state\n",
        "  h = model.init_hidden()\n",
        "  for batch, labels in generate_batches(X_train, train_Y, SEQUENCE_LEN, BATCH_SIZE, idx_unk):\n",
        "    \n",
        "    # Creating new variables for the hidden state, otherwise\n",
        "    # we'd backprop through the entire training history\n",
        "    h = tuple([each.data for each in h])\n",
        "\n",
        "    #Forward + Backward + Optimize\n",
        "\n",
        "    model.zero_grad()  # zero the gradient buffer\n",
        "\n",
        "    output, h = model(batch, h)\n",
        "\n",
        "    #compute the loss    \n",
        "    loss = criterion(output, labels.float())\n",
        "\n",
        "    loss.backward()\n",
        "    nn.utils.clip_grad_norm_(model.parameters(), clip)\n",
        "    optimizer.step()\n",
        "\n",
        "    if (counter + 1) % 4 == 0:\n",
        "      #print ('Epoch [%d/%d], Step [%d/%d], Train Loss: %.4f' % (epoch + 1, EPOCHS, counter + 1, len(X_train)//BATCH_SIZE, loss.data))\n",
        "\n",
        "      val_h = model.init_hidden()\n",
        "      val_losses = []\n",
        "      model.eval()\n",
        "\n",
        "\n",
        "      for batch, labels in generate_batches(X_valid, Y_valid, SEQUENCE_LEN, BATCH_SIZE, idx_unk):\n",
        "\n",
        "        val_h = tuple([each.data for each in h])\n",
        "\n",
        "        output, val_h = model(batch, val_h)\n",
        "        val_loss = criterion(output, labels.float())\n",
        "\n",
        "        val_losses.append(val_loss.data)\n",
        "\n",
        "      #switch back to train mode\n",
        "      model.train()\n",
        "\n",
        "      print ('Epoch [%d/%d], Step [%d/%d], Train Loss: %.4f, Val Loss: %.4f' % (epoch + 1, EPOCHS, counter + 1, len(X_train)//BATCH_SIZE,loss.data, np.mean(val_losses)))\n",
        "\n",
        "    counter +=1"
      ],
      "execution_count": 77,
      "outputs": [
        {
          "output_type": "stream",
          "text": [
            "Epoch [1/6], Step [4/8], Train Loss: 0.3875, Val Loss: 0.4437\n",
            "Epoch [1/6], Step [8/8], Train Loss: 0.2762, Val Loss: 0.4694\n",
            "Epoch [2/6], Step [4/8], Train Loss: 1.5367, Val Loss: 1.4019\n",
            "Epoch [2/6], Step [8/8], Train Loss: 0.4397, Val Loss: 0.3942\n",
            "Epoch [3/6], Step [4/8], Train Loss: 0.4045, Val Loss: 0.4389\n",
            "Epoch [3/6], Step [8/8], Train Loss: 0.3372, Val Loss: 0.4715\n",
            "Epoch [4/6], Step [4/8], Train Loss: 0.3965, Val Loss: 0.4537\n",
            "Epoch [4/6], Step [8/8], Train Loss: 0.4585, Val Loss: 0.5257\n",
            "Epoch [5/6], Step [4/8], Train Loss: 0.4637, Val Loss: 0.4528\n",
            "Epoch [5/6], Step [8/8], Train Loss: 0.4256, Val Loss: 0.4998\n",
            "Epoch [6/6], Step [4/8], Train Loss: 0.4078, Val Loss: 0.4913\n",
            "Epoch [6/6], Step [8/8], Train Loss: 0.3413, Val Loss: 0.4518\n"
          ],
          "name": "stdout"
        }
      ]
    },
    {
      "cell_type": "code",
      "metadata": {
        "id": "R3_jt2QKaaYR",
        "colab_type": "code",
        "colab": {}
      },
      "source": [
        ""
      ],
      "execution_count": 0,
      "outputs": []
    }
  ]
}