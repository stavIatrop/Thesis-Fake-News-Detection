{
  "nbformat": 4,
  "nbformat_minor": 0,
  "metadata": {
    "colab": {
      "name": "lstm_neural_network_politifact.ipynb",
      "provenance": [],
      "collapsed_sections": [],
      "toc_visible": true,
      "mount_file_id": "1CYiwi0NGgyQdbNew6P0oDS0y3rLO_2Xu",
      "authorship_tag": "ABX9TyPFuz1hpySru395LbGSTp3v",
      "include_colab_link": true
    },
    "kernelspec": {
      "name": "python3",
      "display_name": "Python 3"
    },
    "accelerator": "GPU"
  },
  "cells": [
    {
      "cell_type": "markdown",
      "metadata": {
        "id": "view-in-github",
        "colab_type": "text"
      },
      "source": [
        "<a href=\"https://colab.research.google.com/github/stavIatrop/Fake-News-Detection/blob/master/Pytorch/lstm_neural_network_politifact.ipynb\" target=\"_parent\"><img src=\"https://colab.research.google.com/assets/colab-badge.svg\" alt=\"Open In Colab\"/></a>"
      ]
    },
    {
      "cell_type": "markdown",
      "metadata": {
        "id": "VI--j2JXUyyT",
        "colab_type": "text"
      },
      "source": [
        "Import and split the data"
      ]
    },
    {
      "cell_type": "code",
      "metadata": {
        "id": "ArKjd-bNUk6i",
        "colab_type": "code",
        "colab": {
          "base_uri": "https://localhost:8080/",
          "height": 52
        },
        "outputId": "2ee8f74d-44b3-41f7-cd89-ad17f18a3250"
      },
      "source": [
        "import pandas as pd\n",
        "from sklearn.model_selection import StratifiedShuffleSplit\n",
        "\n",
        "data = pd.read_csv(\"drive/My Drive/datasets/politifact.csv\", \",\")                           #load politifact data \n",
        "data_labels = data['label'].values\n",
        "data = data['text'].values\n",
        "\n",
        "sss = StratifiedShuffleSplit(n_splits=5, test_size=0.2, random_state=42)\n",
        "\n",
        "for train_index, test_index in sss.split(data, data_labels):\n",
        "    X_train, X_test = data[train_index], data[test_index]\n",
        "    Y_train, Y_test = data_labels[train_index], data_labels[test_index]\n",
        "\n",
        "print(\"Train shape : \",X_train.shape)\n",
        "print(\"Test shape : \",X_test.shape)"
      ],
      "execution_count": 1,
      "outputs": [
        {
          "output_type": "stream",
          "text": [
            "Train shape :  (559,)\n",
            "Test shape :  (140,)\n"
          ],
          "name": "stdout"
        }
      ]
    },
    {
      "cell_type": "markdown",
      "metadata": {
        "id": "gQcp7Md8U4Au",
        "colab_type": "text"
      },
      "source": [
        "Preprocess the data."
      ]
    },
    {
      "cell_type": "code",
      "metadata": {
        "id": "zIzYm72wU3iC",
        "colab_type": "code",
        "colab": {}
      },
      "source": [
        "import re\n",
        "\n",
        "def remove_non_ascii(X):\n",
        "  for i in range(len(X)):\n",
        "    words = X[i].split()\n",
        "    filtered_list = []\n",
        "    for word in words:\n",
        "        pattern = re.compile('[^\\u0000-\\u007F]+', re.UNICODE)  #Remove all non-alphanumeric characters\n",
        "        \n",
        "        word = pattern.sub(\" \", word)\n",
        "        filtered_list.append(word)\n",
        "        result = ' '.join(filtered_list)\n",
        "        \n",
        "    X[i] = result\n",
        "  return X\n",
        "\n",
        "def toLowerCase(X):\n",
        "\n",
        "  for i in range(len(X)):\n",
        "    filtered_list = []\n",
        "    for word in X[i].split():\n",
        "      word = word.lower()\n",
        "      filtered_list.append(word)\n",
        "      result = ' '.join(filtered_list)\n",
        "\n",
        "    X[i] = result\n",
        "  \n",
        "  return X\n",
        "\n",
        "import string\n",
        "\n",
        "def handle_punctuation(X):\n",
        "\n",
        "  for i in range(len(X)):\n",
        "    filtered_list = []\n",
        "    \n",
        "    for word in X[i].split():\n",
        "      \n",
        "      cleaned = 0\n",
        "      \n",
        "      while(not cleaned):\n",
        "        punc_word = \"\"\n",
        "\n",
        "        if (word[0] in string.punctuation):\n",
        "          punc_word = word[0]\n",
        "          if (len(word) == 1):\n",
        "            cleaned = 1\n",
        "          else:\n",
        "            word = word[1:]\n",
        "          filtered_list.append(punc_word)\n",
        "          result = ' '.join(filtered_list)\n",
        "        elif (word[len(word) - 1] in string.punctuation):\n",
        "          punc_word = word[len(word) - 1]\n",
        "          word = word[:len(word) - 1]\n",
        "          filtered_list.append(punc_word)\n",
        "          result = ' '.join(filtered_list)\n",
        "        else:\n",
        "          #word = word.translate(str.maketrans(' ', ' ', string.punctuation))\n",
        "          t = str.maketrans(dict.fromkeys(string.punctuation, \" \"))\n",
        "          word = word.translate(t)\n",
        "          cleaned = 1\n",
        "          filtered_list.append(word)\n",
        "          result = ' '.join(filtered_list)\n",
        "    \n",
        "    X[i] = result\n",
        "  \n",
        "  return X\n",
        "\n",
        "def clean_numbers(X):\n",
        "  for i in range(len(X)):\n",
        "    x = X[i]\n",
        "    if bool(re.search(r'\\d', x)):\n",
        "      x = re.sub('[0-9]{4,}', ' ### ', x)\n",
        "      x = re.sub('[0-9]{3}', ' ## ', x)\n",
        "      x = re.sub('[0-9]{2}', ' # ', x)\n",
        "    X[i] = x\n",
        "  return X\n",
        "\n",
        "def preprocess_text(X):\n",
        "\n",
        "  #remove non ascii characters\n",
        "  X = remove_non_ascii(X)\n",
        "  #transform to lower case\n",
        "  X = toLowerCase(X)\n",
        "  #handle punctuation\n",
        "  X = handle_punctuation(X)\n",
        "  #clean numbers\n",
        "  X = clean_numbers(X)\n",
        "  return X"
      ],
      "execution_count": 2,
      "outputs": []
    },
    {
      "cell_type": "code",
      "metadata": {
        "id": "gIM-lapiV28A",
        "colab_type": "code",
        "colab": {}
      },
      "source": [
        "X_train = preprocess_text(X_train)\n",
        "X_test = preprocess_text(X_test)"
      ],
      "execution_count": 3,
      "outputs": []
    },
    {
      "cell_type": "markdown",
      "metadata": {
        "id": "It7SA09QWHqz",
        "colab_type": "text"
      },
      "source": [
        "Load GloVe embeddings and create word index"
      ]
    },
    {
      "cell_type": "code",
      "metadata": {
        "id": "9MW01IPXV-mL",
        "colab_type": "code",
        "colab": {}
      },
      "source": [
        "import numpy as np\n",
        "def load_glove_index():\n",
        "    word2idx = dict()\n",
        "    embeddings_index = dict()\n",
        "    word2idx[\"pad_token\"] = 0\n",
        "    idx = 1\n",
        "    EMBEDDING_FILE = \"/content/drive/My Drive/GloVe/glove.6B.50d.txt\"\n",
        "    for f in open(EMBEDDING_FILE):\n",
        "      line = f.split(\" \")\n",
        "      word = line[0]\n",
        "      word2idx[word] = idx\n",
        "      idx += 1\n",
        "      embeddings_index[word] = np.array(line[1:]).astype(np.float)\n",
        "    return embeddings_index, word2idx"
      ],
      "execution_count": 4,
      "outputs": []
    },
    {
      "cell_type": "code",
      "metadata": {
        "id": "oks9MkFfWUTv",
        "colab_type": "code",
        "colab": {}
      },
      "source": [
        "embeddings_index, word2idx = load_glove_index()"
      ],
      "execution_count": 5,
      "outputs": []
    },
    {
      "cell_type": "code",
      "metadata": {
        "id": "KbIvIEtlJXgd",
        "colab_type": "code",
        "colab": {
          "base_uri": "https://localhost:8080/",
          "height": 191
        },
        "outputId": "00195d2c-56fa-42ce-c44c-66efce65a754"
      },
      "source": [
        "embeddings_index[(list(word2idx.keys())[len(word2idx)-1])]  #last token is the unknown token\n"
      ],
      "execution_count": 6,
      "outputs": [
        {
          "output_type": "execute_result",
          "data": {
            "text/plain": [
              "array([-0.12920076, -0.28866628, -0.01224866, -0.05676644, -0.20210965,\n",
              "       -0.08389011,  0.33359843,  0.16045167,  0.03867431,  0.17833012,\n",
              "        0.04696583, -0.00285802,  0.29099807,  0.04613704, -0.20923874,\n",
              "       -0.06613114, -0.06822549,  0.07665912,  0.3134014 ,  0.17848536,\n",
              "       -0.1225775 , -0.09916983, -0.07495987,  0.06413227,  0.14441176,\n",
              "        0.60894334,  0.17463093,  0.05335403, -0.01273871,  0.03474107,\n",
              "       -0.8123879 , -0.04688699,  0.20193407,  0.2031118 , -0.03935686,\n",
              "        0.06967544, -0.01553638, -0.03405238, -0.06528071,  0.12250231,\n",
              "        0.13991883, -0.17446303, -0.08011883,  0.0849521 , -0.01041659,\n",
              "       -0.13705009,  0.20127155,  0.10069407,  0.00653003,  0.01685157])"
            ]
          },
          "metadata": {
            "tags": []
          },
          "execution_count": 6
        }
      ]
    },
    {
      "cell_type": "markdown",
      "metadata": {
        "id": "9cQ5nmOaCcaP",
        "colab_type": "text"
      },
      "source": [
        "Build the training vocab."
      ]
    },
    {
      "cell_type": "code",
      "metadata": {
        "id": "vRtVjjJGWbNI",
        "colab_type": "code",
        "colab": {}
      },
      "source": [
        "def build_vocab(X):\n",
        "  sentences = [row.split() for row in X]     #sentences --> list of lists of tokens\n",
        "  vocab = dict()\n",
        "  for sentence in sentences:\n",
        "    for word in sentence:\n",
        "      if word in vocab.keys():\n",
        "        vocab[word] += 1\n",
        "      else:\n",
        "        vocab[word] = 1\n",
        "  return vocab"
      ],
      "execution_count": 7,
      "outputs": []
    },
    {
      "cell_type": "code",
      "metadata": {
        "id": "Ug4Abi77B1WM",
        "colab_type": "code",
        "colab": {
          "base_uri": "https://localhost:8080/",
          "height": 34
        },
        "outputId": "ea1ebbce-38df-4bd7-832d-d7eb42a0c1c2"
      },
      "source": [
        "vocab = build_vocab(X_train)\n",
        "print({k: vocab[k] for k in list(vocab)[:10]})"
      ],
      "execution_count": 8,
      "outputs": [
        {
          "output_type": "stream",
          "text": [
            "{'george': 240, '.': 51896, 'w': 68, 'bush': 399, 'has': 3036, 'lobbed': 3, 'thinly': 3, 'veiled': 5, 'critiques': 2, 'of': 21340}\n"
          ],
          "name": "stdout"
        }
      ]
    },
    {
      "cell_type": "markdown",
      "metadata": {
        "id": "b5SYfFQxLeoz",
        "colab_type": "text"
      },
      "source": [
        "Build the embedding weight map with the indices. (either using only vocabulary words or all the pretrained embeddings)"
      ]
    },
    {
      "cell_type": "code",
      "metadata": {
        "id": "vihTj0YZC44I",
        "colab_type": "code",
        "colab": {}
      },
      "source": [
        "import numpy as np\n",
        "\n",
        "def build_embedding_weight_matrix( vocab, embeddings_index, word2idx, usevoc):\n",
        "  EMBEDDING_DIM = 50\n",
        "  if (usevoc):\n",
        "    word2idx.clear()\n",
        "    weight_matrix = np.zeros((len(vocab) + 2, EMBEDDING_DIM), dtype=float)\n",
        "    word2idx[\"pad_token\"] = 0\n",
        "    for idx, word in enumerate(vocab):\n",
        "      word2idx[word] = idx + 1\n",
        "      if word in embeddings_index.keys():\n",
        "        weight_matrix[idx + 1] = embeddings_index[word]\n",
        "      else:\n",
        "        #store in a variable one idx representing an unknown token for later use in generating batches\n",
        "        idx_unknown = idx + 1\n",
        "        weight_matrix[idx + 1] = embeddings_index[\"unknown_emb\"]\n",
        "    \n",
        "    word2idx[\"unknown_emb\"] = len(vocab) + 1\n",
        "    weight_matrix[word2idx[\"unknown_emb\"]] = embeddings_index[\"unknown_emb\"] #unknown token\n",
        "\n",
        "    weight_matrix[0] = np.zeros(EMBEDDING_DIM)     #pad token\n",
        "  else:\n",
        "    idx_unknown = -1\n",
        "    weight_matrix = np.zeros((len(embeddings_index) + 1, EMBEDDING_DIM), dtype=float)\n",
        "    for idx, word in enumerate(embeddings_index):\n",
        "      weight_matrix[idx] = embeddings_index[word]\n",
        "\n",
        "    weight_matrix[0] = np.zeros(EMBEDDING_DIM)    #pad token\n",
        "    \n",
        "  \n",
        "  \n",
        "  return weight_matrix, idx_unknown"
      ],
      "execution_count": 9,
      "outputs": []
    },
    {
      "cell_type": "code",
      "metadata": {
        "id": "cHyJVYIGQ1wu",
        "colab_type": "code",
        "colab": {
          "base_uri": "https://localhost:8080/",
          "height": 34
        },
        "outputId": "ad260efd-41b5-4cc5-ea0c-ca3601c68a8e"
      },
      "source": [
        "emb_weight_matrix, idx_unk = build_embedding_weight_matrix(vocab, embeddings_index, word2idx, False)\n",
        "emb_weight_matrix[word2idx[\"pad_token\"]]\n",
        "emb_weight_matrix.shape"
      ],
      "execution_count": 10,
      "outputs": [
        {
          "output_type": "execute_result",
          "data": {
            "text/plain": [
              "(400002, 50)"
            ]
          },
          "metadata": {
            "tags": []
          },
          "execution_count": 10
        }
      ]
    },
    {
      "cell_type": "markdown",
      "metadata": {
        "id": "Kc9uS9uNc-XO",
        "colab_type": "text"
      },
      "source": [
        "Split train and valid data set."
      ]
    },
    {
      "cell_type": "code",
      "metadata": {
        "id": "nCc35BuYc95S",
        "colab_type": "code",
        "colab": {
          "base_uri": "https://localhost:8080/",
          "height": 69
        },
        "outputId": "d8468d0e-11ea-4813-a524-e575adcc1f44"
      },
      "source": [
        "sss = StratifiedShuffleSplit(n_splits=5, test_size=0.2, random_state=42)\n",
        "\n",
        "for train_index, valid_index in sss.split(X_train, Y_train):\n",
        "  train_X, X_valid = X_train[train_index],X_train[valid_index]\n",
        "  train_Y, Y_valid = Y_train[train_index] ,Y_train[valid_index]\n",
        "\n",
        "X_train = train_X\n",
        "Y_train = train_Y\n",
        "print(\"Train shape : \",X_train.shape)\n",
        "print(\"Valid shape : \",X_valid.shape)\n",
        "print(\"Test shape : \",X_test.shape)"
      ],
      "execution_count": 11,
      "outputs": [
        {
          "output_type": "stream",
          "text": [
            "Train shape :  (447,)\n",
            "Valid shape :  (112,)\n",
            "Test shape :  (140,)\n"
          ],
          "name": "stdout"
        }
      ]
    },
    {
      "cell_type": "markdown",
      "metadata": {
        "id": "FYT3t3-beqdq",
        "colab_type": "text"
      },
      "source": [
        "Encode documents' text."
      ]
    },
    {
      "cell_type": "code",
      "metadata": {
        "id": "s4xHvPxEf4ZC",
        "colab_type": "code",
        "colab": {}
      },
      "source": [
        "def encode_documents(X, word2idx):\n",
        "\n",
        "  sentences = [row.split() for row in X]\n",
        "  for sentence in sentences:\n",
        "    for i in range(len(sentence)):\n",
        "      if ( sentence[i] in word2idx.keys() ):\n",
        "        sentence[i] = word2idx[sentence[i]]\n",
        "      else:\n",
        "        sentence[i] = word2idx[\"unknown_emb\"]\n",
        "  return sentences \n"
      ],
      "execution_count": 12,
      "outputs": []
    },
    {
      "cell_type": "code",
      "metadata": {
        "id": "iWLWGagZl3fN",
        "colab_type": "code",
        "colab": {}
      },
      "source": [
        "#print ([row.split() for row in X_train[:5]])\n",
        "\n",
        "X_train_encoded = encode_documents(X_train, word2idx)\n",
        "X_valid_encoded = encode_documents(X_valid, word2idx)\n",
        "X_test_encoded = encode_documents(X_test, word2idx)\n",
        "\n"
      ],
      "execution_count": 13,
      "outputs": []
    },
    {
      "cell_type": "markdown",
      "metadata": {
        "id": "Lw6SKgM1Eole",
        "colab_type": "text"
      },
      "source": [
        "Plot distribution of data."
      ]
    },
    {
      "cell_type": "code",
      "metadata": {
        "id": "cj4TKY4tyeEK",
        "colab_type": "code",
        "colab": {
          "base_uri": "https://localhost:8080/",
          "height": 918
        },
        "outputId": "f14f37e5-56fd-4c00-ead4-60ea1997ca19"
      },
      "source": [
        "import pandas as pd\n",
        "import matplotlib.pyplot as plt\n",
        "%matplotlib inline\n",
        "\n",
        "train_X_lens = [len(x) for x in X_train_encoded]\n",
        "pd.Series(train_X_lens).hist()\n",
        "plt.show()\n",
        "pd.Series(train_X_lens).describe()\n",
        "\n",
        "valid_X_lens = [len(x) for x in X_valid_encoded]\n",
        "pd.Series(valid_X_lens).hist()\n",
        "plt.show()\n",
        "pd.Series(valid_X_lens).describe()\n",
        "\n",
        "test_X_lens = [len(x) for x in X_test_encoded]\n",
        "pd.Series(test_X_lens).hist()\n",
        "plt.show()\n",
        "pd.Series(test_X_lens).describe()"
      ],
      "execution_count": 14,
      "outputs": [
        {
          "output_type": "display_data",
          "data": {
            "image/png": "[encoded data removed]",
            "text/plain": [
              "<Figure size 432x288 with 1 Axes>"
            ]
          },
          "metadata": {
            "tags": [],
            "needs_background": "light"
          }
        },
        {
          "output_type": "display_data",
          "data": {
            "image/png": "[encoded data removed]",
            "text/plain": [
              "<Figure size 432x288 with 1 Axes>"
            ]
          },
          "metadata": {
            "tags": [],
            "needs_background": "light"
          }
        },
        {
          "output_type": "display_data",
          "data": {
            "image/png": "[encoded data removed]",
            "text/plain": [
              "<Figure size 432x288 with 1 Axes>"
            ]
          },
          "metadata": {
            "tags": [],
            "needs_background": "light"
          }
        },
        {
          "output_type": "execute_result",
          "data": {
            "text/plain": [
              "count      140.000000\n",
              "mean      1621.114286\n",
              "std       2980.143570\n",
              "min         12.000000\n",
              "25%        250.000000\n",
              "50%        491.000000\n",
              "75%       1110.750000\n",
              "max      14006.000000\n",
              "dtype: float64"
            ]
          },
          "metadata": {
            "tags": []
          },
          "execution_count": 14
        }
      ]
    },
    {
      "cell_type": "markdown",
      "metadata": {
        "id": "FXtqc32uyEho",
        "colab_type": "text"
      },
      "source": [
        "Generate Batches"
      ]
    },
    {
      "cell_type": "code",
      "metadata": {
        "id": "2FZe-4MlyDpx",
        "colab_type": "code",
        "colab": {}
      },
      "source": [
        "import random \n",
        "import torch\n",
        "from sklearn.utils import shuffle\n",
        "\n",
        "def generate_batches(data, labels, seq_len, batch_size, idx_unk):\n",
        "  data_shu, labels_shu = data, labels\n",
        "  \n",
        "  slice_start = 0\n",
        "  slice_end = batch_size\n",
        "  num_batches = len(data_shu) // batch_size   #drop the last batch\n",
        "  \n",
        "  \n",
        "  for i in range(num_batches):    \n",
        "\n",
        "      batch = np.zeros((batch_size, seq_len), dtype=\"int\")\n",
        "      #get slice of data\n",
        "      slice_data = data_shu[slice_start:slice_end]\n",
        "      ret_labels = labels_shu[slice_start:slice_end]\n",
        "      sequence_lens = []\n",
        "      for j, slice_d in enumerate(slice_data):\n",
        "        \n",
        "        if seq_len >= len(slice_d):     #if text is longer than the sequence length set, padding with the unknown word token\n",
        "\n",
        "          sequence_lens.append(len(slice_d))  #keep actual seg_lens\n",
        "\n",
        "          if idx_unk == -1:\n",
        "            #pad_seq = list(np.full(seq_len - len(slice_d), word2idx[\"unknown_emb\"]))   #pad sequence with unknown token\n",
        "            pad_seq = list(np.full(seq_len - len(slice_d), word2idx[\"pad_token\"]) )      #or pad with zeros\n",
        "          else:\n",
        "            #pad_seq = list(np.full(seq_len - len(slice_d), idx_unk))                   #pad sequence with the index of a word that maps to unknown token\n",
        "            pad_seq = list(np.full(seq_len - len(slice_d), word2idx[\"pad_token\"] ) )      #or pad with zeros\n",
        "\n",
        "          new_len = slice_d + pad_seq          #pad sequence at the end of document\n",
        "          batch[j:] = np.array(new_len)\n",
        "        \n",
        "        else:   #sample the text\n",
        "\n",
        "          sequence_lens.append(seq_len)  #keep actual seg_lens\n",
        "\n",
        "          rand_start = random.randrange(0, len(slice_data[j]) - seq_len)\n",
        "          new_len = slice_d[rand_start : rand_start + seq_len]\n",
        "          batch[j:] = np.array(new_len)\n",
        "\n",
        "      batch = torch.from_numpy(batch)\n",
        "      ret_labels = torch.from_numpy(ret_labels)\n",
        "      sequence_lens = torch.tensor(sequence_lens)\n",
        "      yield batch, ret_labels, sequence_lens\n",
        "\n",
        "      slice_start = slice_end\n",
        "      slice_end = slice_end + batch_size\n"
      ],
      "execution_count": 15,
      "outputs": []
    },
    {
      "cell_type": "markdown",
      "metadata": {
        "id": "qMrdhRtVsoNE",
        "colab_type": "text"
      },
      "source": [
        "Define neural network architecture."
      ]
    },
    {
      "cell_type": "code",
      "metadata": {
        "id": "Fp6ZLymASDtk",
        "colab_type": "code",
        "colab": {}
      },
      "source": [
        "import torch\n",
        "from torch.autograd import Variable\n",
        "import torch.nn as nn\n",
        "import torch.nn.functional as F\n",
        "\n",
        "class LSTMModel(nn.Module):\n",
        "\n",
        "  def __init__(self, vocab_size, embedding_dim, hidden_dim, output_dim, num_layers, embeddings_matrix ):\n",
        "    super(LSTMModel, self).__init__()\n",
        "\n",
        "    self.embedding_dim = embedding_dim\n",
        "    self.hidden_dim = hidden_dim\n",
        "    self.output_size = output_dim\n",
        "    self.n_layers = num_layers\n",
        "    #embedding layer\n",
        "    self.embeddings = nn.Embedding(vocab_size, embedding_dim)\n",
        "\n",
        "    #lstm layer\n",
        "    self.lstm = nn.LSTM(input_size = embedding_dim, hidden_size = hidden_dim, num_layers = num_layers, dropout = 0.3, batch_first = True )\n",
        "\n",
        "    #dropout layer\n",
        "    self.dropout = nn.Dropout(0.5)\n",
        "\n",
        "    #dense layer\n",
        "    self.fc = nn.Linear(hidden_dim, output_dim)\n",
        "\n",
        "    #sigmoid activation function\n",
        "    self.sig = nn.Sigmoid()\n",
        "\n",
        "    self.init_weigths(embeddings_matrix)\n",
        "  \n",
        "  def init_weigths(self, embeddings_matrix):\n",
        "    self.embeddings.weight =  torch.nn.Parameter(embeddings_matrix)\n",
        "\n",
        "\n",
        "  def forward(self, batch, seq_lens_train, hidden):\n",
        "    \n",
        "    assert (list(batch.size()) == [BATCH_SIZE, SEQUENCE_LEN]), \"Batch shape not appropriate\"\n",
        "\n",
        "    #embedding layer\n",
        "    embedded = self.embeddings(batch)\n",
        "    assert (list(embedded.size()) == [BATCH_SIZE, SEQUENCE_LEN, self.embedding_dim ]), \"Embedded batch shape not appropriate\"\n",
        "    \n",
        "    #pack padded sequences\n",
        "    packed_batch = torch.nn.utils.rnn.pack_padded_sequence(embedded, seq_lens_train, batch_first=True, enforce_sorted=False)\n",
        "    #lstm layer\n",
        "    lstm_out_packed, lstm_hidden_packed = self.lstm(packed_batch, hidden)\n",
        "\n",
        "    output, input_sizes = torch.nn.utils.rnn.pad_packed_sequence(lstm_out_packed, batch_first=True)\n",
        "    \n",
        "  \n",
        "    #stack up lstm ouput\n",
        "    #lstm_out = lstm_out.contiguous().view(-1, self.hidden_dim)\n",
        "\n",
        "    #dropout\n",
        "    drop_out = self.dropout(lstm_hidden_packed[0][-1])\n",
        "\n",
        "    #fully-connected layer\n",
        "    out = self.fc(drop_out)\n",
        "    assert (list(out.size()) == [BATCH_SIZE, self.output_size ]), \"Fully-connected layer output batch shape not appropriate\"\n",
        "\n",
        "    #sigmoid function\n",
        "    sig_out = self.sig(out)\n",
        "    assert (list(sig_out.size()) == [BATCH_SIZE, self.output_size ]), \"Sigmoid layer output batch shape not appropriate\"\n",
        "\n",
        "    #reshape to get batch_size first\n",
        "    #sig_out = sig_out.view(BATCH_SIZE, -1)\n",
        "\n",
        "    #get last one\n",
        "    #sig_out = sig_out[:, -1]\n",
        "\n",
        "    return sig_out, lstm_hidden_packed\n",
        "\n",
        "\n",
        "  def init_hidden(self):\n",
        "\n",
        "    weight = next(self.parameters()).data\n",
        "    gpu = torch.cuda.is_available()\n",
        "\n",
        "    #initialize hidden_state\n",
        "    if (gpu):\n",
        "      hidden = (weight.new(self.n_layers, BATCH_SIZE, self.hidden_dim).zero_().cuda(),\n",
        "                        weight.new(self.n_layers, BATCH_SIZE, self.hidden_dim).zero_().cuda())\n",
        "    else:\n",
        "      hidden = (weight.new(self.n_layers, BATCH_SIZE, self.hidden_dim).zero_(),\n",
        "                        weight.new(self.n_layers, BATCH_SIZE, self.hidden_dim).zero_())\n",
        "    return hidden"
      ],
      "execution_count": 16,
      "outputs": []
    },
    {
      "cell_type": "markdown",
      "metadata": {
        "id": "b8DojqiFxyn2",
        "colab_type": "text"
      },
      "source": [
        "Instantiate the network."
      ]
    },
    {
      "cell_type": "code",
      "metadata": {
        "id": "ciuTXnyAx2Je",
        "colab_type": "code",
        "colab": {
          "base_uri": "https://localhost:8080/",
          "height": 156
        },
        "outputId": "4c34a538-c124-4c36-abad-3e631cdeff68"
      },
      "source": [
        "device = torch.device(\"cuda\" if torch.cuda.is_available() else \"cpu\")\n",
        "print(device)\n",
        "# Network parameters\n",
        "VOCAB_SIZE = emb_weight_matrix.shape[0]\n",
        "EMBEDDING_DIM = emb_weight_matrix.shape[1]\n",
        "HIDDEN_DIM = 256\n",
        "OUTPUT_DIM = 1\n",
        "NUM_LAYERS = 2\n",
        "\n",
        "emb_weight_matrix = torch.FloatTensor(emb_weight_matrix)\n",
        "emb_weight_matrix.size()\n",
        "model = LSTMModel(VOCAB_SIZE, EMBEDDING_DIM, HIDDEN_DIM, OUTPUT_DIM, NUM_LAYERS, emb_weight_matrix).to(device)\n",
        "print(model)\n"
      ],
      "execution_count": 17,
      "outputs": [
        {
          "output_type": "stream",
          "text": [
            "cuda\n",
            "LSTMModel(\n",
            "  (embeddings): Embedding(400002, 50)\n",
            "  (lstm): LSTM(50, 256, num_layers=2, batch_first=True, dropout=0.3)\n",
            "  (dropout): Dropout(p=0.5, inplace=False)\n",
            "  (fc): Linear(in_features=256, out_features=1, bias=True)\n",
            "  (sig): Sigmoid()\n",
            ")\n"
          ],
          "name": "stdout"
        }
      ]
    },
    {
      "cell_type": "markdown",
      "metadata": {
        "id": "_lJd4I9Gdx9a",
        "colab_type": "text"
      },
      "source": [
        "Build training loop"
      ]
    },
    {
      "cell_type": "code",
      "metadata": {
        "id": "YaJSL-nYlRiS",
        "colab_type": "code",
        "colab": {
          "base_uri": "https://localhost:8080/",
          "height": 350
        },
        "outputId": "f645c28a-5315-4ab4-9b92-8342146fd0f9"
      },
      "source": [
        "import matplotlib.pyplot as plt\n",
        "import numpy as np\n",
        "\n",
        "# Parameters\n",
        "learning_rate = 0.0001\n",
        "EPOCHS = 70    \n",
        "BATCH_SIZE = 50\n",
        "SEQUENCE_LEN = 200\n",
        "\n",
        "gpu = torch.cuda.is_available()\n",
        "model = LSTMModel(VOCAB_SIZE, EMBEDDING_DIM, HIDDEN_DIM, OUTPUT_DIM, NUM_LAYERS, emb_weight_matrix)\n",
        "\n",
        "if(gpu):\n",
        "  model.cuda()\n",
        "\n",
        "# Loss and Optimizer\n",
        "criterion = nn.BCELoss().to(device)\n",
        "optimizer = torch.optim.Adam(model.parameters(), lr = learning_rate)\n",
        "\n",
        "clip = 5\n",
        "\n",
        "#set model to training mode\n",
        "model.train()\n",
        "train_losses = []\n",
        "val_losses = []\n",
        "\n",
        "\n",
        "for epoch in range(EPOCHS):\n",
        "  counter = 0\n",
        "  \n",
        "  train_loss = []\n",
        "  for batch, labels, seq_lens_train in generate_batches(X_train_encoded, Y_train, SEQUENCE_LEN, BATCH_SIZE, idx_unk):\n",
        "    \n",
        "    #initialize hidden state\n",
        "    h = model.init_hidden()\n",
        "    \n",
        "    # Creating new variables for the hidden state, otherwise\n",
        "    # we'd backprop through the entire training history\n",
        "    h = tuple([each.data for each in h])\n",
        "\n",
        "    #Forward + Backward + Optimize\n",
        "\n",
        "    model.zero_grad()  # zero the gradient buffer\n",
        "    \n",
        "    if (gpu):\n",
        "      batch = batch.cuda()\n",
        "      seq_lens_train = seq_lens_train.cuda()\n",
        "      labels =labels.cuda()\n",
        "\n",
        "    output, h = model(batch, seq_lens_train, h)\n",
        "\n",
        "    #compute the loss    \n",
        "    loss = criterion(output.squeeze(), labels.float())\n",
        "\n",
        "    loss.backward()\n",
        "    train_loss.append(loss.data)\n",
        "    nn.utils.clip_grad_norm_(model.parameters(), clip)\n",
        "    optimizer.step()\n",
        "\n",
        "  \n",
        "  train_losses.append(torch.mean(torch.tensor(train_loss)))\n",
        "  validation_loss = []\n",
        "  model.eval()\n",
        "\n",
        "  for batch, labels, seq_lens_val in generate_batches(X_valid_encoded, Y_valid, SEQUENCE_LEN, BATCH_SIZE, idx_unk):\n",
        "\n",
        "    val_h = model.init_hidden()\n",
        "    val_h = tuple([each.data for each in val_h])\n",
        "\n",
        "    if (gpu):\n",
        "      batch = batch.cuda()\n",
        "      seq_lens_val = seq_lens_val.cuda()\n",
        "      labels =labels.cuda()\n",
        "\n",
        "    output, val_h = model(batch, seq_lens_val, val_h)\n",
        "    val_loss = criterion(output.squeeze(), labels.float())\n",
        "\n",
        "    validation_loss.append(val_loss.data)\n",
        "\n",
        "  val_losses.append(torch.mean(torch.tensor(validation_loss)))\n",
        "  \n",
        "  #switch back to train mode\n",
        "  model.train()\n",
        "\n",
        "plt.plot(np.array(train_losses), label = 'train_loss')\n",
        "plt.plot(np.array(val_losses), label = 'val_loss')\n",
        "plt.ylim([0, max([max(train_losses),max(val_losses)]) + 0.1])\n",
        "plt.xlim(1, EPOCHS + 1)\n",
        "plt.title(\"Train/Val loss throught training epochs\")\n",
        "plt.xlabel(\"Epochs\")\n",
        "plt.ylabel(\"Loss\")\n",
        "plt.legend()\n",
        "plt.show()\n",
        "\n",
        "torch.save(model.state_dict(), \"/content/drive/My Drive/Models/politifact/mymodel_lr00001ep70_dout05dout03lstm.pt\")\n",
        "\n",
        "import smtplib\n",
        "import ssl\n",
        "\n",
        "def notify_me(address, content):\n",
        "    port = 465  # For SSL\n",
        "    smtp_server = \"smtp.gmail.com\"\n",
        "    sender_email = \"jup.notify@gmail.com\"  # Enter your address\n",
        "    receiver_email = address  # Enter receiver address\n",
        "    message = f\"\"\"{content}\"\"\"\n",
        "\n",
        "    context = ssl.create_default_context()\n",
        "    with smtplib.SMTP_SSL(smtp_server, port, context=context) as server:\n",
        "        server.login(sender_email, \"jup_1392\")\n",
        "        server.sendmail(sender_email, receiver_email, message)\n",
        "\n",
        "# Example Usage\n",
        "notify_me(\"staviatrop@gmail.com\", \"Telooos\")"
      ],
      "execution_count": null,
      "outputs": [
        {
          "output_type": "stream",
          "text": [
            "[tensor(0.6902), tensor(0.6896), tensor(0.6890), tensor(0.6897), tensor(0.6888), tensor(0.6880), tensor(0.6890), tensor(0.6880), tensor(0.6883), tensor(0.6879), tensor(0.6876), tensor(0.6881), tensor(0.6872), tensor(0.6872), tensor(0.6879), tensor(0.6879), tensor(0.6876), tensor(0.6865), tensor(0.6856), tensor(0.6874), tensor(0.6846), tensor(0.6853), tensor(0.6844), tensor(0.6824), tensor(0.6758), tensor(0.6681), tensor(0.6902), tensor(0.6778), tensor(0.6285), tensor(0.6049), tensor(0.5998), tensor(0.6362), tensor(0.6127), tensor(0.5970), tensor(0.6299), tensor(0.5697), tensor(0.6150), tensor(0.6345), tensor(0.6177), tensor(0.7298), tensor(0.6399), tensor(0.5570), tensor(0.6333), tensor(0.5558), tensor(0.6307), tensor(0.5435), tensor(0.5447), tensor(0.6332), tensor(0.4883), tensor(0.5481), tensor(0.6106), tensor(0.5290), tensor(0.5201), tensor(0.5241), tensor(0.6024), tensor(0.5636), tensor(0.5200), tensor(0.5313), tensor(0.5840), tensor(0.5138), tensor(0.5369), tensor(0.5443), tensor(0.5107), tensor(0.6006), tensor(0.6450), tensor(0.4936), tensor(0.5625), tensor(0.7371), tensor(0.6549), tensor(0.5988)]\n",
            "[tensor(0.6928), tensor(0.6910), tensor(0.6924), tensor(0.6918), tensor(0.6917), tensor(0.6912), tensor(0.6920), tensor(0.6911), tensor(0.6918), tensor(0.6917), tensor(0.6910), tensor(0.6912), tensor(0.6909), tensor(0.6904), tensor(0.6906), tensor(0.6902), tensor(0.6879), tensor(0.6904), tensor(0.6894), tensor(0.6886), tensor(0.6907), tensor(0.6875), tensor(0.6856), tensor(0.6874), tensor(0.6821), tensor(0.6743), tensor(0.6646), tensor(0.6567), tensor(0.6489), tensor(0.6341), tensor(0.5860), tensor(0.5741), tensor(0.5783), tensor(0.5821), tensor(0.5674), tensor(0.5868), tensor(0.5243), tensor(0.6484), tensor(0.5778), tensor(0.5942), tensor(0.5977), tensor(0.6080), tensor(0.5179), tensor(0.4831), tensor(0.5102), tensor(0.4986), tensor(0.4923), tensor(0.4987), tensor(0.5273), tensor(0.5261), tensor(0.4670), tensor(0.4607), tensor(0.4315), tensor(0.4498), tensor(0.4259), tensor(0.5430), tensor(0.4912), tensor(0.4142), tensor(0.4504), tensor(0.4302), tensor(0.4247), tensor(0.3915), tensor(0.4314), tensor(0.4008), tensor(0.3933), tensor(0.4677), tensor(0.4012), tensor(0.3864), tensor(0.4216), tensor(0.3534)]\n"
          ],
          "name": "stdout"
        },
        {
          "output_type": "display_data",
          "data": {
            "image/png": "[encoded data removed]",
            "text/plain": [
              "<Figure size 432x288 with 1 Axes>"
            ]
          },
          "metadata": {
            "tags": [],
            "needs_background": "light"
          }
        }
      ]
    },
    {
      "cell_type": "markdown",
      "metadata": {
        "id": "7RzOfymEWmCo",
        "colab_type": "text"
      },
      "source": [
        "Evaluate on Test Set"
      ]
    },
    {
      "cell_type": "code",
      "metadata": {
        "id": "49SXh1t99Ln9",
        "colab_type": "code",
        "colab": {
          "base_uri": "https://localhost:8080/",
          "height": 243
        },
        "outputId": "ca643478-5908-47b0-93a5-1b4beadc8a0c"
      },
      "source": [
        "model = LSTMModel(VOCAB_SIZE, EMBEDDING_DIM, HIDDEN_DIM, OUTPUT_DIM, NUM_LAYERS, emb_weight_matrix)\n",
        "gpu = torch.cuda.is_available()\n",
        "if (gpu):\n",
        "  model.cuda()\n",
        "\n",
        "model.load_state_dict(torch.load(\"/content/drive/My Drive/Models/politifact/mymodel_lr00001ep70_dout05dout03lstm.pt\"))\n",
        "print(model.parameters())\n",
        "model.eval()\n",
        "SEQUENCE_LEN = 200\n",
        "BATCH_SIZE = 50\n",
        "criterion = nn.BCELoss().to(device)\n",
        "print(model)\n",
        "\n",
        "# model.eval()\n",
        "# gpu = torch.cuda.is_available()\n",
        "# if (gpu):\n",
        "#   model.cuda()\n",
        "\n",
        "\n",
        "test_losses = []\n",
        "num_correct = 0\n",
        "\n",
        "\n",
        "tp = 0\n",
        "fp = 0\n",
        "fn = 0\n",
        "for test_batch, true_labels, seq_lens_test in generate_batches(X_test_encoded, Y_test, SEQUENCE_LEN, BATCH_SIZE, idx_unk):       #random subsampling\n",
        "\n",
        "  test_h = model.init_hidden()\n",
        "  test_h = tuple([each.data for each in test_h])\n",
        "\n",
        "  if (gpu):\n",
        "    test_batch = test_batch.cuda()\n",
        "    seq_lens_test = seq_lens_test.cuda()\n",
        "    true_labels = true_labels.cuda()\n",
        "\n",
        "  output, test_h = model(test_batch, seq_lens_test, test_h)\n",
        "\n",
        "  test_loss = criterion(output.squeeze(), true_labels.float())\n",
        "  test_losses.append(test_loss.data)\n",
        "\n",
        "  predictions = torch.round(output.squeeze())\n",
        "  correct_tensor = predictions.eq(true_labels.float().view_as(predictions))\n",
        "\n",
        "  correct = np.squeeze(correct_tensor.cpu().numpy())\n",
        "  num_correct += np.sum(correct)\n",
        "\n",
        "  pred_num = predictions.cpu().detach().numpy()\n",
        "  true_num = true_labels.cpu().numpy()\n",
        "  for i, pred in enumerate(pred_num):\n",
        "\n",
        "    if pred == 1:\n",
        "      if true_num[i] == 1:\n",
        "        tp = tp + 1\n",
        "      else:\n",
        "        fp = fp + 1\n",
        "    else:\n",
        "      if true_num[i] == 1:\n",
        "        fn = fn + 1\n",
        "\n",
        "# -- stats! -- ##\n",
        "# avg test loss\n",
        "print(\"Test loss: {:.3f}\".format(torch.mean(torch.tensor(test_losses))))\n",
        "\n",
        "# accuracy over all test data\n",
        "test_acc = num_correct/len(X_test)\n",
        "print(\"Test accuracy: {:.3f}\".format(test_acc))  \n",
        "\n",
        "# precision over all test data\n",
        "precision = tp/(tp + fp)\n",
        "print(\"Test precision: {:.3f}\".format(precision))\n",
        "\n",
        "# recall over all test data\n",
        "recall = tp/(tp + fn)\n",
        "print(\"Test recall: {:.3f}\".format(recall))\n",
        "\n",
        "# f1_score over all test data\n",
        "f1_score = 2* (precision * recall)/(precision + recall)\n",
        "print(\"Test f1_score: {:.3f}\".format(f1_score))"
      ],
      "execution_count": 18,
      "outputs": [
        {
          "output_type": "stream",
          "text": [
            "<generator object Module.parameters at 0x7f4850b42570>\n",
            "LSTMModel(\n",
            "  (embeddings): Embedding(400002, 50)\n",
            "  (lstm): LSTM(50, 256, num_layers=2, batch_first=True, dropout=0.3)\n",
            "  (dropout): Dropout(p=0.5, inplace=False)\n",
            "  (fc): Linear(in_features=256, out_features=1, bias=True)\n",
            "  (sig): Sigmoid()\n",
            ")\n",
            "Test loss: 0.515\n",
            "Test accuracy: 0.550\n",
            "Test precision: 0.800\n",
            "Test recall: 0.720\n",
            "Test f1_score: 0.758\n"
          ],
          "name": "stdout"
        }
      ]
    },
    {
      "cell_type": "code",
      "metadata": {
        "id": "f3fyXz1fTMnV",
        "colab_type": "code",
        "colab": {}
      },
      "source": [
        ""
      ],
      "execution_count": null,
      "outputs": []
    }
  ]
}